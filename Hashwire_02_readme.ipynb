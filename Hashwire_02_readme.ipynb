{
 "cells": [
  {
   "cell_type": "code",
   "execution_count": 1,
   "metadata": {},
   "outputs": [],
   "source": [
    "import hashwire as hw\n",
    "import pandas as pd"
   ]
  },
  {
   "attachments": {},
   "cell_type": "markdown",
   "metadata": {},
   "source": [
    "# Create Hash proof"
   ]
  },
  {
   "cell_type": "code",
   "execution_count": 2,
   "metadata": {},
   "outputs": [],
   "source": [
    "user_hash_proof = hw.HashChains()"
   ]
  },
  {
   "attachments": {},
   "cell_type": "markdown",
   "metadata": {},
   "source": [
    "Set mdp"
   ]
  },
  {
   "cell_type": "code",
   "execution_count": 3,
   "metadata": {},
   "outputs": [
    {
     "name": "stdout",
     "output_type": "stream",
     "text": [
      "[]\n",
      "[13770, 13769, 13699, 12999, 9999]\n"
     ]
    }
   ],
   "source": [
    "m = 13770\n",
    "print(user_hash_proof.mdp)\n",
    "user_hash_proof.create_mdp_list(m)\n",
    "print(user_hash_proof.mdp)"
   ]
  },
  {
   "attachments": {},
   "cell_type": "markdown",
   "metadata": {},
   "source": [
    "set seed"
   ]
  },
  {
   "cell_type": "code",
   "execution_count": 4,
   "metadata": {},
   "outputs": [
    {
     "name": "stdout",
     "output_type": "stream",
     "text": [
      "[13770, 13769, 13699, 12999, 9999]\n"
     ]
    }
   ],
   "source": [
    "seeds = [\n",
    "    '71e0e4f637bfe1ef668fae90435f2c254beb02471dcea1507b20e43237c7c891',\n",
    "    'c3d05a2ffe810f20a2f75f140668bae8e934962d984a3e91df94412c9dcaecd4',\n",
    "    '006ccb9fbf32d766dfc82c5b9ecf09ff670609b2eec5203c34b743bbec687a1f',\n",
    "    'e25b065d21ea5b0089fba7de484df6ee3fa213054e780473183acc3c3ec92f36',\n",
    "    'df0358ccf75d97eb690c4900b3af25277b786a6277c183bcc8ce0cf79419e6df'\n",
    "]\n",
    "user_hash_proof.set_hash_chains(seeds)\n",
    "print(user_hash_proof.mdp)"
   ]
  },
  {
   "attachments": {},
   "cell_type": "markdown",
   "metadata": {},
   "source": [
    "view seeds"
   ]
  },
  {
   "cell_type": "code",
   "execution_count": 5,
   "metadata": {},
   "outputs": [
    {
     "data": {
      "text/plain": [
       "['71e0e4f637bfe1ef668fae90435f2c254beb02471dcea1507b20e43237c7c891',\n",
       " 'c3d05a2ffe810f20a2f75f140668bae8e934962d984a3e91df94412c9dcaecd4',\n",
       " '006ccb9fbf32d766dfc82c5b9ecf09ff670609b2eec5203c34b743bbec687a1f',\n",
       " 'e25b065d21ea5b0089fba7de484df6ee3fa213054e780473183acc3c3ec92f36',\n",
       " 'df0358ccf75d97eb690c4900b3af25277b786a6277c183bcc8ce0cf79419e6df']"
      ]
     },
     "execution_count": 5,
     "metadata": {},
     "output_type": "execute_result"
    }
   ],
   "source": [
    "user_hash_proof.seeds"
   ]
  },
  {
   "cell_type": "code",
   "execution_count": 6,
   "metadata": {},
   "outputs": [
    {
     "data": {
      "text/html": [
       "<div>\n",
       "<style scoped>\n",
       "    .dataframe tbody tr th:only-of-type {\n",
       "        vertical-align: middle;\n",
       "    }\n",
       "\n",
       "    .dataframe tbody tr th {\n",
       "        vertical-align: top;\n",
       "    }\n",
       "\n",
       "    .dataframe thead th {\n",
       "        text-align: right;\n",
       "    }\n",
       "</style>\n",
       "<table border=\"1\" class=\"dataframe\">\n",
       "  <thead>\n",
       "    <tr style=\"text-align: right;\">\n",
       "      <th></th>\n",
       "      <th>0</th>\n",
       "      <th>1</th>\n",
       "      <th>2</th>\n",
       "      <th>3</th>\n",
       "      <th>4</th>\n",
       "    </tr>\n",
       "  </thead>\n",
       "  <tbody>\n",
       "    <tr>\n",
       "      <th>0</th>\n",
       "      <td>b8621c2cf5ff706a7cf6ddacc5f15ae35ca7e90b0cfbce...</td>\n",
       "      <td>5419420325f78bce05d80cffcf0b4910633a03debc0bb4...</td>\n",
       "      <td>5110c374353a76f5dcee53820c5cc5ffcd55f31438d6d3...</td>\n",
       "      <td>97a3f535159639d55848e755c466b16205ebae7478f01e...</td>\n",
       "      <td>8d67f816fcde86374d9dd0db049aac9d71afef3bc3d6c3...</td>\n",
       "    </tr>\n",
       "    <tr>\n",
       "      <th>1</th>\n",
       "      <td>04086ee0ff263ce31f54dfc142d76396ea4921503aa56f...</td>\n",
       "      <td>c89832a67ce469081b2127eead3a01791b683ce028fb55...</td>\n",
       "      <td>cbd9c9d55d3ea2b8603a88b610b0638b22ebfe9c5e6e5a...</td>\n",
       "      <td>68d14ee5c07965f0ca86065167fb7788c63fc813250112...</td>\n",
       "      <td>6d55ebd146c4d702b114d84fa2c14fa83943c4d0e721ea...</td>\n",
       "    </tr>\n",
       "    <tr>\n",
       "      <th>2</th>\n",
       "      <td>16acb11ba81b24b5e39f029466a857bf030f889ab8849b...</td>\n",
       "      <td>403587d2d8f2870a15a6a118b5e6c8442689d005979c25...</td>\n",
       "      <td>328f66c3160f63d50f2c0dd3df47cb054c60701408d65f...</td>\n",
       "      <td>0a5431e4b195e083e3dfb8703acf0344c8b02a674f2ae2...</td>\n",
       "      <td>d7dad3336f9b04e36d681812db027ddb8d8d6638f0b968...</td>\n",
       "    </tr>\n",
       "    <tr>\n",
       "      <th>3</th>\n",
       "      <td>4cca99575370981470a75343f92e3fdd0d39a96bde6d03...</td>\n",
       "      <td>7d14d3705b1e56c8f747bac92ff459b91aea1e879aa029...</td>\n",
       "      <td>21c4f0a677c5968cbd594fbfa8676ad77e0947eeab10c5...</td>\n",
       "      <td>fd86ade7d560e224bf974c8921799e1ea171bc2bb80a4e...</td>\n",
       "      <td>601d828c7a692a44cb6edbbd6f6d6f3f75e74163743192...</td>\n",
       "    </tr>\n",
       "    <tr>\n",
       "      <th>4</th>\n",
       "      <td>b3095eb3222a57ecc64b8ffde3520b5a333f794fce6438...</td>\n",
       "      <td>f56751f8cee8dbd98d809965babb79aa4144113cf1942e...</td>\n",
       "      <td>ff56251509e2d38c26ea932a2b5ed025e7c3fdd2726ed1...</td>\n",
       "      <td>cdd3c69966820b42b82846a203da9d525833fcc327510e...</td>\n",
       "      <td>8bfaff3bc09b21e646fc57e7cb686ac516dfcf98a98c79...</td>\n",
       "    </tr>\n",
       "    <tr>\n",
       "      <th>5</th>\n",
       "      <td>49a97db1f77d57d182ba7a7d623734194ae7b6fb407311...</td>\n",
       "      <td>82b37be23a8c2309cc5f73c0ecb93c20077eb0f5880f7a...</td>\n",
       "      <td>49ed8decaa7290d503a20fb38badbba096be53979d231b...</td>\n",
       "      <td>296aadc7c64643af57d218684b14463969f91940fc88c4...</td>\n",
       "      <td>029af6b8c9ffbe0198e334bb11060ffdb7594da3968fb6...</td>\n",
       "    </tr>\n",
       "    <tr>\n",
       "      <th>6</th>\n",
       "      <td>caaa4def537f5f015666e6b301b0c8ca46581bf35ca240...</td>\n",
       "      <td>90461f837636ac3fcfb4838f95535143452da2fd4687a4...</td>\n",
       "      <td>cd7ee6056f37530bd7969baf93a64d51191e588e6d9bc1...</td>\n",
       "      <td>41f740a1b2167cd853a56e994d450ed58e0144f6e6aec1...</td>\n",
       "      <td>006129d74d24f9158963f37b4bfdeb727a1d22acef0cd2...</td>\n",
       "    </tr>\n",
       "    <tr>\n",
       "      <th>7</th>\n",
       "      <td>bf837599424f0494be8faaa2ff7ffecfcb399ba5cdf047...</td>\n",
       "      <td>489acd60ffc493ab157a659b83909f684fb42568e2d594...</td>\n",
       "      <td>001d3e8d0719a248afc47ba2606365c1f05ca58140f353...</td>\n",
       "      <td>252d0446dbfcbb44ea1f390dc7d61d8ff606efa90591a7...</td>\n",
       "      <td>de9ff13270222be4b84d185315088252d38772db29ac74...</td>\n",
       "    </tr>\n",
       "    <tr>\n",
       "      <th>8</th>\n",
       "      <td>3252f34330199d208472969901117fef4331d7934f0dd3...</td>\n",
       "      <td>740a730d2c028a1cf6395d937fbe84ab020b673de43bdc...</td>\n",
       "      <td>b7a8a1e9d398a01ca7b73f213902a799c8a743da9ddb21...</td>\n",
       "      <td>fe006a4bc2b62ab91c9a509be36677f1e3e4ef0dd553fe...</td>\n",
       "      <td>9fe5a28d2f6cbdb60426831d70a044c39d7fce295e3453...</td>\n",
       "    </tr>\n",
       "    <tr>\n",
       "      <th>9</th>\n",
       "      <td>272cdd532b938bc8fdac7c4150460b6262ac10040c0458...</td>\n",
       "      <td>790b25ac7f4b7029757d2feb86dc64953d49c0fca089fd...</td>\n",
       "      <td>94ac568dae556b510164e872826c69f090230897a1b4c8...</td>\n",
       "      <td>99ed55b8b0ef02c931487ba6e409ab4c030f57ae25ecce...</td>\n",
       "      <td>f4372d2062cd369b0fb609c1de828fb1078da1787e0d79...</td>\n",
       "    </tr>\n",
       "  </tbody>\n",
       "</table>\n",
       "</div>"
      ],
      "text/plain": [
       "                                                   0  \\\n",
       "0  b8621c2cf5ff706a7cf6ddacc5f15ae35ca7e90b0cfbce...   \n",
       "1  04086ee0ff263ce31f54dfc142d76396ea4921503aa56f...   \n",
       "2  16acb11ba81b24b5e39f029466a857bf030f889ab8849b...   \n",
       "3  4cca99575370981470a75343f92e3fdd0d39a96bde6d03...   \n",
       "4  b3095eb3222a57ecc64b8ffde3520b5a333f794fce6438...   \n",
       "5  49a97db1f77d57d182ba7a7d623734194ae7b6fb407311...   \n",
       "6  caaa4def537f5f015666e6b301b0c8ca46581bf35ca240...   \n",
       "7  bf837599424f0494be8faaa2ff7ffecfcb399ba5cdf047...   \n",
       "8  3252f34330199d208472969901117fef4331d7934f0dd3...   \n",
       "9  272cdd532b938bc8fdac7c4150460b6262ac10040c0458...   \n",
       "\n",
       "                                                   1  \\\n",
       "0  5419420325f78bce05d80cffcf0b4910633a03debc0bb4...   \n",
       "1  c89832a67ce469081b2127eead3a01791b683ce028fb55...   \n",
       "2  403587d2d8f2870a15a6a118b5e6c8442689d005979c25...   \n",
       "3  7d14d3705b1e56c8f747bac92ff459b91aea1e879aa029...   \n",
       "4  f56751f8cee8dbd98d809965babb79aa4144113cf1942e...   \n",
       "5  82b37be23a8c2309cc5f73c0ecb93c20077eb0f5880f7a...   \n",
       "6  90461f837636ac3fcfb4838f95535143452da2fd4687a4...   \n",
       "7  489acd60ffc493ab157a659b83909f684fb42568e2d594...   \n",
       "8  740a730d2c028a1cf6395d937fbe84ab020b673de43bdc...   \n",
       "9  790b25ac7f4b7029757d2feb86dc64953d49c0fca089fd...   \n",
       "\n",
       "                                                   2  \\\n",
       "0  5110c374353a76f5dcee53820c5cc5ffcd55f31438d6d3...   \n",
       "1  cbd9c9d55d3ea2b8603a88b610b0638b22ebfe9c5e6e5a...   \n",
       "2  328f66c3160f63d50f2c0dd3df47cb054c60701408d65f...   \n",
       "3  21c4f0a677c5968cbd594fbfa8676ad77e0947eeab10c5...   \n",
       "4  ff56251509e2d38c26ea932a2b5ed025e7c3fdd2726ed1...   \n",
       "5  49ed8decaa7290d503a20fb38badbba096be53979d231b...   \n",
       "6  cd7ee6056f37530bd7969baf93a64d51191e588e6d9bc1...   \n",
       "7  001d3e8d0719a248afc47ba2606365c1f05ca58140f353...   \n",
       "8  b7a8a1e9d398a01ca7b73f213902a799c8a743da9ddb21...   \n",
       "9  94ac568dae556b510164e872826c69f090230897a1b4c8...   \n",
       "\n",
       "                                                   3  \\\n",
       "0  97a3f535159639d55848e755c466b16205ebae7478f01e...   \n",
       "1  68d14ee5c07965f0ca86065167fb7788c63fc813250112...   \n",
       "2  0a5431e4b195e083e3dfb8703acf0344c8b02a674f2ae2...   \n",
       "3  fd86ade7d560e224bf974c8921799e1ea171bc2bb80a4e...   \n",
       "4  cdd3c69966820b42b82846a203da9d525833fcc327510e...   \n",
       "5  296aadc7c64643af57d218684b14463969f91940fc88c4...   \n",
       "6  41f740a1b2167cd853a56e994d450ed58e0144f6e6aec1...   \n",
       "7  252d0446dbfcbb44ea1f390dc7d61d8ff606efa90591a7...   \n",
       "8  fe006a4bc2b62ab91c9a509be36677f1e3e4ef0dd553fe...   \n",
       "9  99ed55b8b0ef02c931487ba6e409ab4c030f57ae25ecce...   \n",
       "\n",
       "                                                   4  \n",
       "0  8d67f816fcde86374d9dd0db049aac9d71afef3bc3d6c3...  \n",
       "1  6d55ebd146c4d702b114d84fa2c14fa83943c4d0e721ea...  \n",
       "2  d7dad3336f9b04e36d681812db027ddb8d8d6638f0b968...  \n",
       "3  601d828c7a692a44cb6edbbd6f6d6f3f75e74163743192...  \n",
       "4  8bfaff3bc09b21e646fc57e7cb686ac516dfcf98a98c79...  \n",
       "5  029af6b8c9ffbe0198e334bb11060ffdb7594da3968fb6...  \n",
       "6  006129d74d24f9158963f37b4bfdeb727a1d22acef0cd2...  \n",
       "7  de9ff13270222be4b84d185315088252d38772db29ac74...  \n",
       "8  9fe5a28d2f6cbdb60426831d70a044c39d7fce295e3453...  \n",
       "9  f4372d2062cd369b0fb609c1de828fb1078da1787e0d79...  "
      ]
     },
     "execution_count": 6,
     "metadata": {},
     "output_type": "execute_result"
    }
   ],
   "source": [
    "df = pd.DataFrame(user_hash_proof.hash_chains)\n",
    "df"
   ]
  },
  {
   "attachments": {},
   "cell_type": "markdown",
   "metadata": {},
   "source": [
    "Update commitments"
   ]
  },
  {
   "cell_type": "code",
   "execution_count": 7,
   "metadata": {},
   "outputs": [
    {
     "data": {
      "text/plain": [
       "{13770: ['04086ee0ff263ce31f54dfc142d76396ea4921503aa56f731be3196a375a80ff',\n",
       "  '7d14d3705b1e56c8f747bac92ff459b91aea1e879aa029ea8345969192b95248',\n",
       "  '001d3e8d0719a248afc47ba2606365c1f05ca58140f35304790c42a399274e80',\n",
       "  '252d0446dbfcbb44ea1f390dc7d61d8ff606efa90591a749ad020adb52756f32',\n",
       "  '8d67f816fcde86374d9dd0db049aac9d71afef3bc3d6c31ec4dfea38c7488621'],\n",
       " 13769: ['04086ee0ff263ce31f54dfc142d76396ea4921503aa56f731be3196a375a80ff',\n",
       "  '7d14d3705b1e56c8f747bac92ff459b91aea1e879aa029ea8345969192b95248',\n",
       "  '001d3e8d0719a248afc47ba2606365c1f05ca58140f35304790c42a399274e80',\n",
       "  '41f740a1b2167cd853a56e994d450ed58e0144f6e6aec1b50bfba70a1989cad0',\n",
       "  'f4372d2062cd369b0fb609c1de828fb1078da1787e0d79d6f710bb097cf8adaa'],\n",
       " 13699: ['04086ee0ff263ce31f54dfc142d76396ea4921503aa56f731be3196a375a80ff',\n",
       "  '7d14d3705b1e56c8f747bac92ff459b91aea1e879aa029ea8345969192b95248',\n",
       "  'cd7ee6056f37530bd7969baf93a64d51191e588e6d9bc104c9dbd3f0dfe9cf1c',\n",
       "  '99ed55b8b0ef02c931487ba6e409ab4c030f57ae25ecce07dd9cfada7ba7d76c',\n",
       "  'f4372d2062cd369b0fb609c1de828fb1078da1787e0d79d6f710bb097cf8adaa'],\n",
       " 12999: ['04086ee0ff263ce31f54dfc142d76396ea4921503aa56f731be3196a375a80ff',\n",
       "  '403587d2d8f2870a15a6a118b5e6c8442689d005979c25495f58cdcfc15f36a1',\n",
       "  '94ac568dae556b510164e872826c69f090230897a1b4c8199d636e963ce10b04',\n",
       "  '99ed55b8b0ef02c931487ba6e409ab4c030f57ae25ecce07dd9cfada7ba7d76c',\n",
       "  'f4372d2062cd369b0fb609c1de828fb1078da1787e0d79d6f710bb097cf8adaa'],\n",
       " 9999: ['790b25ac7f4b7029757d2feb86dc64953d49c0fca089fd48cdfa3215fc0e59b3',\n",
       "  '94ac568dae556b510164e872826c69f090230897a1b4c8199d636e963ce10b04',\n",
       "  '99ed55b8b0ef02c931487ba6e409ab4c030f57ae25ecce07dd9cfada7ba7d76c',\n",
       "  'f4372d2062cd369b0fb609c1de828fb1078da1787e0d79d6f710bb097cf8adaa']}"
      ]
     },
     "execution_count": 7,
     "metadata": {},
     "output_type": "execute_result"
    }
   ],
   "source": [
    "user_hash_proof.create_commitments()\n",
    "user_hash_proof.commitments"
   ]
  },
  {
   "attachments": {},
   "cell_type": "markdown",
   "metadata": {},
   "source": [
    "## Helper for readme"
   ]
  },
  {
   "cell_type": "code",
   "execution_count": 8,
   "metadata": {},
   "outputs": [],
   "source": [
    "n = 10\n",
    "df[0] = df[0].str[:n] + '...'\n",
    "df[1] = df[1].str[:n] + '...'\n",
    "df[2] = df[2].str[:n] + '...'\n",
    "df[3] = df[3].str[:n] + '...'\n",
    "df[4] = df[4].str[:n] + '...'"
   ]
  },
  {
   "cell_type": "code",
   "execution_count": 9,
   "metadata": {},
   "outputs": [
    {
     "name": "stdout",
     "output_type": "stream",
     "text": [
      "|    | 0             | 1             | 2             | 3             | 4             |\n",
      "|---:|:--------------|:--------------|:--------------|:--------------|:--------------|\n",
      "|  0 | b8621c2cf5... | 5419420325... | 5110c37435... | 97a3f53515... | 8d67f816fc... |\n",
      "|  1 | 04086ee0ff... | c89832a67c... | cbd9c9d55d... | 68d14ee5c0... | 6d55ebd146... |\n",
      "|  2 | 16acb11ba8... | 403587d2d8... | 328f66c316... | 0a5431e4b1... | d7dad3336f... |\n",
      "|  3 | 4cca995753... | 7d14d3705b... | 21c4f0a677... | fd86ade7d5... | 601d828c7a... |\n",
      "|  4 | b3095eb322... | f56751f8ce... | ff56251509... | cdd3c69966... | 8bfaff3bc0... |\n",
      "|  5 | 49a97db1f7... | 82b37be23a... | 49ed8decaa... | 296aadc7c6... | 029af6b8c9... |\n",
      "|  6 | caaa4def53... | 90461f8376... | cd7ee6056f... | 41f740a1b2... | 006129d74d... |\n",
      "|  7 | bf83759942... | 489acd60ff... | 001d3e8d07... | 252d0446db... | de9ff13270... |\n",
      "|  8 | 3252f34330... | 740a730d2c... | b7a8a1e9d3... | fe006a4bc2... | 9fe5a28d2f... |\n",
      "|  9 | 272cdd532b... | 790b25ac7f... | 94ac568dae... | 99ed55b8b0... | f4372d2062... |\n"
     ]
    }
   ],
   "source": [
    "print(df.to_markdown())"
   ]
  }
 ],
 "metadata": {
  "kernelspec": {
   "display_name": "Python 3",
   "language": "python",
   "name": "python3"
  },
  "language_info": {
   "codemirror_mode": {
    "name": "ipython",
    "version": 3
   },
   "file_extension": ".py",
   "mimetype": "text/x-python",
   "name": "python",
   "nbconvert_exporter": "python",
   "pygments_lexer": "ipython3",
   "version": "3.9.6"
  },
  "orig_nbformat": 4
 },
 "nbformat": 4,
 "nbformat_minor": 2
}
