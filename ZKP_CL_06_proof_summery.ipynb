{
 "cells": [
  {
   "cell_type": "code",
   "execution_count": 1,
   "metadata": {},
   "outputs": [],
   "source": [
    "from Crypto.Util import number\n",
    "import hashlib\n",
    "import math "
   ]
  },
  {
   "cell_type": "markdown",
   "metadata": {},
   "source": [
    "### Helpers"
   ]
  },
  {
   "cell_type": "code",
   "execution_count": 2,
   "metadata": {},
   "outputs": [],
   "source": [
    "def largest_square_less_than(delta):\n",
    "    return int(math.floor(math.sqrt(float(delta))))\n",
    "\n",
    "\n",
    "def four_squares(delta):\n",
    "    d = int(delta)\n",
    "    u1 = largest_square_less_than(d)\n",
    "    u2 = largest_square_less_than(d - math.pow(u1, 2))\n",
    "    u3 = largest_square_less_than(d - math.pow(u1, 2) - math.pow(u2, 2))\n",
    "    u4 = largest_square_less_than(d - math.pow(u1, 2) - math.pow(u2, 2) - math.pow(u3, 2))\n",
    "\n",
    "    uPow =  int(math.pow(u1, 2) + math.pow(u2, 2) + math.pow(u3, 2) + math.pow(u4, 2))\n",
    "    if uPow == d:\n",
    "        roots = [u1, u2, u3, u4]\n",
    "    else:\n",
    "        roots = [-1, -1, -1, -1]\n",
    "\n",
    "    return roots"
   ]
  },
  {
   "cell_type": "markdown",
   "metadata": {},
   "source": [
    "#  The fundamental structure of anonymous credential systems\n",
    "$$\n",
    "Identity Provider / Issuer \\rightarrow \\text{\\{Issuance of an anonymous credential\\}} \\rightarrow User / Prover \\rightarrow \\text{\\{attributes proof\\}} \\rightarrow  Relying Party / Verifier\n",
    "$$"
   ]
  },
  {
   "cell_type": "markdown",
   "metadata": {},
   "source": [
    "# Flow diagram representing the credential issuance protocol \n",
    "# (User $\\rightarrow$ Issuer)"
   ]
  },
  {
   "cell_type": "markdown",
   "metadata": {},
   "source": [
    "## User send to Issuer credential request\n",
    "### Issuer setup"
   ]
  },
  {
   "cell_type": "code",
   "execution_count": 3,
   "metadata": {},
   "outputs": [],
   "source": [
    "# For demo purposes to make print more readable and consistent\n",
    "bitsize = 32\n",
    "p = 3397833353\n",
    "q = 2516557159\n",
    "# p = number.getPrime(bitsize)\n",
    "# q = number.getPrime(bitsize)\n",
    "\n",
    "# The public parts\n",
    "n = p*q\n",
    "nsize = 2*bitsize\n",
    "# Generate quadratic residues mod n\n",
    "R_1 = pow(number.getRandomRange(2, n), 2, n)\n",
    "R_2 = pow(number.getRandomRange(2, n), 2, n)\n",
    "R_3 = pow(number.getRandomRange(2, n), 2, n)\n",
    "R_4 = pow(number.getRandomRange(2, n), 2, n)\n",
    "R_5 = pow(number.getRandomRange(2, n), 2, n)\n",
    "R_6 = pow(number.getRandomRange(2, n), 2, n)\n",
    "S = pow(number.getRandomRange(2, n), 2, n)\n",
    "Z = pow(number.getRandomRange(2, n), 2, n)"
   ]
  },
  {
   "cell_type": "markdown",
   "metadata": {},
   "source": [
    "The issuer's public key is $(n, S, Z, R_1,R_2,\\ldots,R_i)$ and the private key is $(p, q)$."
   ]
  },
  {
   "cell_type": "markdown",
   "metadata": {},
   "source": [
    "## User loads public key and send $U$ to Issuer"
   ]
  },
  {
   "cell_type": "code",
   "execution_count": 4,
   "metadata": {},
   "outputs": [],
   "source": [
    "# master secret\n",
    "msize = nsize\n",
    "m_1 = number.getRandomRange(2, n)\n",
    "\n",
    "# Generate random integear\n",
    "v_prim = number.getRandomNBitInteger(msize*nsize + 1)\n",
    "\n",
    "# Calculate U\n",
    "U = pow(S, v_prim, n) * pow(R_1, m_1, n)"
   ]
  },
  {
   "cell_type": "markdown",
   "metadata": {},
   "source": [
    " User sends $(U)$ to the Issuer."
   ]
  },
  {
   "cell_type": "markdown",
   "metadata": {},
   "source": [
    "## Issuer generate CL signature"
   ]
  },
  {
   "cell_type": "code",
   "execution_count": 5,
   "metadata": {},
   "outputs": [],
   "source": [
    "# messages\n",
    "m_2 = number.getRandomRange(2, n)\n",
    "m_3 = number.getRandomRange(2, n)\n",
    "m_4 = number.getRandomRange(2, n)\n",
    "m_5 = number.getRandomRange(2, n)\n",
    "m_6 = number.getRandomRange(2, n)\n",
    "\n",
    "# Generate random prime\n",
    "e = number.getPrime(nsize + 1)\n",
    "e_inv = pow(e, -1, (p-1)*(q-1))\n",
    "# v is selected as integer\n",
    "v_pprim = number.getRandomNBitInteger(msize*nsize + 1)\n",
    "\n",
    "# Calculate dot\n",
    "R_vector = pow(R_2, m_2, n) * pow(R_3, m_3, n) * pow(R_4, m_4, n) * pow(R_5, m_5, n) * pow(R_6, m_6, n)\n",
    "\n",
    "# Calculate commitment\n",
    "commitment_vector = U * pow(S, v_pprim, n) * R_vector\n",
    "commitment_vector_inv = pow(commitment_vector, -1, n)\n",
    "\n",
    "# Calculate Q\n",
    "Q = (Z * commitment_vector_inv) % n\n",
    "# Calculate signature part A\n",
    "A = pow(Q, e_inv, n)"
   ]
  },
  {
   "cell_type": "markdown",
   "metadata": {},
   "source": [
    "Issuer sends pre-signature $(A,e,v'')$ to the User"
   ]
  },
  {
   "cell_type": "markdown",
   "metadata": {},
   "source": [
    "## User complete signature $(A, e, v)$"
   ]
  },
  {
   "cell_type": "code",
   "execution_count": 6,
   "metadata": {},
   "outputs": [],
   "source": [
    "# compute v\n",
    "v = v_prim + v_pprim"
   ]
  },
  {
   "cell_type": "markdown",
   "metadata": {},
   "source": [
    "User has credential $(\\{m_i\\}, A, e, v)$"
   ]
  },
  {
   "cell_type": "markdown",
   "metadata": {},
   "source": [
    "### Why it works"
   ]
  },
  {
   "cell_type": "code",
   "execution_count": 7,
   "metadata": {},
   "outputs": [],
   "source": [
    "# check the code is correct, (not part of the protocol)\n",
    "R_dot = pow(R_1, m_1, n) * R_vector\n",
    "Z_hat = (pow(A, e, n) * pow(S, v, n) * R_dot) % n\n",
    "assert(Z_hat == Z)"
   ]
  },
  {
   "cell_type": "markdown",
   "metadata": {},
   "source": [
    "# Flow diagram representing the credential disclosure and verification protocol \n",
    "# (User $\\rightarrow$ Verifier)"
   ]
  },
  {
   "cell_type": "markdown",
   "metadata": {},
   "source": [
    "## Verifier sends a proof request\n",
    "Along with a proof request the Verifier send nounce $n_1$ to User"
   ]
  },
  {
   "cell_type": "code",
   "execution_count": 8,
   "metadata": {},
   "outputs": [],
   "source": [
    "nounce = number.getRandomNBitInteger(80)"
   ]
  },
  {
   "cell_type": "markdown",
   "metadata": {},
   "source": [
    "## User generate proof\n",
    "\n",
    "Let A be the set of all attribute identifiers present in the credential schema\n",
    "such that $A_r$ contains revealed attributes to the Verifier and $A_h$ contains unrevealed (hidden) attributes which are kept secret.\n"
   ]
  },
  {
   "cell_type": "code",
   "execution_count": 9,
   "metadata": {},
   "outputs": [],
   "source": [
    "# public attributes\n",
    "Rr = pow(R_4, m_4, n) * pow(R_5, m_5, n)\n",
    "# private attributes\n",
    "Rh = pow(R_1, m_1, n) * pow(R_2, m_2, n) * pow(R_3, m_3, n) * pow(R_6, m_6, n)\n",
    "\n",
    "# Generate random value for each non-revealed attribute\n",
    "m1_bar = number.getRandomNBitInteger(nsize)\n",
    "m2_bar = number.getRandomNBitInteger(nsize)\n",
    "m3_bar = number.getRandomNBitInteger(nsize)\n",
    "m6_bar = number.getRandomNBitInteger(nsize)\n",
    "\n",
    "# Calculate dot bar\n",
    "Rh_bar = pow(R_1, m1_bar, n) * pow(R_2, m2_bar, n) * pow(R_3, m3_bar, n) * pow(R_6, m6_bar, n)"
   ]
  },
  {
   "cell_type": "markdown",
   "metadata": {},
   "source": [
    "## User generate randomized signature $(A', e', v')$"
   ]
  },
  {
   "cell_type": "code",
   "execution_count": 10,
   "metadata": {},
   "outputs": [],
   "source": [
    "# random r\n",
    "r = number.getRandomNBitInteger(msize*nsize + 1)\n",
    "# Calculate\n",
    "A_prime = A * pow(S, r, n)\n",
    "v_prime = v - e*r\n",
    "\n",
    "# radnom beta\n",
    "beta = number.getRandomNBitInteger(bitsize + 1)\n",
    "# Calculate\n",
    "e_prime = e - beta"
   ]
  },
  {
   "cell_type": "markdown",
   "metadata": {},
   "source": [
    "User has generated the randomized signature $(A', e', v')$ and the original values $(A, e, v)$ are kept secret. "
   ]
  },
  {
   "cell_type": "markdown",
   "metadata": {},
   "source": [
    "### Why it works"
   ]
  },
  {
   "cell_type": "code",
   "execution_count": 11,
   "metadata": {},
   "outputs": [],
   "source": [
    "# check the code is correct, (not part of the protocol)\n",
    "Q_hat = pow(A_prime, e, n) * pow(S, -e*r, n) % n\n",
    "assert(Q_hat == Q)"
   ]
  },
  {
   "cell_type": "markdown",
   "metadata": {},
   "source": [
    "## User complete proof"
   ]
  },
  {
   "cell_type": "code",
   "execution_count": 12,
   "metadata": {},
   "outputs": [],
   "source": [
    "# Generate\n",
    "e_bar = number.getRandomNBitInteger(nsize + 1)\n",
    "v_bar = number.getRandomNBitInteger(msize*nsize+1)\n",
    "# Calculate\n",
    "T = (pow(A_prime, e_bar, n) * pow(S, v_bar, n) * Rh_bar) % n"
   ]
  },
  {
   "cell_type": "markdown",
   "metadata": {},
   "source": [
    "add $A'$ to $\\mathcal{C}$ and $T$ to $\\mathcal{T}$.\n"
   ]
  },
  {
   "cell_type": "markdown",
   "metadata": {},
   "source": [
    "### Check predicates such as \"A is older than 18 years old\"."
   ]
  },
  {
   "cell_type": "code",
   "execution_count": 13,
   "metadata": {},
   "outputs": [],
   "source": [
    "# select m6 to do the predicate\n",
    "mp1 = m_6\n",
    "mp1_bar = m6_bar\n",
    "\n",
    "b = 1\n",
    "ap1 = mp1 - 22"
   ]
  },
  {
   "cell_type": "markdown",
   "metadata": {},
   "source": [
    "## User generate predicate proof\n",
    "\n",
    "### Calculate $T$ equations"
   ]
  },
  {
   "cell_type": "code",
   "execution_count": 14,
   "metadata": {},
   "outputs": [],
   "source": [
    "# Compute delta\n",
    "delta = mp1 - ap1\n",
    "roots = four_squares(delta)\n",
    "# check delta is greater than > 0\n",
    "assert(sum(roots) > 0)\n",
    "\n",
    "# Generate random number\n",
    "r1 = number.getRandomNBitInteger(msize*nsize + 1)\n",
    "r2 = number.getRandomNBitInteger(msize*nsize + 1)\n",
    "r3 = number.getRandomNBitInteger(msize*nsize + 1)\n",
    "r4 = number.getRandomNBitInteger(msize*nsize + 1)\n",
    "rd = number.getRandomNBitInteger(msize*nsize + 1)\n",
    "\n",
    "# Compute T equations\n",
    "T1 = pow(Z, roots[0], n) * pow(S, r1, n)\n",
    "T2 = pow(Z, roots[1], n) * pow(S, r2, n)\n",
    "T3 = pow(Z, roots[2], n) * pow(S, r3, n)\n",
    "T4 = pow(Z, roots[3], n) * pow(S, r4, n)\n",
    "Td = pow(Z, delta, n) * pow(S, rd, n)"
   ]
  },
  {
   "cell_type": "markdown",
   "metadata": {},
   "source": [
    "and add these values to $\\mathcal{C}$ in the order ${T_1},{T_2},{T_3},{T_4},{T_{\\Delta}}$. \n",
    "\n",
    "$\\mathcal{C}$ is now $(A',{T_1},{T_2},{T_3},{T_4},{T_{\\Delta}})$\n"
   ]
  },
  {
   "cell_type": "markdown",
   "metadata": {},
   "source": [
    "### Calculate $\\bar{T}$ and $\\bar{K}$ equations"
   ]
  },
  {
   "cell_type": "code",
   "execution_count": 15,
   "metadata": {},
   "outputs": [],
   "source": [
    "# Generate random number\n",
    "u1_bar = number.getRandomNBitInteger(nsize + 1)\n",
    "u2_bar = number.getRandomNBitInteger(nsize + 1)\n",
    "u3_bar = number.getRandomNBitInteger(nsize + 1)\n",
    "u4_bar = number.getRandomNBitInteger(nsize + 1)\n",
    "\n",
    "r1_bar = number.getRandomNBitInteger(nsize + 1)\n",
    "r2_bar = number.getRandomNBitInteger(nsize + 1)\n",
    "r3_bar = number.getRandomNBitInteger(nsize + 1)\n",
    "r4_bar = number.getRandomNBitInteger(nsize + 1)\n",
    "rd_bar = number.getRandomNBitInteger(nsize + 1)\n",
    "\n",
    "# Compute T_bar equations\n",
    "T1_bar = pow(Z, u1_bar, n) * pow(S, r1_bar, n) % n\n",
    "T2_bar = pow(Z, u2_bar, n) * pow(S, r2_bar, n) % n\n",
    "T3_bar = pow(Z, u3_bar, n) * pow(S, r3_bar, n) % n\n",
    "T4_bar = pow(Z, u4_bar, n) * pow(S, r4_bar, n) % n\n",
    "Td_bar = pow(Z, mp1_bar, n) * pow(S, b*rd_bar, n) % n\n",
    "\n",
    "# Compute K_bar\n",
    "alpha_bar = number.getRandomNBitInteger(msize*nsize + 1)\n",
    "K_bar = pow(S, alpha_bar, n) * pow(T1, u1_bar, n) * pow(T2, u2_bar, n) * pow(T3, u3_bar, n) * pow(T4, u4_bar, n) % n"
   ]
  },
  {
   "cell_type": "markdown",
   "metadata": {},
   "source": [
    "\n",
    "and add this values to $\\mathcal{T}$ in the order $\\bar{T_1},\\bar{T_2},\\bar{T_3},\\bar{T_4},\\bar{T_{\\Delta}},\\bar{K}$.\n",
    "\n",
    "$\\mathcal{T}$ is now $(T,\\bar{T_1},\\bar{T_2},\\bar{T_3},\\bar{T_4},\\bar{T_{\\Delta}},\\bar{K})$"
   ]
  },
  {
   "cell_type": "markdown",
   "metadata": {},
   "source": [
    "## Hashing\n",
    "\n",
    "Compute the challenge\n",
    "$$\n",
    "D\\leftarrow H(\\mathcal{T},\\mathcal{C},n_1)\n",
    "$$"
   ]
  },
  {
   "cell_type": "code",
   "execution_count": 16,
   "metadata": {},
   "outputs": [],
   "source": [
    "# build hash array\n",
    "C = [A_prime, T1, T2, T3, T4, Td]\n",
    "tau = [T, T1_bar, T2_bar, T3_bar, T4_bar, Td_bar, K_bar]\n",
    "attr = str([tau, C, nounce])\n",
    "\n",
    "# hashing\n",
    "c_hash = hashlib.sha256(str(attr).encode('utf-8')).hexdigest()\n",
    "# in code 'D' is 'c'\n",
    "c = int(c_hash, base=32)"
   ]
  },
  {
   "cell_type": "markdown",
   "metadata": {},
   "source": [
    "## User generate sub-proof $Pr_C$ for credential $C$.\n"
   ]
  },
  {
   "cell_type": "code",
   "execution_count": 17,
   "metadata": {},
   "outputs": [],
   "source": [
    "# Compute\n",
    "e_hat = e_bar + c*e_prime\n",
    "v_hat = v_bar + c*v_prime\n",
    "\n",
    "# For each none revealed attribute\n",
    "m1_hat = m1_bar + c*m_1\n",
    "m2_hat = m2_bar + c*m_2\n",
    "m3_hat = m3_bar + c*m_3\n",
    "m6_hat = m6_bar + c*m_6\n",
    "# used for predicate\n",
    "mp1_hat = m6_hat\n",
    "\n",
    "# Calculate dot hat\n",
    "Rh_hat = pow(R_1, m1_hat, n) * pow(R_2, m2_hat, n) * pow(R_3, m3_hat, n) * pow(R_6, m6_hat, n)"
   ]
  },
  {
   "cell_type": "markdown",
   "metadata": {},
   "source": [
    "The values $Pr_C=(A',\\hat{e},\\hat{v},\\{\\hat{m_j}\\}_{j \\in A_h})$ are the sub-proof for credential $C$.\n"
   ]
  },
  {
   "cell_type": "markdown",
   "metadata": {},
   "source": [
    "### Why it works"
   ]
  },
  {
   "cell_type": "code",
   "execution_count": 18,
   "metadata": {},
   "outputs": [],
   "source": [
    "# check the code is correct, (not part of the protocol)\n",
    "assert((pow(Rr, c, n) * Rh_hat % n) == (pow(Rr, c, n) * pow(Rh, c, n) * Rh_bar % n))"
   ]
  },
  {
   "cell_type": "markdown",
   "metadata": {},
   "source": [
    "## User generate sub-proof $Pr_p$ for predicate $p$.\n"
   ]
  },
  {
   "cell_type": "code",
   "execution_count": 19,
   "metadata": {},
   "outputs": [],
   "source": [
    "# For 1 ≤ i ≤ 4 compute\n",
    "u1_hat = u1_bar + c*roots[0]\n",
    "u2_hat = u2_bar + c*roots[1]\n",
    "u3_hat = u3_bar + c*roots[2]\n",
    "u4_hat = u4_bar + c*roots[3]\n",
    "\n",
    "# For 1 ≤ i ≤ 4 compute\n",
    "r1_hat = r1_bar + c*r1\n",
    "r2_hat = r2_bar + c*r2\n",
    "r3_hat = r3_bar + c*r3\n",
    "r4_hat = r4_bar + c*r4\n",
    "\n",
    "# Compute\n",
    "rd_hat = rd_bar + c*rd\n",
    "\n",
    "# Compute\n",
    "alpha = rd - roots[0]*r1 - roots[1]*r2 - roots[2]*r3 - roots[3]*r4\n",
    "alpha_hat = alpha_bar + c*alpha"
   ]
  },
  {
   "cell_type": "markdown",
   "metadata": {},
   "source": [
    "The values $Pr_p =( \\{\\hat{u_i}\\}, \\{\\hat{r_i}\\},\\hat{r_{\\Delta}},\\hat{\\alpha},\\hat{m_j})$ are the sub-proof for predicate $p$.\n"
   ]
  },
  {
   "cell_type": "markdown",
   "metadata": {},
   "source": [
    "### Why it works"
   ]
  },
  {
   "cell_type": "code",
   "execution_count": 20,
   "metadata": {},
   "outputs": [],
   "source": [
    "# check the code is correct, (not part of the protocol)\n",
    "assert(pow(T1, u1_hat, n) == pow(T1, u1_bar, n) * pow(T1, c*roots[0], n) % n)\n",
    "assert(pow(T2, u2_hat, n) == pow(T2, u2_bar, n) * pow(T2, c*roots[1], n) % n)\n",
    "assert(pow(T3, u3_hat, n) == pow(T3, u3_bar, n) * pow(T3, c*roots[2], n) % n)\n",
    "assert(pow(T4, u4_hat, n) == pow(T4, u4_bar, n) * pow(T4, c*roots[3], n) % n)"
   ]
  },
  {
   "cell_type": "markdown",
   "metadata": {},
   "source": [
    "## User sent full proof to the Verifier"
   ]
  },
  {
   "cell_type": "markdown",
   "metadata": {},
   "source": [
    "The values $Pr_p =( \\{\\hat{u_i}\\}, \\{\\hat{r_i}\\},\\hat{r_{\\Delta}},\\hat{\\alpha},\\{\\hat{m_j}\\}_{j \\in A_r})$ are the sub-proof for predicate $p$.\n",
    "\n",
    "The values $Pr_C=(A',\\hat{e},\\hat{v},\\{\\hat{m_j}\\}_{j \\in A_h})$ are the sub-proof for credential $C$.\n",
    "\n",
    "Then $(D,\\{Pr_C\\},\\{Pr_p\\},\\mathcal{C})$ is the full proof sent to the Verifier."
   ]
  },
  {
   "cell_type": "markdown",
   "metadata": {},
   "source": [
    "# Verification"
   ]
  },
  {
   "cell_type": "markdown",
   "metadata": {},
   "source": [
    "## Verifier validate proof\n",
    "Verifier generate sub-proof results $\\hat{T}$ with the public key $(n, S, Z, R_1,R_2,\\ldots,R_i)$ and the received $(D, A',\\hat{e},\\hat{v},\\{\\hat{m_j}\\}_{j \\in A_h})$."
   ]
  },
  {
   "cell_type": "code",
   "execution_count": 21,
   "metadata": {},
   "outputs": [],
   "source": [
    "T_hat = (pow(Z, -c, n) * pow(A_prime, c*beta, n) * pow(A_prime, e_hat, n) * pow(S, v_hat, n) * pow(Rr, c, n) * Rh_hat) % n"
   ]
  },
  {
   "cell_type": "markdown",
   "metadata": {},
   "source": [
    "and add $\\hat{T}$ to $\\hat{\\mathcal{T}}$.\n"
   ]
  },
  {
   "cell_type": "markdown",
   "metadata": {},
   "source": [
    "## Verifier validate predicate\n",
    "Verifier using $(\\{\\hat{u_i}\\}, \\{\\hat{r_i}\\},\\hat{r_{\\Delta}},\\hat{\\alpha},\\{\\hat{m_j}\\}_{j \\in A_r})$ and calculate $\\hat{T}$ and $\\hat{K}$ equations for each predicate $p$.\n"
   ]
  },
  {
   "cell_type": "code",
   "execution_count": 22,
   "metadata": {},
   "outputs": [],
   "source": [
    "delta_prim = ap1\n",
    "\n",
    "# Compute T_hat equations\n",
    "T1_hat = pow(T1, -c, n) * pow(Z, u1_hat, n) * pow(S, r1_hat, n) % n\n",
    "T2_hat = pow(T2, -c, n) * pow(Z, u2_hat, n) * pow(S, r2_hat, n) % n\n",
    "T3_hat = pow(T3, -c, n) * pow(Z, u3_hat, n) * pow(S, r3_hat, n) % n\n",
    "T4_hat = pow(T4, -c, n) * pow(Z, u4_hat, n) * pow(S, r4_hat, n) % n\n",
    "Td_hat = pow(Td, -b*c, n) * pow(Z, -delta_prim*c, n) *  pow(Z, mp1_hat, n) * pow(S, b * rd_hat, n)  % n\n",
    "\n",
    "\n",
    "# Compute K_hat\n",
    "K_hat = pow(S, alpha_hat, n) * pow(Td, -c, n) * pow(T1, u1_hat, n) * pow(T2, u2_hat, n) * pow(T3, u3_hat, n) * pow(T4, u4_hat, n) % n"
   ]
  },
  {
   "cell_type": "markdown",
   "metadata": {},
   "source": [
    "and add these values to  $\\hat{\\mathcal{T}}$ in the order $\\hat{T_1},\\hat{T_2} ,\\hat{T_3},\\hat{T_4},\\hat{T_{\\Delta}},\\hat{K}    $."
   ]
  },
  {
   "cell_type": "markdown",
   "metadata": {},
   "source": [
    "## Hashing\n",
    "\n",
    "Compute the challenge\n",
    "$$\n",
    "\\hat{D}\\leftarrow H(\\hat{\\mathcal{T}},\\mathcal{C},n_1)\n",
    "$$"
   ]
  },
  {
   "cell_type": "code",
   "execution_count": 23,
   "metadata": {},
   "outputs": [],
   "source": [
    "# build hash array\n",
    "tau_hat = [T_hat, T1_hat, T2_hat, T3_hat, T4_hat, Td_hat, K_hat]\n",
    "attr = str([tau_hat, C, nounce])\n",
    "\n",
    "# hashing\n",
    "c_hash_hat = hashlib.sha256(str(attr).encode('utf-8')).hexdigest()\n",
    "# in code 'D' is 'c'\n",
    "c_hat = int(c_hash_hat, base=32)"
   ]
  },
  {
   "cell_type": "markdown",
   "metadata": {},
   "source": [
    "## Equality check\n",
    "If $D=\\hat{D}$ output VERIFIED else FAIL."
   ]
  },
  {
   "cell_type": "code",
   "execution_count": 24,
   "metadata": {},
   "outputs": [],
   "source": [
    "# Check equality\n",
    "assert([T, c] == [T_hat, c_hat])"
   ]
  },
  {
   "cell_type": "code",
   "execution_count": 25,
   "metadata": {},
   "outputs": [
    {
     "name": "stdout",
     "output_type": "stream",
     "text": [
      "The equality has been VERIFIED when this line is printed!\n"
     ]
    }
   ],
   "source": [
    "print('The equality has been VERIFIED when this line is printed!')"
   ]
  }
 ],
 "metadata": {
  "kernelspec": {
   "display_name": "Python 3.9.6 64-bit",
   "language": "python",
   "name": "python3"
  },
  "language_info": {
   "codemirror_mode": {
    "name": "ipython",
    "version": 3
   },
   "file_extension": ".py",
   "mimetype": "text/x-python",
   "name": "python",
   "nbconvert_exporter": "python",
   "pygments_lexer": "ipython3",
   "version": "3.9.6"
  },
  "orig_nbformat": 4,
  "vscode": {
   "interpreter": {
    "hash": "c65a76b623ff58757d879ffba0c64f863adb3d623b4a7ebf7852010e5ebe6c38"
   }
  }
 },
 "nbformat": 4,
 "nbformat_minor": 2
}
