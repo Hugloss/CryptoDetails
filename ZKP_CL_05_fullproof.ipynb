{
 "cells": [
  {
   "cell_type": "markdown",
   "metadata": {},
   "source": [
    "# CL Protocol Specification"
   ]
  },
  {
   "cell_type": "markdown",
   "metadata": {},
   "source": [
    "Code is used to show the mathematics details for ZKP-CL."
   ]
  },
  {
   "cell_type": "markdown",
   "metadata": {},
   "source": [
    "The CL-signature scheme defines the public key in this key pair as the quadruple $(n, Z, S ,\\{R_i\\}_{i \\in A})$ where $A$ is the set of indices of attributes in the credential schema, $n$ is a Special RSA Modulus, and $Z, S , {R_i}$ are random quadratic residues modulo n.\n",
    "\n",
    "The public key information $(n, Z, S ,\\{R_i\\}_{i \\in A})$ are publicly available on the ledger, the signature $(A, e, v)$ can only be calculated by the issuer, who owns the private key $(p, q)$."
   ]
  },
  {
   "cell_type": "markdown",
   "metadata": {},
   "source": [
    "## Equations\n"
   ]
  },
  {
   "cell_type": "markdown",
   "metadata": {},
   "source": [
    "Remember from the math section:\n",
    "\n",
    "$$ T = A'^{\\bar{e}} S^{\\bar{v}} \\Bigg(\\prod_{i \\in A_h}{R_i^{\\bar{m_i}}} \\Bigg) \\pmod{n} $$\n",
    "$$ A' = AS^r $$\n",
    "$$ v' = v - er $$\n",
    "$$ \\hat{v} = \\bar{v} + Dv'  $$\n",
    "$$ e' = e - \\beta $$\n",
    "$$ \\hat{e} = \\bar{e} + De' $$\n",
    "$$ \\hat{m_i} = \\bar{m_i} + Dm_i $$\n",
    "$$ Q = A^e \\pmod{n} $$\n",
    "$$ Q = \\Bigg(\\frac{Z}{S^v \\prod_{i \\in A}{R_i^{m_i}}}\\Bigg) \\pmod{n} $$\n",
    "$$ \\hat{T} = \\Bigg(\\frac{Z}{A'^\\beta \\prod_{i \\in A_r}{R_i^{m_i}}}\\Bigg)^{-D} A'^{\\hat{e}} S^{\\hat{v}} \\Bigg(\\prod_{i \\in A_h}{R_i^{\\hat{m_i}}}\\Bigg) \\pmod{n} $$"
   ]
  },
  {
   "cell_type": "markdown",
   "metadata": {},
   "source": [
    "## Issuer setup\n",
    "\n",
    "Let $i$ be the number of attributes we work with.\n",
    "\n",
    "Steps to set up the issuer\n",
    "\n",
    "1. Issuer chooses a number of attribute bases $i$\n",
    "2. Generate random primes of equal length ($p$ and $q$) \n",
    "3. Then compute the modulus $n \\leftarrow pq$.\n",
    "4. Generate a random quadratic residue: $S \\pmod{n}$\n",
    "5. Generate quadratic residues $(Z,\\{R_i\\}_{i \\in A}) \\pmod{n}$ \n",
    "\n",
    "The issuer's public key is $(n, S, Z, R_1,R_2,\\ldots,R_i)$ and the private key is $(p, q)$."
   ]
  },
  {
   "cell_type": "code",
   "execution_count": 1,
   "metadata": {},
   "outputs": [],
   "source": [
    "from Crypto.Util import number\n",
    "import hashlib\n",
    "import math \n"
   ]
  },
  {
   "cell_type": "code",
   "execution_count": 2,
   "metadata": {},
   "outputs": [
    {
     "name": "stdout",
     "output_type": "stream",
     "text": [
      "Public key is:\n",
      "n = 8550841849581124127\n",
      "(R_1, R_2, R_3, R_4, R_5, R_6) = (4740134512459538449, 355917158046286626, 3972404523570530078, 3346191599445879848, 4262799936457652554, 5775756261103085523)\n",
      "S = 1166264759609768200\n",
      "Z = 2781078383302462624\n",
      "\n",
      "Private key is: (3397833353, 2516557159)\n"
     ]
    }
   ],
   "source": [
    "# For demo purposes to make print more readable and consistent\n",
    "bitsize = 32\n",
    "p = 3397833353\n",
    "q = 2516557159\n",
    "# p = number.getPrime(bitsize)\n",
    "# q = number.getPrime(bitsize)\n",
    "\n",
    "# The public parts\n",
    "n = p*q\n",
    "nsize = 2*bitsize\n",
    "# Generate quadratic residues mod n\n",
    "R_1 = pow(number.getRandomRange(2, n), 2, n)\n",
    "R_2 = pow(number.getRandomRange(2, n), 2, n)\n",
    "R_3 = pow(number.getRandomRange(2, n), 2, n)\n",
    "R_4 = pow(number.getRandomRange(2, n), 2, n)\n",
    "R_5 = pow(number.getRandomRange(2, n), 2, n)\n",
    "R_6 = pow(number.getRandomRange(2, n), 2, n)\n",
    "S = pow(number.getRandomRange(2, n), 2, n)\n",
    "Z = pow(number.getRandomRange(2, n), 2, n)\n",
    "\n",
    "\n",
    "print(f'Public key is:\\nn = {n}\\n(R_1, R_2, R_3, R_4, R_5, R_6) = {(R_1, R_2, R_3, R_4, R_5, R_6)}\\nS = {S}\\nZ = {Z}')\n",
    "print(f'\\nPrivate key is: {(p,q)}')"
   ]
  },
  {
   "cell_type": "code",
   "execution_count": 3,
   "metadata": {},
   "outputs": [
    {
     "name": "stdout",
     "output_type": "stream",
     "text": [
      "Message is:\n",
      "m_1, m_2, m_3, m_4, m_5, m_6)  = (4079624770403789574, 2621006226763439889, 7129322069437212076, 7359987611925054165, 7983619136427172893, 2268010931641300781)\n"
     ]
    }
   ],
   "source": [
    "# The messages\n",
    "msize = nsize\n",
    "m_1 = number.getRandomRange(2, n)\n",
    "m_2 = number.getRandomRange(2, n)\n",
    "m_3 = number.getRandomRange(2, n)\n",
    "m_4 = number.getRandomRange(2, n)\n",
    "m_5 = number.getRandomRange(2, n)\n",
    "m_6 = number.getRandomRange(2, n)\n",
    "\n",
    "print(f'Message is:\\nm_1, m_2, m_3, m_4, m_5, m_6)  = {(m_1, m_2, m_3, m_4, m_5, m_6)}')"
   ]
  },
  {
   "cell_type": "markdown",
   "metadata": {},
   "source": [
    "## User"
   ]
  },
  {
   "cell_type": "markdown",
   "metadata": {},
   "source": [
    "User loads Issuer's public key and calculate:\n",
    "\n",
    "1. Generates random integer $v'$\n",
    "2. Then computes\n",
    "$$U \\leftarrow S^{v'}R_1^{m_1}\\pmod{n}$$"
   ]
  },
  {
   "cell_type": "code",
   "execution_count": 4,
   "metadata": {},
   "outputs": [],
   "source": [
    "# Generate random integear\n",
    "v_prim = number.getRandomNBitInteger(msize*nsize + 1)\n",
    "\n",
    "# Calculate U\n",
    "U = pow(S, v_prim, n) * pow(R_1, m_1, n)"
   ]
  },
  {
   "cell_type": "markdown",
   "metadata": {},
   "source": [
    "### User send to Issuer\n",
    "User send $(U, v')$ to the Issuer"
   ]
  },
  {
   "cell_type": "markdown",
   "metadata": {},
   "source": [
    "## Issuer Signature Generation\n"
   ]
  },
  {
   "cell_type": "markdown",
   "metadata": {},
   "source": [
    "Issuer generate CL signature on the attributes by computing:\n",
    "\n",
    "1. Generates random integer $v''$\n",
    "2. Generates random prime $e$\n",
    "3. Then computes \n",
    "$$\n",
    "Q \\leftarrow \\frac{Z}{U S^{v''}(R_2^{m_2}R_3^{m_3}\\cdots  R_i^{m_i})}\\pmod{n}.\n",
    "$$\n",
    "4. Then computes\n",
    "$$\n",
    "A \\leftarrow Q^{e^{-1}\\pmod{p'q'}}\\pmod{n}.\n",
    "$$\n"
   ]
  },
  {
   "cell_type": "code",
   "execution_count": 5,
   "metadata": {},
   "outputs": [
    {
     "name": "stdout",
     "output_type": "stream",
     "text": [
      "Pre-signature is: A = 7512016508607037149, e = 26160949446642253987, v'' = 1138290150733499066454047590477004107932589168760457250272474364934346238863259798832813929209464847977227393554020615069378720256035539161421524354733080729395411193655403289141570837793924914806476706128569375865818120174449277476231972775785724675217503269439489078714033337709521343902444695533064558409490677852885459694848408934609968244238502688217625431167091724232507657236485719518384090276013293145066773129927613238770430466103657000976879606149988238274545291158484948233759593671031918365074263954303840405067034735437452098193499626781091423650685462074371791970902990977647255973098413927548097652450566560154218571159725292701538415497536832423498011399758520630405902015524260153131430499875464759104620585406792960478892901936875807701420276973484641841999894090356981103273665102416013073773284626241801869063510413236357608981257439876438243225436609109382937598180372644754717186507725278856516332910620644822296008699682555990296089061618290835048702306435693660344914728804779913490828765741716868837201545895137729014066646241124569047396023565201876386044449918278769377287839618598133816489667981718881260265496824566359837853306045894473535433935592614412075984478876690499976113500441476338668857725016316\n"
     ]
    }
   ],
   "source": [
    "# Generate random prime\n",
    "e = number.getPrime(nsize + 1)\n",
    "e_inv = pow(e, -1, (p-1)*(q-1))\n",
    "# v is selected as integer\n",
    "v_pprim = number.getRandomNBitInteger(msize*nsize + 1)\n",
    "\n",
    "# Calculate dot\n",
    "R_vector = pow(R_2, m_2, n) * pow(R_3, m_3, n) * pow(R_4, m_4, n) * pow(R_5, m_5, n) * pow(R_6, m_6, n)\n",
    "\n",
    "# Calculate commitment\n",
    "commitment_vector = U * pow(S, v_pprim, n) * R_vector\n",
    "commitment_vector_inv = pow(commitment_vector, -1, n)\n",
    "\n",
    "# Calculate Q\n",
    "Q = (Z * commitment_vector_inv) % n\n",
    "# Calculate signature part A\n",
    "A = pow(Q, e_inv, n)\n",
    "\n",
    "print(f\"Pre-signature is: A = {A}, e = {e}, v'' = {v_pprim}\")"
   ]
  },
  {
   "cell_type": "markdown",
   "metadata": {},
   "source": [
    "Check\n",
    "$$ Q = A^e $$"
   ]
  },
  {
   "cell_type": "code",
   "execution_count": 6,
   "metadata": {},
   "outputs": [
    {
     "name": "stdout",
     "output_type": "stream",
     "text": [
      "RHS is the same as LHS: True\n"
     ]
    }
   ],
   "source": [
    "# verify\n",
    "print('RHS is the same as LHS:', pow(A, e, n) == Q)"
   ]
  },
  {
   "cell_type": "markdown",
   "metadata": {},
   "source": [
    "### Issuer sends to User\n",
    "Issuer sends pre-signature $(A,e,v'')$ to the User"
   ]
  },
  {
   "cell_type": "markdown",
   "metadata": {},
   "source": [
    "## User complete signature"
   ]
  },
  {
   "cell_type": "markdown",
   "metadata": {},
   "source": [
    "For signature completion user computes\n",
    "$$v \\leftarrow v'+v''$$"
   ]
  },
  {
   "cell_type": "code",
   "execution_count": 7,
   "metadata": {},
   "outputs": [],
   "source": [
    "v = v_prim + v_pprim"
   ]
  },
  {
   "cell_type": "markdown",
   "metadata": {},
   "source": [
    "User now know the signature $(A,e,v)$\n",
    "\n",
    "User verify the signature $(A,e,v)$, using the CL verification algorithm:\n",
    "1. Compute\n",
    "$$\n",
    "\\hat{Z} \\leftarrow A^{e} S^{v}(R_1^{m_1}R_2^{m_2}\\cdots  R_i^{m_i})\\pmod{n}.\n",
    "$$"
   ]
  },
  {
   "cell_type": "code",
   "execution_count": 8,
   "metadata": {},
   "outputs": [],
   "source": [
    "R_dot = pow(R_1, m_1, n) * R_vector\n",
    "Z_hat = (pow(A, e, n) * pow(S, v, n) * R_dot) % n"
   ]
  },
  {
   "cell_type": "markdown",
   "metadata": {},
   "source": [
    "Check\n",
    "$$ Z = A^e S^v \\Bigg(\\prod_{i \\in A}{R_i^{m_i}}\\Bigg) $$"
   ]
  },
  {
   "cell_type": "code",
   "execution_count": 9,
   "metadata": {},
   "outputs": [
    {
     "name": "stdout",
     "output_type": "stream",
     "text": [
      "RHS is the same as LHS: True\n"
     ]
    }
   ],
   "source": [
    "print('RHS is the same as LHS:', Z_hat == Z)"
   ]
  },
  {
   "cell_type": "markdown",
   "metadata": {},
   "source": [
    "## Proof Generation\n",
    "\n",
    "\n",
    "### Selective disclosure\n",
    "Let A be the set of all attribute identifiers present in the credential schema\n",
    "such that $A_r$ contains revealed attributes to the Verifier and $A_h$ contains unrevealed (hidden) attributes which are kept secret.\n"
   ]
  },
  {
   "cell_type": "code",
   "execution_count": 10,
   "metadata": {},
   "outputs": [],
   "source": [
    "# public attributes\n",
    "R_public = pow(R_4, m_4, n) * pow(R_5, m_5, n)\n",
    "# private attributes\n",
    "R_private = pow(R_1, m_1, n) * pow(R_2, m_2, n) * pow(R_3, m_3, n) * pow(R_6, m_6, n)"
   ]
  },
  {
   "cell_type": "markdown",
   "metadata": {},
   "source": [
    "We remember that:\n",
    "$$ Z = A^e S^v \\Bigg(\\prod_{i \\in A}{R_i^{m_i}}\\Bigg) = \n",
    "A^e S^v \\Bigg(\\prod_{i \\in A_r}{R_i^{m_i}} \\cdot \\prod_{i \\in A_h}{R_i^{m_i}}\\Bigg)\n",
    "$$\n",
    "\n",
    "Check\n",
    "$$ Z \\Bigg(\\prod_{i \\in A_r}{R_i^{m_i}}\\Bigg)^{-1} = A^e S^v \\Bigg(\\prod_{i \\in A_h}{R_i^{m_i}}\\Bigg) $$"
   ]
  },
  {
   "cell_type": "code",
   "execution_count": 11,
   "metadata": {},
   "outputs": [
    {
     "name": "stdout",
     "output_type": "stream",
     "text": [
      "RHS is the same as LHS: True\n"
     ]
    }
   ],
   "source": [
    "# generate commitment and encryption\n",
    "R_public_inv = pow(R_public, -1, n)\n",
    "# contains revealed attributes\n",
    "attr_encryption_vector = Z * R_public_inv\n",
    "\n",
    "# contains unrevealed attributes which are kept secret\n",
    "attr_commitment_vector = pow(S, v, n) * R_private\n",
    "\n",
    "# verify credentials\n",
    "print('RHS is the same as LHS:', (pow(A, e, n) * attr_commitment_vector) % n == attr_encryption_vector % n)"
   ]
  },
  {
   "cell_type": "markdown",
   "metadata": {},
   "source": [
    "For each non-revealed attribute \n",
    "\n",
    "1. Generate random integer $\\bar{m_1}, \\bar{m_2}, \\bar{m_3}$ for the secret attributes\n",
    "2. Generates random integer $\\bar{m_j}$ for each non-revealed attribute\n"
   ]
  },
  {
   "cell_type": "code",
   "execution_count": 12,
   "metadata": {},
   "outputs": [],
   "source": [
    "m1_bar = number.getRandomNBitInteger(nsize)\n",
    "m2_bar = number.getRandomNBitInteger(nsize)\n",
    "m3_bar = number.getRandomNBitInteger(nsize)\n",
    "m6_bar = number.getRandomNBitInteger(nsize)\n",
    "\n",
    "\n",
    "Rbar_private = pow(R_1, m1_bar, n) * pow(R_2, m2_bar, n) * pow(R_3, m3_bar, n) * pow(R_6, m6_bar, n)"
   ]
  },
  {
   "cell_type": "markdown",
   "metadata": {},
   "source": [
    "\n",
    "1. Generate random integer $r$\n",
    "2. Then computes \n",
    "$$\n",
    "A' \\leftarrow A S^{r}\\pmod{n}\n",
    "$$\n",
    "4. Then computes\n",
    "$$\n",
    "v' \\leftarrow v - e\\cdot r\n",
    "$$\n"
   ]
  },
  {
   "cell_type": "code",
   "execution_count": 13,
   "metadata": {},
   "outputs": [],
   "source": [
    "# Choose random bit r\n",
    "r = number.getRandomNBitInteger(msize*nsize + 1)\n",
    "\n",
    "# Calculate\n",
    "A_prime = A * pow(S, r, n)\n",
    "v_prime = v - e*r"
   ]
  },
  {
   "cell_type": "markdown",
   "metadata": {},
   "source": [
    "We remember that:\n",
    "\n",
    "$$\n",
    "Z = A^e S^v \\Bigg(\\prod_{i \\in A}{R_i^{m_i}}\\Bigg) = A'^{e} S^{v'} \\Bigg(\\prod_{i \\in A}{R_i^{m_i}}\\Bigg) \n",
    "$$\n",
    "\n",
    "Check\n",
    "$$\n",
    "A^e S^v = A'^{e} S^{v'}\n",
    "$$\n",
    "$$\n",
    "A' S^{-r} = A \\pmod{n}\n",
    "$$"
   ]
  },
  {
   "cell_type": "code",
   "execution_count": 14,
   "metadata": {},
   "outputs": [
    {
     "name": "stdout",
     "output_type": "stream",
     "text": [
      "RHS is the same as LHS: True\n",
      "RHS is the same as LHS: True\n",
      "RHS is the same as LHS: True\n"
     ]
    }
   ],
   "source": [
    "# we know that\n",
    "\n",
    "print('RHS is the same as LHS:', (pow(A_prime, e, n) * pow(S, v_prime, n) % n * R_dot) % n == Z)\n",
    "print('RHS is the same as LHS:', (pow(A_prime, e, n) * pow(S, v_prime, n) % n == pow(A, e, n) * pow(S, v, n) % n))\n",
    "print('RHS is the same as LHS:', ((A_prime * pow(S, -r, n) % n == A % n)))"
   ]
  },
  {
   "cell_type": "markdown",
   "metadata": {},
   "source": [
    "1. Generate random integer $\\beta$\n",
    "2. Compute \n",
    "$$e' \\leftarrow e - \\beta$$"
   ]
  },
  {
   "cell_type": "code",
   "execution_count": 15,
   "metadata": {},
   "outputs": [
    {
     "name": "stdout",
     "output_type": "stream",
     "text": [
      "Randomized signature is:\n",
      "A = 31516415147843189870295925064287755522,\n",
      "e' = 26160949440246648934,\n",
      "v' = -39982296581404114702178715199634875759710113384737434898002837919740157102719078710704949657595379901828154726035826407395817736899265063478553386453654123450389128439082539777338955533691390058915462165907376472809256410582803183695676813290651511699402332800709797797825079007735911468092124398840489014838855248139847145249413136040285070026738739457752861565951795751651402212247002998979144442228696532210201301073838894816652993678503496457800161995089887078875716956836333428878595689365210612722572116374533940906806326269146666865953051208283074759223349280568088369319878509793597014203709276121617912020884750659178652602349569456825151085697256067304993528759412618592054503910582733069176420023852638937136766210710068184292457026722561923989724986363172906176664164503539511150158925234766892029481416939066682327786526107394356892295917902000939766728596532379171797609676998083645170435037046963762388976395289629500468648161804458196882678616056625472849011226854669807907054460784513548708792572754414351062805282354214593000183637813075038642096702085778885121640688529797687575396473921848887560808754304380127575473186408935063586653767709768731162945623930172683051457362553521998078272177587071655426263980940356762886198868525189\n"
     ]
    }
   ],
   "source": [
    "beta = number.getRandomNBitInteger(bitsize + 1)\n",
    "e_prime = e - beta\n",
    "\n",
    "print(f\"Randomized signature is:\\nA = {A_prime},\\ne' = {e_prime},\\nv' = {v_prime}\")\n",
    "\n",
    "\n"
   ]
  },
  {
   "cell_type": "markdown",
   "metadata": {},
   "source": [
    "1. Generate random integer number $\\bar{e}$\n",
    "2. Generate random integer number $\\bar{v}$\n",
    "3. Compute\n",
    "$$ T \\leftarrow A'^{\\bar{e}} S^{\\bar{v}} \\Bigg(\\prod_{i \\in A_h}{R_i^{\\bar{m_i}}} \\Bigg) \\pmod{n} $$"
   ]
  },
  {
   "cell_type": "code",
   "execution_count": 16,
   "metadata": {},
   "outputs": [],
   "source": [
    "e_bar = number.getRandomNBitInteger(nsize + 1)\n",
    "v_bar = number.getRandomNBitInteger(msize*nsize+1)\n",
    "T = (pow(A_prime, e_bar, n) * pow(S, v_bar, n) * Rbar_private) % n"
   ]
  },
  {
   "cell_type": "markdown",
   "metadata": {},
   "source": [
    "### Hashing"
   ]
  },
  {
   "cell_type": "markdown",
   "metadata": {},
   "source": [
    "Compute \n",
    "$$\n",
    "D\\leftarrow H(\\mathcal{T},\\mathcal{C},n_1)\n",
    "$$"
   ]
  },
  {
   "cell_type": "code",
   "execution_count": 17,
   "metadata": {},
   "outputs": [
    {
     "name": "stdout",
     "output_type": "stream",
     "text": [
      "Proof is: T = 5248475888255744825, \n",
      "c = 956346144591724637164394089938234809411346946177773091335727711534015596232501274355735678227904\n"
     ]
    }
   ],
   "source": [
    "attr = str([T, Q, A, e, v, A_prime])\n",
    "c_hash = hashlib.sha256(str(attr).encode('utf-8')).hexdigest()\n",
    "c = int(c_hash, base=32)\n",
    "print(f\"Proof is: T = {T}, \\nc = {c}\")"
   ]
  },
  {
   "cell_type": "markdown",
   "metadata": {},
   "source": [
    "Compute\n",
    "\\begin{align*}\n",
    "\\hat{v} \\leftarrow \\bar{v} + Dv' \\\\\n",
    "\\hat{e} \\leftarrow \\bar{e} + De'\n",
    "\\end{align*}"
   ]
  },
  {
   "cell_type": "code",
   "execution_count": 18,
   "metadata": {},
   "outputs": [],
   "source": [
    "e_hat = e_bar + c*e_prime\n",
    "v_hat = v_bar + c*v_prime"
   ]
  },
  {
   "cell_type": "markdown",
   "metadata": {},
   "source": [
    "For each none revealed attribute, $j\\in A_{h}$, compute\n",
    "$$ \\hat{m_j} \\leftarrow \\bar{m_j} + Dm_j $$\n"
   ]
  },
  {
   "cell_type": "code",
   "execution_count": 19,
   "metadata": {},
   "outputs": [],
   "source": [
    "m1_hat = m1_bar + c*m_1\n",
    "m2_hat = m2_bar + c*m_2\n",
    "m3_hat = m3_bar + c*m_3\n",
    "m6_hat = m6_bar + c*m_6\n",
    "\n",
    "Rhat_private = pow(R_1, m1_hat, n) * pow(R_2, m2_hat, n) * pow(R_3, m3_hat, n) * pow(R_6, m6_hat, n)"
   ]
  },
  {
   "cell_type": "markdown",
   "metadata": {},
   "source": [
    "We remember that:\n",
    "\n",
    "$$\n",
    "\n",
    "\\Bigg({\\prod_{i \\in A_r}{R_i^{m_i}}}\\Bigg)^{D} \\cdot \\Bigg(\\prod_{i \\in A_h}{R_i^{\\hat{m_i}}}\\Bigg)\n",
    "\n",
    "= {\\Bigg(\\prod_{i \\in A_r}{R_i^{Dm_i}}} \\cdot \\prod_{i \\in A_h}{R_i^{Dm_i}}\\Bigg) \\cdot \\prod_{i \\in A_h}{R_i^{\\bar{m_i}}}\n",
    "\n",
    "= \\Bigg(\\prod_{i \\in A}{R_i^{Dm_i}}\\Bigg) \\cdot \\prod_{i \\in A_h}{R_i^{\\bar{m_i}}} \\pmod{n}\n",
    "$$\n",
    "\n",
    "Lets check\n",
    "\n",
    "$$\n",
    "\n",
    "\\Bigg({\\prod_{i \\in A_r}{R_i^{m_i}}}\\Bigg)^{D} \\cdot \\Bigg(\\prod_{i \\in A_h}{R_i^{\\hat{m_i}}}\\Bigg)\n",
    "\n",
    "= \\Bigg(\\prod_{i \\in A}{R_i^{Dm_i}}\\Bigg) \\cdot \\prod_{i \\in A_h}{R_i^{\\bar{m_i}}} \\pmod{n}\n",
    "$$\n"
   ]
  },
  {
   "cell_type": "code",
   "execution_count": 20,
   "metadata": {},
   "outputs": [
    {
     "name": "stdout",
     "output_type": "stream",
     "text": [
      "RHS is the same as LHS: True\n"
     ]
    }
   ],
   "source": [
    "Rc_public = pow(R_4, m_4*c, n) * pow(R_5, m_5*c, n)\n",
    "Rc_private = pow(R_1, m_1*c, n) * pow(R_2, m_2*c, n) * pow(R_3, m_3*c, n) * pow(R_6, m_6*c, n)\n",
    "Rc_dot = Rc_private * Rc_public\n",
    "\n",
    "print('RHS is the same as LHS:', (Rc_public * Rhat_private % n == Rc_dot * Rbar_private % n))"
   ]
  },
  {
   "cell_type": "markdown",
   "metadata": {},
   "source": [
    "## Proof Verification"
   ]
  },
  {
   "cell_type": "markdown",
   "metadata": {},
   "source": [
    "Calculate\n",
    "\n",
    "$$\n",
    "\\hat{T} \\leftarrow \\Bigg(\\frac{Z}{A'^\\beta \\prod_{i \\in A_r}{R_i^{m_i}}}\\Bigg)^{-D} A'^{\\hat{e}} S^{\\hat{v}} \\Bigg(\\prod_{i \\in A_h}{R_i^{\\hat{m_i}}}\\Bigg)\n",
    "= Z^{-D} \\cdot A'^{D\\beta} \\cdot A'^{\\hat{e}} \\cdot S^{\\hat{v}} \\cdot \\Bigg({\\prod_{i \\in A_r}{R_i^{m_i}}}\\Bigg)^{D} \\cdot \\Bigg(\\prod_{i \\in A_h}{R_i^{\\hat{m_i}}}\\Bigg) \\pmod{n}\n",
    "$$"
   ]
  },
  {
   "cell_type": "code",
   "execution_count": 21,
   "metadata": {},
   "outputs": [
    {
     "name": "stdout",
     "output_type": "stream",
     "text": [
      "RHS is the same as LHS: True\n"
     ]
    }
   ],
   "source": [
    "T_hat = (pow(Z, -c, n) * pow(A_prime, c*beta, n) * pow(A_prime, e_hat, n) * pow(S, v_hat, n) * Rc_public * Rhat_private) % n\n",
    "\n",
    "# we know that\n",
    "print('RHS is the same as LHS:', (T_hat) == T)"
   ]
  },
  {
   "cell_type": "markdown",
   "metadata": {},
   "source": [
    "Compute\n",
    "$$\n",
    "\\hat{Q} \\leftarrow A'^{e} S^{-er} \\pmod{n}\n",
    "$$"
   ]
  },
  {
   "cell_type": "code",
   "execution_count": 22,
   "metadata": {},
   "outputs": [],
   "source": [
    "Q_hat = pow(A_prime, e, n) * pow(S, -e*r, n) % n"
   ]
  },
  {
   "cell_type": "markdown",
   "metadata": {},
   "source": [
    "Compute \n",
    "$$\n",
    "\\hat{D} \\leftarrow H(\\hat{\\mathcal{T}},\\mathcal{C},n_1);\n",
    "$$"
   ]
  },
  {
   "cell_type": "code",
   "execution_count": 23,
   "metadata": {},
   "outputs": [
    {
     "name": "stdout",
     "output_type": "stream",
     "text": [
      "RHS is the same as LHS: True\n"
     ]
    }
   ],
   "source": [
    "\n",
    "\n",
    "attr_hat = str([T_hat, Q_hat, A, e, v, A_prime])\n",
    "c_hash_hat = hashlib.sha256(str(attr_hat).encode('utf-8')).hexdigest()\n",
    "c_hat = int(c_hash_hat, base=32)\n",
    "\n",
    "print('RHS is the same as LHS:', (c_hat) == c)"
   ]
  },
  {
   "cell_type": "markdown",
   "metadata": {},
   "source": [
    "## Equality proof\n",
    "This zero knowledge proof is in fact just an equality proof that does not reveal the attribute’s value."
   ]
  },
  {
   "cell_type": "code",
   "execution_count": 24,
   "metadata": {},
   "outputs": [],
   "source": [
    "assert([T, c] == [T_hat, c_hat])"
   ]
  },
  {
   "cell_type": "code",
   "execution_count": 25,
   "metadata": {},
   "outputs": [
    {
     "name": "stdout",
     "output_type": "stream",
     "text": [
      "The equality has been VERIFIED when this line is printed!\n"
     ]
    }
   ],
   "source": [
    "print('The equality has been VERIFIED when this line is printed!')"
   ]
  },
  {
   "cell_type": "code",
   "execution_count": null,
   "metadata": {},
   "outputs": [],
   "source": []
  },
  {
   "cell_type": "markdown",
   "metadata": {},
   "source": [
    "# Predicate\n",
    "Predicate has been broken out only to focus on it because it can itself be studied (almost) independently.\n",
    "\n",
    "\n",
    "- https://dominoweb.draco.res.ibm.com/reports/rz3730_revised.pdf#page=26\n",
    "- https://github.com/hyperledger/indy-hipe/blob/master/text/0109-anoncreds-protocol/README.md\n",
    "- https://github.com/hyperledger-archives/indy-anoncreds/blob/master/docs/dev/anoncred.pdf"
   ]
  },
  {
   "cell_type": "markdown",
   "metadata": {},
   "source": [
    "## Inequality predicates\n",
    "Inequality predicates $\\geq,  >, <, \\leq, \\neq$ are supported.\n",
    "The holder takes the attribute $m_{j}$ from credential $\\mathcal{C}$, and the term $a_i$ provided by the verifier. For each predicate ${p}$ computes the following:"
   ]
  },
  {
   "cell_type": "markdown",
   "metadata": {},
   "source": [
    "1. Calculate ${\\Delta}$ such that:\n",
    "\n",
    "$$\n",
    "\\Delta \\leftarrow \\begin{cases}\n",
    "a_i-m_{p_i}; & {if } \\leq\\\\\n",
    "a_i-m_{p_i}-1; & {if }  <\\\\\n",
    "m_{p_i}-a_i; & {if } \\geq or \\neq\\\\\n",
    "m_{p_i}-a_i-1; & {if } >\n",
    "\\end{cases}\n",
    "$$\n",
    "\n",
    "2. Calculate ${a}$ such that:\n",
    "\n",
    "$$\n",
    "b \\leftarrow \\begin{cases}\n",
    "1; & {if } \\geq, >, \\neq\\\\\n",
    "-1; & {if } \\leq, <\n",
    "\\end{cases}\n",
    "$$\n",
    "\n",
    "3. Express ${\\Delta}$ as the sum of four squares. Find (possibly by exhaustive search) $u_1, u_2, u_3, u_4$ such that:\n",
    "\n",
    "$$\n",
    "\\Delta \\leftarrow u_1^2 + u_2^2 +u_3^2 + u_4^2\n",
    "$$\n",
    "\n",
    "Note that ${\\Delta}$ will always be non-negative if the predicate is true; cannot express a negative number as sum of four squares. If ${\\Delta}$ < 0, the proof fails. \n",
    "\n",
    "#### Lagrange’s Four Square Theorem\n",
    "Lagrange’s Four Square Theorem states that every natural number can be written as sum of squares of four non negative integers.\n",
    "\n",
    "- [Lagrange's four-square theorem](https://en.wikipedia.org/wiki/Lagrange%27s_four-square_theorem)\n"
   ]
  },
  {
   "cell_type": "markdown",
   "metadata": {},
   "source": [
    "##### How $\\Delta$ is calculated\n",
    "Lets check ${\\Delta}$ for all inequality predicates such as \"A is older than 20 years old\".\n",
    "\n",
    "\n",
    "Let age for A be 25 and calculate:\n",
    "1. predict if age > 18\n",
    "$$\n",
    "\\Delta \\leftarrow 25 - 18 - 1 (= 6)\n",
    "$$\n",
    "2. predict if age < 18\n",
    "$$\n",
    "\\Delta \\leftarrow 18 - 25 - 1 (= -8)\n",
    "$$"
   ]
  },
  {
   "cell_type": "markdown",
   "metadata": {},
   "source": [
    "### ${\\Delta}$ implementation\n",
    "\n",
    "Implementation of ${\\Delta}$ via\n",
    "- https://github.com/evernym/sovrin-client-rust/blob/c3664cad7cd92c8cb661071c82fd3a1f4678a807/src/services/anoncreds/helpers.rs\n",
    "\n",
    "Can later be implemented as:\n",
    "\n",
    "- https://github.com/hyperledger/ursa/blob/5cd3331e1428daad73a0e0d857f8bd01affb4441/libursa/src/cl/helpers.rs#L472"
   ]
  },
  {
   "cell_type": "code",
   "execution_count": 26,
   "metadata": {},
   "outputs": [
    {
     "name": "stdout",
     "output_type": "stream",
     "text": [
      "[4, 2, 1, 1]\n",
      "[2065, 45, 6, 1]\n"
     ]
    }
   ],
   "source": [
    "def largest_square_less_than(delta):\n",
    "    return int(math.floor(math.sqrt(float(delta))))\n",
    "\n",
    "\n",
    "def four_squares(delta):\n",
    "    d = int(delta)\n",
    "    u1 = largest_square_less_than(d)\n",
    "    u2 = largest_square_less_than(d - math.pow(u1, 2))\n",
    "    u3 = largest_square_less_than(d - math.pow(u1, 2) - math.pow(u2, 2))\n",
    "    u4 = largest_square_less_than(d - math.pow(u1, 2) - math.pow(u2, 2) - math.pow(u3, 2))\n",
    "\n",
    "    uPow =  int(math.pow(u1, 2) + math.pow(u2, 2) + math.pow(u3, 2) + math.pow(u4, 2))\n",
    "    if uPow == d:\n",
    "        roots = [u1, u2, u3, u4]\n",
    "    else:\n",
    "        roots = [-1, -1, -1, -1]\n",
    "\n",
    "    return roots\n",
    "\n",
    "print(four_squares(22))\n",
    "print(four_squares(4266287))"
   ]
  },
  {
   "cell_type": "markdown",
   "metadata": {},
   "source": [
    "Calculate $T$ equations\n",
    "\n",
    "1. Generate random integer numbers $r_1, r_2, r_3, r_4, r_{\\Delta}$\n",
    "2. Compute \n",
    "$$ T_1 \\leftarrow Z^{u_1}S^{r_1}\\pmod{n} $$\n",
    "$$ T_2 \\leftarrow Z^{u_2}S^{r_2}\\pmod{n} $$\n",
    "$$ T_3 \\leftarrow Z^{u_3}S^{r_3}\\pmod{n} $$\n",
    "$$ T_4 \\leftarrow Z^{u_4}S^{r_4}\\pmod{n} $$\n",
    "$$ T_{\\Delta} \\leftarrow  Z^{\\Delta}S^{r_{\\Delta}} \\pmod{n} $$\n",
    "\n",
    "and add these values to $\\mathcal{C}$ in the order ${T_1},{T_2},{T_3},{T_4},{T_{\\Delta}}$.\n"
   ]
  },
  {
   "cell_type": "code",
   "execution_count": 27,
   "metadata": {},
   "outputs": [
    {
     "name": "stdout",
     "output_type": "stream",
     "text": [
      "Predicate is:\n",
      "Delta = 22,\n",
      "Roots: (u_1, u_2, u_3, u_4) = (4, 2, 1, 1)\n",
      "T_1 = 9986224797644691545539240195009981920\n",
      "T_2 = 33455029329993013956431440036548620367\n",
      "T_3 = 6323942909662065152866558236377245824\n",
      "T_4 = 11324202009063269213864667726197521248\n",
      "T_Delta = 2300667598011396800759621104221244750\n"
     ]
    }
   ],
   "source": [
    "# Generate random number\n",
    "r1 = number.getRandomNBitInteger(msize*nsize + 1)\n",
    "r2 = number.getRandomNBitInteger(msize*nsize + 1)\n",
    "r3 = number.getRandomNBitInteger(msize*nsize + 1)\n",
    "r4 = number.getRandomNBitInteger(msize*nsize + 1)\n",
    "rd = number.getRandomNBitInteger(msize*nsize + 1)\n",
    "\n",
    "# select m6 to do the predicate and compute delta\n",
    "mp1 = m_6\n",
    "mp1_bar = m6_bar\n",
    "mp1_hat = m6_hat\n",
    "\n",
    "ap1 = mp1 - 22\n",
    "delta = mp1 - ap1\n",
    "roots = four_squares(delta)\n",
    "# check delta is greater than > 0\n",
    "assert(sum(roots) > 0)\n",
    "b = 1\n",
    "\n",
    "# Compute T equations\n",
    "T1 = pow(Z, roots[0], n) * pow(S, r1, n)\n",
    "T2 = pow(Z, roots[1], n) * pow(S, r2, n)\n",
    "T3 = pow(Z, roots[2], n) * pow(S, r3, n)\n",
    "T4 = pow(Z, roots[3], n) * pow(S, r4, n)\n",
    "Td = pow(Z, delta, n) * pow(S, rd, n)\n",
    "\n",
    "print(f\"Predicate is:\\nDelta = {delta},\\nRoots: (u_1, u_2, u_3, u_4) = {(roots[0], roots[1], roots[2], roots[3])}\\nT_1 = {T1}\\nT_2 = {T2}\\nT_3 = {T3}\\nT_4 = {T4}\\nT_Delta = {Td}\")\n"
   ]
  },
  {
   "cell_type": "markdown",
   "metadata": {},
   "source": [
    "Calculate $\\bar{T}$ and $\\bar{K}$ equations\n",
    "\n",
    "1. Generate random integer numbers $\\bar{u_1},\\bar{u_2},\\bar{u_3},\\bar{u_4}$\n",
    "2. Generate random integer numbers $\\bar{r_1},\\bar{r_2},\\bar{r_3},\\bar{r_4},\\bar{r_{\\Delta}}$\n",
    "3. Compute \n",
    "$$ \\bar{T_1} \\leftarrow Z^{\\bar{u_1}}S^{\\bar{r_1}}\\pmod{n} $$\n",
    "$$ \\bar{T_2} \\leftarrow Z^{\\bar{u_2}}S^{\\bar{r_2}}\\pmod{n} $$\n",
    "$$ \\bar{T_3} \\leftarrow Z^{\\bar{u_3}}S^{\\bar{r_3}}\\pmod{n} $$\n",
    "$$ \\bar{T_4} \\leftarrow Z^{\\bar{u_4}}S^{\\bar{r_4}}\\pmod{n} $$\n",
    "$$ \\bar{T_{\\Delta}} \\leftarrow  Z^{\\bar{m_j}}(S^{b})^{\\bar{r_{\\Delta}}} \\pmod{n} $$\n",
    "\n",
    "and add this values to $\\mathcal{T}$ in the order $\\bar{T_1},\\bar{T_2},\\bar{T_3},\\bar{T_4}, \\bar{T_{\\Delta}}$.\n",
    "\n",
    "Where $\\bar{m_j}$ is from the earlier generated random number.\n",
    "\n",
    "4. Generate random integer numbers $\\bar{\\alpha}$\n",
    "5. Compute\n",
    "$$\n",
    "\\bar{K} \\leftarrow S^{\\bar{\\alpha}}T_1^{\\bar{u_1}}T_2^{\\bar{u_2}}\n",
    "T_3^{\\bar{u_3}} T_4^{\\bar{u_4}}\\pmod{n}\n",
    "$$\n",
    "Add $\\bar{K}$ to $\\mathcal{T}$."
   ]
  },
  {
   "cell_type": "code",
   "execution_count": 28,
   "metadata": {},
   "outputs": [
    {
     "name": "stdout",
     "output_type": "stream",
     "text": [
      "Proof predicate is:\n",
      "Roots: (u1_bar, u2_bar, u3_bar, u4_bar) = (29457504430408753849, 29860967272342552213, 28239681327794521258, 36253472686918861471)\n",
      "T1_bar = 5476469918168233452\n",
      "T2_bar = 7442350248140910299\n",
      "T3_bar = 7840491588837811578\n",
      "T4_bar = 7444455804813433209\n",
      "Td_bar = 3128483255473031140\n",
      "alpha_bar = 1454817470836699807280224120538826811357376932527896770505863597125031611103424251567423400302143323262071964072096482897000827479162121332406398738503261586225801663462064565137880998488556983146564693734229773517628983858618066010239409925680015846277270479412548042827286774880559019959596986528862415960607945504070391141686322303896267111738266158127211140493379896066625868908913848744591225550763142125720264810208851217187826598072967636642992245405581360956980587189007949996398988840392088437425385782548145899427250097014789838205636957604111588110894105123304705784141497240786234434301062807403181975000756507327520105818633920766744390366837364837580208207602282032355885439775577725326539292520572977750182504170134372665664226843569522121997112170568953914542465748226848755053449237731621453875379902749832313451665405601571619474782446626407630662668911635583846446512789322199724812873357884194215849445580512923604258867019265312185729581255805044907954579835615342001222515212052753438610184881593121994044785587141101505046291580068320515964490366018601504303675603874531914450786629149442271989506115902110242742844202569331043238322002111883011892368491582891905477237188986878632093911934197240741996304872583\n",
      "K_bar = 8172065498502313685\n"
     ]
    }
   ],
   "source": [
    "# Generate random number\n",
    "u1_bar = number.getRandomNBitInteger(nsize + 1)\n",
    "u2_bar = number.getRandomNBitInteger(nsize + 1)\n",
    "u3_bar = number.getRandomNBitInteger(nsize + 1)\n",
    "u4_bar = number.getRandomNBitInteger(nsize + 1)\n",
    "\n",
    "r1_bar = number.getRandomNBitInteger(nsize + 1)\n",
    "r2_bar = number.getRandomNBitInteger(nsize + 1)\n",
    "r3_bar = number.getRandomNBitInteger(nsize + 1)\n",
    "r4_bar = number.getRandomNBitInteger(nsize + 1)\n",
    "rd_bar = number.getRandomNBitInteger(nsize + 1)\n",
    "\n",
    "# Compute T_bar equations\n",
    "T1_bar = pow(Z, u1_bar, n) * pow(S, r1_bar, n) % n\n",
    "T2_bar = pow(Z, u2_bar, n) * pow(S, r2_bar, n) % n\n",
    "T3_bar = pow(Z, u3_bar, n) * pow(S, r3_bar, n) % n\n",
    "T4_bar = pow(Z, u4_bar, n) * pow(S, r4_bar, n) % n\n",
    "Td_bar = pow(Z, mp1_bar, n) * pow(S, b*rd_bar, n) % n\n",
    "\n",
    "# Compute K_bar\n",
    "alpha_bar = number.getRandomNBitInteger(msize*nsize + 1)\n",
    "K_bar = pow(S, alpha_bar, n) * pow(T1, u1_bar, n) * pow(T2, u2_bar, n) * pow(T3, u3_bar, n) * pow(T4, u4_bar, n) % n\n",
    "\n",
    "\n",
    "print(f\"Proof predicate is:\\nRoots: (u1_bar, u2_bar, u3_bar, u4_bar) = {(u1_bar, u2_bar, u3_bar, u4_bar)}\\nT1_bar = {T1_bar}\\nT2_bar = {T2_bar}\\nT3_bar = {T3_bar}\\nT4_bar = {T4_bar}\\nTd_bar = {Td_bar}\\nalpha_bar = {alpha_bar}\\nK_bar = {K_bar}\")\n"
   ]
  },
  {
   "cell_type": "markdown",
   "metadata": {},
   "source": [
    "### Hashing\n",
    "\n",
    "Compute \n",
    "$$\n",
    "D\\leftarrow H(\\mathcal{T},\\mathcal{C},n_1)\n",
    "$$"
   ]
  },
  {
   "cell_type": "code",
   "execution_count": 29,
   "metadata": {},
   "outputs": [],
   "source": [
    "# This is done in wrong order so will break the proof!!!\n",
    "\n",
    "# attr = str([T, Q, T1_bar, T2_bar, T3_bar, T4_bar, Td_bar, K_bar, A, e, v, A_prime, T1, T2, T3, T4, Td])\n",
    "# c_hash = hashlib.sha256(str(attr).encode('utf-8')).hexdigest()\n",
    "# c = int(c_hash, base=32)\n",
    "# print(f\"c = {c}\")"
   ]
  },
  {
   "cell_type": "markdown",
   "metadata": {},
   "source": [
    "### Holder generate predicate"
   ]
  },
  {
   "cell_type": "markdown",
   "metadata": {},
   "source": [
    "For each predicate $p$ compute:\n",
    "\n",
    "1. For {$i \\in {1, 2, 3, 4}$}, compute\n",
    "\\begin{align*}\n",
    "\\hat{u_i} \\leftarrow \\bar{u_i}+Du_i \\\\\n",
    "\\hat{r_i} \\leftarrow \\bar{r_i}+Dr_i \\\\\n",
    "\\end{align*}\n",
    "\n",
    "2. Compute\n",
    "$$\n",
    "\\hat{r_{\\Delta}} \\leftarrow \\bar{r_{\\Delta}}+Dr_{\\Delta}\n",
    "$$\n",
    "\n",
    "3. Compute\n",
    "$$\n",
    "{\\alpha} \\leftarrow r_{\\Delta}- u_1r_1 - u_2r_2 - u_3r_3 - u_4r_4\n",
    "$$\n",
    "\n",
    "4. Compute\n",
    "$$\n",
    "\\hat{\\alpha} \\leftarrow \\bar{\\alpha}+D\\alpha\n",
    "$$\n"
   ]
  },
  {
   "cell_type": "code",
   "execution_count": 30,
   "metadata": {},
   "outputs": [],
   "source": [
    "u1_hat = u1_bar + c*roots[0]\n",
    "u2_hat = u2_bar + c*roots[1]\n",
    "u3_hat = u3_bar + c*roots[2]\n",
    "u4_hat = u4_bar + c*roots[3]\n",
    "\n",
    "r1_hat = r1_bar + c*r1\n",
    "r2_hat = r2_bar + c*r2\n",
    "r3_hat = r3_bar + c*r3\n",
    "r4_hat = r4_bar + c*r4\n",
    "\n",
    "rd_hat = rd_bar + c*rd\n",
    "\n",
    "alpha = rd - roots[0]*r1 - roots[1]*r2 - roots[2]*r3 - roots[3]*r4\n",
    "alpha_hat = alpha_bar + c*alpha\n",
    "\n",
    "# verify\n",
    "assert(pow(T1, u1_hat, n) == pow(T1, u1_bar, n) * pow(T1, c*roots[0], n) % n)\n",
    "assert(pow(T2, u2_hat, n) == pow(T2, u2_bar, n) * pow(T2, c*roots[1], n) % n)\n",
    "assert(pow(T3, u3_hat, n) == pow(T3, u3_bar, n) * pow(T3, c*roots[2], n) % n)\n",
    "assert(pow(T4, u4_hat, n) == pow(T4, u4_bar, n) * pow(T4, c*roots[3], n) % n)"
   ]
  },
  {
   "cell_type": "markdown",
   "metadata": {},
   "source": [
    "The values $Pr_p =( \\{\\hat{u_i}\\}, \\{\\hat{r_i}\\},\\hat{r_{\\Delta}},\\hat{\\alpha},\\hat{m_j})$ are the sub-proof for predicate $p$.\n",
    "\n",
    "The values $Pr_C=(\\hat{e},\\hat{v},\\hat{m_j},A')$ are the sub-proof for credential $C$.\n",
    "\n",
    "Then $(D,\\{Pr_C\\},\\{Pr_p\\},\\mathcal{C})$ is the full proof sent to the Verifier."
   ]
  },
  {
   "cell_type": "markdown",
   "metadata": {},
   "source": [
    "## Verifier validate predicate\n",
    "### Proof generation"
   ]
  },
  {
   "cell_type": "markdown",
   "metadata": {},
   "source": [
    "For each predicate $p$\n",
    "\n",
    "1. Calculate ${\\Delta}'$ such that:\n",
    "\n",
    "$$\n",
    "\\Delta' \\leftarrow \\begin{cases}\n",
    "a_i; & {if } \\leq\\\\\n",
    "a_i-1; & {if }  <\\\\\n",
    "a_i; & {if } \\geq or \\neq\\\\\n",
    "a_i+1; & {if } >\n",
    "\\end{cases}\n",
    "$$\n",
    "\n",
    "2. Calculate ${b}$ such that:\n",
    "\n",
    "$$\n",
    "b \\leftarrow \\begin{cases}\n",
    "1; & {if } \\geq, >, \\neq\\\\\n",
    "-1; & {if } \\leq, <\n",
    "\\end{cases}\n",
    "$$\n",
    "\n",
    "Note that \n",
    "$$\n",
    "\\Delta' \\leftarrow m_{p_i} - b\\Delta\n",
    "$$\n",
    "\n",
    "Show\n",
    "$$\n",
    "\\Delta' \\leftarrow \\begin{cases}\n",
    "m - b(a-m) = m + (a - m) = a; & {if } \\leq\\\\\n",
    "m - b(a-m-1) = m + (a-m-1) =  a - 1; & {if }  <\\\\\n",
    "m - b(m-a) = m - (m-a) = a; & {if } \\geq or \\neq\\\\\n",
    "m - b(m-a-1) = m - (m-a-1) = a+1; & {if } >\n",
    "\\end{cases}\n",
    "$$\n"
   ]
  },
  {
   "cell_type": "markdown",
   "metadata": {},
   "source": [
    "### Proof verification"
   ]
  },
  {
   "cell_type": "markdown",
   "metadata": {},
   "source": [
    "Using $Pr_p$ and $\\mathcal{C}$ compute \n",
    "\n",
    "1. $\\text{For }1\\leq i \\leq 4$, compute\n",
    "$$\n",
    "\\hat{T_i} \\leftarrow T_i^{-D}Z^{\\hat{u_i}} S^{\\hat{r_i}}\\pmod{n};\n",
    "$$\n",
    "\n",
    "2. Compute\n",
    "$$\n",
    "\\hat{T_{\\Delta}} \\leftarrow \\left((T_{\\Delta})^bZ^{\\Delta'}\\right)^{-D}Z^{\\hat{m_j}}(S^b)^{\\hat{r_{\\Delta}}}\\pmod{n};\n",
    "$$\n",
    "\n",
    "3. Compute\n",
    "$$\n",
    "\\hat{K}\\leftarrow S^{\\hat{\\alpha}}(T_{\\Delta})^{-D}T_1^{\\hat{u_1}}T_2^{\\hat{u_2}}T_3^{\\hat{u_3}}T_4^{\\hat{u_4}}\n",
    "\\pmod{n},\n",
    "$$\n",
    "and add these values to  $\\hat{\\mathcal{T}}$ in the order $\\hat{T_1},\\hat{T_2} ,\\hat{T_3},\\hat{T_4},\\hat{T_{\\Delta}},\\hat{K}    $."
   ]
  },
  {
   "cell_type": "code",
   "execution_count": 31,
   "metadata": {},
   "outputs": [],
   "source": [
    "delta_prim = ap1\n",
    "\n",
    "# Compute T_hat equations\n",
    "T1_hat = pow(T1, -c, n) * pow(Z, u1_hat, n) * pow(S, r1_hat, n) % n\n",
    "T2_hat = pow(T2, -c, n) * pow(Z, u2_hat, n) * pow(S, r2_hat, n) % n\n",
    "T3_hat = pow(T3, -c, n) * pow(Z, u3_hat, n) * pow(S, r3_hat, n) % n\n",
    "T4_hat = pow(T4, -c, n) * pow(Z, u4_hat, n) * pow(S, r4_hat, n) % n\n",
    "Td_hat = pow(Td, -b*c, n) * pow(Z, -delta_prim*c, n) *  pow(Z, mp1_hat, n) * pow(S, b * rd_hat, n)  % n\n",
    "\n",
    "\n",
    "# Compute K_hat\n",
    "K_hat = pow(S, alpha_hat, n) * pow(Td, -c, n) * pow(T1, u1_hat, n) * pow(T2, u2_hat, n) * pow(T3, u3_hat, n) * pow(T4, u4_hat, n) % n\n",
    "\n",
    "# add values to tau\n",
    "tau = [T1_bar, T2_bar, T3_bar, T4_bar, Td_bar, K_bar]\n",
    "tau_hat = [T1_hat, T2_hat, T3_hat, T4_hat, Td_hat, K_hat]"
   ]
  },
  {
   "cell_type": "markdown",
   "metadata": {},
   "source": [
    "Compute \n",
    "$$\n",
    "\\hat{D} \\leftarrow H(\\hat{\\mathcal{T}},\\mathcal{C},n_1);\n",
    "$$\n",
    "If $D=\\hat{D}$ output VERIFIED else FAIL."
   ]
  },
  {
   "cell_type": "code",
   "execution_count": 32,
   "metadata": {},
   "outputs": [
    {
     "name": "stdout",
     "output_type": "stream",
     "text": [
      "RHS is the same as LHS: True\n"
     ]
    }
   ],
   "source": [
    "# build hash array\n",
    "C_m = [A, e, v, A_prime]\n",
    "C_t = [T1, T2, T3, T4, Td]\n",
    "tau1_m = [T, Q]\n",
    "tau1_p = [T1_bar, T2_bar, T3_bar, T4_bar, Td_bar, K_bar]\n",
    "tau2_m = [T_hat, Q_hat]\n",
    "tau2_p = [T1_hat, T2_hat, T3_hat, T4_hat, Td_hat, K_hat]\n",
    "\n",
    "C = [C_m, C_t]\n",
    "tau = [tau1_m, tau1_p]\n",
    "tau_hat = [tau2_m, tau2_p]\n",
    "\n",
    "# hashing\n",
    "attr = str([tau, C])\n",
    "c_hash = hashlib.sha256(str(attr).encode('utf-8')).hexdigest()\n",
    "c = int(c_hash, base=32)\n",
    "\n",
    "attr_hat = str([tau_hat, C])\n",
    "c_hash_hat = hashlib.sha256(str(attr_hat).encode('utf-8')).hexdigest()\n",
    "c_hat = int(c_hash_hat, base=32)\n",
    "\n",
    "print('RHS is the same as LHS:', (c_hat) == c)"
   ]
  },
  {
   "cell_type": "code",
   "execution_count": 33,
   "metadata": {},
   "outputs": [],
   "source": [
    "# Help for extra verification\n",
    "assert(T1_hat == T1_bar)\n",
    "assert(T2_hat == T2_bar)\n",
    "assert(T3_hat == T3_bar)\n",
    "assert(T4_hat == T4_bar)\n",
    "assert(Td_hat == Td_bar)\n",
    "assert(K_hat == K_bar)"
   ]
  },
  {
   "cell_type": "code",
   "execution_count": null,
   "metadata": {},
   "outputs": [],
   "source": [
    "# check Td_hat\n",
    "assert(-c*mp1 == -b*c*delta - c*delta_prim)\n",
    "assert(mp1_bar == -b*c*delta - c*delta_prim + mp1_hat)"
   ]
  },
  {
   "cell_type": "code",
   "execution_count": 34,
   "metadata": {},
   "outputs": [],
   "source": [
    "# Check equality\n",
    "assert([T, c] == [T_hat, c_hat])"
   ]
  },
  {
   "cell_type": "code",
   "execution_count": 35,
   "metadata": {},
   "outputs": [
    {
     "name": "stdout",
     "output_type": "stream",
     "text": [
      "The equality has been VERIFIED when this line is printed!\n"
     ]
    }
   ],
   "source": [
    "print('The equality has been VERIFIED when this line is printed!')"
   ]
  },
  {
   "cell_type": "code",
   "execution_count": null,
   "metadata": {},
   "outputs": [],
   "source": []
  }
 ],
 "metadata": {
  "kernelspec": {
   "display_name": "Python 3",
   "language": "python",
   "name": "python3"
  },
  "language_info": {
   "codemirror_mode": {
    "name": "ipython",
    "version": 3
   },
   "file_extension": ".py",
   "mimetype": "text/x-python",
   "name": "python",
   "nbconvert_exporter": "python",
   "pygments_lexer": "ipython3",
   "version": "3.9.6"
  },
  "orig_nbformat": 4,
  "vscode": {
   "interpreter": {
    "hash": "c65a76b623ff58757d879ffba0c64f863adb3d623b4a7ebf7852010e5ebe6c38"
   }
  }
 },
 "nbformat": 4,
 "nbformat_minor": 2
}
