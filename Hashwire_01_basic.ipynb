{
 "cells": [
  {
   "cell_type": "code",
   "execution_count": 1,
   "metadata": {},
   "outputs": [],
   "source": [
    "import secrets\n",
    "from hashlib import sha256\n",
    "\n",
    "import math\n",
    "import random\n",
    "import pandas as pd\n",
    "\n",
    "from datetime import datetime, date\n",
    "from zoneinfo import ZoneInfo\n",
    "\n",
    "__ENCODING__ = 'ascii'"
   ]
  },
  {
   "attachments": {},
   "cell_type": "markdown",
   "metadata": {},
   "source": [
    "## Cryptographic hash function\n",
    "A cryptographic hash function is designed to be a one-way function, which means that it is easy to compute the hash value of an input message, but it is computationally infeasible to determine the original message from the hash value.\n",
    "\n",
    "### Hard part\n",
    "Given hash below determin the original message for:\n",
    "```\n",
    "af976e491ca0f11b64ac6719ed814eb36650a0e55fc04760b4e8802e339964b7\n",
    "```\n",
    "\n",
    "For a cryptographic hash function this is HARD!\n",
    "\n",
    "### Easy part\n",
    "Compute hash value for:\n",
    "```\n",
    "Non-magic people, more commonly known as Muggles!\n",
    "```\n",
    "\n",
    "For a given string it's easy to compute the hash."
   ]
  },
  {
   "cell_type": "code",
   "execution_count": 2,
   "metadata": {},
   "outputs": [
    {
     "name": "stdout",
     "output_type": "stream",
     "text": [
      "af976e491ca0f11b64ac6719ed814eb36650a0e55fc04760b4e8802e339964b7\n"
     ]
    }
   ],
   "source": [
    "message = \"Non-magic people, more commonly known as Muggles!\"\n",
    "mu1 = sha256(message.encode(__ENCODING__)).hexdigest()\n",
    "print(mu1)"
   ]
  },
  {
   "attachments": {},
   "cell_type": "markdown",
   "metadata": {},
   "source": [
    "## SHA256\n",
    "The SHA functions have the following characteristics:\n",
    "\n",
    "1. Variable input length and fixed output length: SHA (Secure Hash Algorithm) functions can accept messages of any size and produce a fixed-length output, which is typically 160, 256, 384, or 512 bits in length, depending on the specific version of SHA being used.\n",
    "2. One-way function: The one-way property of SHA means that it is easy to compute the hash value of a message, but it is computationally infeasible to reconstruct the original message from the hash value. This property is also referred to as the pre-image resistance.\n",
    "3. Deterministic: For a given input, the output of a SHA function is always the same. This is important for verification purposes, as it allows different parties to independently compute and compare the hash values of a message to ensure that they are identical.\n",
    "4. Collision resistance: It is computationally infeasible to find two different input messages that produce the same output hash value. This is important for security purposes, as a hash function with a collision vulnerability could be exploited by an attacker to create a fraudulent message that has the same hash value as a legitimate message.\n",
    "5. Avalanche effect: Even a small change in the input message results in a significant change in the output hash value. This property ensures that any modification to the message will produce a completely different hash value, which in turn makes it difficult for an attacker to modify the message without being detected."
   ]
  },
  {
   "cell_type": "code",
   "execution_count": 3,
   "metadata": {},
   "outputs": [
    {
     "name": "stdout",
     "output_type": "stream",
     "text": [
      "af976e491ca0f11b64ac6719ed814eb36650a0e55fc04760b4e8802e339964b7\n",
      "86a979d45274c9c3b0ff7615eb1de0dbe5ef2a890c430a1bd7421f094a59fc84\n"
     ]
    }
   ],
   "source": [
    "# Remove comma ',' after 'people' and diff hashes\n",
    "message = \"Non-magic people more commonly known as Muggles!\"\n",
    "mu2 = sha256(message.encode(__ENCODING__)).hexdigest()\n",
    "print(mu1)\n",
    "print(mu2)"
   ]
  },
  {
   "attachments": {},
   "cell_type": "markdown",
   "metadata": {},
   "source": [
    "### Preimage attack\n",
    "\n",
    "A preimage attack on a cryptographic hash function involves finding a message that hashes to a given hash value. In other words, given a hash output, the attacker tries to find a message that produces that hash output when fed into the hash function.\n",
    "A successful SHA preimage attack would allow an attacker to create a fake message with the same hash value as the original message, which could be used to perform various malicious activities.\n",
    "However, it's important to note that SHA256 are believed to be resistant to preimage attacks, otherwise it would be a significant problem for cryptographic security.\n"
   ]
  },
  {
   "attachments": {},
   "cell_type": "markdown",
   "metadata": {},
   "source": [
    "## Hash chain\n",
    "A cryptographic hash function takes an input message of arbitrary size and produces a fixed-size output, known as the hash value or digest.\n",
    "A hash chain is then a sequence of hash values, where each value is computed by applying a cryptographic hash function to the previous value in the chain.\n",
    "\n",
    "It is designed in such a way that it is easy to compute the hash value for any given input, but it is computationally infeasible to find two different inputs that produce the same hash value, or to recover the input message from the hash value.\n",
    "\n",
    "```\n",
    ".------.      .------.      .------.      .------.      .------.      .----------.      .--------.       \n",
    "|      |      |      |      |      |      |      |      |      |      |          |      |        |       \n",
    "| H(s) |  -̶>̶  |H1(d0)|  -̶>̶  |H2(d1)|  -̶>̶  |H3(d2)|  -̶>̶  | .... |  -̶>̶  |Hk-1(dk-2)|  -̶>̶  |Hk(dk-1)|  \n",
    "|      |      |      |      |      |      |      |      |      |      |          |      |        |      \n",
    "`------'      `------'      `------'      `------'      `------'      `----------'      `--------'      \n",
    "\n",
    "/-------------------------------------------------------------------------------------------> EASY\n",
    "HARD <-------------------------------------------------------------------------------------------/\n",
    "\n",
    "The key property of a hash chain is that it is EASY to compute the next value in the chain, given the previous value, but it is computationally infeasible (HARD) to compute the previous value given the current value. \n",
    "```\n",
    "\n",
    "The chain starts by applying the hash function ($H$) to the seed value ($s$), resulting in the digest value ($d0$). This digest value ($d0$) is then used as input for the hash function again, producing the next digest value ($d1$). This process is repeated for each subsequent value in the chain."
   ]
  },
  {
   "cell_type": "code",
   "execution_count": 4,
   "metadata": {},
   "outputs": [
    {
     "data": {
      "text/plain": [
       "'d9e0ec3398af19ee8bb47c097cc824fc402638bf1e17a2aac2d78dc39efdb722'"
      ]
     },
     "execution_count": 4,
     "metadata": {},
     "output_type": "execute_result"
    }
   ],
   "source": [
    "# helper to get seed\n",
    "def getSeed():\n",
    "    return secrets.token_hex()\n",
    "\n",
    "getSeed()"
   ]
  },
  {
   "attachments": {},
   "cell_type": "markdown",
   "metadata": {},
   "source": [
    "### Implement Hash Chain"
   ]
  },
  {
   "cell_type": "code",
   "execution_count": 5,
   "metadata": {},
   "outputs": [],
   "source": [
    "def createHashChain(n, digest):\n",
    "    # start chain\n",
    "    commitment = digest\n",
    "    hash_chain = []\n",
    "    # update chain\n",
    "    for i in range(n):\n",
    "        commitment = sha256(commitment.encode(__ENCODING__)).hexdigest()\n",
    "        hash_chain.append(commitment)\n",
    "\n",
    "    return hash_chain\n",
    "\n",
    "\n",
    "def getHashChain(n, seed = None):\n",
    "    if seed is None:\n",
    "        seed = getSeed()\n",
    "\n",
    "    # create hash chain\n",
    "    hash_chain = createHashChain(n, seed)\n",
    "\n",
    "    # chain in reversed order\n",
    "    hash_chain.reverse()\n",
    "\n",
    "    return hash_chain, seed"
   ]
  },
  {
   "attachments": {},
   "cell_type": "markdown",
   "metadata": {},
   "source": [
    "The chain is created as:"
   ]
  },
  {
   "cell_type": "code",
   "execution_count": 6,
   "metadata": {},
   "outputs": [
    {
     "data": {
      "text/plain": [
       "['b69e7c47d72f7b824e1aa54416143631605bde4fcb8d4a54ac698f4b813f79bf',\n",
       " '304059391f9450f8b33af416f17beae0e7b91bdd729179c772ff5496c48c6425',\n",
       " 'bf3da4ee90bfd5a5ef85bd8a5c7f02625308be4a25362b989d481e5a928070dc',\n",
       " '911a7e48c69ad810105257df690c2c9c5698ad5a9fdec4d70cbf23df88b06a6c',\n",
       " 'd7c0bb4fdf4697b8ab47a6f9bc3fc356146a969f3e4e214a419212cfb3b5dc3a']"
      ]
     },
     "execution_count": 6,
     "metadata": {},
     "output_type": "execute_result"
    }
   ],
   "source": [
    "n = 5\n",
    "createHashChain(n, getSeed())"
   ]
  },
  {
   "attachments": {},
   "cell_type": "markdown",
   "metadata": {},
   "source": [
    "Final hash chain is reversed to get the properties that $H_0(seed)$ can be revealed. It will therefore be easy to calculate $H_{-1}$ but hard to find out $H_1$."
   ]
  },
  {
   "cell_type": "code",
   "execution_count": 7,
   "metadata": {},
   "outputs": [
    {
     "data": {
      "text/plain": [
       "['5441f357cec52f230fcfd161713894e80cb144fa6bd04944b5bc60e155892a6d',\n",
       " 'd600e607b650eccfde90f285518cdf10fa6584286a2cb418310503c336da2c0a',\n",
       " 'd2db0966db1aa1882749d3e43f8be9751e4a58bbcc9e4765709ec2bc126aba8c',\n",
       " 'e107119b9234558dc62a33156a110dc2294b6d409e0025cba96c97016f99ec62',\n",
       " 'd9c3bb16d3c050d897bb0e55936c49bf14b0967e61af73696ff8c80d0270e8ca']"
      ]
     },
     "execution_count": 7,
     "metadata": {},
     "output_type": "execute_result"
    }
   ],
   "source": [
    "hash_chain, seed = getHashChain(n)\n",
    "hash_chain"
   ]
  },
  {
   "attachments": {},
   "cell_type": "markdown",
   "metadata": {},
   "source": [
    "Show the properties of the chain, that given a hash the previous hash can easily be revealed.\n",
    "Theirfor if $H_2$ is revealed $H_1$ can easily be computed."
   ]
  },
  {
   "cell_type": "code",
   "execution_count": 8,
   "metadata": {},
   "outputs": [
    {
     "name": "stdout",
     "output_type": "stream",
     "text": [
      "d2db0966db1aa1882749d3e43f8be9751e4a58bbcc9e4765709ec2bc126aba8c\n",
      "d600e607b650eccfde90f285518cdf10fa6584286a2cb418310503c336da2c0a\n",
      "True\n"
     ]
    }
   ],
   "source": [
    "hash_two = hash_chain[2]\n",
    "print(hash_two)\n",
    "# easy to hash input\n",
    "hash_previous = sha256(hash_two.encode(__ENCODING__)).hexdigest()\n",
    "# result hash\n",
    "print(hash_previous)\n",
    "# The property of hash chain determine that the hash is equal the previous hash in chain\n",
    "hash_one = hash_chain[1]\n",
    "print(hash_previous == hash_one)\n"
   ]
  },
  {
   "attachments": {},
   "cell_type": "markdown",
   "metadata": {},
   "source": [
    "### Reproduce a hash chain\n",
    "\n",
    "If you want to reproduce a hash chain, you need to know the starting value (also known as the seed value) and the hash function used to generate the chain. Once you have the starting value, you can compute the first hash value in the chain by applying the hash function to the starting value. Then, you can compute the second hash value by applying the hash function to the first hash value, and so on, until you have generated as many hash values as you need.\n",
    "\n",
    "The hash function used to generate the chain should be a cryptographically secure hash function that is resistant to preimage attacks, meaning that it is computationally infeasible to find an input message that produces a given hash value, for example SHA-256.\n",
    "\n",
    "It's important to note that if the seed value or the hash function used to generate the chain is compromised or weakened, the security of the hash chain may be compromised as well. Therefore, it's crucial to choose a strong seed value and a secure hash function, and to protect them from unauthorized access or tampering."
   ]
  },
  {
   "attachments": {},
   "cell_type": "markdown",
   "metadata": {},
   "source": [
    "### How inequality-test work\n",
    "#### GEQ\n",
    "This illustrstion will demonstrate a hash chain as a rope instead.\n",
    "Were lenght of Proof rope is the value to prove.\n",
    "\n",
    "```\n",
    "Proof:      |<--    FALSE   -->|<--  TRUE  -->\n",
    "Proof Rope: -------------------|\n",
    "```\n",
    "\n",
    "Perform GEQ:\n",
    "```\n",
    "Proof Rope: -------------------|\n",
    "Short Rope: ---------------    |        >> FALSE\n",
    "Long Rope:  -------------------|-----   >> TRUE\n",
    "```\n",
    "\n",
    "The Short rope is not long enough but Long Rope is!\n",
    "\n",
    "The Long Rope is therefore greater than the Proof Rope.\n",
    "\n",
    "#### LEQ\n",
    "With the same example but now we create a Base Rope:\n",
    "```\n",
    "Base Rope:  ------------------------------\n",
    "```\n",
    "\n",
    "Add padding after the lines to the length of Base Rope.\n",
    "```\n",
    "Base Rope:  ------------------------------\n",
    "Proof Rope: -------------------ooooooooooo\n",
    "Short Rope: ---------------ooooooooooooooo   \n",
    "Long Rope:  ------------------------oooooo\n",
    "```\n",
    "Convert the leq-test to geq-test.\n",
    "```\n",
    "Proof Rope: ooooooooooo|\n",
    "Short Rope: ooooooooooo|oooo   >> TRUE  \n",
    "Long Rope:  oooooo     |       >> FALSE\n",
    "```\n",
    "The short Rope is greater than the Proof Rope!"
   ]
  },
  {
   "attachments": {},
   "cell_type": "markdown",
   "metadata": {},
   "source": [
    "### GEQ-test \n",
    "The inequality test with hash chain can be used because of the properties how a hash chain is reproduced.\n",
    "\n",
    "To perform an inequality test on a hash chain, you would take two consecutive hash values from the chain, such as $H_i$ and $H_{i+1}$, and then try to find a value X such that $H_i$ = $H(X)$ using the hash function used to generate the chain. If the hash function is secure, it should be computationally infeasible to find such a value X, because the hash function is designed to be one-way."
   ]
  },
  {
   "cell_type": "code",
   "execution_count": 9,
   "metadata": {},
   "outputs": [],
   "source": [
    "# number to prove geq\n",
    "# hash_zero public hash\n",
    "# proof_digest_n hash used to prove it's larger than n\n",
    "def geqHashProof(n, hash_zero, proof_digest_n):\n",
    "    # sanity check\n",
    "    if (len(proof_digest_n) != 64) or \\\n",
    "        (not isinstance(n, int)) or \\\n",
    "        (n < 0) or \\\n",
    "        (not isinstance(hash_zero, str)) or \\\n",
    "        (not isinstance(proof_digest_n, str)):\n",
    "        return False\n",
    "\n",
    "    # is it a start proof\n",
    "    if n == 0 and proof_digest_n == hash_zero:\n",
    "        return True\n",
    "    else:\n",
    "        # can hash zero be reproduced for a given range\n",
    "        # were last value should be equal hash_zero \n",
    "        proof_chain_digest = createHashChain(n, proof_digest_n)[-1]\n",
    "        return (proof_chain_digest == hash_zero)"
   ]
  },
  {
   "attachments": {},
   "cell_type": "markdown",
   "metadata": {},
   "source": [
    "Test how it's used"
   ]
  },
  {
   "cell_type": "code",
   "execution_count": 10,
   "metadata": {},
   "outputs": [
    {
     "name": "stdout",
     "output_type": "stream",
     "text": [
      "True\n",
      "True\n"
     ]
    }
   ],
   "source": [
    "# user properties\n",
    "age = 23\n",
    "hash_chain = getHashChain(age)[0]\n",
    "hash_zero = hash_chain[0]\n",
    "\n",
    "# geq test\n",
    "geq = 18\n",
    "proof_digest_age = hash_chain[geq]\n",
    "isGEQ = geqHashProof(geq, hash_zero, proof_digest_age)\n",
    "\n",
    "print(age > geq)\n",
    "print(isGEQ)"
   ]
  },
  {
   "cell_type": "code",
   "execution_count": 11,
   "metadata": {},
   "outputs": [
    {
     "name": "stdout",
     "output_type": "stream",
     "text": [
      "45.3 µs ± 4.94 µs per loop (mean ± std. dev. of 7 runs, 10000 loops each)\n"
     ]
    }
   ],
   "source": [
    "%%timeit\n",
    "geqHashProof(geq, hash_zero, proof_digest_age)"
   ]
  },
  {
   "attachments": {},
   "cell_type": "markdown",
   "metadata": {},
   "source": [
    "#### Homework\n",
    "For equality the length of chain need to be of modified, test!"
   ]
  },
  {
   "attachments": {},
   "cell_type": "markdown",
   "metadata": {},
   "source": [
    "### LEQ-test \n",
    "This inequality test is reversed, so instead the properties of an GEQ-test is used:\n",
    "\n",
    "- N is much larger than threshold $t$ and the target value $x$\n",
    "- If $t ≥ x$, then $N-t ≤ N-x$\n",
    "- Make a hash chain for $N-x$\n"
   ]
  },
  {
   "cell_type": "code",
   "execution_count": 12,
   "metadata": {},
   "outputs": [
    {
     "name": "stdout",
     "output_type": "stream",
     "text": [
      "True\n",
      "True\n",
      "True\n"
     ]
    }
   ],
   "source": [
    "# properties\n",
    "N = 100\n",
    "age = 10\n",
    "leq = 18\n",
    "\n",
    "# diff\n",
    "ageDiff = N - age\n",
    "leqDiff = N - leq\n",
    "\n",
    "# if age < leq then ageDiff > leqDiff\n",
    "print(age <= leq)\n",
    "print(ageDiff >= leqDiff)\n",
    "\n",
    "# create\n",
    "hash_chain = getHashChain(ageDiff + 1)[0]\n",
    "hash_zero = hash_chain[0]\n",
    "\n",
    "# hash digest user send to verifier\n",
    "proof_digest_leq = hash_chain[leqDiff]\n",
    "# leq is turned to a geq\n",
    "isGEQ = geqHashProof(leqDiff, hash_zero, proof_digest_leq)\n",
    "print(isGEQ)"
   ]
  },
  {
   "attachments": {},
   "cell_type": "markdown",
   "metadata": {},
   "source": [
    "### The Minimum Dominating Partition\n",
    "\n",
    "A number $x$ dominates another number $y$ if each digit $x_i\\geq y_i$. For instance, using base 10, 2345 dominates 1234. But 5011 does not dominate 4999. \n",
    "Let $MDP_b(x)$ denote the base-b minimum dominating partion of $x$ such that $x$ is split into parts that dominate other numbers. Examples:\n",
    "\n",
    "* $MDP_{10}(84)=\\{84,79\\}$\n",
    "* $MDP_{10}(113)=\\{113,109,99\\}$\n",
    "* $MDP_{10}(999)=\\{999\\}$\n",
    "* $MDP_{10}(1000)=\\{1000,999\\}$\n",
    "* $MDP_{10}(3413)=\\{3413,3409,3399,2999\\}$\n",
    "\n",
    "Then, based on the requested number to prove, Alice would pick one of these commitments: the one that has a long enough hash multichain to encode the number in question. If you understood the logic of hash multichain splitting, then you can easily realize that the commitment to:\n",
    "\n",
    "From this logic, any number that can be proved is:\n",
    "\n",
    "* 2999 can prove any number up to 2999\n",
    "* 3399 can prove any number from 3000 to 3399\n",
    "* 3409 can prove any number from 3400 to 3409\n",
    "* 3413 can prove any number from 3410 to 3413\n",
    "\n",
    "The number of 3399 could be used to prove the number 2500 as well, because its hashchains are long enough for the requirements of 2500 but we always pick the closest MDP."
   ]
  },
  {
   "cell_type": "code",
   "execution_count": 13,
   "metadata": {},
   "outputs": [],
   "source": [
    "def MDP(x):\n",
    "    # lenX = len(str(x))\n",
    "    lenX = math.ceil(math.log10(x+1))\n",
    "\n",
    "    # init\n",
    "    mdpVector = [x]\n",
    "\n",
    "    # we can be lucky\n",
    "    xp = (x+1) % (10 ** (lenX-1))\n",
    "    if not xp:\n",
    "        # return vector if it's zero\n",
    "        return mdpVector\n",
    "\n",
    "    # save minimum value\n",
    "    minx = (x - xp)\n",
    "\n",
    "    for i in range(1, lenX-1):\n",
    "        xp = (x+1) % (10 ** i)\n",
    "        diff = x - xp\n",
    "        if diff not in mdpVector:\n",
    "            if diff != minx:\n",
    "                mdpVector.append(diff)\n",
    "            else:\n",
    "                break\n",
    "\n",
    "    # add minimum value to the end\n",
    "    mdpVector.append(minx)\n",
    "    return mdpVector"
   ]
  },
  {
   "cell_type": "code",
   "execution_count": 14,
   "metadata": {},
   "outputs": [
    {
     "name": "stdout",
     "output_type": "stream",
     "text": [
      "[84, 79]\n",
      "[113, 109, 99]\n",
      "[1000, 999]\n",
      "[3413, 3409, 3399, 2999]\n",
      "[3999]\n",
      "[11001, 10999, 9999]\n"
     ]
    }
   ],
   "source": [
    "print(MDP(84))\n",
    "print(MDP(113))\n",
    "print(MDP(1000))\n",
    "print(MDP(3413))\n",
    "print(MDP(3999))\n",
    "print(MDP(11001))"
   ]
  },
  {
   "cell_type": "code",
   "execution_count": 15,
   "metadata": {},
   "outputs": [
    {
     "name": "stdout",
     "output_type": "stream",
     "text": [
      "3.01 µs ± 652 ns per loop (mean ± std. dev. of 7 runs, 100000 loops each)\n"
     ]
    }
   ],
   "source": [
    "%%timeit\n",
    "MDP(6575)"
   ]
  },
  {
   "attachments": {},
   "cell_type": "markdown",
   "metadata": {},
   "source": [
    "### Hash multichains\n",
    "\n",
    "Hash multichains is an hash chain per digit position.\n",
    "\n",
    "For example, an 8 digit number will require 8 hash chains."
   ]
  },
  {
   "cell_type": "code",
   "execution_count": 16,
   "metadata": {},
   "outputs": [],
   "source": [
    "def getMultiHashChain(value):\n",
    "    # properties\n",
    "    lenN = math.ceil(math.log10(value+1))\n",
    "\n",
    "    seed = []\n",
    "    multi_hash_chain = {}\n",
    "    for i in range(lenN):\n",
    "        seed.append(getSeed())\n",
    "        multi_hash_chain[i] = getHashChain(10, seed[i])[0]\n",
    "\n",
    "    return multi_hash_chain, seed"
   ]
  },
  {
   "attachments": {},
   "cell_type": "markdown",
   "metadata": {},
   "source": [
    "Create hash multichain with three digits"
   ]
  },
  {
   "cell_type": "code",
   "execution_count": 17,
   "metadata": {},
   "outputs": [
    {
     "data": {
      "text/plain": [
       "{0: ['0fde56cd5fec8d10ffcb0d9e490a960ad3621ae447c9197fd8a8d974fcadf05d',\n",
       "  '3b957bf8913f408497f83a7171f3cecef1882422c6db9ca2453c733301c284c2',\n",
       "  '5574c4b7c96ad7b97325e336285e81c79db99e6a14a9a4491b2398096feba26f',\n",
       "  '9c8ce22956814bf51c25493dac4c0783f42555a06805d41d91753da44f708523',\n",
       "  '43e474446d728a3f666830bd104a00bef53016de0c0aa94c6fd68a2a75b83d90',\n",
       "  '6e5fadaa0695cc58692f4d4b07a4a6451950daa25767ca55c1b52f88f9128faf',\n",
       "  '8a642af27d224644a0c8e1e28b588614eec10aefbcf4b7358175fd2ccae9ee67',\n",
       "  'e9aa00cafd70689312b40440c25e54c4fd5f299bd319d75639813c59db208507',\n",
       "  '71c8564e6d9b516bd01f429ed0d6f7c114565467636d343a0494cc4e2cc968ca',\n",
       "  'dcdb263fa1a540f8d2d5df2def18b2be23253cda263ca4aa81c728af9fe7e468'],\n",
       " 1: ['88cf77d6d1734da8418c0b976dc474550722088c96ff1bfba7750986a63e172e',\n",
       "  '1f1d88618b350b68c065b44bf11d713d2a98def927ca4593d8285f74f263ae9c',\n",
       "  '31237053097df78e482aa1983699eeb2d241bd463ae3c707f28357ccbb6b8ba2',\n",
       "  '91a6eab12a3587dce381a04fa67a683f6599628325381f23266097ee5a676fdd',\n",
       "  'cf018a50f9fd37e225cde5f1a332195ef5bf338dd4faa4fabf88e7d0f47a41a6',\n",
       "  'a888c956096ff6f1df783c7f4b87e555921e223b542d99024445bc8024f022d2',\n",
       "  '101fa1f25037f7cd559790581ca6a439d716ab54dc9ac0e770f937caaedb290f',\n",
       "  '5e2358030ebbe926e8ed4341595975e26f3b979e2fe1b251578353d36c4e496a',\n",
       "  'ed505cd402559bab5e98ec806cc892d72199ff140cc42ee84d12b903cbd2571c',\n",
       "  '0703707214943d07e504131ade83ffafd0ca34d0fe6703c1d01bb9e6818063d6'],\n",
       " 2: ['701f586e24acea1b085a917ad2806732a99216ee91248e99390c93a3bc8dd2e8',\n",
       "  'ca3df282673f9bffc11af0285b07c9691a17c66e281dddbb3bed109de223dc6e',\n",
       "  '8963d0a5df7e715cc646d298e643296a861b0271a233d751af8fc1c20939158d',\n",
       "  '91c1e120c6b2920415a62bae6157bf56680059580f550b54423e4012fcacf514',\n",
       "  'fe4ba5f8fa8967df8921a7858397d7b2ec14ebfd5c500d63ecbbae6f4591ad50',\n",
       "  '4d18be1d9fa452de30fdff69ba0fd4f28fc913df0151c54081d98b9dd3b6a1cb',\n",
       "  '488a383d35eb5cbf220e02ec01f877d44640816675ca895aaa7ee7f51821fd70',\n",
       "  'da047c4328658f6f0a4842196691646319e8b37156d57c5ddc194c37557bc26e',\n",
       "  '3163f6d009bf72e5bfb8bc4cf1be139611b1f841ef1707235e8917d7d07ac8cd',\n",
       "  '0a6b0a8fd64bae3ea8abbcd2a45d8145cc3eb087b326acb6b22406e79acb7f95']}"
      ]
     },
     "execution_count": 17,
     "metadata": {},
     "output_type": "execute_result"
    }
   ],
   "source": [
    "mdpValue = 115\n",
    "multi_hash_chain = getMultiHashChain(mdpValue)[0]\n",
    "multi_hash_chain"
   ]
  },
  {
   "attachments": {},
   "cell_type": "markdown",
   "metadata": {},
   "source": [
    "### HashWires\n",
    "\n",
    "HashWires rely on hash multichains. In hashwire a digit represent a value from the position in the hash multichain. The hash multichain has a hash chain per digitposition, each of length 10. For example, an 8 digit number will require a hash multichain with 8 hash chains when transforming digit number with hashwire.\n",
    "\n",
    "If the same digit appears in the same position across multiple partitions, only one commitment to that digit needs to be generated and can be reused.\n",
    "\n",
    "For example, an 8 digit number will never require more than 80 SHA26 operations!\n",
    "\n",
    "HashWires are theirfor extremely efficent! "
   ]
  },
  {
   "cell_type": "code",
   "execution_count": 18,
   "metadata": {},
   "outputs": [],
   "source": [
    "def hashWireCommitmentGenerator(mdp_value, multi_hash_chain):\n",
    "    strValue = str(mdp_value)\n",
    "    lenV = len(strValue)\n",
    "    maxN = len(multi_hash_chain)\n",
    "    diff = maxN - lenV\n",
    "\n",
    "    commitmentVector = []\n",
    "    for i in range(lenV):\n",
    "        digit = int(strValue[i])\n",
    "        commitmentVector.append(multi_hash_chain[i + diff][digit])\n",
    "    return commitmentVector\n",
    "\n",
    "\n",
    "def getHashWireCommitments(mdp_vector, multi_hash_chain):\n",
    "    return {value: hashWireCommitmentGenerator(value, multi_hash_chain) for value in mdp_vector}\n"
   ]
  },
  {
   "attachments": {},
   "cell_type": "markdown",
   "metadata": {},
   "source": [
    "Hash wire gives the digitwise commitments:"
   ]
  },
  {
   "cell_type": "code",
   "execution_count": 19,
   "metadata": {},
   "outputs": [
    {
     "data": {
      "text/plain": [
       "{113: ['c73769ed8e77a3f8a07f916c946fdeebcc5bf41b4d198a457d118cbc268d0c65',\n",
       "  '118c526c2d58f0d3f51c53943ab30e4154d65f74d253eb535fd83c140568eea5',\n",
       "  '058cd98b8d0cd17672fa6fcf1260a863615b98c011c73177e3f8e5e77572fed8'],\n",
       " 109: ['c73769ed8e77a3f8a07f916c946fdeebcc5bf41b4d198a457d118cbc268d0c65',\n",
       "  'e0a21db2ab4d7e4c564af114bef5f8e17231a4104d924db00bba60778cbcec83',\n",
       "  '892045155c56d79ecf301a6574979982034b8f8763a2d9941e6252a30b53a666'],\n",
       " 99: ['395ad403e29ac4bf661a20134c17c8b93e7070310cc70b6cf2e87e9077c07a0c',\n",
       "  '892045155c56d79ecf301a6574979982034b8f8763a2d9941e6252a30b53a666']}"
      ]
     },
     "execution_count": 19,
     "metadata": {},
     "output_type": "execute_result"
    }
   ],
   "source": [
    "val=113\n",
    "mdpVector = MDP(val)\n",
    "multi_hash_chain = getMultiHashChain(val)[0]\n",
    "hash_wire_claim = getHashWireCommitments(mdpVector, multi_hash_chain)\n",
    "hash_wire_claim"
   ]
  },
  {
   "cell_type": "code",
   "execution_count": 20,
   "metadata": {},
   "outputs": [
    {
     "data": {
      "text/html": [
       "<div>\n",
       "<style scoped>\n",
       "    .dataframe tbody tr th:only-of-type {\n",
       "        vertical-align: middle;\n",
       "    }\n",
       "\n",
       "    .dataframe tbody tr th {\n",
       "        vertical-align: top;\n",
       "    }\n",
       "\n",
       "    .dataframe thead th {\n",
       "        text-align: right;\n",
       "    }\n",
       "</style>\n",
       "<table border=\"1\" class=\"dataframe\">\n",
       "  <thead>\n",
       "    <tr style=\"text-align: right;\">\n",
       "      <th></th>\n",
       "      <th>0</th>\n",
       "      <th>1</th>\n",
       "      <th>2</th>\n",
       "    </tr>\n",
       "  </thead>\n",
       "  <tbody>\n",
       "    <tr>\n",
       "      <th>0</th>\n",
       "      <td>3cdc181d029eca19deeb698a337db5efefa5db16578691...</td>\n",
       "      <td>e0a21db2ab4d7e4c564af114bef5f8e17231a4104d924d...</td>\n",
       "      <td>af2cde9a3ede65ff8cfe83b8d4e348cca7e6458e13e9d7...</td>\n",
       "    </tr>\n",
       "    <tr>\n",
       "      <th>1</th>\n",
       "      <td>c73769ed8e77a3f8a07f916c946fdeebcc5bf41b4d198a...</td>\n",
       "      <td>118c526c2d58f0d3f51c53943ab30e4154d65f74d253eb...</td>\n",
       "      <td>bdd8fb304fdf3cd39098eb862bed79f2130f0c2f3dd56f...</td>\n",
       "    </tr>\n",
       "    <tr>\n",
       "      <th>2</th>\n",
       "      <td>cc4c3740d7ded16afc2a6e98a363e529437fcef038c1a6...</td>\n",
       "      <td>e2b610d21f2178ce6b0e1f6aac83f0c938b56bc43e730e...</td>\n",
       "      <td>6fda9702ccba74a7bc87abed587a85a66e61126416f8f2...</td>\n",
       "    </tr>\n",
       "    <tr>\n",
       "      <th>3</th>\n",
       "      <td>520349ba8cfd2f00021c1b9bbf95b0a71916601b6e572a...</td>\n",
       "      <td>1f845c972c8fbe90878646f8ba393c01e4251ccbc3d513...</td>\n",
       "      <td>058cd98b8d0cd17672fa6fcf1260a863615b98c011c731...</td>\n",
       "    </tr>\n",
       "    <tr>\n",
       "      <th>4</th>\n",
       "      <td>ebc3acd790aca1c9403c55239fda47cf3ae1a663b5b1fa...</td>\n",
       "      <td>9f774b5881be5a78e8788f56a7f62842c6864c2a2d7485...</td>\n",
       "      <td>8edd2df603ae359bb1b47789c6f195377652b6db11b0ea...</td>\n",
       "    </tr>\n",
       "    <tr>\n",
       "      <th>5</th>\n",
       "      <td>2c89f4207ff2c6107e4316a8bd2fb458d6a41c274000bc...</td>\n",
       "      <td>93b163646a01a8d04b6f43fdc5b7e1aef00cedd7608db0...</td>\n",
       "      <td>b863ed4dfd3a31d0fbe99813d62a500f72b4dc5e5887aa...</td>\n",
       "    </tr>\n",
       "    <tr>\n",
       "      <th>6</th>\n",
       "      <td>25255628cb7b356c4f486324d5efbacd45cf23f10c7966...</td>\n",
       "      <td>578faf432727104c5b3c9dc79ed251facd8a0fdc2312b6...</td>\n",
       "      <td>b10ee6517f0b9f9c43ec9d7b360d6f4a49397816fcf330...</td>\n",
       "    </tr>\n",
       "    <tr>\n",
       "      <th>7</th>\n",
       "      <td>35a7ac0307fda92f0e3f5bf2f8c897cd5ac198e3917ede...</td>\n",
       "      <td>32e00a51173053c9e4e8bb89ecaaae0be99c8fe22d4a8a...</td>\n",
       "      <td>afde4c1bd9b2ba8ce41ae842e74c67576e1d9772469077...</td>\n",
       "    </tr>\n",
       "    <tr>\n",
       "      <th>8</th>\n",
       "      <td>d81dd8c233a29c14ee0659368161656740d8a519b3c0bd...</td>\n",
       "      <td>1828c6bd6fc4f676910e24c04fcc0c9e1304c733ae19fc...</td>\n",
       "      <td>e3c632ac6b772841cb594e08a8a2a6638be179a42e5c5e...</td>\n",
       "    </tr>\n",
       "    <tr>\n",
       "      <th>9</th>\n",
       "      <td>5af62260dc6bf653c67059a7d3243a4ac3db66584cf10b...</td>\n",
       "      <td>395ad403e29ac4bf661a20134c17c8b93e7070310cc70b...</td>\n",
       "      <td>892045155c56d79ecf301a6574979982034b8f8763a2d9...</td>\n",
       "    </tr>\n",
       "  </tbody>\n",
       "</table>\n",
       "</div>"
      ],
      "text/plain": [
       "                                                   0  \\\n",
       "0  3cdc181d029eca19deeb698a337db5efefa5db16578691...   \n",
       "1  c73769ed8e77a3f8a07f916c946fdeebcc5bf41b4d198a...   \n",
       "2  cc4c3740d7ded16afc2a6e98a363e529437fcef038c1a6...   \n",
       "3  520349ba8cfd2f00021c1b9bbf95b0a71916601b6e572a...   \n",
       "4  ebc3acd790aca1c9403c55239fda47cf3ae1a663b5b1fa...   \n",
       "5  2c89f4207ff2c6107e4316a8bd2fb458d6a41c274000bc...   \n",
       "6  25255628cb7b356c4f486324d5efbacd45cf23f10c7966...   \n",
       "7  35a7ac0307fda92f0e3f5bf2f8c897cd5ac198e3917ede...   \n",
       "8  d81dd8c233a29c14ee0659368161656740d8a519b3c0bd...   \n",
       "9  5af62260dc6bf653c67059a7d3243a4ac3db66584cf10b...   \n",
       "\n",
       "                                                   1  \\\n",
       "0  e0a21db2ab4d7e4c564af114bef5f8e17231a4104d924d...   \n",
       "1  118c526c2d58f0d3f51c53943ab30e4154d65f74d253eb...   \n",
       "2  e2b610d21f2178ce6b0e1f6aac83f0c938b56bc43e730e...   \n",
       "3  1f845c972c8fbe90878646f8ba393c01e4251ccbc3d513...   \n",
       "4  9f774b5881be5a78e8788f56a7f62842c6864c2a2d7485...   \n",
       "5  93b163646a01a8d04b6f43fdc5b7e1aef00cedd7608db0...   \n",
       "6  578faf432727104c5b3c9dc79ed251facd8a0fdc2312b6...   \n",
       "7  32e00a51173053c9e4e8bb89ecaaae0be99c8fe22d4a8a...   \n",
       "8  1828c6bd6fc4f676910e24c04fcc0c9e1304c733ae19fc...   \n",
       "9  395ad403e29ac4bf661a20134c17c8b93e7070310cc70b...   \n",
       "\n",
       "                                                   2  \n",
       "0  af2cde9a3ede65ff8cfe83b8d4e348cca7e6458e13e9d7...  \n",
       "1  bdd8fb304fdf3cd39098eb862bed79f2130f0c2f3dd56f...  \n",
       "2  6fda9702ccba74a7bc87abed587a85a66e61126416f8f2...  \n",
       "3  058cd98b8d0cd17672fa6fcf1260a863615b98c011c731...  \n",
       "4  8edd2df603ae359bb1b47789c6f195377652b6db11b0ea...  \n",
       "5  b863ed4dfd3a31d0fbe99813d62a500f72b4dc5e5887aa...  \n",
       "6  b10ee6517f0b9f9c43ec9d7b360d6f4a49397816fcf330...  \n",
       "7  afde4c1bd9b2ba8ce41ae842e74c67576e1d9772469077...  \n",
       "8  e3c632ac6b772841cb594e08a8a2a6638be179a42e5c5e...  \n",
       "9  892045155c56d79ecf301a6574979982034b8f8763a2d9...  "
      ]
     },
     "execution_count": 20,
     "metadata": {},
     "output_type": "execute_result"
    }
   ],
   "source": [
    "# pretty plot hash wire with pandas so values can be mapped\n",
    "pd.DataFrame(multi_hash_chain)"
   ]
  },
  {
   "attachments": {},
   "cell_type": "markdown",
   "metadata": {},
   "source": [
    "## Wrap everything up"
   ]
  },
  {
   "attachments": {},
   "cell_type": "markdown",
   "metadata": {},
   "source": [
    "It has been showed that hashwire is extremy effective to use with inequality test. Think about a test for a value of 1000, then you need to calculate 1000 hashes for a regular hash chain but an hash wire with hash multichain just require 40 calculetions of hashes.\n",
    "\n",
    "The extreme effectivnes of hashwirecan be demonstrated if the value than is 2000, how many more hashes do we calculate?\n",
    "\n",
    "For the regular hash chain it would require 1000 additional calculations requires 1000 calculations of hashes to test for a value of 1000 dollars. The hashwire, on the other hand, would still require only 40 calculations of hashes for both cases.\n",
    "\n"
   ]
  },
  {
   "attachments": {},
   "cell_type": "markdown",
   "metadata": {},
   "source": [
    "## Wrap up implement\n",
    "Now we know every function, lets sum it up!\n",
    "\n",
    "### MDP"
   ]
  },
  {
   "cell_type": "code",
   "execution_count": 21,
   "metadata": {},
   "outputs": [],
   "source": [
    "## Calculates the MDP vector in days from a birth date\n",
    "class ProofProcessor:\n",
    "    def __init__(self, birth_date):\n",
    "        self.birth_date = date.fromisoformat(birth_date)\n",
    "        self.__age_in_days = self.__age_in_days()\n",
    "        self.mdp_list_age_in_days = MDP(self.__age_in_days)\n",
    "    \n",
    "    def __age_in_days(self):\n",
    "        delta = datetime.now(tz=ZoneInfo(\"Europe/Stockholm\")).date() - self.birth_date\n",
    "        return delta.days"
   ]
  },
  {
   "attachments": {},
   "cell_type": "markdown",
   "metadata": {},
   "source": [
    "For instance, if someones age in days is 13755, than the  MPD10(13755)=[13755,13749,13699,12999,9999] ,  would need to create a hash wire with five (5) hash chains of length 10. "
   ]
  },
  {
   "cell_type": "code",
   "execution_count": 22,
   "metadata": {},
   "outputs": [
    {
     "name": "stdout",
     "output_type": "stream",
     "text": [
      "The age MDP given birthdate 1985-09-09 is:  [13764, 13759, 13699, 12999, 9999]\n"
     ]
    }
   ],
   "source": [
    "birth_date = \"1985-09-09\" # value from an authentic source\n",
    "\n",
    "#prepare MDP vector\n",
    "user_mdpProof = ProofProcessor(birth_date)\n",
    "\n",
    "print(f\"The age MDP given birthdate {birth_date} is: \", user_mdpProof.mdp_list_age_in_days)"
   ]
  },
  {
   "attachments": {},
   "cell_type": "markdown",
   "metadata": {},
   "source": [
    "### Hash multichain"
   ]
  },
  {
   "cell_type": "code",
   "execution_count": 23,
   "metadata": {},
   "outputs": [
    {
     "name": "stdout",
     "output_type": "stream",
     "text": [
      "The users age in days are:  13764\n",
      "Number of columns of hash chains that need to be created for the hash wire is:  5\n"
     ]
    }
   ],
   "source": [
    "user_age_in_days = user_mdpProof.mdp_list_age_in_days[0]\n",
    "lenU = len(str(user_age_in_days))\n",
    "\n",
    "print(f\"The users age in days are: \", user_age_in_days)\n",
    "print(f\"Number of columns of hash chains that need to be created for the hash wire is: \", lenU)"
   ]
  },
  {
   "cell_type": "code",
   "execution_count": 24,
   "metadata": {},
   "outputs": [],
   "source": [
    "# Creates the hashchain and the seed dictionaries\n",
    "class HashChains:\n",
    "    def __init__(self):\n",
    "        self.seed_vector = []\n",
    "        self.hash_chains = {}\n",
    "\n",
    "    def __generate_hash_chains(self, value):\n",
    "        h, s = getMultiHashChain(value)\n",
    "        self.seed_vector = s\n",
    "        self.hash_chains = h\n",
    "\n",
    "    def create_hash_chains(self, value):\n",
    "        self.__generate_hash_chains(value)\n"
   ]
  },
  {
   "cell_type": "code",
   "execution_count": 25,
   "metadata": {},
   "outputs": [],
   "source": [
    "# initate the hash multichain\n",
    "user_hashProof = HashChains()\n",
    "# create hash multichain for user, by creating all hash chain for each column\n",
    "user_hashProof.create_hash_chains(user_age_in_days)"
   ]
  },
  {
   "cell_type": "code",
   "execution_count": 26,
   "metadata": {},
   "outputs": [
    {
     "data": {
      "text/plain": [
       "['35fd95cf1c39af97be91ccbfd7135a84e637ba121b7af42e27cb0ab9ab004470',\n",
       " '90252b0d699939e951c05cb49b42fd7f75b6e0494432fd4586a662a191b1b1a7',\n",
       " '5360264a4637f0d047f2222d34dadb80b93b93f2d0b4f2eff6d9f34b151a8a50',\n",
       " '8bd8c6f0ce89f7819c875a640a2bf40c47f0896a76f64fa1bafb9f8ded03d2b0',\n",
       " '42471c878917bc59b75ef6afdb197ad645ea6a4b98710fa10c730b161e6f293e']"
      ]
     },
     "execution_count": 26,
     "metadata": {},
     "output_type": "execute_result"
    }
   ],
   "source": [
    "# check seed\n",
    "user_hashProof.seed_vector"
   ]
  },
  {
   "cell_type": "code",
   "execution_count": 27,
   "metadata": {},
   "outputs": [
    {
     "data": {
      "text/plain": [
       "True"
      ]
     },
     "execution_count": 27,
     "metadata": {},
     "output_type": "execute_result"
    }
   ],
   "source": [
    "# check that hash multichain length is OK\n",
    "lenH = len(user_hashProof.hash_chains)\n",
    "lenU == lenH"
   ]
  },
  {
   "attachments": {},
   "cell_type": "markdown",
   "metadata": {},
   "source": [
    "### Commitment\n",
    "The commitments is created with hash wires."
   ]
  },
  {
   "cell_type": "code",
   "execution_count": 28,
   "metadata": {},
   "outputs": [],
   "source": [
    "# Creates the hash wire commitments\n",
    "class CommitmentProcessor:\n",
    "    def __init__(self, mdp_list, hashProof):\n",
    "        self.__mdp = mdp_list\n",
    "        self.__hashProof = hashProof\n",
    "        self.commitments = getHashWireCommitments(mdp_list, hashProof.hash_chains)"
   ]
  },
  {
   "cell_type": "code",
   "execution_count": 29,
   "metadata": {},
   "outputs": [
    {
     "name": "stdout",
     "output_type": "stream",
     "text": [
      "MDP: [13764, 13759, 13699, 12999, 9999]\n",
      "\n",
      "The digitwise commitments to the MDP are:\n"
     ]
    },
    {
     "data": {
      "text/plain": [
       "{13764: ['eb45d6d5cdacec6ae42c88df94cf963bdcc2389995a3790f908a36f5eb8f25f3',\n",
       "  '1a363cbf37afa22bcd7b1f3e3aa76095c7ce155a26902e87bd650e74c61a7b95',\n",
       "  '34e840d85bb036c320e9934c92fd9949dee3a8fee9db97ce532c380b7d9da5de',\n",
       "  'c84de75d69586fadde7ad7d3791bb37ebe5b0d8ca03c266d6c8a98126aebe782',\n",
       "  '0fd76f50363ff0817f0d536ac40f8b0fbdd6bf968e854ee88ffc5092231d5c53'],\n",
       " 13759: ['eb45d6d5cdacec6ae42c88df94cf963bdcc2389995a3790f908a36f5eb8f25f3',\n",
       "  '1a363cbf37afa22bcd7b1f3e3aa76095c7ce155a26902e87bd650e74c61a7b95',\n",
       "  '34e840d85bb036c320e9934c92fd9949dee3a8fee9db97ce532c380b7d9da5de',\n",
       "  'e421eccfcc3c88a7850b96370fee780009e22c196f3e971df6dc1f21f2e06af6',\n",
       "  'ec3cdc5e7cc6f568a255e3f48b22a2b9a357378bf7f828a19cea01b412570519'],\n",
       " 13699: ['eb45d6d5cdacec6ae42c88df94cf963bdcc2389995a3790f908a36f5eb8f25f3',\n",
       "  '1a363cbf37afa22bcd7b1f3e3aa76095c7ce155a26902e87bd650e74c61a7b95',\n",
       "  '853766a22c01c8be7dc4d9f9b0c1d43647c7cadd8df89f82219a5f34a01ec832',\n",
       "  'db2f90864818ad7a003d5dbf57904f07bb31a69afcdcb84fcb0dc8b1eb4d7ed9',\n",
       "  'ec3cdc5e7cc6f568a255e3f48b22a2b9a357378bf7f828a19cea01b412570519'],\n",
       " 12999: ['eb45d6d5cdacec6ae42c88df94cf963bdcc2389995a3790f908a36f5eb8f25f3',\n",
       "  'ba706ffa439a3a34cf10e08014e2291f8124e994d3972633c744ecbe33fc2536',\n",
       "  '9157130e4c6f3c1d22de4d99dbbcbb07f9be9e42acc40daa2b67aa307f523616',\n",
       "  'db2f90864818ad7a003d5dbf57904f07bb31a69afcdcb84fcb0dc8b1eb4d7ed9',\n",
       "  'ec3cdc5e7cc6f568a255e3f48b22a2b9a357378bf7f828a19cea01b412570519'],\n",
       " 9999: ['3cc2dcfcebb2670ac022a4ba8632c5fdd460a91dfd583a3c402454ae9d98d228',\n",
       "  '9157130e4c6f3c1d22de4d99dbbcbb07f9be9e42acc40daa2b67aa307f523616',\n",
       "  'db2f90864818ad7a003d5dbf57904f07bb31a69afcdcb84fcb0dc8b1eb4d7ed9',\n",
       "  'ec3cdc5e7cc6f568a255e3f48b22a2b9a357378bf7f828a19cea01b412570519']}"
      ]
     },
     "execution_count": 29,
     "metadata": {},
     "output_type": "execute_result"
    }
   ],
   "source": [
    "print(f\"MDP:\", user_mdpProof.mdp_list_age_in_days)\n",
    "# The hash multichain is used to create the HashWire claim\n",
    "user_hashWireCommitment = CommitmentProcessor(user_mdpProof.mdp_list_age_in_days, user_hashProof)\n",
    "print(\"\\nThe digitwise commitments to the MDP are:\")\n",
    "user_hashWireCommitment.commitments"
   ]
  },
  {
   "cell_type": "code",
   "execution_count": 30,
   "metadata": {},
   "outputs": [
    {
     "data": {
      "text/html": [
       "<div>\n",
       "<style scoped>\n",
       "    .dataframe tbody tr th:only-of-type {\n",
       "        vertical-align: middle;\n",
       "    }\n",
       "\n",
       "    .dataframe tbody tr th {\n",
       "        vertical-align: top;\n",
       "    }\n",
       "\n",
       "    .dataframe thead th {\n",
       "        text-align: right;\n",
       "    }\n",
       "</style>\n",
       "<table border=\"1\" class=\"dataframe\">\n",
       "  <thead>\n",
       "    <tr style=\"text-align: right;\">\n",
       "      <th></th>\n",
       "      <th>0</th>\n",
       "      <th>1</th>\n",
       "      <th>2</th>\n",
       "      <th>3</th>\n",
       "      <th>4</th>\n",
       "    </tr>\n",
       "  </thead>\n",
       "  <tbody>\n",
       "    <tr>\n",
       "      <th>0</th>\n",
       "      <td>6a54dccc8d598c41821de9c10e4962343eb487415818bc...</td>\n",
       "      <td>034479151245bf2d6085ab0f9da177ec35949ab0412db2...</td>\n",
       "      <td>26b34fe92c2469632817d2460fa9edfbfe5cdc6d62f615...</td>\n",
       "      <td>7b56d8a1216b6df178b1abd4577416805abf3a1bce1774...</td>\n",
       "      <td>563a2a8a4465fe87b1c0273da7f304a8c4157a57c51a48...</td>\n",
       "    </tr>\n",
       "    <tr>\n",
       "      <th>1</th>\n",
       "      <td>eb45d6d5cdacec6ae42c88df94cf963bdcc2389995a379...</td>\n",
       "      <td>43577dc606738c888cbf09f26e979edf1a98ec1645c404...</td>\n",
       "      <td>8cd019bf770cefe62ea3036dca9ebde669a8c295ea56fd...</td>\n",
       "      <td>bf06ecef29bab0588e5e887f8b8ec360f525ecfd4bc0aa...</td>\n",
       "      <td>ab13e5460ee04ffd1f277e6ceccd6ddd35386f37ae7f78...</td>\n",
       "    </tr>\n",
       "    <tr>\n",
       "      <th>2</th>\n",
       "      <td>af7fb9c7c2a0f26baaa71d6f33c72e265939f11d5a14c8...</td>\n",
       "      <td>ba706ffa439a3a34cf10e08014e2291f8124e994d39726...</td>\n",
       "      <td>29a13aa1316535278d2e4bd53a75f65736ec61968a16ca...</td>\n",
       "      <td>9916d99ff7cad5ba4a79dfeb174ee8dcb7589910abcbf8...</td>\n",
       "      <td>1e933955436d29772958059cacd6c14061246a1ba98d89...</td>\n",
       "    </tr>\n",
       "    <tr>\n",
       "      <th>3</th>\n",
       "      <td>bfc0d52ab2ed617a98a22efa86a156be477ccbea12da30...</td>\n",
       "      <td>1a363cbf37afa22bcd7b1f3e3aa76095c7ce155a26902e...</td>\n",
       "      <td>2578db144a5d264b6eaa9061cd6e009c243a777ca6136a...</td>\n",
       "      <td>6d42c0c540b7f5adc04ce78ee16a2845eccfaa58bf8a5d...</td>\n",
       "      <td>bb9a97711c6322ecc35dc72e32fad84e291263b1258904...</td>\n",
       "    </tr>\n",
       "    <tr>\n",
       "      <th>4</th>\n",
       "      <td>3e2e46244e1f84ce53af4c5332dbe9ae30bbf5d964dc05...</td>\n",
       "      <td>1374db03ca3b21c3248e64a47e293794d86c3a1928f1a8...</td>\n",
       "      <td>1e80982957dfc22f0ccfcbab2cdb85176d4247916f0718...</td>\n",
       "      <td>9dfe33d94b50326430c65371eb4ce932756d2cba350d3b...</td>\n",
       "      <td>0fd76f50363ff0817f0d536ac40f8b0fbdd6bf968e854e...</td>\n",
       "    </tr>\n",
       "    <tr>\n",
       "      <th>5</th>\n",
       "      <td>6b1d58a3a518d752db6be47d118cbcde7a6289ef42721a...</td>\n",
       "      <td>0f4185f9d417e59a7e85697f6a63a2948ed4b46a3b22db...</td>\n",
       "      <td>cdf46f23aaeb236fba26e72ceef29937e575b500bb55b6...</td>\n",
       "      <td>e421eccfcc3c88a7850b96370fee780009e22c196f3e97...</td>\n",
       "      <td>2c4e0304e991d96decc291eb7ae89016bef23d011caff8...</td>\n",
       "    </tr>\n",
       "    <tr>\n",
       "      <th>6</th>\n",
       "      <td>3b04232b249bb66483ea08bde51c4e340e55c5c32b0383...</td>\n",
       "      <td>ae849b1eb3617e6c6f03e376674b6ba39aaff161b8459b...</td>\n",
       "      <td>853766a22c01c8be7dc4d9f9b0c1d43647c7cadd8df89f...</td>\n",
       "      <td>c84de75d69586fadde7ad7d3791bb37ebe5b0d8ca03c26...</td>\n",
       "      <td>3a0fa6d922c4305f4a3865ef882b4d01de8887fbb440b8...</td>\n",
       "    </tr>\n",
       "    <tr>\n",
       "      <th>7</th>\n",
       "      <td>5ac18f5e4e5f3c2acdc3b05802d484f1bb79c82b4c5351...</td>\n",
       "      <td>8749b9f0cf32b91c4a3259cf8446ef95f345db56b0b776...</td>\n",
       "      <td>34e840d85bb036c320e9934c92fd9949dee3a8fee9db97...</td>\n",
       "      <td>cce2ecb5a1a92f115a40be0a46cd1441832ec3362530ff...</td>\n",
       "      <td>5fd5f61d82b956bad11055310767f98f2f38d1ac58a23f...</td>\n",
       "    </tr>\n",
       "    <tr>\n",
       "      <th>8</th>\n",
       "      <td>61f76436b6fe665d7542346b54c26b3821ccc0130e748a...</td>\n",
       "      <td>f817db0b57fcc5a996c123c7fbbbd8f415d8728cc28a3d...</td>\n",
       "      <td>cce2d581019090f61e06ca089bdc5515e2b8055324a256...</td>\n",
       "      <td>de852e5138bd8d75fb65aeef29ee91433a7a8639a17acd...</td>\n",
       "      <td>167c3f480bb0828dedeeb59756e4f2b39738a7d54e036d...</td>\n",
       "    </tr>\n",
       "    <tr>\n",
       "      <th>9</th>\n",
       "      <td>4bb7e1860df0425b220ec046557d89fe77064b3afa1ee3...</td>\n",
       "      <td>3cc2dcfcebb2670ac022a4ba8632c5fdd460a91dfd583a...</td>\n",
       "      <td>9157130e4c6f3c1d22de4d99dbbcbb07f9be9e42acc40d...</td>\n",
       "      <td>db2f90864818ad7a003d5dbf57904f07bb31a69afcdcb8...</td>\n",
       "      <td>ec3cdc5e7cc6f568a255e3f48b22a2b9a357378bf7f828...</td>\n",
       "    </tr>\n",
       "  </tbody>\n",
       "</table>\n",
       "</div>"
      ],
      "text/plain": [
       "                                                   0  \\\n",
       "0  6a54dccc8d598c41821de9c10e4962343eb487415818bc...   \n",
       "1  eb45d6d5cdacec6ae42c88df94cf963bdcc2389995a379...   \n",
       "2  af7fb9c7c2a0f26baaa71d6f33c72e265939f11d5a14c8...   \n",
       "3  bfc0d52ab2ed617a98a22efa86a156be477ccbea12da30...   \n",
       "4  3e2e46244e1f84ce53af4c5332dbe9ae30bbf5d964dc05...   \n",
       "5  6b1d58a3a518d752db6be47d118cbcde7a6289ef42721a...   \n",
       "6  3b04232b249bb66483ea08bde51c4e340e55c5c32b0383...   \n",
       "7  5ac18f5e4e5f3c2acdc3b05802d484f1bb79c82b4c5351...   \n",
       "8  61f76436b6fe665d7542346b54c26b3821ccc0130e748a...   \n",
       "9  4bb7e1860df0425b220ec046557d89fe77064b3afa1ee3...   \n",
       "\n",
       "                                                   1  \\\n",
       "0  034479151245bf2d6085ab0f9da177ec35949ab0412db2...   \n",
       "1  43577dc606738c888cbf09f26e979edf1a98ec1645c404...   \n",
       "2  ba706ffa439a3a34cf10e08014e2291f8124e994d39726...   \n",
       "3  1a363cbf37afa22bcd7b1f3e3aa76095c7ce155a26902e...   \n",
       "4  1374db03ca3b21c3248e64a47e293794d86c3a1928f1a8...   \n",
       "5  0f4185f9d417e59a7e85697f6a63a2948ed4b46a3b22db...   \n",
       "6  ae849b1eb3617e6c6f03e376674b6ba39aaff161b8459b...   \n",
       "7  8749b9f0cf32b91c4a3259cf8446ef95f345db56b0b776...   \n",
       "8  f817db0b57fcc5a996c123c7fbbbd8f415d8728cc28a3d...   \n",
       "9  3cc2dcfcebb2670ac022a4ba8632c5fdd460a91dfd583a...   \n",
       "\n",
       "                                                   2  \\\n",
       "0  26b34fe92c2469632817d2460fa9edfbfe5cdc6d62f615...   \n",
       "1  8cd019bf770cefe62ea3036dca9ebde669a8c295ea56fd...   \n",
       "2  29a13aa1316535278d2e4bd53a75f65736ec61968a16ca...   \n",
       "3  2578db144a5d264b6eaa9061cd6e009c243a777ca6136a...   \n",
       "4  1e80982957dfc22f0ccfcbab2cdb85176d4247916f0718...   \n",
       "5  cdf46f23aaeb236fba26e72ceef29937e575b500bb55b6...   \n",
       "6  853766a22c01c8be7dc4d9f9b0c1d43647c7cadd8df89f...   \n",
       "7  34e840d85bb036c320e9934c92fd9949dee3a8fee9db97...   \n",
       "8  cce2d581019090f61e06ca089bdc5515e2b8055324a256...   \n",
       "9  9157130e4c6f3c1d22de4d99dbbcbb07f9be9e42acc40d...   \n",
       "\n",
       "                                                   3  \\\n",
       "0  7b56d8a1216b6df178b1abd4577416805abf3a1bce1774...   \n",
       "1  bf06ecef29bab0588e5e887f8b8ec360f525ecfd4bc0aa...   \n",
       "2  9916d99ff7cad5ba4a79dfeb174ee8dcb7589910abcbf8...   \n",
       "3  6d42c0c540b7f5adc04ce78ee16a2845eccfaa58bf8a5d...   \n",
       "4  9dfe33d94b50326430c65371eb4ce932756d2cba350d3b...   \n",
       "5  e421eccfcc3c88a7850b96370fee780009e22c196f3e97...   \n",
       "6  c84de75d69586fadde7ad7d3791bb37ebe5b0d8ca03c26...   \n",
       "7  cce2ecb5a1a92f115a40be0a46cd1441832ec3362530ff...   \n",
       "8  de852e5138bd8d75fb65aeef29ee91433a7a8639a17acd...   \n",
       "9  db2f90864818ad7a003d5dbf57904f07bb31a69afcdcb8...   \n",
       "\n",
       "                                                   4  \n",
       "0  563a2a8a4465fe87b1c0273da7f304a8c4157a57c51a48...  \n",
       "1  ab13e5460ee04ffd1f277e6ceccd6ddd35386f37ae7f78...  \n",
       "2  1e933955436d29772958059cacd6c14061246a1ba98d89...  \n",
       "3  bb9a97711c6322ecc35dc72e32fad84e291263b1258904...  \n",
       "4  0fd76f50363ff0817f0d536ac40f8b0fbdd6bf968e854e...  \n",
       "5  2c4e0304e991d96decc291eb7ae89016bef23d011caff8...  \n",
       "6  3a0fa6d922c4305f4a3865ef882b4d01de8887fbb440b8...  \n",
       "7  5fd5f61d82b956bad11055310767f98f2f38d1ac58a23f...  \n",
       "8  167c3f480bb0828dedeeb59756e4f2b39738a7d54e036d...  \n",
       "9  ec3cdc5e7cc6f568a255e3f48b22a2b9a357378bf7f828...  "
      ]
     },
     "execution_count": 30,
     "metadata": {},
     "output_type": "execute_result"
    }
   ],
   "source": [
    "pd.DataFrame(user_hashProof.hash_chains)"
   ]
  },
  {
   "attachments": {},
   "cell_type": "markdown",
   "metadata": {},
   "source": [
    "### ProtectedClaims\n",
    "The hash wire commitments is padded with decoy messages (misleading information used to confuse potential attackers)."
   ]
  },
  {
   "cell_type": "code",
   "execution_count": 31,
   "metadata": {},
   "outputs": [],
   "source": [
    "# Creates the input to the _sd\n",
    "class ProtectedClaims:\n",
    "    def __init__(self, seeds, commitments):\n",
    "        self.iat = datetime.now(tz=ZoneInfo(\"Europe/Stockholm\")).date().isoformat()\n",
    "        self.__seeds = seeds\n",
    "        self.__commitments = commitments\n",
    "        self.disclosure_inputs = None\n",
    "\n",
    "        # set properties\n",
    "        self.__disclosure_input()\n",
    "\n",
    "    def __disclosure_input(self):\n",
    "        maxN = 10\n",
    "        # commitments is padded to length of maxN\n",
    "        lenDecoys = maxN - len(self.__seeds)\n",
    "        # create decoys\n",
    "        # the decoy is here easily detected when it's only one element!\n",
    "        decoys = [[sha256(secrets.token_bytes()).hexdigest()] for i in range(lenDecoys)]\n",
    "        # create disclousre\n",
    "        values = list(self.__commitments.values()) + decoys\n",
    "        # randomize list\n",
    "        random.shuffle(values)\n",
    "        keys = list(range(len(values)))\n",
    "        self.disclosure_inputs = dict(zip(keys, values))\n"
   ]
  },
  {
   "cell_type": "code",
   "execution_count": 32,
   "metadata": {},
   "outputs": [
    {
     "name": "stdout",
     "output_type": "stream",
     "text": [
      "The hash wire commitments and decoys are listed:\n"
     ]
    },
    {
     "data": {
      "text/plain": [
       "{0: ['eb45d6d5cdacec6ae42c88df94cf963bdcc2389995a3790f908a36f5eb8f25f3',\n",
       "  'ba706ffa439a3a34cf10e08014e2291f8124e994d3972633c744ecbe33fc2536',\n",
       "  '9157130e4c6f3c1d22de4d99dbbcbb07f9be9e42acc40daa2b67aa307f523616',\n",
       "  'db2f90864818ad7a003d5dbf57904f07bb31a69afcdcb84fcb0dc8b1eb4d7ed9',\n",
       "  'ec3cdc5e7cc6f568a255e3f48b22a2b9a357378bf7f828a19cea01b412570519'],\n",
       " 1: ['f5ea346745a8b27e21f526fab11f07f5a1fbac8bea970081484820d771d650bf'],\n",
       " 2: ['eb45d6d5cdacec6ae42c88df94cf963bdcc2389995a3790f908a36f5eb8f25f3',\n",
       "  '1a363cbf37afa22bcd7b1f3e3aa76095c7ce155a26902e87bd650e74c61a7b95',\n",
       "  '34e840d85bb036c320e9934c92fd9949dee3a8fee9db97ce532c380b7d9da5de',\n",
       "  'e421eccfcc3c88a7850b96370fee780009e22c196f3e971df6dc1f21f2e06af6',\n",
       "  'ec3cdc5e7cc6f568a255e3f48b22a2b9a357378bf7f828a19cea01b412570519'],\n",
       " 3: ['f0f88f2e72a3b25aa66d29fffca3b05b9075904851515f77fcbdfb526ad8a1ae'],\n",
       " 4: ['e4210b3060bf7b30b3f181d0711ba1d14a737d91f9671b493b7283e3d67ab987'],\n",
       " 5: ['eb45d6d5cdacec6ae42c88df94cf963bdcc2389995a3790f908a36f5eb8f25f3',\n",
       "  '1a363cbf37afa22bcd7b1f3e3aa76095c7ce155a26902e87bd650e74c61a7b95',\n",
       "  '853766a22c01c8be7dc4d9f9b0c1d43647c7cadd8df89f82219a5f34a01ec832',\n",
       "  'db2f90864818ad7a003d5dbf57904f07bb31a69afcdcb84fcb0dc8b1eb4d7ed9',\n",
       "  'ec3cdc5e7cc6f568a255e3f48b22a2b9a357378bf7f828a19cea01b412570519'],\n",
       " 6: ['3cc2dcfcebb2670ac022a4ba8632c5fdd460a91dfd583a3c402454ae9d98d228',\n",
       "  '9157130e4c6f3c1d22de4d99dbbcbb07f9be9e42acc40daa2b67aa307f523616',\n",
       "  'db2f90864818ad7a003d5dbf57904f07bb31a69afcdcb84fcb0dc8b1eb4d7ed9',\n",
       "  'ec3cdc5e7cc6f568a255e3f48b22a2b9a357378bf7f828a19cea01b412570519'],\n",
       " 7: ['03591b8259447dc68c005199a2f850c7dc372936943e1e94347e361d25ee37b8'],\n",
       " 8: ['8556d76ef4382de3839a28bcd71a3794c92bccfc5b1cc575c073a479b0cfbb4b'],\n",
       " 9: ['eb45d6d5cdacec6ae42c88df94cf963bdcc2389995a3790f908a36f5eb8f25f3',\n",
       "  '1a363cbf37afa22bcd7b1f3e3aa76095c7ce155a26902e87bd650e74c61a7b95',\n",
       "  '34e840d85bb036c320e9934c92fd9949dee3a8fee9db97ce532c380b7d9da5de',\n",
       "  'c84de75d69586fadde7ad7d3791bb37ebe5b0d8ca03c266d6c8a98126aebe782',\n",
       "  '0fd76f50363ff0817f0d536ac40f8b0fbdd6bf968e854ee88ffc5092231d5c53']}"
      ]
     },
     "execution_count": 32,
     "metadata": {},
     "output_type": "execute_result"
    }
   ],
   "source": [
    "# The claims contain decoys and are shuffled\n",
    "user_attestation = ProtectedClaims(user_hashProof.seed_vector, user_hashWireCommitment.commitments)\n",
    "print(\"The hash wire commitments and decoys are listed:\")\n",
    "user_attestation.disclosure_inputs"
   ]
  },
  {
   "attachments": {},
   "cell_type": "markdown",
   "metadata": {},
   "source": [
    "## Reference\n",
    "- https://zkproof.org/2021/05/05/hashwires-range-proofs-from-hash-functions/\n",
    "- https://eprint.iacr.org/2021/297\n",
    "- https://research.facebook.com/publications/hashwires-hyperefficient-credential-based-range-proofs/"
   ]
  }
 ],
 "metadata": {
  "kernelspec": {
   "display_name": "Python 3",
   "language": "python",
   "name": "python3"
  },
  "language_info": {
   "codemirror_mode": {
    "name": "ipython",
    "version": 3
   },
   "file_extension": ".py",
   "mimetype": "text/x-python",
   "name": "python",
   "nbconvert_exporter": "python",
   "pygments_lexer": "ipython3",
   "version": "3.9.6"
  },
  "orig_nbformat": 4
 },
 "nbformat": 4,
 "nbformat_minor": 2
}
