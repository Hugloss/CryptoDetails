{
 "cells": [
  {
   "cell_type": "code",
   "execution_count": 22,
   "metadata": {},
   "outputs": [],
   "source": [
    "import math"
   ]
  },
  {
   "cell_type": "code",
   "execution_count": 30,
   "metadata": {},
   "outputs": [],
   "source": [
    "# test values\n",
    "value_list = [84, 113, 1000, 3413, 3999, 11001, 11111]\n",
    "res_list = [[84, 79],\n",
    "            [113, 109, 99],\n",
    "            [1000, 999],\n",
    "            [3413, 3409, 3399, 2999],\n",
    "            [3999],\n",
    "            [11001, 10999, 9999],\n",
    "            [11111, 11109, 11099, 10999, 9999]]\n",
    "\n",
    "# Check if the lengths of value_list and res_list are the same\n",
    "if len(value_list) != len(res_list):\n",
    "    print(\"Error: Lengths of value_list and res_list are not equal.\")"
   ]
  },
  {
   "cell_type": "markdown",
   "metadata": {},
   "source": [
    "# Timeit for length of string"
   ]
  },
  {
   "cell_type": "code",
   "execution_count": 19,
   "metadata": {},
   "outputs": [
    {
     "name": "stdout",
     "output_type": "stream",
     "text": [
      "121 ns ± 2.63 ns per loop (mean ± std. dev. of 7 runs, 10,000,000 loops each)\n"
     ]
    }
   ],
   "source": [
    "%timeit len(str(6575))"
   ]
  },
  {
   "cell_type": "code",
   "execution_count": 29,
   "metadata": {},
   "outputs": [
    {
     "name": "stdout",
     "output_type": "stream",
     "text": [
      "133 ns ± 2.53 ns per loop (mean ± std. dev. of 7 runs, 10,000,000 loops each)\n"
     ]
    }
   ],
   "source": [
    "%timeit math.ceil(math.log10(6575+1))"
   ]
  },
  {
   "cell_type": "markdown",
   "metadata": {},
   "source": [
    "# Different MDP\n"
   ]
  },
  {
   "cell_type": "code",
   "execution_count": 34,
   "metadata": {},
   "outputs": [],
   "source": [
    "def MDP(x):\n",
    "    # lenX = len(str(x))\n",
    "    lenX = math.ceil(math.log10(x+1))\n",
    "\n",
    "    # init\n",
    "    mdpVector = [x]\n",
    "\n",
    "    # we can be lucky\n",
    "    xp = (x+1) % (10 ** (lenX-1))\n",
    "    if not xp:\n",
    "        # return vector if it's zero\n",
    "        return mdpVector\n",
    "\n",
    "    # save minimum value\n",
    "    minx = (x - xp)\n",
    "\n",
    "    for i in range(1, lenX-1):\n",
    "        xp = (x+1) % (10 ** i)\n",
    "        diff = x - xp\n",
    "        if diff not in mdpVector:\n",
    "            if diff != minx:\n",
    "                mdpVector.append(diff)\n",
    "            else:\n",
    "                break\n",
    "\n",
    "    # add minimum value to the end\n",
    "    mdpVector.append(minx)\n",
    "    return mdpVector"
   ]
  },
  {
   "cell_type": "code",
   "execution_count": 36,
   "metadata": {},
   "outputs": [],
   "source": [
    "def MDP1(x):\n",
    "    d = math.ceil(math.log10(x+1))\n",
    "    vector = [x]\n",
    "    for i in range(1, d):\n",
    "        if (x+1) % (10 ** i) != 0:\n",
    "            tmp = (x // (10 ** i)) * (10 ** i) - 1\n",
    "            vector.append(tmp)\n",
    "    return vector"
   ]
  },
  {
   "cell_type": "code",
   "execution_count": 41,
   "metadata": {},
   "outputs": [],
   "source": [
    "def MDP2(x, b):\n",
    "    # Convert x to a list of digits in base b\n",
    "    digits = [int(d) for d in str(x)[::-1]]\n",
    "\n",
    "    # Initialize the result list with the first digit of x\n",
    "    result = [digits[0]]\n",
    "\n",
    "    # Iterate over the remaining digits\n",
    "    for d in digits[1:]:\n",
    "        # If the current digit is dominated by the last element of the result list,\n",
    "        # add it to that element; otherwise, add a new element to the result list\n",
    "        if d <= result[-1]:\n",
    "            result[-1] += d * b ** len(str(x))\n",
    "        else:\n",
    "            result.append(d * b ** len(str(x)))\n",
    "\n",
    "    return result[::-1]"
   ]
  },
  {
   "cell_type": "code",
   "execution_count": 37,
   "metadata": {},
   "outputs": [],
   "source": [
    "# the code to check\n",
    "def checkMDP(option, verbose):\n",
    "    # Run the MDP function for all values\n",
    "    if option == 0:\n",
    "        results = [MDP(value) for value in value_list]\n",
    "    elif option == 1:\n",
    "        results = [MDP1(value) for value in value_list]\n",
    "    else:\n",
    "        print(\"Invalid option\")\n",
    "\n",
    "    # Compare all results with the expected results\n",
    "    if verbose:\n",
    "        print(f\"Test performace for option: {option}\")\n",
    "        if results == res_list:\n",
    "            print(\"All results match the expected results.\")\n",
    "        else:\n",
    "            print(\"Error, some results do not match the expected results.\")\n"
   ]
  },
  {
   "cell_type": "code",
   "execution_count": 38,
   "metadata": {},
   "outputs": [
    {
     "name": "stdout",
     "output_type": "stream",
     "text": [
      "Test performace for option: 0\n",
      "All results match the expected results.\n",
      "8.55 µs ± 216 ns per loop (mean ± std. dev. of 7 runs, 100,000 loops each)\n"
     ]
    }
   ],
   "source": [
    "checkMDP(0, True)\n",
    "%timeit checkMDP(0, False)"
   ]
  },
  {
   "cell_type": "code",
   "execution_count": 39,
   "metadata": {},
   "outputs": [
    {
     "name": "stdout",
     "output_type": "stream",
     "text": [
      "Test performace for option: 1\n",
      "Error, some results do not match the expected results.\n",
      "18.7 µs ± 1.31 µs per loop (mean ± std. dev. of 7 runs, 100,000 loops each)\n"
     ]
    }
   ],
   "source": [
    "checkMDP(1, True)\n",
    "%timeit checkMDP(1, False)"
   ]
  }
 ],
 "metadata": {
  "kernelspec": {
   "display_name": "Python 3",
   "language": "python",
   "name": "python3"
  },
  "language_info": {
   "codemirror_mode": {
    "name": "ipython",
    "version": 3
   },
   "file_extension": ".py",
   "mimetype": "text/x-python",
   "name": "python",
   "nbconvert_exporter": "python",
   "pygments_lexer": "ipython3",
   "version": "3.10.6"
  }
 },
 "nbformat": 4,
 "nbformat_minor": 2
}
