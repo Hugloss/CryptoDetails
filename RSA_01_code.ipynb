{
 "cells": [
  {
   "cell_type": "code",
   "execution_count": 28,
   "metadata": {},
   "outputs": [],
   "source": [
    "from Crypto.Util import number\n"
   ]
  },
  {
   "cell_type": "markdown",
   "metadata": {},
   "source": [
    "RSA is based on the fact that multiplying p by q is easy, but factoring n \n",
    "is hard. The relation between the public (e) and the private (d) exponents is \n",
    "given by $\\phi(n)$ that can only be calculated if you know p and q.\n",
    "The correctness of the algorithm can be proven by Fermat's little theorem."
   ]
  },
  {
   "cell_type": "markdown",
   "metadata": {},
   "source": [
    "In RSA, we select two prime numbers of equal length (p and q), and then multiply these to give a modulus:\n",
    "\n",
    "$ N=p*q $\n",
    "\n",
    "with\n",
    "\n",
    "$q<p<2q$\n",
    "\n",
    "We then compute the cipher, encrypt a message $(M)$, as:\n",
    "\n",
    "$ C=M^e\\pmod n $\n",
    "\n",
    "and where we decrypt with:\n",
    "\n",
    "$ M=C^d\\pmod n $\n",
    "\n",
    "We then pick e so that it does not share a factor with  $\\phi$:\n",
    "\n",
    "$ GCD(e,\\phi)=1 $\n",
    "\n",
    "and where GCD is the greatest common denominator. In practice e typically has a value of 65537 (and which is a prime number), we could select a range of values of e. If we select a fairly large value, then the value of d could be discovered.\n",
    "\n",
    "With this we have a public exponent of e, and a private exponent of d. The value of d is computed from:\n",
    "\n",
    "$d=e^{−1}\\pmod \\phi$\n",
    "\n",
    "and where\n",
    "\n",
    "$ \\phi(n)=(p−1)(q−1) $\n",
    "\n",
    "it works when\n",
    "\n",
    "$ M = C^d\\pmod n = C^{-e}\\pmod n$\n",
    "\n",
    "thats gives\n",
    "\n",
    "$de = 1 \\pmod \\phi$\n",
    "\n",
    "that proofs decryption work\n",
    "\n",
    "$C^d\\pmod n = (M^e)^d \\pmod n = M \\pmod n$"
   ]
  },
  {
   "cell_type": "code",
   "execution_count": 29,
   "metadata": {},
   "outputs": [
    {
     "name": "stdout",
     "output_type": "stream",
     "text": [
      "m: this is my secret\n"
     ]
    }
   ],
   "source": [
    "# My secret message\n",
    "msg = 'this is my secret'\n",
    "# msg = 'Hello, 12345 is my secret number sequence'\n",
    "\n",
    "data = msg.encode('utf-8')\n",
    "M = number.bytes_to_long(data)\n",
    "\n",
    "print(\"m:\", msg)"
   ]
  },
  {
   "cell_type": "markdown",
   "metadata": {},
   "source": [
    "## This is how the keys is generated"
   ]
  },
  {
   "cell_type": "code",
   "execution_count": 30,
   "metadata": {},
   "outputs": [
    {
     "name": "stdout",
     "output_type": "stream",
     "text": [
      "p: 79646538169893659311023099682874681527499439924354993686887701801717656561593\n",
      "q: 62041720315356568690883921912206875856136496596522762564684551347896318131057\n",
      "Prime size: 256 bits\n"
     ]
    }
   ],
   "source": [
    "# Choose 2 large prime numbers p and q.\n",
    "# For demo purposes to make print more readable\n",
    "bitsize=256\n",
    "p = number.getPrime(bitsize)\n",
    "q = number.getPrime(bitsize)\n",
    "# p = number.getStrongPrime(512)\n",
    "# q = number.getStrongPrime(512)\n",
    "\n",
    "# check they are not equal\n",
    "assert(p != q)\n",
    "\n",
    "# make sure that p is smaller than q\n",
    "if p < q:\n",
    "    (p, q) = (q, p)\n",
    "\n",
    "# simple checks\n",
    "assert(number.isPrime(p))\n",
    "assert(number.isPrime(q))\n",
    "assert(q < p)\n",
    "assert(p < 2*q)\n",
    "\n",
    "print(\"p:\", p)\n",
    "print(\"q:\", q)\n",
    "print(\"Prime size: %d bits\" % (bitsize))\n"
   ]
  },
  {
   "cell_type": "code",
   "execution_count": 31,
   "metadata": {},
   "outputs": [
    {
     "name": "stdout",
     "output_type": "stream",
     "text": [
      "n: 4941408245222913826115066046888904325684560320264209188239762831380104326702713764726239770396792159551303492824443440489374148043327378137455830566693801\n",
      "phi: 4941408245222913826115066046888904325684560320264209188239762831380104326702572076467754520168790252529708411267059804552853270287075805884306216592001152\n",
      "Encryption max size: 512 bits\n",
      "Encryption size: 511 bits\n"
     ]
    }
   ],
   "source": [
    "# Setting up the encryption\n",
    "# Find first part of the public key, n = p∗q.\n",
    "n = p*q\n",
    "phi = (p-1)*(q-1)\n",
    "\n",
    "\n",
    "print(\"n:\", n)\n",
    "print(\"phi:\", phi)\n",
    "print(\"Encryption max size: %d bits\" % (bitsize*2))\n",
    "print(\"Encryption size: %d bits\" % (n.bit_length()))\n",
    "\n",
    "\n",
    "# simple check\n",
    "assert(p*q == n)\n"
   ]
  },
  {
   "cell_type": "markdown",
   "metadata": {},
   "source": [
    "### Key Generation"
   ]
  },
  {
   "cell_type": "code",
   "execution_count": 32,
   "metadata": {},
   "outputs": [
    {
     "name": "stdout",
     "output_type": "stream",
     "text": [
      "e: 65537\n"
     ]
    }
   ],
   "source": [
    "# generate public key 1<e<phi(n)\n",
    "# The usual choice for e is F4=65537 = 0x10001. Also, having chosen e, it is simpler to test whether gcd(e,p-1)=1 and gcd(e,q-1)=1 while generating and testing the primes in step 1. Values of p or q that fail this test can be rejected there and then.\n",
    "# https://www.di-mgt.com.au/rsa_alg.html#note2\n",
    "\n",
    "\n",
    "e = 65537\n",
    "# e = 0x10001\n",
    "# e = number.getPrime(bitsize)\n",
    "print(\"e:\", e)\n",
    "\n",
    "# \"e\" must be coprime with phi(n).\n",
    "# You can check if e and phi(n) are coprimes using GCD(e, phi(n)) == 1.\n",
    "\n",
    "\n",
    "assert(e > 1)\n",
    "assert(number.GCD(e, n) == 1)\n",
    "assert(number.GCD(e, p - 1) == 1)\n",
    "assert(number.GCD(e, q - 1) == 1)\n",
    "assert(number.GCD(e, phi) == 1)\n"
   ]
  },
  {
   "cell_type": "code",
   "execution_count": 33,
   "metadata": {},
   "outputs": [
    {
     "name": "stdout",
     "output_type": "stream",
     "text": [
      "d: 1957653290186730161302036633373872955919159011784792214527018358392252143651762842263283005960945269339172516138027995871191575899623666386623229741897217\n"
     ]
    }
   ],
   "source": [
    "# generate private key d\n",
    "# Choose d the multiplicative inverse of e\n",
    "d = pow(e, -1, phi)\n",
    "\n",
    "print(\"d:\", d)\n",
    "\n",
    "# simple check\n",
    "assert(d != 1)\n",
    "assert(d != e)\n"
   ]
  },
  {
   "cell_type": "code",
   "execution_count": 34,
   "metadata": {},
   "outputs": [
    {
     "name": "stdout",
     "output_type": "stream",
     "text": [
      "\n",
      "Public key (e,n) for the encryption is:\n",
      "e: 65537\n",
      "n: 4941408245222913826115066046888904325684560320264209188239762831380104326702713764726239770396792159551303492824443440489374148043327378137455830566693801\n",
      "\n",
      "Private key (d,n) for the decryption is:\n",
      "d: 1957653290186730161302036633373872955919159011784792214527018358392252143651762842263283005960945269339172516138027995871191575899623666386623229741897217\n",
      "n: 4941408245222913826115066046888904325684560320264209188239762831380104326702713764726239770396792159551303492824443440489374148043327378137455830566693801\n",
      "\n",
      "Cipher: 2724113885362117836698792150647464086440402631180738061852280490077014903603576777432806784380676484285599477812863560983202419360227628103196336957524602\n",
      "\n",
      "Summery:\n",
      "Original message: this is my secret\n",
      "Plain message: 39611541800605679895468651228787463316852\n",
      "Encrypted cipher message: 2724113885362117836698792150647464086440402631180738061852280490077014903603576777432806784380676484285599477812863560983202419360227628103196336957524602\n",
      "Plain message agine: 39611541800605679895468651228787463316852\n",
      "Decrypted message: this is my secret\n"
     ]
    }
   ],
   "source": [
    "# Encryption and Decryption\n",
    "#\n",
    "\n",
    "# The cipher c is the encrypted form of the message and is sent to the message receiver.\n",
    "c=pow(M,e,n)\n",
    "\n",
    "# Upon receipt of the cipher, the receiver decrypts the message with their private key\n",
    "msg_plaintext = pow(c,d,n)\n",
    "msg_decryptedtext = number.long_to_bytes(msg_plaintext).decode('utf-8')\n",
    "\n",
    "print('\\nPublic key (e,n) for the encryption is:\\ne: %d\\nn: %d' %(e,n))\n",
    "print('\\nPrivate key (d,n) for the decryption is:\\nd: %d\\nn: %d' %(d,n))\n",
    "print('\\nCipher: %s' % c)\n",
    "\n",
    "print('\\nSummery:')\n",
    "print(\"Original message:\", msg)\n",
    "print(\"Plain message:\", M)\n",
    "print(\"Encrypted cipher message:\", c)\n",
    "print(\"Plain message agine:\", msg_plaintext)\n",
    "print(\"Decrypted message:\", msg_decryptedtext)"
   ]
  },
  {
   "cell_type": "markdown",
   "metadata": {},
   "source": [
    "## Code Summery"
   ]
  },
  {
   "cell_type": "code",
   "execution_count": 35,
   "metadata": {},
   "outputs": [
    {
     "name": "stdout",
     "output_type": "stream",
     "text": [
      "Checks equality: True\n"
     ]
    }
   ],
   "source": [
    "# Setting up the encryption\n",
    "p = number.getPrime(128)\n",
    "q = number.getPrime(128)\n",
    "\n",
    "# key generation\n",
    "n = p*q\n",
    "phi = (p-1)*(q-1)\n",
    "\n",
    "e = 65537\n",
    "d = pow(e, -1, phi)\n",
    "assert(number.GCD(d,n) == 1)\n",
    "\n",
    "# Encryption\n",
    "c=pow(M,e,n)\n",
    "# Decryption\n",
    "msg_plaintext = pow(c,d,n)\n",
    "msg_decryptedtext = number.long_to_bytes(msg_plaintext).decode('utf-8')\n",
    "\n",
    "print('Checks equality:', msg == msg_decryptedtext)"
   ]
  },
  {
   "cell_type": "code",
   "execution_count": 36,
   "metadata": {},
   "outputs": [
    {
     "name": "stdout",
     "output_type": "stream",
     "text": [
      "Bob uses RSA to send an encrypted message to Alice. The public exponent (e) is 65537 and the modulus (N) is 72398231417887145951863177911031974803489942523732002768558701652318268332089.\n",
      "With a cipher of 27196274421509523956859671322033485355297339762051313167141369352972967196143, determine the decrypted message \"this is my secret\"\n",
      "\n",
      "Public key (e,n) for the encryption is:\n",
      "e: 65537\n",
      "n: 72398231417887145951863177911031974803489942523732002768558701652318268332089\n",
      "\n",
      "Private key (d,n) for the decryption is:\n",
      "d: 25011342562710878915668007554262095328038042459357760355248731586429543288705\n",
      "n: 72398231417887145951863177911031974803489942523732002768558701652318268332089\n",
      "\n",
      "Encrypted cipher message:: 27196274421509523956859671322033485355297339762051313167141369352972967196143\n",
      "Decrypted message: this is my secret\n"
     ]
    }
   ],
   "source": [
    "print(f'Bob uses RSA to send an encrypted message to Alice. The public exponent (e) is {e} and the modulus (N) is {n}.\\nWith a cipher of {c}, determine the decrypted message \"{msg_decryptedtext}\"')\n",
    "\n",
    "print('\\nPublic key (e,n) for the encryption is:\\ne: %d\\nn: %d' %(e,n))\n",
    "print('\\nPrivate key (d,n) for the decryption is:\\nd: %d\\nn: %d' %(d,n))\n",
    "print('\\nEncrypted cipher message:: %s' % c)\n",
    "\n",
    "print(\"Decrypted message:\", msg_decryptedtext)\n"
   ]
  },
  {
   "cell_type": "markdown",
   "metadata": {},
   "source": [
    "## Code examples links\n",
    "- https://asecuritysite.com/rsa/rsa_full\n",
    "- https://asecuritysite.com/rsa/rsa_crt4\n",
    "- https://asecuritysite.com/rsa/rsa_ctf04\n",
    "- https://asecuritysite.com/rsa/rsa_ctf05\n",
    "- https://asecuritysite.com/rsa/rsa_12_2\n",
    "- https://asecuritysite.com/cracking/rsa_ctf04\n",
    "- https://mathybit.github.io/crypto-rsa/\n",
    "- https://ctftime.org/writeup/29741\n",
    "- https://cryptobook.nakov.com/asymmetric-key-ciphers/rsa-encrypt-decrypt-examples\n",
    "- https://crypto.stackexchange.com/questions/12255/in-rsa-why-is-it-important-to-choose-e-so-that-it-is-coprime-to-%CF%86n\n",
    "- https://en.wikipedia.org/wiki/RSA_%28cryptosystem%29"
   ]
  },
  {
   "cell_type": "markdown",
   "metadata": {},
   "source": []
  }
 ],
 "metadata": {
  "kernelspec": {
   "display_name": "Python 3.9.6 64-bit",
   "language": "python",
   "name": "python3"
  },
  "language_info": {
   "codemirror_mode": {
    "name": "ipython",
    "version": 3
   },
   "file_extension": ".py",
   "mimetype": "text/x-python",
   "name": "python",
   "nbconvert_exporter": "python",
   "pygments_lexer": "ipython3",
   "version": "3.10.6"
  },
  "orig_nbformat": 4,
  "vscode": {
   "interpreter": {
    "hash": "c65a76b623ff58757d879ffba0c64f863adb3d623b4a7ebf7852010e5ebe6c38"
   }
  }
 },
 "nbformat": 4,
 "nbformat_minor": 2
}
