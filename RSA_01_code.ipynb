{
 "cells": [
  {
   "cell_type": "code",
   "execution_count": 143,
   "metadata": {},
   "outputs": [],
   "source": [
    "from Crypto.Util import number\n"
   ]
  },
  {
   "cell_type": "markdown",
   "metadata": {},
   "source": [
    "RSA is based on the fact that multiplying p by q is easy, but factoring n \n",
    "is hard. The relation between the public (e) and the private (d) exponents is \n",
    "given by $\\phi(n)$ that can only be calculated if you know p and q.\n",
    "The correctness of the algorithm can be proven by Fermat's little theorem."
   ]
  },
  {
   "cell_type": "markdown",
   "metadata": {},
   "source": [
    "In RSA, we select two prime numbers of equal length (p and q), and then multiply these to give a modulus:\n",
    "\n",
    "$ N=p*q $\n",
    "\n",
    "with\n",
    "\n",
    "$q<p<2q$\n",
    "\n",
    "We then compute the cipher, encrypt a message $(M)$, as:\n",
    "\n",
    "$ C=M^e\\pmod n $\n",
    "\n",
    "and where we decrypt with:\n",
    "\n",
    "$ M=C^d\\pmod n $\n",
    "\n",
    "We then pick e so that it does not share a factor with  $\\phi$:\n",
    "\n",
    "$ GCD(e,\\phi)=1 $\n",
    "\n",
    "and where GCD is the greatest common denominator. In practice e typically has a value of 65537 (and which is a prime number), we could select a range of values of e. If we select a fairly large value, then the value of d could be discovered.\n",
    "\n",
    "With this we have a public exponent of e, and a private exponent of d. The value of d is computed from:\n",
    "\n",
    "$d=e^{−1}\\pmod \\phi$\n",
    "\n",
    "and where\n",
    "\n",
    "$ \\phi=(p−1)(q−1) $"
   ]
  },
  {
   "cell_type": "code",
   "execution_count": 144,
   "metadata": {},
   "outputs": [
    {
     "name": "stdout",
     "output_type": "stream",
     "text": [
      "m: Hello, 12345 is my secret number sequence\n"
     ]
    }
   ],
   "source": [
    "# My secret message\n",
    "msg = 'this is my secret'\n",
    "msg = 'Hello, 12345 is my secret number sequence'\n",
    "\n",
    "data = msg.encode('utf-8')\n",
    "M = number.bytes_to_long(data)\n",
    "\n",
    "print(\"m:\", msg)"
   ]
  },
  {
   "cell_type": "markdown",
   "metadata": {},
   "source": [
    "## This is how the keys is generated"
   ]
  },
  {
   "cell_type": "code",
   "execution_count": 145,
   "metadata": {},
   "outputs": [
    {
     "name": "stdout",
     "output_type": "stream",
     "text": [
      "p: 83575291310042628155952311380099113663958380773616186789601585143183835336309\n",
      "q: 78918097984010462692418058425047342170993220638104265006978206075658415818403\n",
      "Prime size: 256 bits\n"
     ]
    }
   ],
   "source": [
    "# Choose 2 large prime numbers p and q.\n",
    "# For demo purposes to make print more readable\n",
    "bitsize=256\n",
    "p = number.getPrime(bitsize)\n",
    "q = number.getPrime(bitsize)\n",
    "# p = number.getStrongPrime(512)\n",
    "# q = number.getStrongPrime(512)\n",
    "\n",
    "# check they are not equal\n",
    "assert(p != q)\n",
    "\n",
    "# make sure that p is smaller than q\n",
    "if p < q:\n",
    "    (p, q) = (q, p)\n",
    "\n",
    "# simple checks\n",
    "assert(number.isPrime(p))\n",
    "assert(number.isPrime(q))\n",
    "assert(q < p)\n",
    "assert(p < 2*q)\n",
    "\n",
    "print(\"p:\", p)\n",
    "print(\"q:\", q)\n",
    "print(\"Prime size: %d bits\" % (bitsize))\n"
   ]
  },
  {
   "cell_type": "code",
   "execution_count": 151,
   "metadata": {},
   "outputs": [
    {
     "name": "stdout",
     "output_type": "stream",
     "text": [
      "n: 6595603028648162274595048349509155620306225157790753005024476281753649902178696689718374667712876448796332478984623562307161087322986602757211280976294527\n",
      "phi: 6595603028648162274595048349509155620306225157790753005024476281753649902178534196329080614622028078426527332528788610705749366871190022965992438725139816\n",
      "Encryption size: 511 bits\n",
      "Encryption max size: 512 bits\n"
     ]
    }
   ],
   "source": [
    "# Setting up the encryption\n",
    "# Find first part of the public key, n = p∗q.\n",
    "n = p*q\n",
    "phi = (p-1)*(q-1)\n",
    "\n",
    "\n",
    "print(\"n:\", n)\n",
    "print(\"phi:\", phi)\n",
    "print(\"Encryption max size: %d bits\" % (bitsize*2))\n",
    "print(\"Encryption size: %d bits\" % (n.bit_length()))\n",
    "\n",
    "\n",
    "# simple check\n",
    "assert(p*q == n)\n"
   ]
  },
  {
   "cell_type": "markdown",
   "metadata": {},
   "source": [
    "### Key Generation"
   ]
  },
  {
   "cell_type": "code",
   "execution_count": 147,
   "metadata": {},
   "outputs": [
    {
     "name": "stdout",
     "output_type": "stream",
     "text": [
      "e: 65537\n"
     ]
    }
   ],
   "source": [
    "# generate public key 1<e<phi(n)\n",
    "# The usual choice for e is F4=65537 = 0x10001. Also, having chosen e, it is simpler to test whether gcd(e,p-1)=1 and gcd(e,q-1)=1 while generating and testing the primes in step 1. Values of p or q that fail this test can be rejected there and then.\n",
    "# https://www.di-mgt.com.au/rsa_alg.html#note2\n",
    "\n",
    "\n",
    "e = 65537\n",
    "# e = 0x10001\n",
    "# e = number.getPrime(bitsize)\n",
    "print(\"e:\", e)\n",
    "\n",
    "# \"e\" must be coprime with phi(n).\n",
    "# You can check if e and phi(n) are coprimes using GCD(e, phi(n)) == 1.\n",
    "\n",
    "\n",
    "assert(e > 1)\n",
    "assert(number.GCD(e, n) == 1)\n",
    "assert(number.GCD(e, p - 1) == 1)\n",
    "assert(number.GCD(e, q - 1) == 1)\n",
    "assert(number.GCD(e, phi) == 1)\n"
   ]
  },
  {
   "cell_type": "code",
   "execution_count": 148,
   "metadata": {},
   "outputs": [
    {
     "name": "stdout",
     "output_type": "stream",
     "text": [
      "d: 6257454712792114160664911747980999572818105217449008187640674150031229533969432850529521421111034069797613408527129551976004064634481011611097728956360809\n"
     ]
    }
   ],
   "source": [
    "# generate private key d\n",
    "# Choose d the multiplicative inverse of e\n",
    "d = pow(e, -1, phi)\n",
    "\n",
    "print(\"d:\", d)\n",
    "\n",
    "# simple check\n",
    "assert(d != 1)\n",
    "assert(d != e)\n"
   ]
  },
  {
   "cell_type": "code",
   "execution_count": 149,
   "metadata": {},
   "outputs": [
    {
     "name": "stdout",
     "output_type": "stream",
     "text": [
      "\n",
      "Public key (e,n) for the encryption is:\n",
      "e: 65537\n",
      "n: 6595603028648162274595048349509155620306225157790753005024476281753649902178696689718374667712876448796332478984623562307161087322986602757211280976294527\n",
      "\n",
      "Private key (d,n) for the decryption is:\n",
      "d: 6257454712792114160664911747980999572818105217449008187640674150031229533969432850529521421111034069797613408527129551976004064634481011611097728956360809\n",
      "n: 6595603028648162274595048349509155620306225157790753005024476281753649902178696689718374667712876448796332478984623562307161087322986602757211280976294527\n",
      "\n",
      "Cipher: 3005577784853804419504729110337317201013508833905234407116109845909101899763500993245336813841517623748984354013119853690237241767640261184555228557905618\n",
      "\n",
      "Summery:\n",
      "Original message: Hello, 12345 is my secret number sequence\n",
      "Plain message: 154637314025019744702789137565131337379293936220748634457054852998475649718103525793122439486399333\n",
      "Encrypted cipher message: 3005577784853804419504729110337317201013508833905234407116109845909101899763500993245336813841517623748984354013119853690237241767640261184555228557905618\n",
      "Plain message agine: 154637314025019744702789137565131337379293936220748634457054852998475649718103525793122439486399333\n",
      "Decrypted message: Hello, 12345 is my secret number sequence\n",
      "Bob uses RSA to send an encrypted message to Alice. The public exponent (e) is 65537 and the modulus (N) is 6595603028648162274595048349509155620306225157790753005024476281753649902178696689718374667712876448796332478984623562307161087322986602757211280976294527. With a cipher of 3005577784853804419504729110337317201013508833905234407116109845909101899763500993245336813841517623748984354013119853690237241767640261184555228557905618, determine the decrypted message:\n"
     ]
    }
   ],
   "source": [
    "# Encryption and Decryption\n",
    "#\n",
    "\n",
    "# The cipher c is the encrypted form of the message and is sent to the message receiver.\n",
    "c=pow(M,e,n)\n",
    "\n",
    "# Upon receipt of the cipher, the receiver decrypts the message with their private key\n",
    "msg_plaintext = pow(c,d,n)\n",
    "msg_decryptedtext = number.long_to_bytes(msg_plaintext).decode('utf-8')\n",
    "\n",
    "print('\\nPublic key (e,n) for the encryption is:\\ne: %d\\nn: %d' %(e,n))\n",
    "print('\\nPrivate key (d,n) for the decryption is:\\nd: %d\\nn: %d' %(d,n))\n",
    "print('\\nCipher: %s' % c)\n",
    "\n",
    "print('\\nSummery:')\n",
    "print(\"Original message:\", msg)\n",
    "print(\"Plain message:\", M)\n",
    "print(\"Encrypted cipher message:\", c)\n",
    "print(\"Plain message agine:\", msg_plaintext)\n",
    "print(\"Decrypted message:\", msg_decryptedtext)\n",
    "\n",
    "\n",
    "\n",
    "print(f'Bob uses RSA to send an encrypted message to Alice. The public exponent (e) is {e} and the modulus (N) is {n}. With a cipher of {c}, determine the decrypted message:')"
   ]
  },
  {
   "cell_type": "markdown",
   "metadata": {},
   "source": [
    "## Code Summery"
   ]
  },
  {
   "cell_type": "code",
   "execution_count": 152,
   "metadata": {},
   "outputs": [
    {
     "name": "stdout",
     "output_type": "stream",
     "text": [
      "Checks equality: True\n"
     ]
    }
   ],
   "source": [
    "# Setting up the encryption\n",
    "p = number.getStrongPrime(512)\n",
    "q = number.getStrongPrime(512)\n",
    "\n",
    "# key generation\n",
    "n = p*q\n",
    "phi = (p-1)*(q-1)\n",
    "\n",
    "e = 65537\n",
    "d = pow(e, -1, phi)\n",
    "assert(number.GCD(d,n) == 1)\n",
    "\n",
    "# Encryption\n",
    "c=pow(M,e,n)\n",
    "# Decryption\n",
    "msg_plaintext = pow(c,d,n)\n",
    "msg_decryptedtext = number.long_to_bytes(msg_plaintext).decode('utf-8')\n",
    "\n",
    "print('Checks equality:', msg == msg_decryptedtext)"
   ]
  },
  {
   "cell_type": "markdown",
   "metadata": {},
   "source": [
    "## Code examples links\n",
    "- https://asecuritysite.com/rsa/rsa_full\n",
    "- https://asecuritysite.com/rsa/rsa_crt4\n",
    "- https://asecuritysite.com/rsa/rsa_ctf04\n",
    "- https://asecuritysite.com/rsa/rsa_ctf05\n",
    "- https://asecuritysite.com/rsa/rsa_12_2\n",
    "- https://asecuritysite.com/cracking/rsa_ctf04\n",
    "- https://mathybit.github.io/crypto-rsa/\n",
    "- https://ctftime.org/writeup/29741\n",
    "- https://cryptobook.nakov.com/asymmetric-key-ciphers/rsa-encrypt-decrypt-examples\n",
    "- https://crypto.stackexchange.com/questions/12255/in-rsa-why-is-it-important-to-choose-e-so-that-it-is-coprime-to-%CF%86n"
   ]
  },
  {
   "cell_type": "markdown",
   "metadata": {},
   "source": []
  }
 ],
 "metadata": {
  "kernelspec": {
   "display_name": "Python 3.9.6 64-bit",
   "language": "python",
   "name": "python3"
  },
  "language_info": {
   "codemirror_mode": {
    "name": "ipython",
    "version": 3
   },
   "file_extension": ".py",
   "mimetype": "text/x-python",
   "name": "python",
   "nbconvert_exporter": "python",
   "pygments_lexer": "ipython3",
   "version": "3.9.6"
  },
  "orig_nbformat": 4,
  "vscode": {
   "interpreter": {
    "hash": "c65a76b623ff58757d879ffba0c64f863adb3d623b4a7ebf7852010e5ebe6c38"
   }
  }
 },
 "nbformat": 4,
 "nbformat_minor": 2
}
