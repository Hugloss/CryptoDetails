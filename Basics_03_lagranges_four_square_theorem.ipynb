{
 "cells": [
  {
   "attachments": {},
   "cell_type": "markdown",
   "metadata": {},
   "source": [
    "# Lagrange’s Four Square Theorem\n",
    "Lagrange’s Four Square Theorem states that every natural number can be written as sum of squares of four non negative integers.\n",
    "\n",
    "- [Lagrange's four-square theorem](https://en.wikipedia.org/wiki/Lagrange%27s_four-square_theorem)\n",
    "- [Bachet's conjecture](https://mathworld.wolfram.com/LagrangesFour-SquareTheorem.html)\n",
    "\n",
    "Express ${\\Delta}$ as the sum of four squares. Find (possibly by exhaustive search) $u_1, u_2, u_3, u_4$ such that:\n",
    "\n",
    "$$\n",
    "\\Delta \\leftarrow u_1^2 + u_2^2 +u_3^2 + u_4^2\n",
    "$$\n",
    "\n",
    "Note that ${\\Delta}$ will always be non-negative; cannot express a negative number as sum of four squares."
   ]
  },
  {
   "attachments": {},
   "cell_type": "markdown",
   "metadata": {},
   "source": [
    "## ${\\Delta}$ implementation\n",
    "When expressing the natural number $\\Delta$ as a sum of four integer squares, i.e $\\Delta = u_1^2 + u_2^2 + u_3^2 + u_4^2$ using Lagrange's four-square theorem. $\\Delta$ is calculated via brute force."
   ]
  },
  {
   "cell_type": "code",
   "execution_count": 3,
   "metadata": {},
   "outputs": [],
   "source": [
    "from math import floor, sqrt, pow"
   ]
  },
  {
   "cell_type": "code",
   "execution_count": 18,
   "metadata": {},
   "outputs": [],
   "source": [
    "# find the largest square less than the input\n",
    "# the input must be at least 1\n",
    "def largest_square_less_than(delta):\n",
    "    return int(floor(sqrt(float(delta))))\n",
    "\n",
    "# find all four all u values\n",
    "def four_squares(delta):\n",
    "    d = int(delta)\n",
    "\n",
    "    # Cannot express a negative number as sum of four squares\n",
    "    if d < 0:\n",
    "        return [-1, -1, -1, -1]\n",
    "\n",
    "    # expression start with the largest square\n",
    "    u1 = largest_square_less_than(d)\n",
    "    for i in range(u1,-1,-1):\n",
    "        u1 = i\n",
    "        u2 = largest_square_less_than(d - pow(u1, 2))\n",
    "        for j in range(u2,-1,-1):\n",
    "            u2 = j\n",
    "            u3 = largest_square_less_than(d - pow(u1, 2) - pow(u2, 2))\n",
    "            for k in range(u3,-1,-1):\n",
    "                u3 = k\n",
    "                u4 = largest_square_less_than(d - pow(u1, 2) - pow(u2, 2) - pow(u3, 2))\n",
    "\n",
    "                # calculate sum of four squares \n",
    "                u_pow =  int(pow(u1, 2) + pow(u2, 2) + pow(u3, 2) + pow(u4, 2))\n",
    "                # if sum of four squares equals delta return the four numbers\n",
    "                if u_pow == d:\n",
    "                    return [u1, u2, u3, u4]\n",
    "\n",
    "    return [-1, -1, -1, -1]"
   ]
  },
  {
   "cell_type": "code",
   "execution_count": 19,
   "metadata": {},
   "outputs": [
    {
     "name": "stdout",
     "output_type": "stream",
     "text": [
      "[4, 2, 1, 1]\n",
      "[2065, 45, 6, 1]\n",
      "[30, 4, 4, 4]\n",
      "[27, 6, 5, 3]\n"
     ]
    }
   ],
   "source": [
    "print(four_squares(22))\n",
    "print(four_squares(4266287))\n",
    "print(four_squares(948))\n",
    "print(four_squares(799))\n"
   ]
  },
  {
   "cell_type": "code",
   "execution_count": 37,
   "metadata": {},
   "outputs": [
    {
     "name": "stdout",
     "output_type": "stream",
     "text": [
      "17 * 3 = 51\n",
      "[7, 1, 1, 0]\n",
      "17 * 5 = 85\n",
      "[9, 2, 0, 0]\n",
      "17 * 7 = 119\n",
      "[10, 3, 3, 1]\n",
      "17 * 11 = 187\n",
      "[13, 4, 1, 1]\n",
      "17 * 13 = 221\n",
      "[14, 5, 0, 0]\n",
      "17 * 17 = 289\n",
      "[17, 0, 0, 0]\n",
      "17 * 19 = 323\n",
      "[17, 5, 3, 0]\n",
      "17 * 23 = 391\n",
      "[19, 5, 2, 1]\n",
      "17 * 29 = 493\n",
      "[22, 3, 0, 0]\n",
      "17 * 31 = 527\n",
      "[22, 5, 3, 3]\n",
      "17 * 37 = 629\n",
      "[25, 2, 0, 0]\n",
      "17 * 41 = 697\n",
      "[26, 4, 2, 1]\n",
      "17 * 43 = 731\n",
      "[27, 1, 1, 0]\n",
      "17 * 47 = 799\n",
      "[27, 6, 5, 3]\n",
      "17 * 53 = 901\n",
      "[30, 1, 0, 0]\n"
     ]
    }
   ],
   "source": [
    "prime_num = [3, 5, 7, 11, 13, 17, 19, 23, 29, 31, 37, 41, 43, 47, 53]\n",
    "for i in prime_num:\n",
    "    print(f'17 * {i} = {17 * i}')\n",
    "    print(four_squares(17 * i))"
   ]
  },
  {
   "attachments": {},
   "cell_type": "markdown",
   "metadata": {},
   "source": [
    "## Reference\n",
    "- https://github.com/hyperledger/ursa/blob/5cd3331e1428daad73a0e0d857f8bd01affb4441/libursa/src/cl/helpers.rs#L472\n",
    "- https://github.com/evernym/sovrin-client-rust/blob/c3664cad7cd92c8cb661071c82fd3a1f4678a807/src/services/anoncreds/helpers.rs#L71\n",
    "- https://github.com/hyperledger-archives/indy-anoncreds/blob/9d9cda3d505c312257d99a13d74d8f05dac3091a/anoncreds/protocol/utils.py#L232\n",
    "- https://www.geeksforgeeks.org/lagranges-four-square-theorem/"
   ]
  },
  {
   "attachments": {},
   "cell_type": "markdown",
   "metadata": {},
   "source": []
  }
 ],
 "metadata": {
  "kernelspec": {
   "display_name": "Python 3",
   "language": "python",
   "name": "python3"
  },
  "language_info": {
   "codemirror_mode": {
    "name": "ipython",
    "version": 3
   },
   "file_extension": ".py",
   "mimetype": "text/x-python",
   "name": "python",
   "nbconvert_exporter": "python",
   "pygments_lexer": "ipython3",
   "version": "3.9.6"
  },
  "orig_nbformat": 4
 },
 "nbformat": 4,
 "nbformat_minor": 2
}
