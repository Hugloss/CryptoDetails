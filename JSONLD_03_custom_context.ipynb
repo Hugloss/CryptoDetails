{
 "cells": [
  {
   "cell_type": "markdown",
   "metadata": {},
   "source": [
    "# JSONLD Custom Context"
   ]
  },
  {
   "cell_type": "code",
   "execution_count": 1,
   "metadata": {},
   "outputs": [],
   "source": [
    "import json\n",
    "from pyld import jsonld\n"
   ]
  },
  {
   "cell_type": "markdown",
   "metadata": {},
   "source": [
    "## Example from Github\n",
    "- https://gist.github.com/ldodds/932e46e2459775d0ef8c3978866a745a#file-custom-jsonld\n"
   ]
  },
  {
   "cell_type": "code",
   "execution_count": 12,
   "metadata": {},
   "outputs": [],
   "source": [
    "doc = {\n",
    "  \"@context\": [\n",
    "    \"https://www.w3.org/ns/odrl.jsonld\",\n",
    "    \"https://gist.githubusercontent.com/ldodds/932e46e2459775d0ef8c3978866a745a/raw/e561eb4fba120764d6f36c0f8544cb33dd226301/custom.jsonld\"\n",
    "  ],\n",
    "  \"type\": \"Event\",\n",
    "  \"ext:myCustomProperty\": \"foo\"\n",
    "}"
   ]
  },
  {
   "cell_type": "markdown",
   "metadata": {},
   "source": [
    "Custom context is:\n",
    "\n",
    "```json\n",
    "{\n",
    "   \"@context\":{\n",
    "      \"label\":\"http://www.w3.org/2000/01/rdf-schema#label\",\n",
    "      \"xsd\":\"http://www.w3.org/2001/XMLSchema#\",\n",
    "      \"ext\":\"http://example.org/jsonld#\",\n",
    "      \"id\":\"@id\"\n",
    "   },\n",
    "   \"ext:myCustomProperty\":{\n",
    "      \"id\":\"ext:myCustomProperty\",\n",
    "      \"label\":\"This is the label\"\n",
    "   },\n",
    "   \"ext:myNumericProperty\":{\n",
    "      \"id\":\"ext:myNumericProperty\",\n",
    "      \"label\":\"This is a property with a number value\",\n",
    "      \"@type\":\"xsd:integer\"\n",
    "   },\n",
    "   \"ext:myURLProperty\":{\n",
    "      \"id\":\"ext:myURLProperty\",\n",
    "      \"label\":\"This is a property with a URI value\",\n",
    "      \"@type\":\"@id\"\n",
    "   }\n",
    "}\n",
    "```"
   ]
  },
  {
   "cell_type": "markdown",
   "metadata": {},
   "source": [
    "## Expanded from JSON-LD input"
   ]
  },
  {
   "cell_type": "code",
   "execution_count": 13,
   "metadata": {},
   "outputs": [
    {
     "name": "stdout",
     "output_type": "stream",
     "text": [
      "[\n",
      "  {\n",
      "    \"http://example.org/jsonld#myCustomProperty\": [\n",
      "      {\n",
      "        \"@value\": \"foo\"\n",
      "      }\n",
      "    ],\n",
      "    \"@type\": [\n",
      "      \"Event\"\n",
      "    ]\n",
      "  }\n",
      "]\n"
     ]
    }
   ],
   "source": [
    "expanded_data = jsonld.expand(doc)\n",
    "print(json.dumps(expanded_data, indent=2))"
   ]
  },
  {
   "cell_type": "code",
   "execution_count": null,
   "metadata": {},
   "outputs": [],
   "source": []
  }
 ],
 "metadata": {
  "kernelspec": {
   "display_name": "Python 3",
   "language": "python",
   "name": "python3"
  },
  "language_info": {
   "codemirror_mode": {
    "name": "ipython",
    "version": 3
   },
   "file_extension": ".py",
   "mimetype": "text/x-python",
   "name": "python",
   "nbconvert_exporter": "python",
   "pygments_lexer": "ipython3",
   "version": "3.10.6"
  },
  "orig_nbformat": 4
 },
 "nbformat": 4,
 "nbformat_minor": 2
}
