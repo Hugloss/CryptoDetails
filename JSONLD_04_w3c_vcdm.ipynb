{
 "cells": [
  {
   "cell_type": "markdown",
   "metadata": {},
   "source": [
    "# JSONLD and W3C VCDM"
   ]
  },
  {
   "cell_type": "code",
   "execution_count": 17,
   "metadata": {},
   "outputs": [],
   "source": [
    "import json\n",
    "import jwt\n",
    "from pyld import jsonld\n"
   ]
  },
  {
   "cell_type": "markdown",
   "metadata": {},
   "source": [
    "## Example 5 from W3C\n",
    "- https://www.w3.org/TR/vc-data-model-2.0/#example-usage-of-the-id-property"
   ]
  },
  {
   "cell_type": "code",
   "execution_count": 18,
   "metadata": {},
   "outputs": [],
   "source": [
    "doc = {\n",
    "    \"@context\": [\n",
    "        \"https://www.w3.org/ns/credentials/v2\",\n",
    "        \"https://www.w3.org/ns/credentials/examples/v2\"\n",
    "    ],\n",
    "    \"id\": \"http://university.example/credentials/3732\",\n",
    "    \"type\": [\"VerifiableCredential\", \"ExampleDegreeCredential\"],\n",
    "    \"issuer\": \"https://university.example/issuers/565049\",\n",
    "    \"validFrom\": \"2010-01-01T00:00:00Z\",\n",
    "    \"credentialSubject\": {\n",
    "        \"id\": \"did:example:ebfeb1f712ebc6f1c276e12ec21\",\n",
    "        \"degree\": {\n",
    "            \"type\": \"ExampleBachelorDegree\",\n",
    "            \"name\": \"Bachelor of Science and Arts\"\n",
    "        }\n",
    "    }\n",
    "}\n"
   ]
  },
  {
   "cell_type": "markdown",
   "metadata": {},
   "source": [
    "## Expanded from JSON-LD input"
   ]
  },
  {
   "cell_type": "code",
   "execution_count": 19,
   "metadata": {},
   "outputs": [
    {
     "name": "stdout",
     "output_type": "stream",
     "text": [
      "[\n",
      "  {\n",
      "    \"https://www.w3.org/2018/credentials#credentialSubject\": [\n",
      "      {\n",
      "        \"https://www.w3.org/ns/credentials/examples#degree\": [\n",
      "          {\n",
      "            \"https://www.w3.org/ns/credentials/examples#name\": [\n",
      "              {\n",
      "                \"@value\": \"Bachelor of Science and Arts\"\n",
      "              }\n",
      "            ],\n",
      "            \"@type\": [\n",
      "              \"https://www.w3.org/ns/credentials/examples#ExampleBachelorDegree\"\n",
      "            ]\n",
      "          }\n",
      "        ],\n",
      "        \"@id\": \"did:example:ebfeb1f712ebc6f1c276e12ec21\"\n",
      "      }\n",
      "    ],\n",
      "    \"@id\": \"http://university.example/credentials/3732\",\n",
      "    \"https://www.w3.org/2018/credentials#issuer\": [\n",
      "      {\n",
      "        \"@id\": \"https://university.example/issuers/565049\"\n",
      "      }\n",
      "    ],\n",
      "    \"@type\": [\n",
      "      \"https://www.w3.org/2018/credentials#VerifiableCredential\",\n",
      "      \"https://www.w3.org/ns/credentials/examples#ExampleDegreeCredential\"\n",
      "    ],\n",
      "    \"https://www.w3.org/2018/credentials#validFrom\": [\n",
      "      {\n",
      "        \"@type\": \"http://www.w3.org/2001/XMLSchema#dateTime\",\n",
      "        \"@value\": \"2010-01-01T00:00:00Z\"\n",
      "      }\n",
      "    ]\n",
      "  }\n",
      "]\n"
     ]
    }
   ],
   "source": [
    "expanded_data = jsonld.expand(doc)\n",
    "print(json.dumps(expanded_data, indent=2))"
   ]
  },
  {
   "cell_type": "markdown",
   "metadata": {},
   "source": [
    "## Example 5 of VC-JWT\n",
    "Implementer's guidelines for VC:\n",
    "- https://w3c.github.io/vc-imp-guide/#extending-jwts"
   ]
  },
  {
   "cell_type": "code",
   "execution_count": 20,
   "metadata": {},
   "outputs": [],
   "source": [
    "header = {\n",
    "  \"alg\": \"ES256\",\n",
    "  \"typ\": \"JWT\"\n",
    "}\n",
    "\n",
    "payload = {\n",
    "  \"vc\": {\n",
    "    \"@context\": [\n",
    "      \"https://www.w3.org/2018/credentials/v1\",\n",
    "      \"https://www.w3.org/2018/credentials/examples/v1\"\n",
    "    ],\n",
    "    \"id\": \"http://example.edu/credentials/3732\",\n",
    "    \"type\": [\n",
    "      \"VerifiableCredential\",\n",
    "      \"UniversityDegreeCredential\"\n",
    "    ],\n",
    "    \"issuer\": \"https://example.edu/issuers/565049\",\n",
    "    \"issuanceDate\": \"2010-01-01T00:00:00Z\",\n",
    "    \"credentialSubject\": {\n",
    "      \"id\": \"did:example:ebfeb1f712ebc6f1c276e12ec21\",\n",
    "      \"degree\": {\n",
    "        \"type\": \"BachelorDegree\",\n",
    "        \"name\": \"Bachelor of Science and Arts\"\n",
    "      }\n",
    "    }\n",
    "  },\n",
    "  \"iss\": \"https://example.edu/issuers/565049\",\n",
    "  \"nbf\": 1262304000,\n",
    "  \"jti\": \"http://example.edu/credentials/3732\",\n",
    "  \"sub\": \"did:example:ebfeb1f712ebc6f1c276e12ec21\"\n",
    "}"
   ]
  },
  {
   "cell_type": "markdown",
   "metadata": {},
   "source": [
    "Note the duplications in `vc`:\n",
    "\n",
    "* `iss` and `issuer`\n",
    "* `jti` and `id`\n",
    "* `sub` and `credentialSubject`"
   ]
  },
  {
   "cell_type": "markdown",
   "metadata": {},
   "source": [
    "The following are REQUIRED properties for a W3C VC 1.0:\n",
    "\n",
    "* `@context`\n",
    "* `type`\n",
    "* `credentialSubject`\n",
    "* `issuer`\n",
    "* `issuanceDate`\n",
    "\n",
    "The following are OPTIONAL properties for a W3C VC 1.0:\n",
    "\n",
    "* `id`\n",
    "* `expiration`\n",
    "* `status`\n",
    "\n",
    "For VC model 2.0 is a bit different, for example `issuanceDate` and `nbf` is removed in 2.0"
   ]
  },
  {
   "cell_type": "markdown",
   "metadata": {},
   "source": [
    "- https://www.w3.org/TR/vc-data-model/#jwt-decoding\n",
    "- https://www.w3.org/TR/vc-data-model-2.0/#basic-concepts"
   ]
  },
  {
   "cell_type": "code",
   "execution_count": 21,
   "metadata": {},
   "outputs": [
    {
     "name": "stdout",
     "output_type": "stream",
     "text": [
      "[\n",
      "  {\n",
      "    \"https://www.w3.org/2018/credentials#credentialSubject\": [\n",
      "      {\n",
      "        \"https://example.org/examples#degree\": [\n",
      "          {\n",
      "            \"http://schema.org/name\": [\n",
      "              {\n",
      "                \"@type\": \"http://www.w3.org/1999/02/22-rdf-syntax-ns#HTML\",\n",
      "                \"@value\": \"Bachelor of Science and Arts\"\n",
      "              }\n",
      "            ],\n",
      "            \"@type\": [\n",
      "              \"https://example.org/examples#BachelorDegree\"\n",
      "            ]\n",
      "          }\n",
      "        ],\n",
      "        \"@id\": \"did:example:ebfeb1f712ebc6f1c276e12ec21\"\n",
      "      }\n",
      "    ],\n",
      "    \"@id\": \"http://example.edu/credentials/3732\",\n",
      "    \"https://www.w3.org/2018/credentials#issuanceDate\": [\n",
      "      {\n",
      "        \"@type\": \"http://www.w3.org/2001/XMLSchema#dateTime\",\n",
      "        \"@value\": \"2010-01-01T00:00:00Z\"\n",
      "      }\n",
      "    ],\n",
      "    \"https://www.w3.org/2018/credentials#issuer\": [\n",
      "      {\n",
      "        \"@id\": \"https://example.edu/issuers/565049\"\n",
      "      }\n",
      "    ],\n",
      "    \"@type\": [\n",
      "      \"https://www.w3.org/2018/credentials#VerifiableCredential\",\n",
      "      \"https://example.org/examples#UniversityDegreeCredential\"\n",
      "    ]\n",
      "  }\n",
      "]\n"
     ]
    }
   ],
   "source": [
    "expanded_data = jsonld.expand(payload['vc'])\n",
    "print(json.dumps(expanded_data, indent=2))"
   ]
  },
  {
   "cell_type": "markdown",
   "metadata": {},
   "source": [
    "## JWT\n",
    "- https://auth0.com/docs/secure/tokens/json-web-tokens/json-web-token-claims\n",
    "\n",
    "Encode jsonld to jwt"
   ]
  },
  {
   "cell_type": "code",
   "execution_count": 22,
   "metadata": {},
   "outputs": [
    {
     "name": "stdout",
     "output_type": "stream",
     "text": [
      "eyJhbGciOiJIUzI1NiIsInR5cCI6IkpXVCJ9.eyJ2YyI6eyJAY29udGV4dCI6WyJodHRwczovL3d3dy53My5vcmcvMjAxOC9jcmVkZW50aWFscy92MSIsImh0dHBzOi8vd3d3LnczLm9yZy8yMDE4L2NyZWRlbnRpYWxzL2V4YW1wbGVzL3YxIl0sImlkIjoiaHR0cDovL2V4YW1wbGUuZWR1L2NyZWRlbnRpYWxzLzM3MzIiLCJ0eXBlIjpbIlZlcmlmaWFibGVDcmVkZW50aWFsIiwiVW5pdmVyc2l0eURlZ3JlZUNyZWRlbnRpYWwiXSwiaXNzdWVyIjoiaHR0cHM6Ly9leGFtcGxlLmVkdS9pc3N1ZXJzLzU2NTA0OSIsImlzc3VhbmNlRGF0ZSI6IjIwMTAtMDEtMDFUMDA6MDA6MDBaIiwiY3JlZGVudGlhbFN1YmplY3QiOnsiaWQiOiJkaWQ6ZXhhbXBsZTplYmZlYjFmNzEyZWJjNmYxYzI3NmUxMmVjMjEiLCJkZWdyZWUiOnsidHlwZSI6IkJhY2hlbG9yRGVncmVlIiwibmFtZSI6IkJhY2hlbG9yIG9mIFNjaWVuY2UgYW5kIEFydHMifX19LCJpc3MiOiJodHRwczovL2V4YW1wbGUuZWR1L2lzc3VlcnMvNTY1MDQ5IiwibmJmIjoxMjYyMzA0MDAwLCJqdGkiOiJodHRwOi8vZXhhbXBsZS5lZHUvY3JlZGVudGlhbHMvMzczMiIsInN1YiI6ImRpZDpleGFtcGxlOmViZmViMWY3MTJlYmM2ZjFjMjc2ZTEyZWMyMSJ9.VeP6Ctlm3Pb2Gq18xfaFEMrlgtjSX_Ak78TOLhUitCs\n"
     ]
    }
   ],
   "source": [
    "# Set your secret key\n",
    "secret_key = 'your_secret_key'\n",
    "\n",
    "# Create the JWT header\n",
    "header = {\n",
    "    \"alg\": \"HS256\",\n",
    "    \"typ\": \"JWT\",\n",
    "}\n",
    "\n",
    "# Encode the data into a JWT\n",
    "encoded_jwt = jwt.encode(payload, secret_key, algorithm='HS256', headers=header)\n",
    "\n",
    "# Print the resulting JWT\n",
    "print(encoded_jwt)"
   ]
  },
  {
   "cell_type": "markdown",
   "metadata": {},
   "source": [
    "Decode jwt to jsonld"
   ]
  },
  {
   "cell_type": "code",
   "execution_count": 23,
   "metadata": {},
   "outputs": [
    {
     "name": "stdout",
     "output_type": "stream",
     "text": [
      "{\n",
      "  \"vc\": {\n",
      "    \"@context\": [\n",
      "      \"https://www.w3.org/2018/credentials/v1\",\n",
      "      \"https://www.w3.org/2018/credentials/examples/v1\"\n",
      "    ],\n",
      "    \"id\": \"http://example.edu/credentials/3732\",\n",
      "    \"type\": [\n",
      "      \"VerifiableCredential\",\n",
      "      \"UniversityDegreeCredential\"\n",
      "    ],\n",
      "    \"issuer\": \"https://example.edu/issuers/565049\",\n",
      "    \"issuanceDate\": \"2010-01-01T00:00:00Z\",\n",
      "    \"credentialSubject\": {\n",
      "      \"id\": \"did:example:ebfeb1f712ebc6f1c276e12ec21\",\n",
      "      \"degree\": {\n",
      "        \"type\": \"BachelorDegree\",\n",
      "        \"name\": \"Bachelor of Science and Arts\"\n",
      "      }\n",
      "    }\n",
      "  },\n",
      "  \"iss\": \"https://example.edu/issuers/565049\",\n",
      "  \"nbf\": 1262304000,\n",
      "  \"jti\": \"http://example.edu/credentials/3732\",\n",
      "  \"sub\": \"did:example:ebfeb1f712ebc6f1c276e12ec21\"\n",
      "}\n"
     ]
    }
   ],
   "source": [
    "decoded_jwt = jwt.decode(encoded_jwt, secret_key, algorithms='HS256')\n",
    "print(json.dumps(decoded_jwt, indent=2))"
   ]
  },
  {
   "cell_type": "markdown",
   "metadata": {},
   "source": [
    "## References\n",
    "- https://github.com/hyperledger/aries-cloudagent-python/blob/main/JsonLdCredentials.md\n",
    "- https://colab.research.google.com/drive/1eq1rdslBzOOQP4Cpo5gh5xuIPx2JagEe?usp=sharing"
   ]
  },
  {
   "cell_type": "markdown",
   "metadata": {},
   "source": []
  }
 ],
 "metadata": {
  "kernelspec": {
   "display_name": "Python 3",
   "language": "python",
   "name": "python3"
  },
  "language_info": {
   "codemirror_mode": {
    "name": "ipython",
    "version": 3
   },
   "file_extension": ".py",
   "mimetype": "text/x-python",
   "name": "python",
   "nbconvert_exporter": "python",
   "pygments_lexer": "ipython3",
   "version": "3.10.6"
  },
  "orig_nbformat": 4
 },
 "nbformat": 4,
 "nbformat_minor": 2
}
