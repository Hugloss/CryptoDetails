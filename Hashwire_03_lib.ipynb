{
 "cells": [
  {
   "cell_type": "code",
   "execution_count": 1,
   "metadata": {},
   "outputs": [],
   "source": [
    "import hashwire as hw\n",
    "from datetime import datetime, date\n",
    "from zoneinfo import ZoneInfo\n",
    "\n",
    "import pandas as pd"
   ]
  },
  {
   "attachments": {},
   "cell_type": "markdown",
   "metadata": {},
   "source": [
    "# Create proof for users age in days"
   ]
  },
  {
   "cell_type": "code",
   "execution_count": 2,
   "metadata": {},
   "outputs": [],
   "source": [
    "def age_in_days(birth_date):\n",
    "        delta = datetime.now(tz=ZoneInfo(\"Europe/Stockholm\")).date() - date.fromisoformat(birth_date)\n",
    "        return delta.days"
   ]
  },
  {
   "cell_type": "code",
   "execution_count": 3,
   "metadata": {},
   "outputs": [
    {
     "name": "stdout",
     "output_type": "stream",
     "text": [
      "The users age in days are:  13770\n",
      "Number of columns of hash chains that need to be created for the hash wire is:  5\n"
     ]
    }
   ],
   "source": [
    "birth_date = \"1985-09-09\"\n",
    "user_age_in_days = age_in_days(birth_date)\n",
    "lenU = len(str(user_age_in_days))\n",
    "\n",
    "print(f\"The users age in days are: \", user_age_in_days)\n",
    "print(f\"Number of columns of hash chains that need to be created for the hash wire is: \", lenU)"
   ]
  },
  {
   "attachments": {},
   "cell_type": "markdown",
   "metadata": {},
   "source": [
    "# Create Hash proof"
   ]
  },
  {
   "cell_type": "code",
   "execution_count": 4,
   "metadata": {},
   "outputs": [],
   "source": [
    "user_hash_proof = hw.HashChains(user_age_in_days)"
   ]
  },
  {
   "attachments": {},
   "cell_type": "markdown",
   "metadata": {},
   "source": [
    "View all it's properties"
   ]
  },
  {
   "cell_type": "code",
   "execution_count": 5,
   "metadata": {},
   "outputs": [
    {
     "data": {
      "text/plain": [
       "[13770, 13769, 13699, 12999, 9999]"
      ]
     },
     "execution_count": 5,
     "metadata": {},
     "output_type": "execute_result"
    }
   ],
   "source": [
    "user_hash_proof.mdp"
   ]
  },
  {
   "cell_type": "code",
   "execution_count": 6,
   "metadata": {},
   "outputs": [
    {
     "data": {
      "text/plain": [
       "['a681f3aeb46187ebfbcaddff5c78e3b8cb35bb23c9e405dd6a5721ed9db8cf6b',\n",
       " 'a3eacad8dab5737a25b5c376096dbff8d3fc59aec23d50bed8625af06e91ee12',\n",
       " 'cc6ad140b1e284bf1aba0af12f5136997f7e2e9ddedf5d15f037c767e7b4049d',\n",
       " '8422f457261ef9699e3c21eea3d5f2326d2793b7b19c4af82cbefdb770229f10',\n",
       " 'b026082e06a40bef96a3d7283bb084b8abf2f195c329b58bf3e6c1eace4b526e']"
      ]
     },
     "execution_count": 6,
     "metadata": {},
     "output_type": "execute_result"
    }
   ],
   "source": [
    "user_hash_proof.seeds"
   ]
  },
  {
   "cell_type": "code",
   "execution_count": 7,
   "metadata": {},
   "outputs": [
    {
     "data": {
      "text/plain": [
       "{13770: ['18404add7fc77786e7cf7b6fe5e05973d4545aa66164eaa19e189fb3cd4c9082',\n",
       "  'f9bc21496ae44909028951e226530db1bb3cfe6bb05a7ea4854c4276a15a9acd',\n",
       "  'caca830106c069da2d04403685317842515ef7997a12a283c5ea0a173e0496ee',\n",
       "  '05b2e8a3e4379e232b3d0d4678b3d838a9bb811d8b54ed03269c1a712415d637',\n",
       "  '57126d8ce6bd7e9139d71f744c7689b684c0c83871bc7f3310e77fd418d16094'],\n",
       " 13769: ['18404add7fc77786e7cf7b6fe5e05973d4545aa66164eaa19e189fb3cd4c9082',\n",
       "  'f9bc21496ae44909028951e226530db1bb3cfe6bb05a7ea4854c4276a15a9acd',\n",
       "  'caca830106c069da2d04403685317842515ef7997a12a283c5ea0a173e0496ee',\n",
       "  'c2eef2c2a8a94e81e0aeb38182f7368a2e35efe5747b7a37f875763959db8894',\n",
       "  '7766626031478ea9cb8a3db64d570ead1fb820f2e827b009853be4541f9eb9fd'],\n",
       " 13699: ['18404add7fc77786e7cf7b6fe5e05973d4545aa66164eaa19e189fb3cd4c9082',\n",
       "  'f9bc21496ae44909028951e226530db1bb3cfe6bb05a7ea4854c4276a15a9acd',\n",
       "  '9a96761feb39c0548bd2be5fb5a2523410726a297223b0f10993b905aae10bf3',\n",
       "  '79e40a273206af18485ecba70f6448e68c81afbbc0fa3db894160e5a9d11627f',\n",
       "  '7766626031478ea9cb8a3db64d570ead1fb820f2e827b009853be4541f9eb9fd'],\n",
       " 12999: ['18404add7fc77786e7cf7b6fe5e05973d4545aa66164eaa19e189fb3cd4c9082',\n",
       "  '4c9a4e3d6efe5a39186448d8c778f870b942cd81a669973860edc760ad3f91a1',\n",
       "  '9ef35e6a5e4c9489b9f9bb3380eec4485f8aebc54e1f687d11dc5e53506a523d',\n",
       "  '79e40a273206af18485ecba70f6448e68c81afbbc0fa3db894160e5a9d11627f',\n",
       "  '7766626031478ea9cb8a3db64d570ead1fb820f2e827b009853be4541f9eb9fd'],\n",
       " 9999: ['7b95b88c7d5f20b6d0bcc9f065ac1fb745403deb8d9e06240ec0f313d202391f',\n",
       "  '9ef35e6a5e4c9489b9f9bb3380eec4485f8aebc54e1f687d11dc5e53506a523d',\n",
       "  '79e40a273206af18485ecba70f6448e68c81afbbc0fa3db894160e5a9d11627f',\n",
       "  '7766626031478ea9cb8a3db64d570ead1fb820f2e827b009853be4541f9eb9fd']}"
      ]
     },
     "execution_count": 7,
     "metadata": {},
     "output_type": "execute_result"
    }
   ],
   "source": [
    "user_hash_proof.commitments"
   ]
  },
  {
   "cell_type": "code",
   "execution_count": 8,
   "metadata": {},
   "outputs": [
    {
     "data": {
      "text/html": [
       "<div>\n",
       "<style scoped>\n",
       "    .dataframe tbody tr th:only-of-type {\n",
       "        vertical-align: middle;\n",
       "    }\n",
       "\n",
       "    .dataframe tbody tr th {\n",
       "        vertical-align: top;\n",
       "    }\n",
       "\n",
       "    .dataframe thead th {\n",
       "        text-align: right;\n",
       "    }\n",
       "</style>\n",
       "<table border=\"1\" class=\"dataframe\">\n",
       "  <thead>\n",
       "    <tr style=\"text-align: right;\">\n",
       "      <th></th>\n",
       "      <th>0</th>\n",
       "      <th>1</th>\n",
       "      <th>2</th>\n",
       "      <th>3</th>\n",
       "      <th>4</th>\n",
       "    </tr>\n",
       "  </thead>\n",
       "  <tbody>\n",
       "    <tr>\n",
       "      <th>0</th>\n",
       "      <td>ffda17816b84177e54d7583b11152d866eb8501ecbc33b...</td>\n",
       "      <td>d5de3d85aac69bf908ab759a69e499cbf67ab4ac87d1e1...</td>\n",
       "      <td>7cdeaf4feaf3b8b0e640585b779980c61b371730c74e98...</td>\n",
       "      <td>5a367abaf49e613277bc012aeab8cefb05a8a282457f72...</td>\n",
       "      <td>57126d8ce6bd7e9139d71f744c7689b684c0c83871bc7f...</td>\n",
       "    </tr>\n",
       "    <tr>\n",
       "      <th>1</th>\n",
       "      <td>18404add7fc77786e7cf7b6fe5e05973d4545aa66164ea...</td>\n",
       "      <td>301a02476498a59f279329d30e296e8c5f7f0376510520...</td>\n",
       "      <td>90bcff443a83593662fc354c0bfcceba10907c281da406...</td>\n",
       "      <td>5d84f1826fe563225c1a884d86b0f10211885f385dad05...</td>\n",
       "      <td>a133b128923d3a787d767a9b5832fe581e752885e9df02...</td>\n",
       "    </tr>\n",
       "    <tr>\n",
       "      <th>2</th>\n",
       "      <td>6484427ada5e63aa5f0026b1aa24751f0f106bde878129...</td>\n",
       "      <td>4c9a4e3d6efe5a39186448d8c778f870b942cd81a66997...</td>\n",
       "      <td>bac1c8790aedbe44e29e2effb1bc3e4ab56fe768973a55...</td>\n",
       "      <td>550afca664e652b748d4b996aa44fb1dc6966ada142e76...</td>\n",
       "      <td>8b3281817b46cdf14d36b9041271b810b044731226e553...</td>\n",
       "    </tr>\n",
       "    <tr>\n",
       "      <th>3</th>\n",
       "      <td>6171a094568533efd9d14a025d878301f78e65a78e09e2...</td>\n",
       "      <td>f9bc21496ae44909028951e226530db1bb3cfe6bb05a7e...</td>\n",
       "      <td>88c02bfb63b42739c49050a8944d1219ad4b85276131bd...</td>\n",
       "      <td>c5abd42c9cd399fbf13a2aa76bb2fb2bb13d9fc2d2b714...</td>\n",
       "      <td>54c82f76aedec6901b8e222b6bb2bb661ab22d3d270a75...</td>\n",
       "    </tr>\n",
       "    <tr>\n",
       "      <th>4</th>\n",
       "      <td>0e9f2439b55a4c6cffe6a1509c02a57e59ea499f43ae95...</td>\n",
       "      <td>22690ef1a2083a7c9ba0630eb7ea8c832c9e0b8aa492d7...</td>\n",
       "      <td>c5e526647714820c90ed1dc2f2968d533fc2754ed61148...</td>\n",
       "      <td>24a1b55831ef3cded1e94c8d75ce2e6d4af25eba10da39...</td>\n",
       "      <td>29b4d5cca3276a1af3cf649d06672d7770296dc930dda6...</td>\n",
       "    </tr>\n",
       "    <tr>\n",
       "      <th>5</th>\n",
       "      <td>b5e670d44cf2e864219d9e993e0e03b406ee2af9f65357...</td>\n",
       "      <td>8b98b02b5a053bdaa20fda7bb9b3641009ce006ef052bb...</td>\n",
       "      <td>05077390376943a69c1e4bb176e5d9e53c6ba603f0cd14...</td>\n",
       "      <td>9f6a8d8e1b2a29282f07802f5d3988f05115f1f2e2ed59...</td>\n",
       "      <td>199f03648373f2b7e3bcf9b7ea4c6ede5f618b179957e3...</td>\n",
       "    </tr>\n",
       "    <tr>\n",
       "      <th>6</th>\n",
       "      <td>001262bd55307a10c4dd420dba876ca6374e5df70698c9...</td>\n",
       "      <td>1dd80a89c7a46dce84aa1efd468f0c3998b7d2d2ce31c6...</td>\n",
       "      <td>9a96761feb39c0548bd2be5fb5a2523410726a297223b0...</td>\n",
       "      <td>c2eef2c2a8a94e81e0aeb38182f7368a2e35efe5747b7a...</td>\n",
       "      <td>44af49981757ccb333b401bb2216ed3ea7b9bed32da082...</td>\n",
       "    </tr>\n",
       "    <tr>\n",
       "      <th>7</th>\n",
       "      <td>e42fb04459bd00d9a627546c2ab47563fe1e67e0620d12...</td>\n",
       "      <td>24ce6f205b9f68316f0062fcc803deaff667e2318f54e7...</td>\n",
       "      <td>caca830106c069da2d04403685317842515ef7997a12a2...</td>\n",
       "      <td>05b2e8a3e4379e232b3d0d4678b3d838a9bb811d8b54ed...</td>\n",
       "      <td>4934649f34d545c2d961ae80d7fadf148261a62c160359...</td>\n",
       "    </tr>\n",
       "    <tr>\n",
       "      <th>8</th>\n",
       "      <td>d362f6421a6299a285af7736ff3594249eb72e58740351...</td>\n",
       "      <td>1f06d8727ce5049f95b88ca20e7d1bf9b4a1566e05bebb...</td>\n",
       "      <td>e7d809833e9ef46052e6a859b8ab8bd7f078e672c9fa5e...</td>\n",
       "      <td>75752dc862ce6a9a98d708e5d550c13fd7a6f90bbf2e0a...</td>\n",
       "      <td>4f64703046d0ff4bf4b9b145c634ee06912b2fff4facb0...</td>\n",
       "    </tr>\n",
       "    <tr>\n",
       "      <th>9</th>\n",
       "      <td>3945fde819b1c5bbdb549565f0c5928ecc84703bc91190...</td>\n",
       "      <td>7b95b88c7d5f20b6d0bcc9f065ac1fb745403deb8d9e06...</td>\n",
       "      <td>9ef35e6a5e4c9489b9f9bb3380eec4485f8aebc54e1f68...</td>\n",
       "      <td>79e40a273206af18485ecba70f6448e68c81afbbc0fa3d...</td>\n",
       "      <td>7766626031478ea9cb8a3db64d570ead1fb820f2e827b0...</td>\n",
       "    </tr>\n",
       "  </tbody>\n",
       "</table>\n",
       "</div>"
      ],
      "text/plain": [
       "                                                   0  \\\n",
       "0  ffda17816b84177e54d7583b11152d866eb8501ecbc33b...   \n",
       "1  18404add7fc77786e7cf7b6fe5e05973d4545aa66164ea...   \n",
       "2  6484427ada5e63aa5f0026b1aa24751f0f106bde878129...   \n",
       "3  6171a094568533efd9d14a025d878301f78e65a78e09e2...   \n",
       "4  0e9f2439b55a4c6cffe6a1509c02a57e59ea499f43ae95...   \n",
       "5  b5e670d44cf2e864219d9e993e0e03b406ee2af9f65357...   \n",
       "6  001262bd55307a10c4dd420dba876ca6374e5df70698c9...   \n",
       "7  e42fb04459bd00d9a627546c2ab47563fe1e67e0620d12...   \n",
       "8  d362f6421a6299a285af7736ff3594249eb72e58740351...   \n",
       "9  3945fde819b1c5bbdb549565f0c5928ecc84703bc91190...   \n",
       "\n",
       "                                                   1  \\\n",
       "0  d5de3d85aac69bf908ab759a69e499cbf67ab4ac87d1e1...   \n",
       "1  301a02476498a59f279329d30e296e8c5f7f0376510520...   \n",
       "2  4c9a4e3d6efe5a39186448d8c778f870b942cd81a66997...   \n",
       "3  f9bc21496ae44909028951e226530db1bb3cfe6bb05a7e...   \n",
       "4  22690ef1a2083a7c9ba0630eb7ea8c832c9e0b8aa492d7...   \n",
       "5  8b98b02b5a053bdaa20fda7bb9b3641009ce006ef052bb...   \n",
       "6  1dd80a89c7a46dce84aa1efd468f0c3998b7d2d2ce31c6...   \n",
       "7  24ce6f205b9f68316f0062fcc803deaff667e2318f54e7...   \n",
       "8  1f06d8727ce5049f95b88ca20e7d1bf9b4a1566e05bebb...   \n",
       "9  7b95b88c7d5f20b6d0bcc9f065ac1fb745403deb8d9e06...   \n",
       "\n",
       "                                                   2  \\\n",
       "0  7cdeaf4feaf3b8b0e640585b779980c61b371730c74e98...   \n",
       "1  90bcff443a83593662fc354c0bfcceba10907c281da406...   \n",
       "2  bac1c8790aedbe44e29e2effb1bc3e4ab56fe768973a55...   \n",
       "3  88c02bfb63b42739c49050a8944d1219ad4b85276131bd...   \n",
       "4  c5e526647714820c90ed1dc2f2968d533fc2754ed61148...   \n",
       "5  05077390376943a69c1e4bb176e5d9e53c6ba603f0cd14...   \n",
       "6  9a96761feb39c0548bd2be5fb5a2523410726a297223b0...   \n",
       "7  caca830106c069da2d04403685317842515ef7997a12a2...   \n",
       "8  e7d809833e9ef46052e6a859b8ab8bd7f078e672c9fa5e...   \n",
       "9  9ef35e6a5e4c9489b9f9bb3380eec4485f8aebc54e1f68...   \n",
       "\n",
       "                                                   3  \\\n",
       "0  5a367abaf49e613277bc012aeab8cefb05a8a282457f72...   \n",
       "1  5d84f1826fe563225c1a884d86b0f10211885f385dad05...   \n",
       "2  550afca664e652b748d4b996aa44fb1dc6966ada142e76...   \n",
       "3  c5abd42c9cd399fbf13a2aa76bb2fb2bb13d9fc2d2b714...   \n",
       "4  24a1b55831ef3cded1e94c8d75ce2e6d4af25eba10da39...   \n",
       "5  9f6a8d8e1b2a29282f07802f5d3988f05115f1f2e2ed59...   \n",
       "6  c2eef2c2a8a94e81e0aeb38182f7368a2e35efe5747b7a...   \n",
       "7  05b2e8a3e4379e232b3d0d4678b3d838a9bb811d8b54ed...   \n",
       "8  75752dc862ce6a9a98d708e5d550c13fd7a6f90bbf2e0a...   \n",
       "9  79e40a273206af18485ecba70f6448e68c81afbbc0fa3d...   \n",
       "\n",
       "                                                   4  \n",
       "0  57126d8ce6bd7e9139d71f744c7689b684c0c83871bc7f...  \n",
       "1  a133b128923d3a787d767a9b5832fe581e752885e9df02...  \n",
       "2  8b3281817b46cdf14d36b9041271b810b044731226e553...  \n",
       "3  54c82f76aedec6901b8e222b6bb2bb661ab22d3d270a75...  \n",
       "4  29b4d5cca3276a1af3cf649d06672d7770296dc930dda6...  \n",
       "5  199f03648373f2b7e3bcf9b7ea4c6ede5f618b179957e3...  \n",
       "6  44af49981757ccb333b401bb2216ed3ea7b9bed32da082...  \n",
       "7  4934649f34d545c2d961ae80d7fadf148261a62c160359...  \n",
       "8  4f64703046d0ff4bf4b9b145c634ee06912b2fff4facb0...  \n",
       "9  7766626031478ea9cb8a3db64d570ead1fb820f2e827b0...  "
      ]
     },
     "execution_count": 8,
     "metadata": {},
     "output_type": "execute_result"
    }
   ],
   "source": [
    "df = pd.DataFrame(user_hash_proof.hash_chains)\n",
    "df"
   ]
  }
 ],
 "metadata": {
  "kernelspec": {
   "display_name": "Python 3",
   "language": "python",
   "name": "python3"
  },
  "language_info": {
   "codemirror_mode": {
    "name": "ipython",
    "version": 3
   },
   "file_extension": ".py",
   "mimetype": "text/x-python",
   "name": "python",
   "nbconvert_exporter": "python",
   "pygments_lexer": "ipython3",
   "version": "3.9.6"
  },
  "orig_nbformat": 4
 },
 "nbformat": 4,
 "nbformat_minor": 2
}
