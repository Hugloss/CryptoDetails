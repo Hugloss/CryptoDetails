{
 "cells": [
  {
   "cell_type": "markdown",
   "metadata": {},
   "source": [
    "# Showing Selective Disclosure with CL signature"
   ]
  },
  {
   "cell_type": "markdown",
   "metadata": {},
   "source": [
    "Code is used to show the mathematics details for ZKP-CL."
   ]
  },
  {
   "cell_type": "markdown",
   "metadata": {},
   "source": [
    "The CL-signature scheme defines the public key in this key pair as the quadruple $(n, Z, S ,\\{R_i\\}_{i \\in A})$ where $A$ is the set of indices of attributes in the credential schema, $n$ is a Special RSA Modulus, and $Z, S , {R_i}$ are random quadratic residues modulo n.\n",
    "\n",
    "The public key information $(n, Z, S ,\\{R_i\\}_{i \\in A})$ are publicly available on the ledger, the signature $(A, e, v)$ can only be calculated by the issuer, who owns the private key $(p, q)$."
   ]
  },
  {
   "cell_type": "markdown",
   "metadata": {},
   "source": [
    "## Equations\n"
   ]
  },
  {
   "cell_type": "markdown",
   "metadata": {},
   "source": [
    "Remember from the math section:\n",
    "\n",
    "$$ T = A'^{\\bar{e}} S^{\\bar{v}} \\Bigg(\\prod_{i \\in A_h}{R_i^{\\bar{m_i}}} \\Bigg) \\pmod{n} $$\n",
    "$$ A' = AS^r $$\n",
    "$$ v' = v - er $$\n",
    "$$ \\hat{v} = \\bar{v} + Dv'  $$\n",
    "$$ e' = e - \\beta $$\n",
    "$$ \\hat{e} = \\bar{e} + De' $$\n",
    "$$ \\hat{m_i} = \\bar{m_i} + Dm_i $$\n",
    "$$ Q = A^e \\pmod{n} $$\n",
    "$$ Q = \\Bigg(\\frac{Z}{S^v \\prod_{i \\in A}{R_i^{m_i}}}\\Bigg) \\pmod{n} $$\n",
    "$$ \\hat{T} = \\Bigg(\\frac{Z}{A'^\\beta \\prod_{i \\in A_r}{R_i^{m_i}}}\\Bigg)^{-D} A'^{\\hat{e}} S^{\\hat{v}} \\Bigg(\\prod_{i \\in A_h}{R_i^{\\hat{m_i}}}\\Bigg) \\pmod{n} $$"
   ]
  },
  {
   "cell_type": "markdown",
   "metadata": {},
   "source": [
    "Check CL signature with equation"
   ]
  },
  {
   "cell_type": "markdown",
   "metadata": {},
   "source": [
    "$$\n",
    "\\begin{align*}\n",
    "Q &= A^e \\\\\n",
    "A^e &=\\Bigg(\\frac{Z}{S^v \\prod_{i \\in A}{R_i^{m_i}}}\\Bigg) \\\\\n",
    "Z &= A^e S^v \\Bigg(\\prod_{i \\in A}{R_i^{m_i}}\\Bigg) \\\\\n",
    "\n",
    "\\end{align*}\n",
    "$$"
   ]
  },
  {
   "cell_type": "code",
   "execution_count": 1,
   "metadata": {},
   "outputs": [],
   "source": [
    "from Crypto.Util import number"
   ]
  },
  {
   "cell_type": "code",
   "execution_count": 2,
   "metadata": {},
   "outputs": [
    {
     "name": "stdout",
     "output_type": "stream",
     "text": [
      "Public key is:\n",
      "n = 8550841849581124127\n",
      "(R_0, R_1, R_2, R_3, R_4) = (5710887662410021578, 5131450540407428543, 273761181316097119, 7451183371823971335, 789372916845624975)\n",
      "S = 5296238720553891307\n",
      "Z = 1487901499195261306\n",
      "\n",
      "Private key is: (3397833353, 2516557159)\n",
      "\n",
      "Message (m_0, m_1, m_2, m_3, m_4) is (264788961767077034, 1631490665936586445) \n",
      "Signature on (m_0, m_1, m_2, m_3, m_4) is: e = 33301153974451987313, s = 4762865503745813998, v = 1627441876678969753295867701597313151877303035050884767112689458367714970593841634458920439127932265109282433787105833712363270344129637256877626813977089373541872386339007039634721092219256634787334211739275825702120964715194902309301611564960411583219568231716688351443162940235411106473410461347148283274164192530986896506655463224577393885903956943638091248047213856036550609593959925825081421611495394063540117379553976544371666540671558097868884647956235265670816920399358828948532698906224635349590311157332290385398800421709947564049846895947907474491810176512286159082096768705895725269665686342925227892278234223573051236197434569157086776893081127325878304191911793658883809978711825731994342182960006365639373833910339341583573650658135656875946071723910783257675349932837770624768864724619036773402399241677250008480449279470402853500422310881197143330636604710596790003995369884463276287801381449283264672029641753804608932457981376294201147315279517970604357029228503010193692885828637217812886749870737852132630351949381476890186527476269948008519349747078092729473258011347829808835378889869310303817936913230235908927073541920497769666794218347661672099722732959532884543663161147054742648242183003062470172225958303\n",
      "\n",
      "RHS is the same as LHS: True\n",
      "RHS is the same as LHS: True\n"
     ]
    }
   ],
   "source": [
    "# For demo purposes to make print more readable and consistent\n",
    "bitsize = 32\n",
    "p = 3397833353\n",
    "q = 2516557159\n",
    "# p = number.getPrime(bitsize)\n",
    "# q = number.getPrime(bitsize)\n",
    "\n",
    "# The public parts\n",
    "n = p*q\n",
    "nsize = 2*bitsize\n",
    "# Generate quadratic residues mod n\n",
    "R_0 = pow(number.getRandomRange(2, n), 2, n)\n",
    "R_1 = pow(number.getRandomRange(2, n), 2, n)\n",
    "R_2 = pow(number.getRandomRange(2, n), 2, n)\n",
    "R_3 = pow(number.getRandomRange(2, n), 2, n)\n",
    "R_4 = pow(number.getRandomRange(2, n), 2, n)\n",
    "S = pow(number.getRandomRange(2, n), 2, n)\n",
    "Z = pow(number.getRandomRange(2, n), 2, n)\n",
    "\n",
    "# The messages\n",
    "msize = nsize\n",
    "m_0 = number.getRandomRange(2, n)\n",
    "m_1 = number.getRandomRange(2, n)\n",
    "m_2 = number.getRandomRange(2, n)\n",
    "m_3 = number.getRandomRange(2, n)\n",
    "m_4 = number.getRandomRange(2, n)\n",
    "\n",
    "\n",
    "# The signature parts\n",
    "e = number.getPrime(nsize + 1)\n",
    "e_inv = pow(e, -1, (p-1)*(q-1))\n",
    "# v is selected as integer\n",
    "v = number.getRandomNBitInteger(msize*nsize + 1)\n",
    "\n",
    "# Calculate dot\n",
    "R_vector = pow(R_0, m_0, n) * pow(R_1, m_1, n) * \\\n",
    "    pow(R_2, m_2, n) * pow(R_3, m_3, n) * pow(R_4, m_4, n)\n",
    "\n",
    "commitment_vector = pow(S, v, n) * R_vector\n",
    "commitment_vector_inv = pow(commitment_vector, -1, n)\n",
    "\n",
    "# Calculate Q\n",
    "Q = (Z * commitment_vector_inv) % n\n",
    "# Calculate signature part A\n",
    "A = pow(Q, e_inv, n)\n",
    "\n",
    "print(f'Public key is:\\nn = {n}\\n(R_0, R_1, R_2, R_3, R_4) = {(R_0, R_1, R_2, R_3, R_4)}\\nS = {S}\\nZ = {Z}')\n",
    "print(f'\\nPrivate key is: {(p,q)}')\n",
    "print(f'\\nMessage (m_0, m_1, m_2, m_3, m_4) is ({m_0}, {m_1}) \\nSignature on (m_0, m_1, m_2, m_3, m_4) is: e = {e}, s = {A}, v = {v}')\n",
    "\n",
    "# verify credentials\n",
    "print('\\nRHS is the same as LHS:', pow(A, e, n) == Q)\n",
    "print('RHS is the same as LHS:', (pow(A, e, n) * commitment_vector) % n == Z)\n"
   ]
  },
  {
   "cell_type": "markdown",
   "metadata": {},
   "source": [
    "# Why selective disclosure works\n"
   ]
  },
  {
   "cell_type": "markdown",
   "metadata": {},
   "source": [
    "Let A be the set of all attribute identifiers present in the credential schema\n",
    "\n",
    "where $A = A_r \\cup A_h$\n",
    "\n",
    "such that $A_r$ contains revealed attributes to the Verifier and $A_h$ contains unrevealed (hidden) attributes which are kept secret.\n",
    "Since $A_r$ and $A_h$ are mutually exclusive, we know that\n",
    "\n",
    "$ \\prod_{i \\in A}{R_i^{m_i}} = \\prod_{i \\in A_r}{R_i^{m_i}} \\cdot \\prod_{i \\in A_h}{R_i^{m_i}}$\n",
    "\n",
    "\n",
    "This allows us to prove that a credential contains a set of attributes with the revealed values $\\{m_i\\}_{i \\in A_r}$\n",
    "by proving knowledge of the exponents $(e, \\{m_i\\}_{i \\in A_h}, v)$ with Equation"
   ]
  },
  {
   "cell_type": "markdown",
   "metadata": {},
   "source": [
    "$$\n",
    "\\begin{align*}\n",
    "Z &= A^e S^v \\Bigg(\\prod_{i \\in A}{R_i^{m_i}}\\Bigg) \\\\\n",
    "Z &= A^e \\cdot S^v \\cdot \\Bigg(\\prod_{i \\in A_r}{R_i^{m_i}} \\cdot \\prod_{i \\in A_h}{R_i^{m_i}}\\Bigg) \\\\\n",
    "\\Bigg(\\frac{Z}{\\prod_{i \\in A_r}{R_i^{m_i}}}\\Bigg) &= A^e \\cdot S^v \\cdot \\Bigg(\\prod_{i \\in A_h}{R_i^{m_i}}\\Bigg) \\\\\n",
    "Z \\Bigg(\\prod_{i \\in A_r}{R_i^{m_i}}\\Bigg)^{-1} &= A^e S^v \\Bigg(\\prod_{i \\in A_h}{R_i^{m_i}}\\Bigg)\n",
    "\n",
    "\\end{align*}\n",
    "$$"
   ]
  },
  {
   "cell_type": "code",
   "execution_count": 3,
   "metadata": {},
   "outputs": [
    {
     "name": "stdout",
     "output_type": "stream",
     "text": [
      "\n",
      "RHS is the same as LHS: True\n"
     ]
    }
   ],
   "source": [
    "# private attributes\n",
    "R_private = pow(R_0, m_0, n) * pow(R_3, m_3, n) * pow(R_4, m_4, n)\n",
    "# public attributes\n",
    "R_public = pow(R_1, m_1, n) * pow(R_2, m_2, n)\n",
    "\n",
    "# generate commitment and encryption\n",
    "R_public_inv = pow(R_public, -1, n)\n",
    "# contains revealed attributes\n",
    "attr_encryption_vector = Z * R_public_inv\n",
    "\n",
    "# contains unrevealed attributes which are kept secret\n",
    "attr_commitment_vector = pow(S, v, n) * R_private\n",
    "\n",
    "# verify credentials\n",
    "print('\\nRHS is the same as LHS:', (pow(A, e, n) * attr_commitment_vector) % n == attr_encryption_vector % n)\n"
   ]
  },
  {
   "cell_type": "markdown",
   "metadata": {},
   "source": [
    "## Reference\n",
    "- https://github.com/PeterAltmann/privacy_techniques/blob/main/ZKP-CL-SRSA.ipynb\n",
    "- https://github.com/PeterAltmann/privacy_techniques/blob/e98595a869a98320a3d66db35b341d62d7d81f1f/math_CL.ipynb\n"
   ]
  }
 ],
 "metadata": {
  "kernelspec": {
   "display_name": "Python 3",
   "language": "python",
   "name": "python3"
  },
  "language_info": {
   "codemirror_mode": {
    "name": "ipython",
    "version": 3
   },
   "file_extension": ".py",
   "mimetype": "text/x-python",
   "name": "python",
   "nbconvert_exporter": "python",
   "pygments_lexer": "ipython3",
   "version": "3.9.6"
  },
  "orig_nbformat": 4,
  "vscode": {
   "interpreter": {
    "hash": "c65a76b623ff58757d879ffba0c64f863adb3d623b4a7ebf7852010e5ebe6c38"
   }
  }
 },
 "nbformat": 4,
 "nbformat_minor": 2
}
