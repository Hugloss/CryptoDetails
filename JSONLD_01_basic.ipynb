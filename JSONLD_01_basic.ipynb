{
 "cells": [
  {
   "cell_type": "markdown",
   "metadata": {},
   "source": [
    "# JSONLD"
   ]
  },
  {
   "cell_type": "code",
   "execution_count": 8,
   "metadata": {},
   "outputs": [],
   "source": [
    "import json\n",
    "from pyld import jsonld\n",
    "from rdflib import Graph\n"
   ]
  },
  {
   "cell_type": "markdown",
   "metadata": {},
   "source": [
    "## @context\n",
    "JSON-LD must have a `@context`. In JSON-LD, the `@context` is used to define the meaning of terms used in the document. The `@context` can be specified either as a JSON object or as a URL that points to an external context definition. \n",
    "\n",
    "- `@context` as JSON object -> mapping via external vocabulary.\n",
    "- `@context` as URL link -> mapping via external context.\n",
    "\n",
    "When specified as a JSON object, the `@context` defines a mapping between the keys in the JSON document and their corresponding IRIs (Internationalized Resource Identifiers) in an external vocabulary. When specified as a URL, the `@context` points to an external context definition that contains the mapping information. Specifying the `@context` as a JSON object allows you to define the context directly within the document, while specifying it as a URL allows you to reuse the same context across multiple documents.\n",
    "\n",
    "\n",
    "Here is an example of specifying the `@context` as a JSON object:\n",
    "\n",
    "```json\n",
    "{\n",
    "    \"@context\": {\n",
    "        \"name\": \"http://schema.org/name\",\n",
    "        \"jobTitle\": \"http://schema.org/jobTitle\"\n",
    "    },\n",
    "    \"name\": \"Jane Doe\",\n",
    "    \"jobTitle\": \"Software Engineer\"\n",
    "}\n",
    "```\n",
    "\n",
    "In this example, the `@context` is defined as a JSON object that maps the keys `name` and `jobTitle` to their corresponding IRIs in the `http://schema.org/` vocabulary.\n",
    "\n",
    "Alternatively, the `@context` can be specified as a URL that points to an external context definition. Here is an example:\n",
    "\n",
    "```json\n",
    "{\n",
    "    \"@context\": \"https://example.com/my-context.jsonld\",\n",
    "    \"name\": \"Jane Doe\",\n",
    "    \"jobTitle\": \"Software Engineer\"\n",
    "}\n",
    "```\n",
    "\n",
    "In this example, the `@context` is specified as a URL that points to an external context definition located at `https://example.com/my-context.jsonld`. This external context definition should contain a JSON-LD document that defines the mapping."
   ]
  },
  {
   "cell_type": "markdown",
   "metadata": {},
   "source": [
    "## Example 2 sample from W3C\n",
    "- https://www.w3.org/TR/json-ld11-api/#example-2-sample-json-ld-document"
   ]
  },
  {
   "cell_type": "code",
   "execution_count": 9,
   "metadata": {},
   "outputs": [],
   "source": [
    "doc = {\n",
    "    \"@context\": {\n",
    "        \"name\": \"http://xmlns.com/foaf/0.1/name\",\n",
    "        \"knows\": \"http://xmlns.com/foaf/0.1/knows\"\n",
    "    },\n",
    "    \"@id\": \"http://me.markus-lanthaler.com/\",\n",
    "    \"name\": \"Markus Lanthaler\",\n",
    "    \"knows\": [\n",
    "        {\n",
    "            \"name\": \"Dave Longley\"\n",
    "        }\n",
    "    ]\n",
    "}"
   ]
  },
  {
   "cell_type": "code",
   "execution_count": 10,
   "metadata": {},
   "outputs": [
    {
     "data": {
      "text/plain": [
       "{'name': 'http://xmlns.com/foaf/0.1/name',\n",
       " 'knows': 'http://xmlns.com/foaf/0.1/knows'}"
      ]
     },
     "execution_count": 10,
     "metadata": {},
     "output_type": "execute_result"
    }
   ],
   "source": [
    "doc[\"@context\"]"
   ]
  },
  {
   "cell_type": "markdown",
   "metadata": {},
   "source": [
    "## Create JSON-LD input"
   ]
  },
  {
   "cell_type": "code",
   "execution_count": 11,
   "metadata": {},
   "outputs": [
    {
     "name": "stdout",
     "output_type": "stream",
     "text": [
      "{\n",
      "  \"@context\": {\n",
      "    \"name\": \"http://xmlns.com/foaf/0.1/name\",\n",
      "    \"knows\": \"http://xmlns.com/foaf/0.1/knows\"\n",
      "  },\n",
      "  \"@id\": \"http://me.markus-lanthaler.com/\",\n",
      "  \"name\": \"Markus Lanthaler\",\n",
      "  \"knows\": [\n",
      "    {\n",
      "      \"name\": \"Dave Longley\"\n",
      "    }\n",
      "  ]\n",
      "}\n"
     ]
    }
   ],
   "source": [
    "json_ld_input = json.dumps(doc, indent=2)\n",
    "print(json_ld_input)"
   ]
  },
  {
   "cell_type": "markdown",
   "metadata": {},
   "source": [
    "## JSON-LD expansion/compaction operation\n",
    "### Compact"
   ]
  },
  {
   "cell_type": "code",
   "execution_count": 12,
   "metadata": {},
   "outputs": [
    {
     "name": "stdout",
     "output_type": "stream",
     "text": [
      "{\n",
      "  \"@context\": {\n",
      "    \"name\": \"http://xmlns.com/foaf/0.1/name\",\n",
      "    \"knows\": \"http://xmlns.com/foaf/0.1/knows\"\n",
      "  },\n",
      "  \"@id\": \"http://me.markus-lanthaler.com/\",\n",
      "  \"knows\": {\n",
      "    \"name\": \"Dave Longley\"\n",
      "  },\n",
      "  \"name\": \"Markus Lanthaler\"\n",
      "}\n"
     ]
    }
   ],
   "source": [
    "compacted_data = jsonld.compact(doc, doc[\"@context\"])\n",
    "print(json.dumps(compacted_data, indent=2))"
   ]
  },
  {
   "cell_type": "markdown",
   "metadata": {},
   "source": [
    "### Expand"
   ]
  },
  {
   "cell_type": "code",
   "execution_count": 13,
   "metadata": {},
   "outputs": [
    {
     "name": "stdout",
     "output_type": "stream",
     "text": [
      "[\n",
      "  {\n",
      "    \"@id\": \"http://me.markus-lanthaler.com/\",\n",
      "    \"http://xmlns.com/foaf/0.1/knows\": [\n",
      "      {\n",
      "        \"http://xmlns.com/foaf/0.1/name\": [\n",
      "          {\n",
      "            \"@value\": \"Dave Longley\"\n",
      "          }\n",
      "        ]\n",
      "      }\n",
      "    ],\n",
      "    \"http://xmlns.com/foaf/0.1/name\": [\n",
      "      {\n",
      "        \"@value\": \"Markus Lanthaler\"\n",
      "      }\n",
      "    ]\n",
      "  }\n",
      "]\n"
     ]
    }
   ],
   "source": [
    "# expand on doc\n",
    "expanded_data = jsonld.expand(doc)\n",
    "print(json.dumps(expanded_data, indent=2))"
   ]
  },
  {
   "cell_type": "code",
   "execution_count": 14,
   "metadata": {},
   "outputs": [
    {
     "name": "stdout",
     "output_type": "stream",
     "text": [
      "[\n",
      "  {\n",
      "    \"@id\": \"http://me.markus-lanthaler.com/\",\n",
      "    \"http://xmlns.com/foaf/0.1/knows\": [\n",
      "      {\n",
      "        \"http://xmlns.com/foaf/0.1/name\": [\n",
      "          {\n",
      "            \"@value\": \"Dave Longley\"\n",
      "          }\n",
      "        ]\n",
      "      }\n",
      "    ],\n",
      "    \"http://xmlns.com/foaf/0.1/name\": [\n",
      "      {\n",
      "        \"@value\": \"Markus Lanthaler\"\n",
      "      }\n",
      "    ]\n",
      "  }\n",
      "]\n"
     ]
    }
   ],
   "source": [
    "# expand on compact\n",
    "expanded_data = jsonld.expand(compacted_data)\n",
    "print(json.dumps(expanded_data, indent=2))"
   ]
  },
  {
   "cell_type": "markdown",
   "metadata": {},
   "source": [
    "### Flatten"
   ]
  },
  {
   "cell_type": "code",
   "execution_count": 15,
   "metadata": {},
   "outputs": [
    {
     "name": "stdout",
     "output_type": "stream",
     "text": [
      "[\n",
      "  {\n",
      "    \"@id\": \"_:b0\",\n",
      "    \"http://xmlns.com/foaf/0.1/name\": [\n",
      "      {\n",
      "        \"@value\": \"Dave Longley\"\n",
      "      }\n",
      "    ]\n",
      "  },\n",
      "  {\n",
      "    \"@id\": \"http://me.markus-lanthaler.com/\",\n",
      "    \"http://xmlns.com/foaf/0.1/knows\": [\n",
      "      {\n",
      "        \"@id\": \"_:b0\"\n",
      "      }\n",
      "    ],\n",
      "    \"http://xmlns.com/foaf/0.1/name\": [\n",
      "      {\n",
      "        \"@value\": \"Markus Lanthaler\"\n",
      "      }\n",
      "    ]\n",
      "  }\n",
      "]\n"
     ]
    }
   ],
   "source": [
    "flattened = jsonld.flatten(doc)\n",
    "print(json.dumps(flattened, indent=2))"
   ]
  },
  {
   "cell_type": "markdown",
   "metadata": {},
   "source": [
    "### RDF"
   ]
  },
  {
   "cell_type": "code",
   "execution_count": 16,
   "metadata": {},
   "outputs": [
    {
     "data": {
      "text/plain": [
       "{'@default': [{'subject': {'type': 'blank node', 'value': '_:b0'},\n",
       "   'predicate': {'type': 'IRI', 'value': 'http://xmlns.com/foaf/0.1/name'},\n",
       "   'object': {'type': 'literal',\n",
       "    'value': 'Dave Longley',\n",
       "    'datatype': 'http://www.w3.org/2001/XMLSchema#string'}},\n",
       "  {'subject': {'type': 'IRI', 'value': 'http://me.markus-lanthaler.com/'},\n",
       "   'predicate': {'type': 'IRI', 'value': 'http://xmlns.com/foaf/0.1/knows'},\n",
       "   'object': {'type': 'blank node', 'value': '_:b0'}},\n",
       "  {'subject': {'type': 'IRI', 'value': 'http://me.markus-lanthaler.com/'},\n",
       "   'predicate': {'type': 'IRI', 'value': 'http://xmlns.com/foaf/0.1/name'},\n",
       "   'object': {'type': 'literal',\n",
       "    'value': 'Markus Lanthaler',\n",
       "    'datatype': 'http://www.w3.org/2001/XMLSchema#string'}}]}"
      ]
     },
     "execution_count": 16,
     "metadata": {},
     "output_type": "execute_result"
    }
   ],
   "source": [
    "jsonld.to_rdf(doc)"
   ]
  },
  {
   "cell_type": "code",
   "execution_count": 17,
   "metadata": {},
   "outputs": [
    {
     "name": "stdout",
     "output_type": "stream",
     "text": [
      "{\n",
      "    \"@context\": {\n",
      "        \"brick\": \"https://brickschema.org/schema/Brick#\",\n",
      "        \"csvw\": \"http://www.w3.org/ns/csvw#\",\n",
      "        \"dc\": \"http://purl.org/dc/elements/1.1/\",\n",
      "        \"dcam\": \"http://purl.org/dc/dcam/\",\n",
      "        \"dcat\": \"http://www.w3.org/ns/dcat#\",\n",
      "        \"dcmitype\": \"http://purl.org/dc/dcmitype/\",\n",
      "        \"dcterms\": \"http://purl.org/dc/terms/\",\n",
      "        \"doap\": \"http://usefulinc.com/ns/doap#\",\n",
      "        \"foaf\": \"http://xmlns.com/foaf/0.1/\",\n",
      "        \"geo\": \"http://www.opengis.net/ont/geosparql#\",\n",
      "        \"odrl\": \"http://www.w3.org/ns/odrl/2/\",\n",
      "        \"org\": \"http://www.w3.org/ns/org#\",\n",
      "        \"owl\": \"http://www.w3.org/2002/07/owl#\",\n",
      "        \"prof\": \"http://www.w3.org/ns/dx/prof/\",\n",
      "        \"prov\": \"http://www.w3.org/ns/prov#\",\n",
      "        \"qb\": \"http://purl.org/linked-data/cube#\",\n",
      "        \"rdf\": \"http://www.w3.org/1999/02/22-rdf-syntax-ns#\",\n",
      "        \"rdfs\": \"http://www.w3.org/2000/01/rdf-schema#\",\n",
      "        \"schema\": \"https://schema.org/\",\n",
      "        \"sh\": \"http://www.w3.org/ns/shacl#\",\n",
      "        \"skos\": \"http://www.w3.org/2004/02/skos/core#\",\n",
      "        \"sosa\": \"http://www.w3.org/ns/sosa/\",\n",
      "        \"ssn\": \"http://www.w3.org/ns/ssn/\",\n",
      "        \"time\": \"http://www.w3.org/2006/time#\",\n",
      "        \"vann\": \"http://purl.org/vocab/vann/\",\n",
      "        \"void\": \"http://rdfs.org/ns/void#\",\n",
      "        \"wgs\": \"https://www.w3.org/2003/01/geo/wgs84_pos#\",\n",
      "        \"xsd\": \"http://www.w3.org/2001/XMLSchema#\"\n",
      "    },\n",
      "    \"@graph\": [\n",
      "        {\n",
      "            \"@id\": \"http://me.markus-lanthaler.com/\",\n",
      "            \"foaf:knows\": {\n",
      "                \"@id\": \"_:N72522ee4c00f457f98a5ecb0bd234ccc\"\n",
      "            },\n",
      "            \"foaf:name\": \"Markus Lanthaler\"\n",
      "        },\n",
      "        {\n",
      "            \"@id\": \"_:N72522ee4c00f457f98a5ecb0bd234ccc\",\n",
      "            \"foaf:name\": \"Dave Longley\"\n",
      "        }\n",
      "    ]\n",
      "}\n"
     ]
    }
   ],
   "source": [
    "json_data = json.dumps(doc, indent=2)\n",
    "g = Graph().parse(data=json_data, format='json-ld')\n",
    "print(g.serialize(format='json-ld', auto_compact=True, indent=4))"
   ]
  }
 ],
 "metadata": {
  "kernelspec": {
   "display_name": "Python 3",
   "language": "python",
   "name": "python3"
  },
  "language_info": {
   "codemirror_mode": {
    "name": "ipython",
    "version": 3
   },
   "file_extension": ".py",
   "mimetype": "text/x-python",
   "name": "python",
   "nbconvert_exporter": "python",
   "pygments_lexer": "ipython3",
   "version": "3.10.6"
  },
  "orig_nbformat": 4
 },
 "nbformat": 4,
 "nbformat_minor": 2
}
