{
 "cells": [
  {
   "cell_type": "markdown",
   "metadata": {},
   "source": [
    "# JSONLD interoperability"
   ]
  },
  {
   "cell_type": "code",
   "execution_count": 1,
   "metadata": {},
   "outputs": [],
   "source": [
    "import json\n",
    "from pyld import jsonld\n"
   ]
  },
  {
   "cell_type": "markdown",
   "metadata": {},
   "source": [
    "## Example from medium\n",
    "- https://medium.com/coinmonks/bbs-json-ld-and-interoperability-of-verifiable-credentials-8bd26b4d3261"
   ]
  },
  {
   "cell_type": "code",
   "execution_count": 2,
   "metadata": {},
   "outputs": [],
   "source": [
    "doc = {\n",
    "   \"@context\":[\n",
    "      \"https://www.w3.org/2018/credentials/v1\",\n",
    "      \"https://w3id.org/citizenship/v1\",\n",
    "      \"https://w3id.org/security/bbs/v1\"\n",
    "   ],\n",
    "   \"type\":[\n",
    "      \"VerifiableCredential\",\n",
    "      \"PermanentResidentCard\"\n",
    "   ],\n",
    "   \"credentialSubject\":{\n",
    "      \"type\":[\n",
    "         \"PermanentResident\",\n",
    "         \"Person\"\n",
    "      ],\n",
    "      \"@explicit\": True,\n",
    "      \"givenName\":{},\n",
    "      \"familyName\":{},\n",
    "      \"gender\":{}\n",
    "   }\n",
    "}"
   ]
  },
  {
   "cell_type": "markdown",
   "metadata": {},
   "source": [
    "## Expanded from JSON-LD input"
   ]
  },
  {
   "cell_type": "code",
   "execution_count": 3,
   "metadata": {},
   "outputs": [
    {
     "name": "stdout",
     "output_type": "stream",
     "text": [
      "[\n",
      "  {\n",
      "    \"https://www.w3.org/2018/credentials#credentialSubject\": [\n",
      "      {\n",
      "        \"@explicit\": [\n",
      "          true\n",
      "        ],\n",
      "        \"http://schema.org/familyName\": [\n",
      "          {}\n",
      "        ],\n",
      "        \"http://schema.org/gender\": [\n",
      "          {}\n",
      "        ],\n",
      "        \"http://schema.org/givenName\": [\n",
      "          {}\n",
      "        ],\n",
      "        \"@type\": [\n",
      "          \"https://w3id.org/citizenship#PermanentResident\",\n",
      "          \"http://schema.org/Person\"\n",
      "        ]\n",
      "      }\n",
      "    ],\n",
      "    \"@type\": [\n",
      "      \"https://www.w3.org/2018/credentials#VerifiableCredential\",\n",
      "      \"https://w3id.org/citizenship#PermanentResidentCard\"\n",
      "    ]\n",
      "  }\n",
      "]\n"
     ]
    }
   ],
   "source": [
    "expanded_data = jsonld.expand(doc)\n",
    "print(json.dumps(expanded_data, indent=2))"
   ]
  },
  {
   "cell_type": "code",
   "execution_count": null,
   "metadata": {},
   "outputs": [],
   "source": []
  }
 ],
 "metadata": {
  "kernelspec": {
   "display_name": "Python 3",
   "language": "python",
   "name": "python3"
  },
  "language_info": {
   "codemirror_mode": {
    "name": "ipython",
    "version": 3
   },
   "file_extension": ".py",
   "mimetype": "text/x-python",
   "name": "python",
   "nbconvert_exporter": "python",
   "pygments_lexer": "ipython3",
   "version": "3.10.6"
  },
  "orig_nbformat": 4
 },
 "nbformat": 4,
 "nbformat_minor": 2
}
