{
  "cells": [
    {
      "cell_type": "markdown",
      "metadata": {
        "id": "lFHByalCpWz6"
      },
      "source": [
        "# RSA accumulator and Bézout coefficients\n",
        "An RSA accumulator is a cryptographic primitive that allows for efficient verification of set membership. It uses a mathematical function to accumulate a set of elements into a single value, known as the accumulator $A$. The generator $g$ is used to generate the group, and the element $x$ is a prime number that is accumulated into the accumulator $A$. The proof $\\pi$ is used to verify that an element is a member of the accumulated set.\n",
        "\n",
        "The proof of non-membership requires calculating Bézout's Coefficients of the element we’re proving and the product of the accumulator elements in the set."
      ]
    },
    {
      "cell_type": "markdown",
      "metadata": {},
      "source": [
        "## RSA\n",
        "Modulus $N$ is:\n",
        "\n",
        "$ N=p*q $\n",
        "\n",
        "with\n",
        "\n",
        "$q<p<2q$\n",
        "\n",
        "where size of the group $ \\phi(N) $ is:\n",
        "\n",
        "$ {\\phi(N)}=(p−1)(q−1) $\n",
        "\n",
        "## RSA accumulator\n",
        "Following notations are used for RSA accumulator:\n",
        "- $A$ is an accumulator\n",
        "- $g$ is a generator of the group\n",
        "- $x$ is an element, which is a prime number.\n",
        "- $\\pi$ represents a proof\n",
        "\n",
        "\n",
        "### RSA accumulator setup\n",
        "Let\n",
        "\n",
        "$A=g^u \\pmod N $\n",
        "\n",
        "where $u$ is the product of the accumulated values $x_i$\n",
        "\n",
        "$u = \\prod_0^{k-1} x_i$\n",
        "\n",
        "and and all accumulated values $x_i$ are primes\n",
        "\n",
        "### Bézout’s lemma\n",
        "Bézout's lemma guarantee existence of integers $(a, b)$ given integers $(x, u)$ to fullfill the linear equation\n",
        "\n",
        "$ax+bu=GCD(x,u)$ \n",
        "\n",
        "### Exclusion proofs \n",
        "\n",
        "If $x$ is not accumulated in $A$ then \n",
        "\n",
        "$GCD(x,u)=1$.\n",
        "\n",
        "The Bezout-coefficients say that\n",
        "\n",
        "$ax+bu=GCD(x,u)=1$ \n",
        "\n",
        "it's used to generate a proof \n",
        "\n",
        "$\\pi=(g^a,b)$\n",
        "\n",
        "that $x$ is not accumulated in $A$.\n",
        "\n",
        "The verification of the proof is done by checking:\n",
        "\n",
        "$(g^a)^x \\cdot A^b=g^{ax} \\cdot (g^u)^b=g^{ax+ub}=g$\n",
        "\n",
        "That proofs\n",
        "$$\n",
        "\\begin{align*}\n",
        "\\boxed{\n",
        "\\begin{array}{rcl}\n",
        "g^{ax+bu}  \\pmod N \\equiv g \\pmod N\n",
        "\\end{array}\n",
        "}\n",
        "\\end{align*}\n",
        "$$"
      ]
    },
    {
      "cell_type": "markdown",
      "metadata": {},
      "source": [
        "### Proof with Eulers theorem\n",
        "Show that:\n",
        "\n",
        "$g^{ax+ub}  \\pmod N \\equiv g^1 \\pmod N$\n",
        "\n",
        "where $N = pq$ is a product of two different prime numbers, and satisfying $ax +bu \\equiv 1 \\pmod {\\phi(N)}$.\n",
        "\n",
        "We can write $ax +bu = 1 + h {\\phi(N)}$ were the totient function $ {\\phi(N)} $ is calculated as $ {\\phi(N)}=(p−1)(q−1) $.\n",
        "\n",
        "$g^{ax+ub} = g^{1 + h {\\phi(N)}} = g^{1} g^{ h {\\phi(N)}} = g^{1} (g^{{\\phi(N)}})^h = g^{1} (1)^h = g^1 \\pmod N$\n",
        "\n",
        "That proofs\n",
        "$$\n",
        "\\begin{align*}\n",
        "\\boxed{\n",
        "\\begin{array}{rcl}\n",
        "ax +bu \\equiv 1 \\pmod {\\phi(N)}\n",
        "\\end{array}\n",
        "}\n",
        "\\end{align*}\n",
        "$$\n",
        "\n"
      ]
    },
    {
      "cell_type": "markdown",
      "metadata": {},
      "source": [
        "Let\n",
        "\n",
        "$u' = u \\pmod {\\phi(N)}$\n",
        "\n",
        "that gives:\n",
        "\n",
        "$g^{ax+ub} = g^{ax + bu'} = g^1 \\pmod N$"
      ]
    },
    {
      "cell_type": "markdown",
      "metadata": {},
      "source": [
        "## Reference"
      ]
    },
    {
      "cell_type": "markdown",
      "metadata": {},
      "source": [
        "- https://blog.goodaudience.com/deep-dive-on-rsa-accumulators-230bc84144d9\n",
        "- https://crypto.stackexchange.com/questions/64083/inclusion-and-exclusion-proofs-in-rsa-accumulators\n",
        "- https://crypto.stackexchange.com/questions/53991/is-there-a-cryptographic-solution-to-provide-a-proof-of-exclusion\n",
        "- https://crypto.stackexchange.com/questions/85828/rsa-accumulator-exclusion-proof-without-set\n",
        "- https://crypto.stackexchange.com/questions/30873/deletion-in-rsa-accumulator\n",
        "- https://crypto.stackexchange.com/questions/67223/dynamic-accumulator-with-only-non-membership-witness\n",
        "- https://crypto.stackexchange.com/questions/88227/fake-non-membership-proof-in-rsa-accumulator\n",
        "- https://research.ijcaonline.org/volume74/number13/pxc3890090.pdf\n",
        "- https://brilliant.org/wiki/extended-euclidean-algorithm/\n",
        "- https://brilliant.org/wiki/bezouts-identity/\n",
        "- https://www.math.cmu.edu/~bkell/21110-2010s/extended-euclidean.html\n",
        "- https://github.com/oleiba/RSA-accumulator\n",
        "- https://eprint.iacr.org/2018/1188.pdf\n",
        "- https://www.youtube.com/watch?t=573&v=90RkQkuiGDc&feature=youtu.be\n"
      ]
    },
    {
      "cell_type": "markdown",
      "metadata": {},
      "source": []
    }
  ],
  "metadata": {
    "colab": {
      "provenance": []
    },
    "kernelspec": {
      "display_name": "Python 3",
      "name": "python3"
    },
    "language_info": {
      "codemirror_mode": {
        "name": "ipython",
        "version": 3
      },
      "file_extension": ".py",
      "mimetype": "text/x-python",
      "name": "python",
      "nbconvert_exporter": "python",
      "pygments_lexer": "ipython3",
      "version": "3.10.6"
    }
  },
  "nbformat": 4,
  "nbformat_minor": 0
}
