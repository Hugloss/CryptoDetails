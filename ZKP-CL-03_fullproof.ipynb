{
 "cells": [
  {
   "cell_type": "markdown",
   "metadata": {},
   "source": [
    "# CL Protocol Specification"
   ]
  },
  {
   "cell_type": "markdown",
   "metadata": {},
   "source": [
    "Code is used to show the mathematics details for ZKP-CL."
   ]
  },
  {
   "cell_type": "markdown",
   "metadata": {},
   "source": [
    "The CL-signature scheme defines the public key in this key pair as the quadruple $(n, Z, S ,\\{R_i\\}_{i \\in A})$ where $A$ is the set of indices of attributes in the credential schema, $n$ is a Special RSA Modulus, and $Z, S , {R_i}$ are random quadratic residues modulo n.\n",
    "\n",
    "The public key information $(n, Z, S ,\\{R_i\\}_{i \\in A})$ are publicly available on the ledger, the signature $(A, e, v)$ can only be calculated by the issuer, who owns the private key $(p, q)$."
   ]
  },
  {
   "cell_type": "markdown",
   "metadata": {},
   "source": [
    "## Equations\n"
   ]
  },
  {
   "cell_type": "markdown",
   "metadata": {},
   "source": [
    "Remember from the math section:\n",
    "\n",
    "$$ T = A'^{\\bar{e}} S^{\\bar{v}} \\Bigg(\\prod_{i \\in A_h}{R_i^{\\bar{m_i}}} \\Bigg) \\pmod{n} $$\n",
    "$$ A' = AS^r $$\n",
    "$$ v' = v - er $$\n",
    "$$ \\hat{v} = \\bar{v} + Dv'  $$\n",
    "$$ e' = e - \\beta $$\n",
    "$$ \\hat{e} = \\bar{e} + De' $$\n",
    "$$ \\hat{m_i} = \\bar{m_i} + Dm_i $$\n",
    "$$ Q = A^e \\pmod{n} $$\n",
    "$$ Q = \\Bigg(\\frac{Z}{S^v \\prod_{i \\in A}{R_i^{m_i}}}\\Bigg) \\pmod{n} $$\n",
    "$$ \\hat{T} = \\Bigg(\\frac{Z}{A'^\\beta \\prod_{i \\in A_r}{R_i^{m_i}}}\\Bigg)^{-D} A'^{\\hat{e}} S^{\\hat{v}} \\Bigg(\\prod_{i \\in A_h}{R_i^{\\hat{m_i}}}\\Bigg) \\pmod{n} $$"
   ]
  },
  {
   "cell_type": "markdown",
   "metadata": {},
   "source": [
    "## Reference"
   ]
  },
  {
   "cell_type": "markdown",
   "metadata": {},
   "source": [
    "- https://docs.google.com/presentation/d/14SkMM_LtC0YixOryO5GfMbdQiwps6b-vq-k1A-ZVRmk/edit#slide=id.g6f917b6d41_6_150\n",
    "- https://github.com/WebOfTrustInfo/rwot5-boston/blob/master/final-documents/data-minimization-sd.md#crypto-details\n",
    "- https://uia.brage.unit.no/uia-xmlui/bitstream/handle/11250/2593825/PhD%2BDissertation_G.%2BP.%2BHARSHA%2BSANDARUWAN_FINAL.pdf#page=64\n",
    "- https://github.com/PeterAltmann/SSIdemo/blob/main/CEF_final_report.ipynb\n",
    "- https://www.cs.ru.nl/~gergely/objects/ZK-AnonCred.pdf#page=25\n",
    "- http://www.cs.ru.nl/~gergely/objects/u-prove.pdf\n",
    "- https://eprint.iacr.org/2022/492.pdf#page=7\n",
    "- https://eprint.iacr.org/2010/496.pdf#page=24\n",
    "- https://github.com/hyperledger-archives/indy-anoncreds/blob/master/docs/dev/anoncred.tex\n",
    "- https://hyperledger-indy.readthedocs.io/projects/hipe/en/latest/text/0109-anoncreds-protocol/README.html#issuance-of-credentials"
   ]
  },
  {
   "cell_type": "markdown",
   "metadata": {},
   "source": [
    "## Issuer setup\n",
    "\n",
    "Let $i$ be the number of attributes we work with.\n",
    "\n",
    "Steps to set up the issuer\n",
    "\n",
    "1. Issuer chooses a number of attribute bases $i$\n",
    "2. Generate random primes of equal length ($p$ and $q$) \n",
    "3. Then compute the modulus $n \\leftarrow pq$.\n",
    "4. Generate a random quadratic residue: $S \\pmod{n}$\n",
    "5. Generate quadratic residues $(Z,\\{R_i\\}_{i \\in A}) \\pmod{n}$ \n",
    "\n",
    "The issuer's public key is $(n, S, Z, R_1,R_2,\\ldots,R_i)$ and the private key is $(p, q)$."
   ]
  },
  {
   "cell_type": "code",
   "execution_count": 41,
   "metadata": {},
   "outputs": [],
   "source": [
    "from Crypto.Util import number\n",
    "import hashlib\n"
   ]
  },
  {
   "cell_type": "code",
   "execution_count": 42,
   "metadata": {},
   "outputs": [
    {
     "name": "stdout",
     "output_type": "stream",
     "text": [
      "Public key is:\n",
      "n = 8550841849581124127\n",
      "(R_1, R_2, R_3, R_4, R_5, R_6) = (133561300992591870, 5250103334166041682, 6301733490984978747, 7776765663839157772, 2507362099940342639, 5432598073234467476)\n",
      "S = 1430320840990158594\n",
      "Z = 8407419917135409481\n",
      "\n",
      "Private key is: (3397833353, 2516557159)\n"
     ]
    }
   ],
   "source": [
    "# For demo purposes to make print more readable and consistent\n",
    "bitsize = 32\n",
    "p = 3397833353\n",
    "q = 2516557159\n",
    "# p = number.getPrime(bitsize)\n",
    "# q = number.getPrime(bitsize)\n",
    "\n",
    "# The public parts\n",
    "n = p*q\n",
    "nsize = 2*bitsize\n",
    "# Generate quadratic residues mod n\n",
    "R_1 = pow(number.getRandomRange(2, n), 2, n)\n",
    "R_2 = pow(number.getRandomRange(2, n), 2, n)\n",
    "R_3 = pow(number.getRandomRange(2, n), 2, n)\n",
    "R_4 = pow(number.getRandomRange(2, n), 2, n)\n",
    "R_5 = pow(number.getRandomRange(2, n), 2, n)\n",
    "R_6 = pow(number.getRandomRange(2, n), 2, n)\n",
    "S = pow(number.getRandomRange(2, n), 2, n)\n",
    "Z = pow(number.getRandomRange(2, n), 2, n)\n",
    "\n",
    "\n",
    "print(f'Public key is:\\nn = {n}\\n(R_1, R_2, R_3, R_4, R_5, R_6) = {(R_1, R_2, R_3, R_4, R_5, R_6)}\\nS = {S}\\nZ = {Z}')\n",
    "print(f'\\nPrivate key is: {(p,q)}')"
   ]
  },
  {
   "cell_type": "code",
   "execution_count": 43,
   "metadata": {},
   "outputs": [
    {
     "name": "stdout",
     "output_type": "stream",
     "text": [
      "Message is:\n",
      "m_1, m_2, m_3, m_4, m_5, m_6)  = (2361185764792719478, 3838706582981664516, 3142452892453462317, 1094459997095202099, 3041891509396781501, 4962249658687791127)\n"
     ]
    }
   ],
   "source": [
    "# The messages\n",
    "msize = nsize\n",
    "m_1 = number.getRandomRange(2, n)\n",
    "m_2 = number.getRandomRange(2, n)\n",
    "m_3 = number.getRandomRange(2, n)\n",
    "m_4 = number.getRandomRange(2, n)\n",
    "m_5 = number.getRandomRange(2, n)\n",
    "m_6 = number.getRandomRange(2, n)\n",
    "\n",
    "print(f'Message is:\\nm_1, m_2, m_3, m_4, m_5, m_6)  = {(m_1, m_2, m_3, m_4, m_5, m_6)}')"
   ]
  },
  {
   "cell_type": "markdown",
   "metadata": {},
   "source": [
    "## User"
   ]
  },
  {
   "cell_type": "markdown",
   "metadata": {},
   "source": [
    "User loads Issuer's public key and calculate:\n",
    "\n",
    "1. Generates random integer $v'$\n",
    "2. Then computes\n",
    "$$U \\leftarrow S^{v'}R_1^{m_1}\\pmod{n}$$"
   ]
  },
  {
   "cell_type": "code",
   "execution_count": 44,
   "metadata": {},
   "outputs": [],
   "source": [
    "# Generate random integear\n",
    "v_prim = number.getRandomNBitInteger(msize*nsize + 1)\n",
    "\n",
    "# Calculate U\n",
    "U = pow(S, v_prim, n) * pow(R_1, m_1, n)"
   ]
  },
  {
   "cell_type": "markdown",
   "metadata": {},
   "source": [
    "### User send to Issuer\n",
    "User send $(U, v')$ to the Issuer"
   ]
  },
  {
   "cell_type": "markdown",
   "metadata": {},
   "source": [
    "## Issuer Signature Generation\n"
   ]
  },
  {
   "cell_type": "markdown",
   "metadata": {},
   "source": [
    "Issuer generate CL signature on the attributes by computing:\n",
    "\n",
    "1. Generates random integer $v''$\n",
    "2. Generates random prime $e$\n",
    "3. Then computes \n",
    "$$\n",
    "Q \\leftarrow \\frac{Z}{U S^{v''}(R_2^{m_2}R_3^{m_3}\\cdots  R_i^{m_i})}\\pmod{n}.\n",
    "$$\n",
    "4. Then computes\n",
    "$$\n",
    "A \\leftarrow Q^{e^{-1}\\pmod{p'q'}}\\pmod{n}.\n",
    "$$\n"
   ]
  },
  {
   "cell_type": "code",
   "execution_count": 45,
   "metadata": {},
   "outputs": [
    {
     "name": "stdout",
     "output_type": "stream",
     "text": [
      "Pre-signature is: A = 6346188664443139069, e = 22715747490381789919, v'' = 2084761080170102586829415369587076326844573851810833884949501479953323642529969384916178563193928960775075430371102382137627136421895801774197793557773006614342783038048198022537041460667992959489689323136327514588416528753563164455359334353025084274089960532529057221105909505258124001477328575854894066257132488634336483585188292437983385492541315955193123663062990153190468859794720838900208215053776635432477404162609918013167352031746724819460176271502610930217816606027227839886124834268573704883726258151593839914013025950751223225943725566124676999743362911116246100355865999052632602426193854395157973406559229955236311975797620934769658947205171898917172578531254371917108432173198910479788506449609119598116801175883423139781848516806131091273668741396496541510549726607158948452444097613698110911606498728553749873376883632852296142571286074621409752622714601036542223732510904253618421838686319455023805058367489213546052650548069483513328554785892880570374337306562080669446758865511996947877821036299618689712480076629941011856065167570799520612641651580733565475748449078804920915115063342448393554517122728837860604050790674480130059537577971057496371243520028557089846476453559365998133268897004914609591508280237742\n"
     ]
    }
   ],
   "source": [
    "# Generate random prime\n",
    "e = number.getPrime(nsize + 1)\n",
    "e_inv = pow(e, -1, (p-1)*(q-1))\n",
    "# v is selected as integer\n",
    "v_pprim = number.getRandomNBitInteger(msize*nsize + 1)\n",
    "\n",
    "# Calculate dot\n",
    "R_vector = pow(R_2, m_2, n) * pow(R_3, m_3, n) * pow(R_4, m_4, n) * pow(R_5, m_5, n) * pow(R_6, m_6, n)\n",
    "\n",
    "# Calculate commitment\n",
    "commitment_vector = U * pow(S, v_pprim, n) * R_vector\n",
    "commitment_vector_inv = pow(commitment_vector, -1, n)\n",
    "\n",
    "# Calculate Q\n",
    "Q = (Z * commitment_vector_inv) % n\n",
    "# Calculate signature part A\n",
    "A = pow(Q, e_inv, n)\n",
    "\n",
    "print(f\"Pre-signature is: A = {A}, e = {e}, v'' = {v_pprim}\")"
   ]
  },
  {
   "cell_type": "markdown",
   "metadata": {},
   "source": [
    "Check\n",
    "$$ Q = A^e $$"
   ]
  },
  {
   "cell_type": "code",
   "execution_count": 46,
   "metadata": {},
   "outputs": [
    {
     "name": "stdout",
     "output_type": "stream",
     "text": [
      "RHS is the same as LHS: True\n"
     ]
    }
   ],
   "source": [
    "# verify\n",
    "print('RHS is the same as LHS:', pow(A, e, n) == Q)"
   ]
  },
  {
   "cell_type": "markdown",
   "metadata": {},
   "source": [
    "### Issuer sends to User\n",
    "Issuer sends pre-signature $(A,e,v'')$ to the User"
   ]
  },
  {
   "cell_type": "markdown",
   "metadata": {},
   "source": [
    "## User complete signature"
   ]
  },
  {
   "cell_type": "markdown",
   "metadata": {},
   "source": [
    "For signature completion user computes\n",
    "$$v \\leftarrow v'+v''$$"
   ]
  },
  {
   "cell_type": "code",
   "execution_count": 47,
   "metadata": {},
   "outputs": [],
   "source": [
    "v = v_prim + v_pprim"
   ]
  },
  {
   "cell_type": "markdown",
   "metadata": {},
   "source": [
    "User now know the signature $(A,e,v)$\n",
    "\n",
    "User verify the signature $(A,e,v)$, using the CL verification algorithm:\n",
    "1. Compute\n",
    "$$\n",
    "\\hat{Z} \\leftarrow A^{e} S^{v}(R_1^{m_1}R_2^{m_2}\\cdots  R_i^{m_i})\\pmod{n}.\n",
    "$$"
   ]
  },
  {
   "cell_type": "code",
   "execution_count": 48,
   "metadata": {},
   "outputs": [],
   "source": [
    "R_dot = pow(R_1, m_1, n) * R_vector\n",
    "Z_hat = (pow(A, e, n) * pow(S, v, n) * R_dot) % n"
   ]
  },
  {
   "cell_type": "markdown",
   "metadata": {},
   "source": [
    "Check\n",
    "$$ Z = A^e S^v \\Bigg(\\prod_{i \\in A}{R_i^{m_i}}\\Bigg) $$"
   ]
  },
  {
   "cell_type": "code",
   "execution_count": 49,
   "metadata": {},
   "outputs": [
    {
     "name": "stdout",
     "output_type": "stream",
     "text": [
      "RHS is the same as LHS: True\n"
     ]
    }
   ],
   "source": [
    "print('RHS is the same as LHS:', Z_hat == Z)"
   ]
  },
  {
   "cell_type": "markdown",
   "metadata": {},
   "source": [
    "## Proof Generation\n",
    "\n",
    "\n",
    "### Selective disclosure\n",
    "Let A be the set of all attribute identifiers present in the credential schema\n",
    "such that $A_r$ contains revealed attributes to the Verifier and $A_h$ contains unrevealed (hidden) attributes which are kept secret.\n"
   ]
  },
  {
   "cell_type": "code",
   "execution_count": 50,
   "metadata": {},
   "outputs": [],
   "source": [
    "# public attributes\n",
    "R_public = pow(R_4, m_4, n) * pow(R_5, m_5, n)\n",
    "# private attributes\n",
    "R_private = pow(R_1, m_1, n) * pow(R_2, m_2, n) * pow(R_3, m_3, n) * pow(R_6, m_6, n)"
   ]
  },
  {
   "cell_type": "markdown",
   "metadata": {},
   "source": [
    "We remember that:\n",
    "$$ Z = A^e S^v \\Bigg(\\prod_{i \\in A}{R_i^{m_i}}\\Bigg) = \n",
    "A^e S^v \\Bigg(\\prod_{i \\in A_r}{R_i^{m_i}} \\cdot \\prod_{i \\in A_h}{R_i^{m_i}}\\Bigg)\n",
    "$$\n",
    "\n",
    "Check\n",
    "$$ Z \\Bigg(\\prod_{i \\in A_r}{R_i^{m_i}}\\Bigg)^{-1} = A^e S^v \\Bigg(\\prod_{i \\in A_h}{R_i^{m_i}}\\Bigg) $$"
   ]
  },
  {
   "cell_type": "code",
   "execution_count": 51,
   "metadata": {},
   "outputs": [
    {
     "name": "stdout",
     "output_type": "stream",
     "text": [
      "RHS is the same as LHS: True\n"
     ]
    }
   ],
   "source": [
    "# generate commitment and encryption\n",
    "R_public_inv = pow(R_public, -1, n)\n",
    "# contains revealed attributes\n",
    "attr_encryption_vector = Z * R_public_inv\n",
    "\n",
    "# contains unrevealed attributes which are kept secret\n",
    "attr_commitment_vector = pow(S, v, n) * R_private\n",
    "\n",
    "# verify credentials\n",
    "print('RHS is the same as LHS:', (pow(A, e, n) * attr_commitment_vector) % n == attr_encryption_vector % n)"
   ]
  },
  {
   "cell_type": "markdown",
   "metadata": {},
   "source": [
    "For each non-revealed attribute \n",
    "\n",
    "1. Generate random integer $\\bar{m_1}, \\bar{m_2}, \\bar{m_3}$ for the secret attributes\n",
    "2. Generates random integer $\\bar{m_j}$ for each non-revealed attribute\n"
   ]
  },
  {
   "cell_type": "code",
   "execution_count": 52,
   "metadata": {},
   "outputs": [],
   "source": [
    "m1_bar = number.getRandomNBitInteger(nsize)\n",
    "m2_bar = number.getRandomNBitInteger(nsize)\n",
    "m3_bar = number.getRandomNBitInteger(nsize)\n",
    "m6_bar = number.getRandomNBitInteger(nsize)\n",
    "\n",
    "\n",
    "Rbar_private = pow(R_1, m1_bar, n) * pow(R_2, m2_bar, n) * pow(R_3, m3_bar, n) * pow(R_6, m6_bar, n)"
   ]
  },
  {
   "cell_type": "markdown",
   "metadata": {},
   "source": [
    "\n",
    "1. Generate random integer $r$\n",
    "2. Then computes \n",
    "$$\n",
    "A' \\leftarrow A S^{r}\\pmod{n}\n",
    "$$\n",
    "4. Then computes\n",
    "$$\n",
    "v' \\leftarrow v - e\\cdot r\n",
    "$$\n"
   ]
  },
  {
   "cell_type": "code",
   "execution_count": 53,
   "metadata": {},
   "outputs": [],
   "source": [
    "# Choose random bit r\n",
    "r = number.getRandomNBitInteger(nsize + 1)\n",
    "\n",
    "# Calculate\n",
    "A_prime = A * pow(S, r, n)\n",
    "v_prime = v - e*r"
   ]
  },
  {
   "cell_type": "markdown",
   "metadata": {},
   "source": [
    "We remember that:\n",
    "\n",
    "$$\n",
    "Z = A^e S^v \\Bigg(\\prod_{i \\in A}{R_i^{m_i}}\\Bigg) = A'^{e} S^{v'} \\Bigg(\\prod_{i \\in A}{R_i^{m_i}}\\Bigg) \n",
    "$$\n",
    "\n",
    "Check\n",
    "$$\n",
    "A^e S^v = A'^{e} S^{v'}\n",
    "$$\n",
    "$$\n",
    "A' S^{-r} = A \\pmod{n}\n",
    "$$"
   ]
  },
  {
   "cell_type": "code",
   "execution_count": 54,
   "metadata": {},
   "outputs": [
    {
     "name": "stdout",
     "output_type": "stream",
     "text": [
      "RHS is the same as LHS: True\n",
      "RHS is the same as LHS: True\n",
      "RHS is the same as LHS: True\n"
     ]
    }
   ],
   "source": [
    "# we know that\n",
    "\n",
    "print('RHS is the same as LHS:', (pow(A_prime, e, n) * pow(S, v_prime, n) % n * R_dot) % n == Z)\n",
    "print('RHS is the same as LHS:', (pow(A_prime, e, n) * pow(S, v_prime, n) % n == pow(A, e, n) * pow(S, v, n) % n))\n",
    "print('RHS is the same as LHS:', ((A_prime * pow(S, -r, n) % n == A % n)))"
   ]
  },
  {
   "cell_type": "markdown",
   "metadata": {},
   "source": [
    "1. Generate random integer $\\beta$\n",
    "2. Compute \n",
    "$$e' \\leftarrow e - \\beta$$"
   ]
  },
  {
   "cell_type": "code",
   "execution_count": 55,
   "metadata": {},
   "outputs": [
    {
     "name": "stdout",
     "output_type": "stream",
     "text": [
      "Randomized signature is:\n",
      "A = 52937058134205530488960810483642028319,\n",
      "e' = 22715747483946234067,\n",
      "v' = 3991678096527194732354711448879907323619571274979428834904982002108892034157147694857124879171053723635633189495393388969729372908540936220693572573490254354571626956179059469912481501446814311660361249088918900479037070360576918762711730891126583504901733480475948315368398082435729496833492152837161273968621140336461643619918814465383890029132413327796475277195834592006226684604093356964572408225061032739303052290287698673633011270732943757392267939289386678283907018528240842380850767023586523747986160082135499610953957920885118731231811701821469875262056567146975212593425042689107462192547331918027999309597199598748490940217272122702206291304094529158780039889897364085860562655516707176149059262152885919829874044293066493267505552201302785961701353910346664970861300269472199936832075251858479601816177418189783377905481775202212737121175517806357355130477361679852601691130150467418308488669752573563453656101418786487914823084080250971113054049633831319867487126082507924702024127886117558222809133372553777287827152753474252923784177010303947357900021501728103767560262131349699831560493863556305451339265498466042227104120848325067538899197316949082621650106630171646893031468459806329029093375389737853617959636859037\n"
     ]
    }
   ],
   "source": [
    "beta = number.getRandomNBitInteger(bitsize + 1)\n",
    "e_prime = e - beta\n",
    "\n",
    "print(f\"Randomized signature is:\\nA = {A_prime},\\ne' = {e_prime},\\nv' = {v_prime}\")\n",
    "\n",
    "\n"
   ]
  },
  {
   "cell_type": "markdown",
   "metadata": {},
   "source": [
    "1. Generate random integer number $\\bar{e}$\n",
    "2. Generate random integer number $\\bar{v}$\n",
    "3. Compute\n",
    "$$ T \\leftarrow A'^{\\bar{e}} S^{\\bar{v}} \\Bigg(\\prod_{i \\in A_h}{R_i^{\\bar{m_i}}} \\Bigg) \\pmod{n} $$"
   ]
  },
  {
   "cell_type": "code",
   "execution_count": 56,
   "metadata": {},
   "outputs": [],
   "source": [
    "e_bar = number.getRandomNBitInteger(nsize + 1)\n",
    "v_bar = number.getRandomNBitInteger(msize*nsize+1)\n",
    "T = (pow(A_prime, e_bar, n) * pow(S, v_bar, n) * Rbar_private) % n"
   ]
  },
  {
   "cell_type": "markdown",
   "metadata": {},
   "source": [
    "### Hashing"
   ]
  },
  {
   "cell_type": "markdown",
   "metadata": {},
   "source": [
    "Compute \n",
    "$$\n",
    "c\\leftarrow H(\\mathcal{T},\\mathcal{C},n_1)\n",
    "$$"
   ]
  },
  {
   "cell_type": "code",
   "execution_count": 57,
   "metadata": {},
   "outputs": [
    {
     "name": "stdout",
     "output_type": "stream",
     "text": [
      "Proof is: T = 2198160649117614273, e_ = 22715747483946234067,\n",
      "c = 678598696908388092709236499864197236314747815112358918259807805632028283895893686444405505207296\n"
     ]
    }
   ],
   "source": [
    "attr = str([T, Q, A, e, v, A_prime])\n",
    "c_hash = hashlib.sha256(str(attr).encode('utf-8')).hexdigest()\n",
    "c = int(c_hash, base=32)\n",
    "print(f\"Proof is: T = {T}, e_ = {e_prime},\\nc = {c}\")"
   ]
  },
  {
   "cell_type": "markdown",
   "metadata": {},
   "source": [
    "Compute\n",
    "\\begin{align*}\n",
    "\\hat{v} \\leftarrow \\bar{v} + Dv' \\\\\n",
    "\\hat{e} \\leftarrow \\bar{e} + De'\n",
    "\\end{align*}"
   ]
  },
  {
   "cell_type": "code",
   "execution_count": 58,
   "metadata": {},
   "outputs": [],
   "source": [
    "e_hat = e_bar + c*e_prime\n",
    "v_hat = v_bar + c*v_prime"
   ]
  },
  {
   "cell_type": "markdown",
   "metadata": {},
   "source": [
    "For each none revealed attribute, $j\\in A_{h}$, compute\n",
    "$$ \\hat{m_j} \\leftarrow \\bar{m_j} + Dm_j $$\n"
   ]
  },
  {
   "cell_type": "code",
   "execution_count": 59,
   "metadata": {},
   "outputs": [],
   "source": [
    "m1_hat = m1_bar + c*m_1\n",
    "m2_hat = m2_bar + c*m_2\n",
    "m3_hat = m3_bar + c*m_3\n",
    "m6_hat = m6_bar + c*m_6\n",
    "\n",
    "Rhat_private = pow(R_1, m1_hat, n) * pow(R_2, m2_hat, n) * pow(R_3, m3_hat, n) * pow(R_6, m6_hat, n)"
   ]
  },
  {
   "cell_type": "markdown",
   "metadata": {},
   "source": [
    "We remember that:\n",
    "\n",
    "\\begin{equation}\n",
    "\n",
    "\\Bigg({\\prod_{i \\in A_r}{R_i^{m_i}}}\\Bigg)^{D} \\cdot \\Bigg(\\prod_{i \\in A_h}{R_i^{\\hat{m_i}}}\\Bigg) \\\\\n",
    "\n",
    "= {\\Bigg(\\prod_{i \\in A_r}{R_i^{Dm_i}}} \\cdot \\prod_{i \\in A_h}{R_i^{Dm_i}}\\Bigg) \\cdot \\prod_{i \\in A_h}{R_i^{\\bar{m_i}}} \\\\\n",
    "\n",
    "= \\Bigg(\\prod_{i \\in A}{R_i^{Dm_i}}\\Bigg) \\cdot \\prod_{i \\in A_h}{R_i^{\\bar{m_i}}} \\pmod{n} \\\\\n",
    "\\end{equation}\n",
    "\n",
    "Lets check\n",
    "\n",
    "\\begin{equation}\n",
    "\n",
    "\\Bigg({\\prod_{i \\in A_r}{R_i^{m_i}}}\\Bigg)^{D} \\cdot \\Bigg(\\prod_{i \\in A_h}{R_i^{\\hat{m_i}}}\\Bigg) \\\\\n",
    "\n",
    "= \\Bigg(\\prod_{i \\in A}{R_i^{Dm_i}}\\Bigg) \\cdot \\prod_{i \\in A_h}{R_i^{\\bar{m_i}}} \\pmod{n} \\\\\n",
    "\\end{equation}\n"
   ]
  },
  {
   "cell_type": "code",
   "execution_count": 60,
   "metadata": {},
   "outputs": [
    {
     "name": "stdout",
     "output_type": "stream",
     "text": [
      "RHS is the same as LHS: True\n"
     ]
    }
   ],
   "source": [
    "Rc_public = pow(R_4, m_4*c, n) * pow(R_5, m_5*c, n)\n",
    "Rc_private = pow(R_1, m_1*c, n) * pow(R_2, m_2*c, n) * pow(R_3, m_3*c, n) * pow(R_6, m_6*c, n)\n",
    "Rc_dot = Rc_private * Rc_public\n",
    "\n",
    "print('RHS is the same as LHS:', (Rc_public * Rhat_private % n == Rc_dot * Rbar_private % n))"
   ]
  },
  {
   "cell_type": "markdown",
   "metadata": {},
   "source": [
    "## Proof Verification"
   ]
  },
  {
   "cell_type": "markdown",
   "metadata": {},
   "source": [
    "Calculate\n",
    "\n",
    "$$\n",
    "\\hat{T} \\leftarrow \\Bigg(\\frac{Z}{A'^\\beta \\prod_{i \\in A_r}{R_i^{m_i}}}\\Bigg)^{-D} A'^{\\hat{e}} S^{\\hat{v}} \\Bigg(\\prod_{i \\in A_h}{R_i^{\\hat{m_i}}}\\Bigg)\n",
    "= Z^{-D} \\cdot A'^{D\\beta} \\cdot A'^{\\hat{e}} \\cdot S^{\\hat{v}} \\cdot \\Bigg({\\prod_{i \\in A_r}{R_i^{m_i}}}\\Bigg)^{D} \\cdot \\Bigg(\\prod_{i \\in A_h}{R_i^{\\hat{m_i}}}\\Bigg) \\pmod{n}\n",
    "$$"
   ]
  },
  {
   "cell_type": "code",
   "execution_count": 61,
   "metadata": {},
   "outputs": [
    {
     "name": "stdout",
     "output_type": "stream",
     "text": [
      "RHS is the same as LHS: True\n"
     ]
    }
   ],
   "source": [
    "T_hat = (pow(Z, -c, n) * pow(A_prime, c*beta, n) * pow(A_prime, e_hat, n) * pow(S, v_hat, n) * Rc_public * Rhat_private) % n\n",
    "\n",
    "# we know that\n",
    "print('RHS is the same as LHS:', (T_hat) == T)"
   ]
  },
  {
   "cell_type": "markdown",
   "metadata": {},
   "source": [
    "Compute\n",
    "$$\n",
    "\\hat{Q} \\leftarrow A'^{e} S^{-er} \\pmod{n}\n",
    "$$"
   ]
  },
  {
   "cell_type": "code",
   "execution_count": 62,
   "metadata": {},
   "outputs": [],
   "source": [
    "Q_hat = pow(A_prime, e, n) * pow(S, -e*r, n) % n"
   ]
  },
  {
   "cell_type": "markdown",
   "metadata": {},
   "source": [
    "Compute \n",
    "$$\n",
    "\\widehat{c} \\leftarrow H(\\hat{\\mathcal{T}},\\mathcal{C},n_1);\n",
    "$$"
   ]
  },
  {
   "cell_type": "code",
   "execution_count": 63,
   "metadata": {},
   "outputs": [
    {
     "name": "stdout",
     "output_type": "stream",
     "text": [
      "RHS is the same as LHS: True\n"
     ]
    }
   ],
   "source": [
    "\n",
    "\n",
    "attr_hat = str([T_hat, Q_hat, A, e, v, A_prime])\n",
    "c_hash_hat = hashlib.sha256(str(attr_hat).encode('utf-8')).hexdigest()\n",
    "c_hat = int(c_hash_hat, base=32)\n",
    "\n",
    "print('RHS is the same as LHS:', (c_hat) == c)"
   ]
  },
  {
   "cell_type": "markdown",
   "metadata": {},
   "source": [
    "## Equality proof\n",
    "This zero knowledge proof is in fact just an equality proof that does not reveal the attribute’s value."
   ]
  },
  {
   "cell_type": "code",
   "execution_count": 64,
   "metadata": {},
   "outputs": [],
   "source": [
    "assert([T, c] == [T_hat, c_hat])"
   ]
  },
  {
   "cell_type": "code",
   "execution_count": null,
   "metadata": {},
   "outputs": [],
   "source": []
  }
 ],
 "metadata": {
  "kernelspec": {
   "display_name": "Python 3",
   "language": "python",
   "name": "python3"
  },
  "language_info": {
   "codemirror_mode": {
    "name": "ipython",
    "version": 3
   },
   "file_extension": ".py",
   "mimetype": "text/x-python",
   "name": "python",
   "nbconvert_exporter": "python",
   "pygments_lexer": "ipython3",
   "version": "3.9.6"
  },
  "orig_nbformat": 4,
  "vscode": {
   "interpreter": {
    "hash": "c65a76b623ff58757d879ffba0c64f863adb3d623b4a7ebf7852010e5ebe6c38"
   }
  }
 },
 "nbformat": 4,
 "nbformat_minor": 2
}
