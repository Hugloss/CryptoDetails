{
 "cells": [
  {
   "cell_type": "markdown",
   "metadata": {},
   "source": [
    "# CL Protocol Specification"
   ]
  },
  {
   "cell_type": "markdown",
   "metadata": {},
   "source": [
    "Code is used to show the mathematics details for ZKP-CL."
   ]
  },
  {
   "cell_type": "markdown",
   "metadata": {},
   "source": [
    "The CL-signature scheme defines the public key in this key pair as the quadruple $(n, Z, S ,\\{R_i\\}_{i \\in A})$ where $A$ is the set of indices of attributes in the credential schema, $n$ is a Special RSA Modulus, and $Z, S , {R_i}$ are random quadratic residues modulo n.\n",
    "\n",
    "The public key information $(n, Z, S ,\\{R_i\\}_{i \\in A})$ are publicly available on the ledger, the signature $(A, e, v)$ can only be calculated by the issuer, who owns the private key $(p, q)$."
   ]
  },
  {
   "cell_type": "markdown",
   "metadata": {},
   "source": [
    "## Equations\n"
   ]
  },
  {
   "cell_type": "markdown",
   "metadata": {},
   "source": [
    "Remember from the math section:\n",
    "\n",
    "$$ T = A'^{\\bar{e}} S^{\\bar{v}} \\Bigg(\\prod_{i \\in A_h}{R_i^{\\bar{m_i}}} \\Bigg) \\pmod{n} $$\n",
    "$$ A' = AS^r $$\n",
    "$$ v' = v - er $$\n",
    "$$ \\hat{v} = \\bar{v} + Dv'  $$\n",
    "$$ e' = e - \\beta $$\n",
    "$$ \\hat{e} = \\bar{e} + De' $$\n",
    "$$ \\hat{m_i} = \\bar{m_i} + Dm_i $$\n",
    "$$ Q = A^e \\pmod{n} $$\n",
    "$$ Q = \\Bigg(\\frac{Z}{S^v \\prod_{i \\in A}{R_i^{m_i}}}\\Bigg) \\pmod{n} $$\n",
    "$$ \\hat{T} = \\Bigg(\\frac{Z}{A'^\\beta \\prod_{i \\in A_r}{R_i^{m_i}}}\\Bigg)^{-D} A'^{\\hat{e}} S^{\\hat{v}} \\Bigg(\\prod_{i \\in A_h}{R_i^{\\hat{m_i}}}\\Bigg) \\pmod{n} $$"
   ]
  },
  {
   "cell_type": "markdown",
   "metadata": {},
   "source": [
    "## Issuer setup\n",
    "\n",
    "Let $i$ be the number of attributes we work with.\n",
    "\n",
    "Steps to set up the issuer\n",
    "\n",
    "1. Issuer chooses a number of attribute bases $i$\n",
    "2. Generate random primes of equal length ($p$ and $q$) \n",
    "3. Then compute the modulus $n \\leftarrow pq$.\n",
    "4. Generate a random quadratic residue: $S \\pmod{n}$\n",
    "5. Generate quadratic residues $(Z,\\{R_i\\}_{i \\in A}) \\pmod{n}$ \n",
    "\n",
    "The issuer's public key is $(n, S, Z, R_1,R_2,\\ldots,R_i)$ and the private key is $(p, q)$."
   ]
  },
  {
   "cell_type": "code",
   "execution_count": 2,
   "metadata": {},
   "outputs": [],
   "source": [
    "from Crypto.Util import number\n",
    "import hashlib\n"
   ]
  },
  {
   "cell_type": "code",
   "execution_count": 3,
   "metadata": {},
   "outputs": [
    {
     "name": "stdout",
     "output_type": "stream",
     "text": [
      "Public key is:\n",
      "n = 8550841849581124127\n",
      "(R_1, R_2, R_3, R_4, R_5, R_6) = (7489092437948868914, 4638538772027415986, 6123285392668868892, 7869184347826771002, 4040922565690684154, 452834554926598509)\n",
      "S = 3474591476129189134\n",
      "Z = 6979000837685429326\n",
      "\n",
      "Private key is: (3397833353, 2516557159)\n"
     ]
    }
   ],
   "source": [
    "# For demo purposes to make print more readable and consistent\n",
    "bitsize = 32\n",
    "p = 3397833353\n",
    "q = 2516557159\n",
    "# p = number.getPrime(bitsize)\n",
    "# q = number.getPrime(bitsize)\n",
    "\n",
    "# The public parts\n",
    "n = p*q\n",
    "nsize = 2*bitsize\n",
    "# Generate quadratic residues mod n\n",
    "R_1 = pow(number.getRandomRange(2, n), 2, n)\n",
    "R_2 = pow(number.getRandomRange(2, n), 2, n)\n",
    "R_3 = pow(number.getRandomRange(2, n), 2, n)\n",
    "R_4 = pow(number.getRandomRange(2, n), 2, n)\n",
    "R_5 = pow(number.getRandomRange(2, n), 2, n)\n",
    "R_6 = pow(number.getRandomRange(2, n), 2, n)\n",
    "S = pow(number.getRandomRange(2, n), 2, n)\n",
    "Z = pow(number.getRandomRange(2, n), 2, n)\n",
    "\n",
    "\n",
    "print(f'Public key is:\\nn = {n}\\n(R_1, R_2, R_3, R_4, R_5, R_6) = {(R_1, R_2, R_3, R_4, R_5, R_6)}\\nS = {S}\\nZ = {Z}')\n",
    "print(f'\\nPrivate key is: {(p,q)}')"
   ]
  },
  {
   "cell_type": "code",
   "execution_count": 4,
   "metadata": {},
   "outputs": [
    {
     "name": "stdout",
     "output_type": "stream",
     "text": [
      "Message is:\n",
      "m_1, m_2, m_3, m_4, m_5, m_6)  = (7273425162531509682, 4341954895574213369, 6590368354271484869, 6365936663992550230, 2836189369454369458, 1223581943782845983)\n"
     ]
    }
   ],
   "source": [
    "# The messages\n",
    "msize = nsize\n",
    "m_1 = number.getRandomRange(2, n)\n",
    "m_2 = number.getRandomRange(2, n)\n",
    "m_3 = number.getRandomRange(2, n)\n",
    "m_4 = number.getRandomRange(2, n)\n",
    "m_5 = number.getRandomRange(2, n)\n",
    "m_6 = number.getRandomRange(2, n)\n",
    "\n",
    "print(f'Message is:\\nm_1, m_2, m_3, m_4, m_5, m_6)  = {(m_1, m_2, m_3, m_4, m_5, m_6)}')"
   ]
  },
  {
   "cell_type": "markdown",
   "metadata": {},
   "source": [
    "## User"
   ]
  },
  {
   "cell_type": "markdown",
   "metadata": {},
   "source": [
    "User loads Issuer's public key and calculate:\n",
    "\n",
    "1. Generates random integer $v'$\n",
    "2. Then computes\n",
    "$$U \\leftarrow S^{v'}R_1^{m_1}\\pmod{n}$$"
   ]
  },
  {
   "cell_type": "code",
   "execution_count": 5,
   "metadata": {},
   "outputs": [],
   "source": [
    "# Generate random integear\n",
    "v_prim = number.getRandomNBitInteger(msize*nsize + 1)\n",
    "\n",
    "# Calculate U\n",
    "U = pow(S, v_prim, n) * pow(R_1, m_1, n)"
   ]
  },
  {
   "cell_type": "markdown",
   "metadata": {},
   "source": [
    "### User send to Issuer\n",
    "User send $(U, v')$ to the Issuer"
   ]
  },
  {
   "cell_type": "markdown",
   "metadata": {},
   "source": [
    "## Issuer Signature Generation\n"
   ]
  },
  {
   "cell_type": "markdown",
   "metadata": {},
   "source": [
    "Issuer generate CL signature on the attributes by computing:\n",
    "\n",
    "1. Generates random integer $v''$\n",
    "2. Generates random prime $e$\n",
    "3. Then computes \n",
    "$$\n",
    "Q \\leftarrow \\frac{Z}{U S^{v''}(R_2^{m_2}R_3^{m_3}\\cdots  R_i^{m_i})}\\pmod{n}.\n",
    "$$\n",
    "4. Then computes\n",
    "$$\n",
    "A \\leftarrow Q^{e^{-1}\\pmod{p'q'}}\\pmod{n}.\n",
    "$$\n"
   ]
  },
  {
   "cell_type": "code",
   "execution_count": 6,
   "metadata": {},
   "outputs": [
    {
     "name": "stdout",
     "output_type": "stream",
     "text": [
      "Pre-signature is: A = 1796123067940129401, e = 35181504651618055519, v'' = 1906501872935750363047670476252607561710659671527057754067312043075675421785668747974394696839296131836108839005446823930095874734199783894950880592184613163079422424746780125609641866819890434383394800225512769599449002778327445255992304416943239601893219438030124486571115111562532842496202930769352640934881371696812046605766148148619909708174861577870960724054097721546750306589633437049685388808707700207033307578485949083789778951468415507154303725717221679546961674587269001452711421451889351699432156419089714304005891825329419609499842892547430910623904688271134366646569646393189608692807870095291574027518668073570717055488968248230987496641067905761803260491393142621754815499178732408867763637375412822919613559609980084195745296661532258561830256352360531169999639108117328703098186136091308989703513853048849108290054170571424323775895921333416009091104930622628268175190826680631643490232227582867825461150083775509421934689885801001744786229757164120205753637531289506785896846753975406945107887948886460288824284582224621722637175671071776513475303597038107869878445925792795677912985577475089137253220747627384942353940886956121813553773946067586825945963137575282042659980937299937270952858923800941407425001021499\n"
     ]
    }
   ],
   "source": [
    "# Generate random prime\n",
    "e = number.getPrime(nsize + 1)\n",
    "e_inv = pow(e, -1, (p-1)*(q-1))\n",
    "# v is selected as integer\n",
    "v_pprim = number.getRandomNBitInteger(msize*nsize + 1)\n",
    "\n",
    "# Calculate dot\n",
    "R_vector = pow(R_2, m_2, n) * pow(R_3, m_3, n) * pow(R_4, m_4, n) * pow(R_5, m_5, n) * pow(R_6, m_6, n)\n",
    "\n",
    "# Calculate commitment\n",
    "commitment_vector = U * pow(S, v_pprim, n) * R_vector\n",
    "commitment_vector_inv = pow(commitment_vector, -1, n)\n",
    "\n",
    "# Calculate Q\n",
    "Q = (Z * commitment_vector_inv) % n\n",
    "# Calculate signature part A\n",
    "A = pow(Q, e_inv, n)\n",
    "\n",
    "print(f\"Pre-signature is: A = {A}, e = {e}, v'' = {v_pprim}\")"
   ]
  },
  {
   "cell_type": "markdown",
   "metadata": {},
   "source": [
    "Check\n",
    "$$ Q = A^e $$"
   ]
  },
  {
   "cell_type": "code",
   "execution_count": 7,
   "metadata": {},
   "outputs": [
    {
     "name": "stdout",
     "output_type": "stream",
     "text": [
      "RHS is the same as LHS: True\n"
     ]
    }
   ],
   "source": [
    "# verify\n",
    "print('RHS is the same as LHS:', pow(A, e, n) == Q)"
   ]
  },
  {
   "cell_type": "markdown",
   "metadata": {},
   "source": [
    "### Issuer sends to User\n",
    "Issuer sends pre-signature $(A,e,v'')$ to the User"
   ]
  },
  {
   "cell_type": "markdown",
   "metadata": {},
   "source": [
    "## User complete signature"
   ]
  },
  {
   "cell_type": "markdown",
   "metadata": {},
   "source": [
    "For signature completion user computes\n",
    "$$v \\leftarrow v'+v''$$"
   ]
  },
  {
   "cell_type": "code",
   "execution_count": 8,
   "metadata": {},
   "outputs": [],
   "source": [
    "v = v_prim + v_pprim"
   ]
  },
  {
   "cell_type": "markdown",
   "metadata": {},
   "source": [
    "User now know the signature $(A,e,v)$\n",
    "\n",
    "User verify the signature $(A,e,v)$, using the CL verification algorithm:\n",
    "1. Compute\n",
    "$$\n",
    "\\hat{Z} \\leftarrow A^{e} S^{v}(R_1^{m_1}R_2^{m_2}\\cdots  R_i^{m_i})\\pmod{n}.\n",
    "$$"
   ]
  },
  {
   "cell_type": "code",
   "execution_count": 9,
   "metadata": {},
   "outputs": [],
   "source": [
    "R_dot = pow(R_1, m_1, n) * R_vector\n",
    "Z_hat = (pow(A, e, n) * pow(S, v, n) * R_dot) % n"
   ]
  },
  {
   "cell_type": "markdown",
   "metadata": {},
   "source": [
    "Check\n",
    "$$ Z = A^e S^v \\Bigg(\\prod_{i \\in A}{R_i^{m_i}}\\Bigg) $$"
   ]
  },
  {
   "cell_type": "code",
   "execution_count": 10,
   "metadata": {},
   "outputs": [
    {
     "name": "stdout",
     "output_type": "stream",
     "text": [
      "RHS is the same as LHS: True\n"
     ]
    }
   ],
   "source": [
    "print('RHS is the same as LHS:', Z_hat == Z)"
   ]
  },
  {
   "cell_type": "markdown",
   "metadata": {},
   "source": [
    "## Proof Generation\n",
    "\n",
    "\n",
    "### Selective disclosure\n",
    "Let A be the set of all attribute identifiers present in the credential schema\n",
    "such that $A_r$ contains revealed attributes to the Verifier and $A_h$ contains unrevealed (hidden) attributes which are kept secret.\n"
   ]
  },
  {
   "cell_type": "code",
   "execution_count": 11,
   "metadata": {},
   "outputs": [],
   "source": [
    "# public attributes\n",
    "R_public = pow(R_4, m_4, n) * pow(R_5, m_5, n)\n",
    "# private attributes\n",
    "R_private = pow(R_1, m_1, n) * pow(R_2, m_2, n) * pow(R_3, m_3, n) * pow(R_6, m_6, n)"
   ]
  },
  {
   "cell_type": "markdown",
   "metadata": {},
   "source": [
    "We remember that:\n",
    "$$ Z = A^e S^v \\Bigg(\\prod_{i \\in A}{R_i^{m_i}}\\Bigg) = \n",
    "A^e S^v \\Bigg(\\prod_{i \\in A_r}{R_i^{m_i}} \\cdot \\prod_{i \\in A_h}{R_i^{m_i}}\\Bigg)\n",
    "$$\n",
    "\n",
    "Check\n",
    "$$ Z \\Bigg(\\prod_{i \\in A_r}{R_i^{m_i}}\\Bigg)^{-1} = A^e S^v \\Bigg(\\prod_{i \\in A_h}{R_i^{m_i}}\\Bigg) $$"
   ]
  },
  {
   "cell_type": "code",
   "execution_count": 12,
   "metadata": {},
   "outputs": [
    {
     "name": "stdout",
     "output_type": "stream",
     "text": [
      "RHS is the same as LHS: True\n"
     ]
    }
   ],
   "source": [
    "# generate commitment and encryption\n",
    "R_public_inv = pow(R_public, -1, n)\n",
    "# contains revealed attributes\n",
    "attr_encryption_vector = Z * R_public_inv\n",
    "\n",
    "# contains unrevealed attributes which are kept secret\n",
    "attr_commitment_vector = pow(S, v, n) * R_private\n",
    "\n",
    "# verify credentials\n",
    "print('RHS is the same as LHS:', (pow(A, e, n) * attr_commitment_vector) % n == attr_encryption_vector % n)"
   ]
  },
  {
   "cell_type": "markdown",
   "metadata": {},
   "source": [
    "For each non-revealed attribute \n",
    "\n",
    "1. Generate random integer $\\bar{m_1}, \\bar{m_2}, \\bar{m_3}$ for the secret attributes\n",
    "2. Generates random integer $\\bar{m_j}$ for each non-revealed attribute\n"
   ]
  },
  {
   "cell_type": "code",
   "execution_count": 13,
   "metadata": {},
   "outputs": [],
   "source": [
    "m1_bar = number.getRandomNBitInteger(nsize)\n",
    "m2_bar = number.getRandomNBitInteger(nsize)\n",
    "m3_bar = number.getRandomNBitInteger(nsize)\n",
    "m6_bar = number.getRandomNBitInteger(nsize)\n",
    "\n",
    "\n",
    "Rbar_private = pow(R_1, m1_bar, n) * pow(R_2, m2_bar, n) * pow(R_3, m3_bar, n) * pow(R_6, m6_bar, n)"
   ]
  },
  {
   "cell_type": "markdown",
   "metadata": {},
   "source": [
    "\n",
    "1. Generate random integer $r$\n",
    "2. Then computes \n",
    "$$\n",
    "A' \\leftarrow A S^{r}\\pmod{n}\n",
    "$$\n",
    "4. Then computes\n",
    "$$\n",
    "v' \\leftarrow v - e\\cdot r\n",
    "$$\n"
   ]
  },
  {
   "cell_type": "code",
   "execution_count": 14,
   "metadata": {},
   "outputs": [],
   "source": [
    "# Choose random bit r\n",
    "r = number.getRandomNBitInteger(nsize + 1)\n",
    "\n",
    "# Calculate\n",
    "A_prime = A * pow(S, r, n)\n",
    "v_prime = v - e*r"
   ]
  },
  {
   "cell_type": "markdown",
   "metadata": {},
   "source": [
    "We remember that:\n",
    "\n",
    "$$\n",
    "Z = A^e S^v \\Bigg(\\prod_{i \\in A}{R_i^{m_i}}\\Bigg) = A'^{e} S^{v'} \\Bigg(\\prod_{i \\in A}{R_i^{m_i}}\\Bigg) \n",
    "$$\n",
    "\n",
    "Check\n",
    "$$\n",
    "A^e S^v = A'^{e} S^{v'}\n",
    "$$\n",
    "$$\n",
    "A' S^{-r} = A \\pmod{n}\n",
    "$$"
   ]
  },
  {
   "cell_type": "code",
   "execution_count": 15,
   "metadata": {},
   "outputs": [
    {
     "name": "stdout",
     "output_type": "stream",
     "text": [
      "RHS is the same as LHS: True\n",
      "RHS is the same as LHS: True\n",
      "RHS is the same as LHS: True\n"
     ]
    }
   ],
   "source": [
    "# we know that\n",
    "\n",
    "print('RHS is the same as LHS:', (pow(A_prime, e, n) * pow(S, v_prime, n) % n * R_dot) % n == Z)\n",
    "print('RHS is the same as LHS:', (pow(A_prime, e, n) * pow(S, v_prime, n) % n == pow(A, e, n) * pow(S, v, n) % n))\n",
    "print('RHS is the same as LHS:', ((A_prime * pow(S, -r, n) % n == A % n)))"
   ]
  },
  {
   "cell_type": "markdown",
   "metadata": {},
   "source": [
    "1. Generate random integer $\\beta$\n",
    "2. Compute \n",
    "$$e' \\leftarrow e - \\beta$$"
   ]
  },
  {
   "cell_type": "code",
   "execution_count": 16,
   "metadata": {},
   "outputs": [
    {
     "name": "stdout",
     "output_type": "stream",
     "text": [
      "Randomized signature is:\n",
      "A = 3331733577123776045443201618297596630,\n",
      "e' = 35181504645426043147,\n",
      "v' = 2964895403702273389574681480679407724046189420594889943867266271790446806538438756182259686988951115919786599748293820646653900259175035738196268453839013610814977522642662228754983095883779218879345628976742816663221951518894022533456493377740072621464032369966436988163277285752967272555678340708670406657650042686128960113261933163029287503200857625419428780078690752744683400857816402434713365435169301153157874849930937790256607613307391152292533830477389451708715271618923218756067130418505834760780623803903538608623632307850923588704476677596786061957131791196195459284208790242704058881341404975456184738709763370921776821314758765854310388605629443961516166745614628099478381067755509877000730440522038963764665851730698741592861636895197515759563600640688183789877247422302469756059308587652419155446003161394830832225620028521856037276840424520437567257997816212382587704617108637887265020037972101321053219706258965585332770774471741919874847998517029140119323715515883024141573688549005529656319253066492834101680628774504083458276520779932413313067433527545297937116773715875331577566046493388554349657073455116365916092545931389936090880960817194328810749515573455457959220460159095008444358821382269374447494235332364\n"
     ]
    }
   ],
   "source": [
    "beta = number.getRandomNBitInteger(bitsize + 1)\n",
    "e_prime = e - beta\n",
    "\n",
    "print(f\"Randomized signature is:\\nA = {A_prime},\\ne' = {e_prime},\\nv' = {v_prime}\")\n",
    "\n",
    "\n"
   ]
  },
  {
   "cell_type": "markdown",
   "metadata": {},
   "source": [
    "1. Generate random integer number $\\bar{e}$\n",
    "2. Generate random integer number $\\bar{v}$\n",
    "3. Compute\n",
    "$$ T \\leftarrow A'^{\\bar{e}} S^{\\bar{v}} \\Bigg(\\prod_{i \\in A_h}{R_i^{\\bar{m_i}}} \\Bigg) \\pmod{n} $$"
   ]
  },
  {
   "cell_type": "code",
   "execution_count": 17,
   "metadata": {},
   "outputs": [],
   "source": [
    "e_bar = number.getRandomNBitInteger(nsize + 1)\n",
    "v_bar = number.getRandomNBitInteger(msize*nsize+1)\n",
    "T = (pow(A_prime, e_bar, n) * pow(S, v_bar, n) * Rbar_private) % n"
   ]
  },
  {
   "cell_type": "markdown",
   "metadata": {},
   "source": [
    "### Hashing"
   ]
  },
  {
   "cell_type": "markdown",
   "metadata": {},
   "source": [
    "Compute \n",
    "$$\n",
    "c\\leftarrow H(\\mathcal{T},\\mathcal{C},n_1)\n",
    "$$"
   ]
  },
  {
   "cell_type": "code",
   "execution_count": 18,
   "metadata": {},
   "outputs": [
    {
     "name": "stdout",
     "output_type": "stream",
     "text": [
      "Proof is: T = 4443983947906183329, \n",
      "c = 953339395777708075496704772466219349584164381227043364721344626679724506545530876457483130382761\n"
     ]
    }
   ],
   "source": [
    "attr = str([T, Q, A, e, v, A_prime])\n",
    "c_hash = hashlib.sha256(str(attr).encode('utf-8')).hexdigest()\n",
    "c = int(c_hash, base=32)\n",
    "print(f\"Proof is: T = {T}, \\nc = {c}\")"
   ]
  },
  {
   "cell_type": "markdown",
   "metadata": {},
   "source": [
    "Compute\n",
    "\\begin{align*}\n",
    "\\hat{v} \\leftarrow \\bar{v} + Dv' \\\\\n",
    "\\hat{e} \\leftarrow \\bar{e} + De'\n",
    "\\end{align*}"
   ]
  },
  {
   "cell_type": "code",
   "execution_count": 19,
   "metadata": {},
   "outputs": [],
   "source": [
    "e_hat = e_bar + c*e_prime\n",
    "v_hat = v_bar + c*v_prime"
   ]
  },
  {
   "cell_type": "markdown",
   "metadata": {},
   "source": [
    "For each none revealed attribute, $j\\in A_{h}$, compute\n",
    "$$ \\hat{m_j} \\leftarrow \\bar{m_j} + Dm_j $$\n"
   ]
  },
  {
   "cell_type": "code",
   "execution_count": 20,
   "metadata": {},
   "outputs": [],
   "source": [
    "m1_hat = m1_bar + c*m_1\n",
    "m2_hat = m2_bar + c*m_2\n",
    "m3_hat = m3_bar + c*m_3\n",
    "m6_hat = m6_bar + c*m_6\n",
    "\n",
    "Rhat_private = pow(R_1, m1_hat, n) * pow(R_2, m2_hat, n) * pow(R_3, m3_hat, n) * pow(R_6, m6_hat, n)"
   ]
  },
  {
   "cell_type": "markdown",
   "metadata": {},
   "source": [
    "We remember that:\n",
    "\n",
    "\\begin{equation}\n",
    "\n",
    "\\Bigg({\\prod_{i \\in A_r}{R_i^{m_i}}}\\Bigg)^{D} \\cdot \\Bigg(\\prod_{i \\in A_h}{R_i^{\\hat{m_i}}}\\Bigg) \\\\\n",
    "\n",
    "= {\\Bigg(\\prod_{i \\in A_r}{R_i^{Dm_i}}} \\cdot \\prod_{i \\in A_h}{R_i^{Dm_i}}\\Bigg) \\cdot \\prod_{i \\in A_h}{R_i^{\\bar{m_i}}} \\\\\n",
    "\n",
    "= \\Bigg(\\prod_{i \\in A}{R_i^{Dm_i}}\\Bigg) \\cdot \\prod_{i \\in A_h}{R_i^{\\bar{m_i}}} \\pmod{n} \\\\\n",
    "\\end{equation}\n",
    "\n",
    "Lets check\n",
    "\n",
    "\\begin{equation}\n",
    "\n",
    "\\Bigg({\\prod_{i \\in A_r}{R_i^{m_i}}}\\Bigg)^{D} \\cdot \\Bigg(\\prod_{i \\in A_h}{R_i^{\\hat{m_i}}}\\Bigg) \\\\\n",
    "\n",
    "= \\Bigg(\\prod_{i \\in A}{R_i^{Dm_i}}\\Bigg) \\cdot \\prod_{i \\in A_h}{R_i^{\\bar{m_i}}} \\pmod{n} \\\\\n",
    "\\end{equation}\n"
   ]
  },
  {
   "cell_type": "code",
   "execution_count": 21,
   "metadata": {},
   "outputs": [
    {
     "name": "stdout",
     "output_type": "stream",
     "text": [
      "RHS is the same as LHS: True\n"
     ]
    }
   ],
   "source": [
    "Rc_public = pow(R_4, m_4*c, n) * pow(R_5, m_5*c, n)\n",
    "Rc_private = pow(R_1, m_1*c, n) * pow(R_2, m_2*c, n) * pow(R_3, m_3*c, n) * pow(R_6, m_6*c, n)\n",
    "Rc_dot = Rc_private * Rc_public\n",
    "\n",
    "print('RHS is the same as LHS:', (Rc_public * Rhat_private % n == Rc_dot * Rbar_private % n))"
   ]
  },
  {
   "cell_type": "markdown",
   "metadata": {},
   "source": [
    "## Proof Verification"
   ]
  },
  {
   "cell_type": "markdown",
   "metadata": {},
   "source": [
    "Calculate\n",
    "\n",
    "$$\n",
    "\\hat{T} \\leftarrow \\Bigg(\\frac{Z}{A'^\\beta \\prod_{i \\in A_r}{R_i^{m_i}}}\\Bigg)^{-D} A'^{\\hat{e}} S^{\\hat{v}} \\Bigg(\\prod_{i \\in A_h}{R_i^{\\hat{m_i}}}\\Bigg)\n",
    "= Z^{-D} \\cdot A'^{D\\beta} \\cdot A'^{\\hat{e}} \\cdot S^{\\hat{v}} \\cdot \\Bigg({\\prod_{i \\in A_r}{R_i^{m_i}}}\\Bigg)^{D} \\cdot \\Bigg(\\prod_{i \\in A_h}{R_i^{\\hat{m_i}}}\\Bigg) \\pmod{n}\n",
    "$$"
   ]
  },
  {
   "cell_type": "code",
   "execution_count": 22,
   "metadata": {},
   "outputs": [
    {
     "name": "stdout",
     "output_type": "stream",
     "text": [
      "RHS is the same as LHS: True\n"
     ]
    }
   ],
   "source": [
    "T_hat = (pow(Z, -c, n) * pow(A_prime, c*beta, n) * pow(A_prime, e_hat, n) * pow(S, v_hat, n) * Rc_public * Rhat_private) % n\n",
    "\n",
    "# we know that\n",
    "print('RHS is the same as LHS:', (T_hat) == T)"
   ]
  },
  {
   "cell_type": "markdown",
   "metadata": {},
   "source": [
    "Compute\n",
    "$$\n",
    "\\hat{Q} \\leftarrow A'^{e} S^{-er} \\pmod{n}\n",
    "$$"
   ]
  },
  {
   "cell_type": "code",
   "execution_count": 23,
   "metadata": {},
   "outputs": [],
   "source": [
    "Q_hat = pow(A_prime, e, n) * pow(S, -e*r, n) % n"
   ]
  },
  {
   "cell_type": "markdown",
   "metadata": {},
   "source": [
    "Compute \n",
    "$$\n",
    "\\widehat{c} \\leftarrow H(\\hat{\\mathcal{T}},\\mathcal{C},n_1);\n",
    "$$"
   ]
  },
  {
   "cell_type": "code",
   "execution_count": 24,
   "metadata": {},
   "outputs": [
    {
     "name": "stdout",
     "output_type": "stream",
     "text": [
      "RHS is the same as LHS: True\n"
     ]
    }
   ],
   "source": [
    "\n",
    "\n",
    "attr_hat = str([T_hat, Q_hat, A, e, v, A_prime])\n",
    "c_hash_hat = hashlib.sha256(str(attr_hat).encode('utf-8')).hexdigest()\n",
    "c_hat = int(c_hash_hat, base=32)\n",
    "\n",
    "print('RHS is the same as LHS:', (c_hat) == c)"
   ]
  },
  {
   "cell_type": "markdown",
   "metadata": {},
   "source": [
    "## Equality proof\n",
    "This zero knowledge proof is in fact just an equality proof that does not reveal the attribute’s value."
   ]
  },
  {
   "cell_type": "code",
   "execution_count": 25,
   "metadata": {},
   "outputs": [],
   "source": [
    "assert([T, c] == [T_hat, c_hat])"
   ]
  },
  {
   "cell_type": "code",
   "execution_count": 27,
   "metadata": {},
   "outputs": [
    {
     "name": "stdout",
     "output_type": "stream",
     "text": [
      "The equality has been proven when this line is printed!\n"
     ]
    }
   ],
   "source": [
    "print('The equality has been proven when this line is printed!')"
   ]
  },
  {
   "cell_type": "code",
   "execution_count": null,
   "metadata": {},
   "outputs": [],
   "source": []
  }
 ],
 "metadata": {
  "kernelspec": {
   "display_name": "Python 3",
   "language": "python",
   "name": "python3"
  },
  "language_info": {
   "codemirror_mode": {
    "name": "ipython",
    "version": 3
   },
   "file_extension": ".py",
   "mimetype": "text/x-python",
   "name": "python",
   "nbconvert_exporter": "python",
   "pygments_lexer": "ipython3",
   "version": "3.9.6"
  },
  "orig_nbformat": 4,
  "vscode": {
   "interpreter": {
    "hash": "c65a76b623ff58757d879ffba0c64f863adb3d623b4a7ebf7852010e5ebe6c38"
   }
  }
 },
 "nbformat": 4,
 "nbformat_minor": 2
}
