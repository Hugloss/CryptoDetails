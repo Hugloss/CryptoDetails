{
 "cells": [
  {
   "cell_type": "markdown",
   "metadata": {},
   "source": [
    "# JSONLD Wrapper"
   ]
  },
  {
   "cell_type": "code",
   "execution_count": 1,
   "metadata": {},
   "outputs": [],
   "source": [
    "import json\n",
    "from pyld import jsonld"
   ]
  },
  {
   "cell_type": "markdown",
   "metadata": {},
   "source": [
    "## Wrapper\n",
    "Can a wrapper to handle interoperability easier.\n",
    "How the wrapper works:\n",
    "\n",
    "```json\n",
    "{\n",
    "   \"vc\":{\n",
    "      \"valid jsonld\"\n",
    "   },\n",
    "   \"req\":{\n",
    "      \"The requirements for a VC to be considered valid, including its required fields, \n",
    "      are specified under the 'spec' format. When mapping is done via 'spec', it is \n",
    "      possible for duplications to occur from the 'VC'.\"\n",
    "   },\n",
    "   \"spec\":{\n",
    "      \"wrapper-for-what-vc\"\n",
    "   }\n",
    "}\n",
    "```"
   ]
  },
  {
   "cell_type": "markdown",
   "metadata": {},
   "source": [
    "## EU-VC-LD\n",
    "Possible working name:\n",
    "EU Verifiable Credential JSON-LD (EU-VC-LD)"
   ]
  },
  {
   "cell_type": "code",
   "execution_count": 2,
   "metadata": {},
   "outputs": [],
   "source": [
    "# Creates the input to the _sd\n",
    "class EUVCLD:\n",
    "    def __init__(self):\n",
    "        self.euvc = None\n",
    "\n",
    "    def create_euvcld(self, ctx, required, spec=''):\n",
    "        if 'vc' in ctx:\n",
    "            v = ctx\n",
    "        else:\n",
    "            v = {\"vc\": ctx}\n",
    "\n",
    "        if 'req' in required:\n",
    "            r = required\n",
    "        else:\n",
    "            r = {\"req\": required}\n",
    "\n",
    "        if 'spec' in spec:\n",
    "            s = spec\n",
    "        elif isinstance(spec, str) and len(spec)>0:\n",
    "            s = {\"spec\": {\n",
    "                \"type\": spec,\n",
    "                \"version\": \"1\",\n",
    "            }}\n",
    "        else:\n",
    "            s = {}\n",
    "\n",
    "        self.euvc = {**v, **r, **s}\n",
    "        return self.euvc\n",
    "\n",
    "    # create JSONLD from EUVCLD\n",
    "    def create_jsonld(self, keepVC=False):\n",
    "        if keepVC:\n",
    "            v = {\"vc\": self.euvc['vc']}\n",
    "        else:\n",
    "            v = self.euvc['vc']\n",
    "\n",
    "        return {**v, **self.euvc['req']}\n",
    "\n",
    "    # some sanity checks\n",
    "    def valid_spec(self, ctx, required, spec):\n",
    "        # need later do some checks\n",
    "        return True\n",
    "        \n"
   ]
  },
  {
   "cell_type": "markdown",
   "metadata": {},
   "source": [
    "## Examples\n",
    "Different challanges with vc were wrapper is used:"
   ]
  },
  {
   "cell_type": "markdown",
   "metadata": {},
   "source": [
    "### Challange 1: VC-JWT\n",
    "- https://www.w3.org/TR/vc-data-model-2.0/#example-usage-of-the-id-property"
   ]
  },
  {
   "cell_type": "code",
   "execution_count": 3,
   "metadata": {},
   "outputs": [],
   "source": [
    "v1 = {\n",
    "    \"@context\": [\n",
    "        \"https://www.w3.org/ns/credentials/v2\",\n",
    "        \"https://www.w3.org/ns/credentials/examples/v2\"\n",
    "    ],\n",
    "    \"id\": \"http://university.example/credentials/3732\",\n",
    "    \"type\": [\"VerifiableCredential\", \"ExampleDegreeCredential\"],\n",
    "    \"issuer\": \"https://university.example/issuers/565049\",\n",
    "    \"validFrom\": \"2010-01-01T00:00:00Z\",\n",
    "    \"credentialSubject\": {\n",
    "        \"id\": \"did:example:ebfeb1f712ebc6f1c276e12ec21\",\n",
    "        \"degree\": {\n",
    "            \"type\": \"ExampleBachelorDegree\",\n",
    "            \"name\": \"Bachelor of Science and Arts\"\n",
    "        }\n",
    "    }\n",
    "}\n",
    "\n",
    "r1 = {\n",
    "  \"iss\": \"https://university.example/issuers/565049\",\n",
    "  \"jti\": \"http://university.example/credentials/3732\",\n",
    "  \"sub\": \"did:example:ebfeb1f712ebc6f1c276e12ec21\"\n",
    "}"
   ]
  },
  {
   "cell_type": "code",
   "execution_count": 4,
   "metadata": {},
   "outputs": [
    {
     "name": "stdout",
     "output_type": "stream",
     "text": [
      "{\n",
      "  \"vc\": {\n",
      "    \"@context\": [\n",
      "      \"https://www.w3.org/ns/credentials/v2\",\n",
      "      \"https://www.w3.org/ns/credentials/examples/v2\"\n",
      "    ],\n",
      "    \"id\": \"http://university.example/credentials/3732\",\n",
      "    \"type\": [\n",
      "      \"VerifiableCredential\",\n",
      "      \"ExampleDegreeCredential\"\n",
      "    ],\n",
      "    \"issuer\": \"https://university.example/issuers/565049\",\n",
      "    \"validFrom\": \"2010-01-01T00:00:00Z\",\n",
      "    \"credentialSubject\": {\n",
      "      \"id\": \"did:example:ebfeb1f712ebc6f1c276e12ec21\",\n",
      "      \"degree\": {\n",
      "        \"type\": \"ExampleBachelorDegree\",\n",
      "        \"name\": \"Bachelor of Science and Arts\"\n",
      "      }\n",
      "    }\n",
      "  },\n",
      "  \"req\": {\n",
      "    \"iss\": \"https://university.example/issuers/565049\",\n",
      "    \"jti\": \"http://university.example/credentials/3732\",\n",
      "    \"sub\": \"did:example:ebfeb1f712ebc6f1c276e12ec21\"\n",
      "  },\n",
      "  \"spec\": {\n",
      "    \"type\": \"vc-jwt\",\n",
      "    \"version\": \"1\"\n",
      "  }\n",
      "}\n"
     ]
    }
   ],
   "source": [
    "# init the wrapper vc\n",
    "evc1 = EUVCLD()\n",
    "# create vc\n",
    "evc1.create_euvcld(v1, r1, 'vc-jwt')\n",
    "# print result\n",
    "print(json.dumps(evc1.euvc, indent=2))\n",
    "# check valid jsonld\n",
    "assert(jsonld.expand(evc1.create_jsonld()))"
   ]
  },
  {
   "cell_type": "markdown",
   "metadata": {},
   "source": [
    "Result from W3C"
   ]
  },
  {
   "cell_type": "code",
   "execution_count": 5,
   "metadata": {},
   "outputs": [],
   "source": [
    "res1 = {\n",
    "  \"vc\": {\n",
    "    \"@context\": [\n",
    "      \"https://www.w3.org/ns/credentials/v2\",\n",
    "      \"https://www.w3.org/ns/credentials/examples/v2\"\n",
    "    ],\n",
    "    \"id\": \"http://university.example/credentials/3732\",\n",
    "    \"type\": [\n",
    "      \"VerifiableCredential\",\n",
    "      \"ExampleDegreeCredential\"\n",
    "    ],\n",
    "    \"issuer\": \"https://university.example/issuers/565049\",\n",
    "    \"validFrom\": \"2010-01-01T00:00:00Z\",\n",
    "    \"credentialSubject\": {\n",
    "      \"id\": \"did:example:ebfeb1f712ebc6f1c276e12ec21\",\n",
    "      \"degree\": {\n",
    "        \"type\": \"ExampleBachelorDegree\",\n",
    "        \"name\": \"Bachelor of Science and Arts\"\n",
    "      }\n",
    "    }\n",
    "  },\n",
    "  \"iss\": \"https://university.example/issuers/565049\",\n",
    "  \"jti\": \"http://university.example/credentials/3732\",\n",
    "  \"sub\": \"did:example:ebfeb1f712ebc6f1c276e12ec21\"\n",
    "}"
   ]
  },
  {
   "cell_type": "markdown",
   "metadata": {},
   "source": [
    "Verify result is equal wrapper"
   ]
  },
  {
   "cell_type": "code",
   "execution_count": 6,
   "metadata": {},
   "outputs": [],
   "source": [
    "# convert to jsonld and verify if the result is correct\n",
    "assert(evc1.create_jsonld(keepVC=True) == res1)"
   ]
  },
  {
   "cell_type": "markdown",
   "metadata": {},
   "source": [
    "### Challange 2: SD-JWT\n",
    "- https://www.w3.org/TR/vc-jose-cose/#selective-disclosure\n",
    "- https://datatracker.ietf.org/doc/html/draft-ietf-oauth-selective-disclosure-jwt-05#name-example-4b-w3c-verifiable-c"
   ]
  },
  {
   "cell_type": "code",
   "execution_count": 7,
   "metadata": {},
   "outputs": [],
   "source": [
    "v2 = {\n",
    "  \"@context\": [\n",
    "    \"https://www.w3.org/2018/credentials/v1\",\n",
    "    \"https://w3id.org/vaccination/v1\"\n",
    "  ],\n",
    "  \"type\": [\n",
    "    \"VerifiableCredential\",\n",
    "    \"VaccinationCertificate\"\n",
    "  ],\n",
    "  \"issuer\": \"https://example.com/issuer\",\n",
    "  \"issuanceDate\": \"2023-02-09T11:01:59Z\",\n",
    "  \"expirationDate\": \"2028-02-08T11:01:59Z\",\n",
    "  \"name\": \"COVID-19 Vaccination Certificate\",\n",
    "  \"description\": \"COVID-19 Vaccination Certificate\",\n",
    "  \"credentialSubject\": {\n",
    "    \"_sd\": [\n",
    "      \"1V_K-8lDQ8iFXBFXbZY9ehqR4HabWCi5T0ybIzZPeww\",\n",
    "      \"JzjLgtP29dP-B3td12P674gFmK2zy81HMtBgf6CJNWg\",\n",
    "      \"R2fGbfA07Z_YlkqmNZyma1xyyx1XstIiS6B1Ybl2JZ4\",\n",
    "      \"TCmzrl7K2gev_du7pcMIyzRLHp-Yeg-Fl_cxtrUvPxg\",\n",
    "      \"V7kJBLK78TmVDOmrfJ7ZuUPHuK_2cc7yZRa4qV1txwM\",\n",
    "      \"b0eUsvGP-ODDdFoY4NlzlXc3tDslWJtCJF75Nw8Oj_g\",\n",
    "      \"zJK_eSMXjwM8dXmMZLnI8FGM08zJ3_ubGeEMJ-5TBy0\"\n",
    "    ],\n",
    "    \"vaccine\": {\n",
    "      \"_sd\": [\n",
    "        \"1cF5hLwkhMNIaqfWJrXI7NMWedL-9f6Y2PA52yPjSZI\",\n",
    "        \"Hiy6WWueLD5bn16298tPv7GXhmldMDOTnBi-CZbphNo\",\n",
    "        \"Lb027q691jXXl-jC73vi8ebOj9smx3C-_og7gA4TBQE\"\n",
    "      ],\n",
    "      \"type\": \"Vaccine\"\n",
    "    },\n",
    "    \"recipient\": {\n",
    "      \"_sd\": [\n",
    "        \"1lSQBNY24q0Th6OGzthq-7-4l6cAaxrYXOGZpeW_lnA\",\n",
    "        \"3nzLq81M2oN06wdv1shHvOEJVxZ5KLmdDkHEDJABWEI\",\n",
    "        \"Pn1sWi06G4LJrnn-_RT0RbM_HTdxnPJQuX2fzWv_JOU\",\n",
    "        \"lF9uzdsw7HplGLc714Tr4WO7MGJza7tt7QFleCX4Itw\"\n",
    "      ],\n",
    "      \"type\": \"VaccineRecipient\"\n",
    "    },\n",
    "    \"type\": \"VaccinationEvent\"\n",
    "  }\n",
    "}\n",
    "\n",
    "r2 = {\n",
    "  \"iss\": \"https://example.com/issuer\",\n",
    "  \"iat\": 1683000000,\n",
    "  \"exp\": 1883000000,\n",
    "  \"_sd_alg\": \"sha-256\"\n",
    "}"
   ]
  },
  {
   "cell_type": "code",
   "execution_count": 8,
   "metadata": {},
   "outputs": [
    {
     "name": "stdout",
     "output_type": "stream",
     "text": [
      "{\n",
      "  \"vc\": {\n",
      "    \"@context\": [\n",
      "      \"https://www.w3.org/2018/credentials/v1\",\n",
      "      \"https://w3id.org/vaccination/v1\"\n",
      "    ],\n",
      "    \"type\": [\n",
      "      \"VerifiableCredential\",\n",
      "      \"VaccinationCertificate\"\n",
      "    ],\n",
      "    \"issuer\": \"https://example.com/issuer\",\n",
      "    \"issuanceDate\": \"2023-02-09T11:01:59Z\",\n",
      "    \"expirationDate\": \"2028-02-08T11:01:59Z\",\n",
      "    \"name\": \"COVID-19 Vaccination Certificate\",\n",
      "    \"description\": \"COVID-19 Vaccination Certificate\",\n",
      "    \"credentialSubject\": {\n",
      "      \"_sd\": [\n",
      "        \"1V_K-8lDQ8iFXBFXbZY9ehqR4HabWCi5T0ybIzZPeww\",\n",
      "        \"JzjLgtP29dP-B3td12P674gFmK2zy81HMtBgf6CJNWg\",\n",
      "        \"R2fGbfA07Z_YlkqmNZyma1xyyx1XstIiS6B1Ybl2JZ4\",\n",
      "        \"TCmzrl7K2gev_du7pcMIyzRLHp-Yeg-Fl_cxtrUvPxg\",\n",
      "        \"V7kJBLK78TmVDOmrfJ7ZuUPHuK_2cc7yZRa4qV1txwM\",\n",
      "        \"b0eUsvGP-ODDdFoY4NlzlXc3tDslWJtCJF75Nw8Oj_g\",\n",
      "        \"zJK_eSMXjwM8dXmMZLnI8FGM08zJ3_ubGeEMJ-5TBy0\"\n",
      "      ],\n",
      "      \"vaccine\": {\n",
      "        \"_sd\": [\n",
      "          \"1cF5hLwkhMNIaqfWJrXI7NMWedL-9f6Y2PA52yPjSZI\",\n",
      "          \"Hiy6WWueLD5bn16298tPv7GXhmldMDOTnBi-CZbphNo\",\n",
      "          \"Lb027q691jXXl-jC73vi8ebOj9smx3C-_og7gA4TBQE\"\n",
      "        ],\n",
      "        \"type\": \"Vaccine\"\n",
      "      },\n",
      "      \"recipient\": {\n",
      "        \"_sd\": [\n",
      "          \"1lSQBNY24q0Th6OGzthq-7-4l6cAaxrYXOGZpeW_lnA\",\n",
      "          \"3nzLq81M2oN06wdv1shHvOEJVxZ5KLmdDkHEDJABWEI\",\n",
      "          \"Pn1sWi06G4LJrnn-_RT0RbM_HTdxnPJQuX2fzWv_JOU\",\n",
      "          \"lF9uzdsw7HplGLc714Tr4WO7MGJza7tt7QFleCX4Itw\"\n",
      "        ],\n",
      "        \"type\": \"VaccineRecipient\"\n",
      "      },\n",
      "      \"type\": \"VaccinationEvent\"\n",
      "    }\n",
      "  },\n",
      "  \"req\": {\n",
      "    \"iss\": \"https://example.com/issuer\",\n",
      "    \"iat\": 1683000000,\n",
      "    \"exp\": 1883000000,\n",
      "    \"_sd_alg\": \"sha-256\"\n",
      "  },\n",
      "  \"spec\": {\n",
      "    \"type\": \"sd-jwt\",\n",
      "    \"version\": \"1\"\n",
      "  }\n",
      "}\n"
     ]
    }
   ],
   "source": [
    "# init the wrapper vc\n",
    "evc2 = EUVCLD()\n",
    "# create vc\n",
    "evc2.create_euvcld(v2, r2, 'sd-jwt')\n",
    "# print result\n",
    "print(json.dumps(evc2.euvc, indent=2))\n",
    "# check valid jsonld\n",
    "assert(jsonld.expand(evc2.create_jsonld()))"
   ]
  },
  {
   "cell_type": "markdown",
   "metadata": {},
   "source": [
    "Result from SD-JWT"
   ]
  },
  {
   "cell_type": "code",
   "execution_count": 9,
   "metadata": {},
   "outputs": [],
   "source": [
    "res2 = {\n",
    "  \"@context\": [\n",
    "    \"https://www.w3.org/2018/credentials/v1\",\n",
    "    \"https://w3id.org/vaccination/v1\"\n",
    "  ],\n",
    "  \"type\": [\n",
    "    \"VerifiableCredential\",\n",
    "    \"VaccinationCertificate\"\n",
    "  ],\n",
    "  \"issuer\": \"https://example.com/issuer\",\n",
    "  \"issuanceDate\": \"2023-02-09T11:01:59Z\",\n",
    "  \"expirationDate\": \"2028-02-08T11:01:59Z\",\n",
    "  \"name\": \"COVID-19 Vaccination Certificate\",\n",
    "  \"description\": \"COVID-19 Vaccination Certificate\",\n",
    "  \"credentialSubject\": {\n",
    "    \"_sd\": [\n",
    "      \"1V_K-8lDQ8iFXBFXbZY9ehqR4HabWCi5T0ybIzZPeww\",\n",
    "      \"JzjLgtP29dP-B3td12P674gFmK2zy81HMtBgf6CJNWg\",\n",
    "      \"R2fGbfA07Z_YlkqmNZyma1xyyx1XstIiS6B1Ybl2JZ4\",\n",
    "      \"TCmzrl7K2gev_du7pcMIyzRLHp-Yeg-Fl_cxtrUvPxg\",\n",
    "      \"V7kJBLK78TmVDOmrfJ7ZuUPHuK_2cc7yZRa4qV1txwM\",\n",
    "      \"b0eUsvGP-ODDdFoY4NlzlXc3tDslWJtCJF75Nw8Oj_g\",\n",
    "      \"zJK_eSMXjwM8dXmMZLnI8FGM08zJ3_ubGeEMJ-5TBy0\"\n",
    "    ],\n",
    "    \"vaccine\": {\n",
    "      \"_sd\": [\n",
    "        \"1cF5hLwkhMNIaqfWJrXI7NMWedL-9f6Y2PA52yPjSZI\",\n",
    "        \"Hiy6WWueLD5bn16298tPv7GXhmldMDOTnBi-CZbphNo\",\n",
    "        \"Lb027q691jXXl-jC73vi8ebOj9smx3C-_og7gA4TBQE\"\n",
    "      ],\n",
    "      \"type\": \"Vaccine\"\n",
    "    },\n",
    "    \"recipient\": {\n",
    "      \"_sd\": [\n",
    "        \"1lSQBNY24q0Th6OGzthq-7-4l6cAaxrYXOGZpeW_lnA\",\n",
    "        \"3nzLq81M2oN06wdv1shHvOEJVxZ5KLmdDkHEDJABWEI\",\n",
    "        \"Pn1sWi06G4LJrnn-_RT0RbM_HTdxnPJQuX2fzWv_JOU\",\n",
    "        \"lF9uzdsw7HplGLc714Tr4WO7MGJza7tt7QFleCX4Itw\"\n",
    "      ],\n",
    "      \"type\": \"VaccineRecipient\"\n",
    "    },\n",
    "    \"type\": \"VaccinationEvent\"\n",
    "  },\n",
    "  \"iss\": \"https://example.com/issuer\",\n",
    "  \"iat\": 1683000000,\n",
    "  \"exp\": 1883000000,\n",
    "  \"_sd_alg\": \"sha-256\"\n",
    "}"
   ]
  },
  {
   "cell_type": "markdown",
   "metadata": {},
   "source": [
    "Verify result is equal wrapper"
   ]
  },
  {
   "cell_type": "code",
   "execution_count": 10,
   "metadata": {},
   "outputs": [],
   "source": [
    "# convert to jsonld and verify if the result is correct\n",
    "assert(evc2.create_jsonld(keepVC=False) == res2)"
   ]
  },
  {
   "cell_type": "code",
   "execution_count": null,
   "metadata": {},
   "outputs": [],
   "source": []
  }
 ],
 "metadata": {
  "kernelspec": {
   "display_name": "Python 3",
   "language": "python",
   "name": "python3"
  },
  "language_info": {
   "codemirror_mode": {
    "name": "ipython",
    "version": 3
   },
   "file_extension": ".py",
   "mimetype": "text/x-python",
   "name": "python",
   "nbconvert_exporter": "python",
   "pygments_lexer": "ipython3",
   "version": "3.10.6"
  },
  "orig_nbformat": 4
 },
 "nbformat": 4,
 "nbformat_minor": 2
}
