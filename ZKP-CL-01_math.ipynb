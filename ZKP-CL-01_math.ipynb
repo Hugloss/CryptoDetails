{
 "cells": [
  {
   "cell_type": "markdown",
   "metadata": {},
   "source": [
    "# Crypto Details"
   ]
  },
  {
   "cell_type": "markdown",
   "metadata": {},
   "source": [
    "Mathematics details for ZKP-CL.\n",
    "\n",
    "[Camenisch-Lysyanskaya (CL)](https://cs.brown.edu/people/alysyans/papers/camlys02b.pdf)\n",
    "\n",
    "[Zero knowledge proof (ZKP)](https://w3c.github.io/vc-data-model/#zero-knowledge-proofs)"
   ]
  },
  {
   "cell_type": "markdown",
   "metadata": {},
   "source": [
    "## Showing Selective Disclosure Proof\n"
   ]
  },
  {
   "cell_type": "markdown",
   "metadata": {},
   "source": [
    "Issuer defines the credential schema with $i$ attributes $m_1, m_2, . . . , m_i$. \n",
    "\n",
    "In Sovrin, $m_1$ is reserved for the link secret of the holder, $m_2$ is reserved for the credential index, $m_3$ is reserved for the policy address.\n",
    "\n",
    "\n",
    "\n",
    "Let A be the set of all attribute identifiers present in the credential schema\n",
    "\n",
    "where $A = A_r \\cup A_h$\n",
    "\n",
    "such that $A_r$ contains revealed attributes to the Verifier and $A_h$ contains unrevealed (hidden) attributes which are kept secret.\n",
    "Since $A_r$ and $A_h$ are mutually exclusive, we know that\n",
    "\n",
    "$ \\prod_{i \\in A}{R_i^{m_i}} = \\prod_{i \\in A_r}{R_i^{m_i}} \\cdot \\prod_{i \\in A_h}{R_i^{m_i}}$"
   ]
  },
  {
   "cell_type": "markdown",
   "metadata": {},
   "source": [
    "Prover has:\n",
    "\n",
    "$$ T = A'^{\\bar{e}} S^{\\bar{v}} \\Bigg(\\prod_{i \\in A_h}{R_i^{\\bar{m_i}}} \\Bigg) $$\n",
    "$$ A' = AS^r $$\n",
    "$$ v' = v - er $$\n",
    "$$ \\hat{v} = \\bar{v} + Dv'  $$\n",
    "$$ e' = e - \\beta $$\n",
    "$$ \\hat{e} = \\bar{e} + De' $$\n",
    "$$ \\hat{m_i} = \\bar{m_i} + Dm_i $$\n",
    "$$ Q = A^e $$\n",
    "$$ Q = \\Bigg(\\frac{Z}{S^v \\prod_{i \\in A}{R_i^{m_i}}}\\Bigg) $$"
   ]
  },
  {
   "cell_type": "markdown",
   "metadata": {},
   "source": [
    "Prover Calculate:"
   ]
  },
  {
   "cell_type": "markdown",
   "metadata": {},
   "source": [
    "$$\n",
    "\\begin{equation}\n",
    "\\begin{align}\n",
    "  \\hat{T} &= \\Bigg(\\frac{Z}{A'^\\beta \\prod_{i \\in A_r}{R_i^{m_i}}}\\Bigg)^{-D} A'^{\\hat{e}} S^{\\hat{v}} \\Bigg(\\prod_{i \\in A_h}{R_i^{\\hat{m_i}}}\\Bigg)\\\\\n",
    "\n",
    "  &= \\Bigg(\\frac{Z}{A'^\\beta \\cdot \\prod_{i \\in A_r}{R_i^{m_i}}}\\Bigg)^{-D} \\cdot A'^{\\hat{e}} \\cdot S^{\\hat{v}} \\cdot \\Bigg(\\prod_{i \\in A_h}{R_i^{\\hat{m_i}}}\\Bigg) \\\\\n",
    "  \n",
    "    &//\\quad basics: \\quad (x^a)^b = (x^b)^a = x^{ab} \\qquad // \\\\\n",
    "  \n",
    "  &= Z^{-D}\\Bigg(\\frac{1}{A'^\\beta \\cdot \\prod_{i \\in A_r}{R_i^{m_i}}}\\Bigg)^{-D} \\cdot A'^{\\hat{e}} \\cdot S^{\\hat{v}} \\cdot \\Bigg(\\prod_{i \\in A_h}{R_i^{\\hat{m_i}}}\\Bigg) \\\\\n",
    "  \n",
    "    &//\\quad basics: \\quad \\Bigg(\\frac{1}{x}\\Bigg)^a = x^{-a} \\qquad // \\\\\n",
    "\n",
    "  &= Z^{-D}\\Bigg({A'^\\beta \\cdot \\prod_{i \\in A_r}{R_i^{m_i}}}\\Bigg)^{D} \\cdot A'^{\\hat{e}} \\cdot S^{\\hat{v}} \\cdot \\Bigg(\\prod_{i \\in A_h}{R_i^{\\hat{m_i}}}\\Bigg) \\\\\n",
    "\n",
    "  &= Z^{-D}\\Bigg({A'^{D\\beta} \\cdot \\prod_{i \\in A_r}{R_i^{Dm_i}}}\\Bigg) \\cdot A'^{\\hat{e}} \\cdot S^{\\hat{v}} \\cdot \\Bigg(\\prod_{i \\in A_h}{R_i^{\\hat{m_i}}}\\Bigg) \\\\\n",
    "\n",
    "   &//\\quad were: \\quad \\hat{m_i} = \\bar{m_i} + Dm_i \\qquad // \\\\\n",
    "\n",
    "  &= Z^{-D} \\cdot A'^{D\\beta} \\cdot \\prod_{i \\in A_r}{R_i^{Dm_i}} \\cdot A'^{\\hat{e}} \\cdot S^{\\hat{v}} \\cdot \\Bigg(\\prod_{i \\in A_h}{R_i^{\\bar{m_i} + Dm_i}}\\Bigg) \\\\\n",
    "\n",
    "  &= Z^{-D} \\cdot A'^{D\\beta} \\cdot \\prod_{i \\in A_r}{R_i^{Dm_i}} \\cdot A'^{\\hat{e}} \\cdot S^{\\hat{v}} \\cdot \\Bigg(\\prod_{i \\in A_h}{R_i^{\\bar{m_i}}} \\cdot \\prod_{i \\in A_h}{R_i^{Dm_i}}\\Bigg) \\\\\n",
    "\n",
    "  &= Z^{-D} \\cdot {A'^{D\\beta} \\cdot  A'^{\\hat{e}} \\cdot S^{\\hat{v}} \\cdot \\Bigg(\\prod_{i \\in A_r}{R_i^{Dm_i}}} \\cdot \\prod_{i \\in A_h}{R_i^{Dm_i}}\\Bigg) \\cdot \\prod_{i \\in A_h}{R_i^{\\bar{m_i}}} \\\\\n",
    "\n",
    "  &= Z^{-D} \\cdot A'^{D\\beta} \\cdot A'^{\\hat{e}} \\cdot S^{\\hat{v}} \\cdot \\Bigg(\\prod_{i \\in A}{R_i^{Dm_i}}\\Bigg) \\cdot \\prod_{i \\in A_h}{R_i^{\\bar{m_i}}} \\\\\n",
    "\n",
    "     &//\\quad were: \\quad \\hat{e} = \\bar{e} + De' \\qquad // \\\\\n",
    "\n",
    "  &= Z^{-D} \\cdot A'^{D\\beta} \\cdot A'^{\\bar{e} + De'} \\cdot S^{\\hat{v}} \\cdot \\prod_{i \\in A}{R_i^{Dm_i}} \\cdot \\prod_{i \\in A_h}{R_i^{\\bar{m_i}}} \\\\\n",
    "\n",
    "     &//\\quad were: \\quad e' = e - \\beta \\qquad // \\\\\n",
    "\n",
    "  &= Z^{-D} \\cdot A'^{D\\beta} \\cdot A'^{\\bar{e} + D(e - \\beta)} \\cdot S^{\\hat{v}} \\cdot \\prod_{i \\in A}{R_i^{Dm_i}} \\cdot \\prod_{i \\in A_h}{R_i^{\\bar{m_i}}} \\\\\n",
    "  &= Z^{-D} \\cdot A'^{D\\beta} \\cdot A'^{\\bar{e} + De - D\\beta} \\cdot S^{\\hat{v}} \\cdot \\prod_{i \\in A}{R_i^{Dm_i}} \\cdot \\prod_{i \\in A_h}{R_i^{\\bar{m_i}}} \\\\\n",
    "\n",
    "    &//\\quad basics: \\quad x^a \\cdot x^b = x^{a+b} \\qquad // \\\\\n",
    "\n",
    "  &= Z^{-D} \\cdot A'^{\\bar{e} + De} \\cdot S^{\\hat{v}} \\cdot \\prod_{i \\in A}{R_i^{Dm_i}} \\cdot \\prod_{i \\in A_h}{R_i^{\\bar{m_i}}} \\\\\n",
    "\n",
    "  &= Z^{-D} \\cdot A'^{\\bar{e}} \\cdot A'^{De} \\cdot S^{\\hat{v}} \\cdot \\prod_{i \\in A}{R_i^{Dm_i}} \\cdot \\prod_{i \\in A_h}{R_i^{\\bar{m_i}}} \\\\\n",
    "\n",
    "     &//\\quad were: \\quad \\hat{v} = \\bar{v} + Dv' \\qquad // \\\\\n",
    "\n",
    "  &= Z^{-D} \\cdot A'^{\\bar{e}} \\cdot A'^{De} \\cdot S^{\\bar{v}} \\cdot S^{Dv'}\\cdot \\prod_{i \\in A}{R_i^{Dm_i}} \\cdot \\prod_{i \\in A_h}{R_i^{\\bar{m_i}}} \\\\\n",
    "\n",
    "  &= Z^{-D} \\cdot A'^{De} \\cdot  S^{Dv'}\\cdot \\prod_{i \\in A}{R_i^{Dm_i}} \\cdot \\Bigg(A'^{\\bar{e}} \\cdot S^{\\bar{v}} \\cdot \\prod_{i \\in A_h}{R_i^{\\bar{m_i}}} \\Bigg)\\\\\n",
    "  \n",
    "    &//\\quad were: \\quad T = A'^{\\bar{e}} S^{\\bar{v}} \\Bigg(\\prod_{i \\in A_h}{R_i^{\\bar{m_i}}} \\Bigg) \\qquad// \\\\\n",
    "\n",
    "  &= Z^{-D} \\cdot A'^{De} \\cdot  S^{Dv'}\\cdot \\prod_{i \\in A}{R_i^{Dm_i}} \\cdot T\\\\\n",
    "\n",
    "  &= Z^{-D} \\cdot \\Bigg(A'^{De} \\cdot S^{Dv'}\\cdot \\prod_{i \\in A}{R_i^{Dm_i}} \\Bigg) \\cdot T\\\\\n",
    "\n",
    "  &= Z^{-D} \\cdot \\Bigg(A'^{e} \\cdot S^{v'}\\cdot \\prod_{i \\in A}{R_i^{m_i}} \\Bigg)^D \\cdot T\\\\\n",
    "\n",
    "  \n",
    "\n",
    "\\end{align}\n",
    "\\end{equation}\n",
    "$$\n",
    "\n",
    "$$\n",
    "\\begin{equation}\n",
    "\\boxed{\n",
    "\\begin{array}{rcl}\n",
    "\\hat{T} = Z^{-D} \\Bigg(A'^{e} S^{v'} \\prod_{i \\in A}{R_i^{m_i}} \\Bigg)^D T\\\\\n",
    "\\end{array}\n",
    "}\n",
    "\\end{equation}\n",
    "$$\n"
   ]
  },
  {
   "cell_type": "markdown",
   "metadata": {},
   "source": [
    "### Continue of proof - Alternative 1"
   ]
  },
  {
   "cell_type": "markdown",
   "metadata": {},
   "source": [
    "$$\n",
    "\\begin{equation*}\n",
    "\\begin{align}\n",
    "  \\hat{T} &= \\Bigg(\\frac{Z}{A'^\\beta \\prod_{i \\in A_r}{R_i^{m_i}}}\\Bigg)^{-D} A'^{\\hat{e}} S^{\\hat{v}} \\Bigg(\\prod_{i \\in A_h}{R_i^{\\hat{m_i}}}\\Bigg)\\\\\n",
    "\n",
    "  &= Z^{-D} \\cdot \\Bigg(A'^{e} \\cdot S^{v'}\\cdot \\prod_{i \\in A}{R_i^{m_i}} \\Bigg)^D \\cdot T\\\\\n",
    "\n",
    "    &//\\quad were: \\quad Q = \\Bigg(\\frac{Z}{S^v \\prod_{i \\in A}{R_i^{m_i}}}\\Bigg) \\qquad // \\\\\n",
    "\n",
    "  &= \\Bigg(Q \\cdot S^v \\cdot \\prod_{i \\in A}{R_i^{m_i}}\\Bigg)^{-D} \\cdot \\Bigg(A'^{e} \\cdot S^{v'}\\cdot \\prod_{i \\in A}{R_i^{m_i}} \\Bigg)^D \\cdot T\\\\\n",
    "\n",
    "  &= \\Big(Q \\cdot S^v \\Big)^{-D} \\cdot \\Big(A'^{e} \\cdot S^{v'} \\Big)^D \\cdot T\\\\\n",
    "\n",
    "    &//\\quad were: \\quad v' = v - er \\qquad // \\\\\n",
    "\n",
    "  &= \\Big(Q \\cdot S^v \\Big)^{-D} \\cdot \\Big(A'^{e} \\cdot S^{v - er} \\Big)^D \\cdot T\\\\\n",
    "\n",
    "  &= \\Big(Q \\cdot S^v \\Big)^{-D} \\cdot \\Big(A'^{e} \\cdot S^{v} \\cdot S^{-er} \\Big)^D \\cdot T\\\\\n",
    "\n",
    "  &= \\Big(Q\\Big)^{-D} \\cdot \\Big(A'^{e} \\cdot S^{-er} \\Big)^D \\cdot T\\\\\n",
    "\n",
    "    &//\\quad were: \\quad A' = AS^r \\qquad // \\\\\n",
    "\n",
    "  &= \\Big(Q\\Big)^{-D} \\cdot \\Big((AS^r)^{e} \\cdot S^{-er} \\Big)^D \\cdot T\\\\\n",
    "  \n",
    "  &= \\Big(Q\\Big)^{-D} \\cdot \\Big(A^e \\cdot S^{er} \\cdot S^{-er} \\Big)^D \\cdot T\\\\\n",
    "\n",
    "  &= \\Big(Q\\Big)^{-D} \\cdot \\Big(A^e \\Big)^D \\cdot T\\\\\n",
    "\n",
    "      &//\\quad were: \\quad Q = A^e \\qquad // \\\\\n",
    "\n",
    "  &= \\Big(A^e \\Big)^{-D} \\cdot \\Big(A^e \\Big)^D \\cdot T\\\\\n",
    "\n",
    "  &= T\n",
    "\n",
    "\\end{align}\n",
    "\\end{equation*}\n",
    "$$"
   ]
  },
  {
   "cell_type": "markdown",
   "metadata": {},
   "source": [
    "### Continue of proof - Alternative 2"
   ]
  },
  {
   "cell_type": "markdown",
   "metadata": {},
   "source": [
    "$$\n",
    "\\begin{equation*}\n",
    "\\begin{align}\n",
    "  \\hat{T} &= \\Bigg(\\frac{Z}{A'^\\beta \\prod_{i \\in A_r}{R_i^{m_i}}}\\Bigg)^{-D} A'^{\\hat{e}} S^{\\hat{v}} \\Bigg(\\prod_{i \\in A_h}{R_i^{\\hat{m_i}}}\\Bigg)\\\\\n",
    "\n",
    "&= Z^{-D} \\cdot \\Bigg(A'^{e} \\cdot S^{v'}\\cdot \\prod_{i \\in A}{R_i^{m_i}} \\Bigg)^D \\cdot T\\\\\n",
    "\n",
    "    &//\\quad were: \\quad v' = v - er \\qquad // \\\\\n",
    "\n",
    "&= Z^{-D} \\cdot \\Bigg(A'^{e} \\cdot S^{v - er} \\prod_{i \\in A}{R_i^{m_i}} \\Bigg)^D \\cdot T\\\\\n",
    "\n",
    "&= Z^{-D} \\cdot \\Bigg(A'^{e} \\cdot S^{v} \\cdot S^{-er} \\prod_{i \\in A}{R_i^{m_i}} \\Bigg)^D \\cdot T\\\\\n",
    "\n",
    "  &//\\quad were: \\quad A' = AS^r \\qquad // \\\\\n",
    "\n",
    "&= Z^{-D} \\cdot \\Bigg((AS^r)^{e} \\cdot S^{v} \\cdot S^{-er} \\prod_{i \\in A}{R_i^{m_i}} \\Bigg)^D \\cdot T\\\\\n",
    "\n",
    "&= Z^{-D} \\cdot \\Bigg(A^e \\cdot S^{er} \\cdot S^{v} \\cdot S^{-er} \\prod_{i \\in A}{R_i^{m_i}} \\Bigg)^D \\cdot T\\\\\n",
    "\n",
    "&= Z^{-D} \\cdot \\Bigg(A^e \\cdot S^{v} \\cdot \\prod_{i \\in A}{R_i^{m_i}} \\Bigg)^D \\cdot T\\\\\n",
    "\n",
    "    &//\\quad were: \\quad A^e = Q = \\Bigg(\\frac{Z}{S^v \\prod_{i \\in A}{R_i^{m_i}}}\\Bigg) \\qquad // \\\\\n",
    "\n",
    "&= Z^{-D} \\cdot \\Bigg(\\frac{Z}{S^v \\prod_{i \\in A}{R_i^{m_i}}} \\cdot S^{v} \\cdot \\prod_{i \\in A}{R_i^{m_i}} \\Bigg)^D \\cdot T\\\\\n",
    "\n",
    "&= Z^{-D} \\cdot Z^D \\cdot T \\\\\n",
    "\n",
    "&= T\n",
    "\n",
    "\\end{align}\n",
    "\\end{equation*}\n",
    "$$"
   ]
  },
  {
   "cell_type": "markdown",
   "metadata": {},
   "source": [
    "### Why it works can be summerised"
   ]
  },
  {
   "cell_type": "markdown",
   "metadata": {},
   "source": [
    "$$\n",
    "\\begin{equation*}\n",
    "\\begin{align}\n",
    "  \\hat{T} &= \\Bigg(\\frac{Z}{A'^\\beta \\prod_{i \\in A_r}{R_i^{m_i}}}\\Bigg)^{-D} A'^{\\hat{e}} S^{\\hat{v}} \\Bigg(\\prod_{i \\in A_h}{R_i^{\\hat{m_i}}}\\Bigg)\\\\\n",
    "\n",
    "&= Z^{-D}\\Bigg({A'^\\beta \\cdot \\prod_{i \\in A_r}{R_i^{m_i}}}\\Bigg)^{D} \\cdot A'^{\\hat{e}} \\cdot S^{\\hat{v}} \\cdot \\Bigg(\\prod_{i \\in A_h}{R_i^{\\hat{m_i}}}\\Bigg) \\\\\n",
    "\n",
    "&= Z^{-D} \\cdot {A'^{D\\beta} \\cdot  A'^{\\hat{e}} \\cdot S^{\\hat{v}} \\cdot \\Bigg(\\prod_{i \\in A_r}{R_i^{Dm_i}}} \\cdot \\prod_{i \\in A_h}{R_i^{Dm_i}}\\Bigg) \\cdot \\prod_{i \\in A_h}{R_i^{\\bar{m_i}}} \\\\\n",
    "\n",
    "&= Z^{-D} \\cdot A'^{D\\beta} \\cdot A'^{\\hat{e}} \\cdot S^{\\hat{v}} \\cdot \\Bigg(\\prod_{i \\in A}{R_i^{Dm_i}}\\Bigg) \\cdot \\prod_{i \\in A_h}{R_i^{\\bar{m_i}}} \\\\\n",
    "\n",
    "&= Z^{-D} \\cdot A'^{D\\beta} \\cdot A'^{\\bar{e} + De - D\\beta} \\cdot S^{\\hat{v}} \\cdot \\prod_{i \\in A}{R_i^{Dm_i}} \\cdot \\prod_{i \\in A_h}{R_i^{\\bar{m_i}}} \\\\\n",
    "\n",
    "&= Z^{-D} \\cdot A'^{\\bar{e}} \\cdot A'^{De} \\cdot S^{\\bar{v} + Dv'} \\cdot \\prod_{i \\in A}{R_i^{Dm_i}} \\cdot \\prod_{i \\in A_h}{R_i^{\\bar{m_i}}} \\\\\n",
    "\n",
    "&= Z^{-D} \\cdot A'^{De} \\cdot  S^{Dv'}\\cdot \\prod_{i \\in A}{R_i^{Dm_i}} \\cdot \\Bigg(A'^{\\bar{e}} \\cdot S^{\\bar{v}} \\cdot \\prod_{i \\in A_h}{R_i^{\\bar{m_i}}} \\Bigg)\\\\\n",
    "\n",
    "&= Z^{-D} \\cdot \\Bigg(A'^{e} \\cdot S^{v'} \\cdot \\prod_{i \\in A}{R_i^{m_i}} \\Bigg)^D \\cdot T\\\\\n",
    "\n",
    "\n",
    "\n",
    "&= Z^{-D} \\cdot \\Bigg((AS^r)^{e} \\cdot S^{v} \\cdot S^{-er} \\cdot \\prod_{i \\in A}{R_i^{m_i}} \\Bigg)^D \\cdot T\\\\\n",
    "\n",
    "\n",
    "&= Z^{-D} \\cdot \\Bigg(A^e \\cdot S^{v} \\cdot \\prod_{i \\in A}{R_i^{m_i}} \\Bigg)^D \\cdot T\\\\\n",
    "\n",
    "&= Z^{-D} \\cdot \\Bigg(\\frac{1}{A^{e} \\cdot S^{v} \\cdot \\prod_{i \\in A}{R_i^{m_i}}}\\Bigg)^{-D} \\cdot T\\\\\n",
    "\n",
    "&= Z^{-D} \\cdot \\Bigg(\\frac{1}{Z}\\Bigg)^{-D} \\cdot T\\\\\n",
    "\n",
    "&= T\n",
    "\n",
    "\\end{align}\n",
    "\\end{equation*}\n",
    "$$"
   ]
  },
  {
   "cell_type": "markdown",
   "metadata": {},
   "source": [
    "## Reference"
   ]
  },
  {
   "cell_type": "markdown",
   "metadata": {},
   "source": [
    "- https://wiki.hyperledger.org/download/attachments/6426712/Anoncreds2.1.pdf\n",
    "- https://hyperledger-indy.readthedocs.io/projects/hipe/en/latest/text/0109-anoncreds-protocol/README.html#issuance-of-credentials\n",
    "- https://github.com/hyperledger-archives/indy-anoncreds/blob/master/docs/dev/anoncred.pdf\n",
    "- https://github.com/hyperledger-archives/indy-anoncreds/blob/master/docs/dev/anoncred.tex\n",
    "- https://github.com/WebOfTrustInfo/rwot5-boston/blob/master/final-documents/data-minimization-sd.md#crypto-details\n",
    "- https://uia.brage.unit.no/uia-xmlui/bitstream/handle/11250/2593825/PhD%2BDissertation_G.%2BP.%2BHARSHA%2BSANDARUWAN_FINAL.pdf#page=64\n",
    "- https://github.com/PeterAltmann/SSIdemo/blob/main/CEF_final_report.ipynb\n",
    "- https://www.cs.ru.nl/~gergely/objects/ZK-AnonCred.pdf#page=25\n",
    "- http://www.cs.ru.nl/~gergely/objects/u-prove.pdf\n",
    "- https://eprint.iacr.org/2022/492.pdf#page=7\n",
    "- https://eprint.iacr.org/2010/496.pdf#page=24\n",
    "- https://dione.lib.unipi.gr/xmlui/bitstream/handle/unipi/11072/Farao_MTE1634.pdf\n",
    "- https://essay.utwente.nl/65593/1/BadarinathHampiholi_Masters_EEMCS_faculty.pdf#page=63\n",
    "- https://open.metu.edu.tr/bitstream/handle/11511/94321/Ahmet_SIMSEK_Master_of_Science_Thesis.pdf\n",
    "- https://dominoweb.draco.res.ibm.com/reports/rz3730_revised.pdf#page=26\n",
    "- https://github.com/hyperledger/indy-hipe/blob/master/text/0109-anoncreds-protocol/README.md"
   ]
  },
  {
   "cell_type": "markdown",
   "metadata": {},
   "source": []
  }
 ],
 "metadata": {
  "kernelspec": {
   "display_name": "Python 3",
   "language": "python",
   "name": "python3"
  },
  "language_info": {
   "codemirror_mode": {
    "name": "ipython",
    "version": 3
   },
   "file_extension": ".py",
   "mimetype": "text/x-python",
   "name": "python",
   "nbconvert_exporter": "python",
   "pygments_lexer": "ipython3",
   "version": "3.9.6"
  },
  "orig_nbformat": 4,
  "vscode": {
   "interpreter": {
    "hash": "c65a76b623ff58757d879ffba0c64f863adb3d623b4a7ebf7852010e5ebe6c38"
   }
  }
 },
 "nbformat": 4,
 "nbformat_minor": 2
}
