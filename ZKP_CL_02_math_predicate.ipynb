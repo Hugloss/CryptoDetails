{
 "cells": [
  {
   "cell_type": "markdown",
   "metadata": {},
   "source": [
    "# Crypto Details"
   ]
  },
  {
   "cell_type": "markdown",
   "metadata": {},
   "source": [
    "Mathematics details for ZKP-CL predicate, so that I can understand how AnonCreds work.\n",
    "\n",
    "[Camenisch-Lysyanskaya (CL)](https://cs.brown.edu/people/alysyans/papers/camlys02b.pdf)\n",
    "\n",
    "[Zero knowledge proof (ZKP)](https://w3c.github.io/vc-data-model/#zero-knowledge-proofs)"
   ]
  },
  {
   "cell_type": "markdown",
   "metadata": {},
   "source": [
    "## Showing Predicate Proof\n"
   ]
  },
  {
   "cell_type": "markdown",
   "metadata": {},
   "source": [
    "For each predicate ${p}$ computes the proof. Proof verification is needed for:\n",
    "\n",
    "1. $\\text{For }1\\leq i \\leq 4$\n",
    "$$\n",
    "\\hat{T_i} \\leftarrow T_i^{-D}Z^{\\hat{u_i}} S^{\\hat{r_i}}\\pmod{n};\n",
    "$$\n",
    "\n",
    "2. \n",
    "$$\n",
    "\\hat{T_{\\Delta}} \\leftarrow \\left((T_{\\Delta})^bZ^{\\Delta'}\\right)^{-D}Z^{\\hat{m_j}}(S^b)^{\\hat{r_{\\Delta}}}\\pmod{n};\n",
    "$$\n",
    "\n",
    "3. \n",
    "$$\n",
    "\\hat{K}\\leftarrow S^{\\hat{\\alpha}}(T_{\\Delta})^{-D}T_1^{\\hat{u_1}}T_2^{\\hat{u_2}}T_3^{\\hat{u_3}}T_4^{\\hat{u_4}}\n",
    "\\pmod{n},\n",
    "$$"
   ]
  },
  {
   "cell_type": "markdown",
   "metadata": {},
   "source": [
    "Prover has:\n",
    "\n",
    "$$\n",
    "\\begin{align*}\n",
    "T_{\\Delta} &= Z^{\\Delta}S^{r_{\\Delta}} \\pmod{n} \\\\\n",
    "\\bar{T_{\\Delta}} &=  Z^{\\bar{m_j}}(S^{b})^{\\bar{r_{\\Delta}}} \\pmod{n} \\\\\n",
    "\n",
    "\\Delta &= u_1^2 + u_2^2 +u_3^2 + u_4^2 \\\\\n",
    "\\Delta' &= m_j - b\\Delta \\\\\n",
    "\n",
    "{\\alpha} &= r_{\\Delta}- u_1r_1 - u_2r_2 - u_3r_3 - u_4r_4 \\\\\n",
    "\n",
    "\\hat{\\alpha} &= \\bar{\\alpha}+D\\alpha \\\\\n",
    "\\hat{r_{\\Delta}} &= \\bar{r_{\\Delta}}+Dr_{\\Delta} \\\\\n",
    "\\hat{m_j} &= \\bar{m_j} + Dm_j \\\\\n",
    "\n",
    "\\bar{K} &= S^{\\bar{\\alpha}}T_1^{\\bar{u_1}}T_2^{\\bar{u_2}}T_3^{\\bar{u_3}} T_4^{\\bar{u_4}}\\pmod{n}\n",
    "\\end{align*}\n",
    "\n",
    "$$\n",
    "\n",
    "$\\text{and for }1\\leq i \\leq 4$\n",
    "\n",
    "$$\n",
    "\\begin{align*}\n",
    "\n",
    "T_i &= Z^{u_i}S^{r_i}\\pmod{n} \\\\\n",
    "\\bar{T_i} &= Z^{\\bar{u_i}}S^{\\bar{r_i}}\\pmod{n} \\\\\n",
    "\\hat{u_i} &= \\bar{u_i}+Du_i \\\\\n",
    "\\hat{r_i} &= \\bar{r_i}+Dr_i \\\\\n",
    "\n",
    "\\end{align*}\n",
    "$$"
   ]
  },
  {
   "cell_type": "markdown",
   "metadata": {},
   "source": [
    "Prover Calculate:"
   ]
  },
  {
   "cell_type": "markdown",
   "metadata": {},
   "source": [
    "$$\n",
    "\\begin{align*}\n",
    "\\hat{K} &= S^{\\hat{\\alpha}}(T_{\\Delta})^{-D}T_1^{\\hat{u_1}}T_2^{\\hat{u_2}}T_3^{\\hat{u_3}}T_4^{\\hat{u_4}} \\pmod{n} \\\\\n",
    "\n",
    "    &//\\quad were: \\hat{u_i} = \\bar{u_i}+Du_i  \\qquad// \\\\\n",
    "\n",
    "&= S^{\\hat{\\alpha}}(T_{\\Delta})^{-D}\\Big(T_1^{\\bar{u_1}}T_2^{\\bar{u_2}}T_3^{\\bar{u_3}}T_4^{\\bar{u_4}}\\Big)\\Big(T_1^{D{u_1}}T_2^{D{u_2}}T_3^{D{u_3}}T_4^{D{u_4}}\\Big) \\pmod{n} \\\\\n",
    "\n",
    "    &//\\quad were: \\hat{\\alpha} = \\bar{\\alpha}+D\\alpha  \\qquad// \\\\\n",
    "\n",
    "&= S^{\\bar{\\alpha}+D\\alpha}(T_{\\Delta})^{-D}\\Big(T_1^{\\bar{u_1}}T_2^{\\bar{u_2}}T_3^{\\bar{u_3}}T_4^{\\bar{u_4}}\\Big)\\Big(T_1^{D{u_1}}T_2^{D{u_2}}T_3^{D{u_3}}T_4^{D{u_4}}\\Big) \\pmod{n} \\\\\n",
    "\n",
    "    &//\\quad were: \\bar{K} = S^{\\bar{\\alpha}}T_1^{\\bar{u_1}}T_2^{\\bar{u_2}}T_3^{\\bar{u_3}} T_4^{\\bar{u_4}}  \\qquad// \\\\\n",
    "\n",
    "&= S^{D\\alpha}(T_{\\Delta})^{-D}\\Big(T_1^{D{u_1}}T_2^{D{u_2}}T_3^{D{u_3}}T_4^{D{u_4}}\\Big)\\bar{K} \\pmod{n} \\\\\n",
    "\n",
    "    &//\\quad were: T_{\\Delta} = Z^{\\Delta}S^{r_{\\Delta}}  \\qquad// \\\\\n",
    "\n",
    "&= S^{D\\alpha}(Z^{\\Delta}S^{r_{\\Delta}})^{-D}\\Big(T_1^{D{u_1}}T_2^{D{u_2}}T_3^{D{u_3}}T_4^{D{u_4}}\\Big)\\bar{K} \\pmod{n} \\\\\n",
    "\n",
    "&= \\Big(S^{\\alpha-r_{\\Delta}}Z^{-\\Delta}T_1^{{u_1}}T_2^{{u_2}}T_3^{{u_3}}T_4^{{u_4}}\\Big)^{D}\\bar{K} \\pmod{n} \\\\\n",
    "\n",
    "\n",
    "    &//\\quad were: T_i = Z^{u_i}S^{r_i}  \\qquad// \\\\\n",
    "    &//\\quad were: T_i^{u_i} = \\Big(Z^{u_i}S^{r_i})^{u_i} = Z^{{u_i}^2} S^{u_i r_i} \\qquad// \\\\\n",
    "\n",
    "&= \\Big(S^{\\alpha-r_{\\Delta}}Z^{-\\Delta}Z^{{u_1}^2+{u_2}^2+{u_3}^2+{u_4}^2}S^{({u_1r_1+u_2r_2+u_3r_3+u_4r_4})}\\Big)^{D}\\bar{K} \\pmod{n} \\\\\n",
    "\n",
    "    &//\\quad were: \\Delta = u_1^2 + u_2^2 +u_3^2 + u_4^2  \\qquad// \\\\\n",
    "\n",
    "&= \\Big(S^{\\alpha-r_{\\Delta}}Z^{-\\Delta}Z^{\\Delta}S^{({u_1r_1+u_2r_2+u_3r_3+u_4r_4})}\\Big)^{D}\\bar{K} \\pmod{n} \\\\\n",
    "\n",
    "&= \\Big(S^{{\\alpha}-({r_{\\Delta} - u_1r_1-u_2r_2-u_3r_3-u_4r_4})}\\Big)^{D}\\bar{K} \\pmod{n} \\\\\n",
    "\n",
    "    &//\\quad were: {\\alpha} = r_{\\Delta}- u_1r_1 - u_2r_2 - u_3r_3 - u_4r_4  \\qquad// \\\\\n",
    "\n",
    "&= \\Big(S^{\\alpha-\\alpha}\\Big)^{D}\\bar{K} \\pmod{n} \\\\\n",
    "\n",
    "&= \\bar{K} \\pmod{n} \\\\\n",
    "\n",
    "\n",
    "\\end{align*}\n",
    "$$"
   ]
  },
  {
   "cell_type": "markdown",
   "metadata": {},
   "source": [
    "$$\n",
    "\\begin{align*}\n",
    "\n",
    "\\hat{T_i} &= T_i^{-D}Z^{\\hat{u_i}} S^{\\hat{r_i}}\\pmod{n} \\\\\n",
    "\n",
    "    &//\\quad were: T_i = Z^{u_i}S^{r_i}  \\qquad// \\\\\n",
    "\n",
    "&= (Z^{u_i}S^{r_i})^{-D}Z^{\\hat{u_i}} S^{\\hat{r_i}}\\pmod{n} \\\\\n",
    "&= Z^{\\hat{u_i}-D{u_i}} S^{\\hat{r_i}-D{r_i}}\\pmod{n} \\\\\n",
    "\n",
    "    &//\\quad were: \\hat{u_i} = \\bar{u_i}+Du_i  \\qquad// \\\\\n",
    "    &//\\quad were: \\hat{r_i} = \\bar{r_i}+Dr_i  \\qquad// \\\\\n",
    "\n",
    "&= Z^{\\bar{u_i}} S^{\\bar{r_i}}\\pmod{n} \\\\\n",
    "\n",
    "&= \\bar{T_i}\n",
    "\n",
    "\\end{align*}\n",
    "$$"
   ]
  },
  {
   "cell_type": "markdown",
   "metadata": {},
   "source": [
    "$$\n",
    "\\begin{align*}\n",
    "\n",
    "\\hat{T_{\\Delta}} &= \\left((T_{\\Delta})^bZ^{\\Delta'}\\right)^{-D}Z^{\\hat{m_j}}(S^b)^{\\hat{r_{\\Delta}}}\\pmod{n} \\\\\n",
    "\n",
    "    &//\\quad were: T_{\\Delta} = Z^{\\Delta}S^{r_{\\Delta}}  \\qquad// \\\\\n",
    "\n",
    "&= \\left((Z^{\\Delta}S^{r_{\\Delta}})^bZ^{\\Delta'}\\right)^{-D}Z^{\\hat{m_j}}(S^b)^{\\hat{r_{\\Delta}}}\\pmod{n} \\\\\n",
    "&= \\left((Z^{\\Delta}S^{r_{\\Delta}})^bZ^{\\Delta'}\\right)^{-D}Z^{\\hat{m_j}}(S^b)^{\\hat{r_{\\Delta}}}\\pmod{n} \\\\\n",
    "&= \\left(Z^{b\\Delta+\\Delta'}(S^{b})^{r_{\\Delta}}\\right)^{-D}Z^{\\hat{m_j}}(S^b)^{\\hat{r_{\\Delta}}}\\pmod{n} \\\\\n",
    "&= Z^{-bD\\Delta-D\\Delta'+\\hat{m_j}}(S^b)^{\\hat{r_{\\Delta}}-Dr_{\\Delta}}\\pmod{n} \\\\\n",
    "\n",
    "    &//\\quad were: \\hat{r_{\\Delta}} = \\bar{r_{\\Delta}}+Dr_{\\Delta}  \\qquad// \\\\\n",
    "\n",
    "&= Z^{-bD\\Delta-D\\Delta'+\\hat{m_j}}(S^b)^{\\bar{r_{\\Delta}}}\\pmod{n} \\\\\n",
    "\n",
    "    &//\\quad were: \\Delta' = m - b\\Delta  \\qquad// \\\\\n",
    "\n",
    "&= Z^{-bD\\Delta-Dm+bD\\Delta+\\hat{m_j}}(S^b)^{\\bar{r_{\\Delta}}}\\pmod{n} \\\\\n",
    "&= Z^{-Dm+\\hat{m_j}}(S^b)^{\\bar{r_{\\Delta}}}\\pmod{n} \\\\\n",
    "\n",
    "    &//\\quad were: \\hat{m_j} = \\bar{m_j} + Dm_j  \\qquad// \\\\\n",
    "\n",
    "&= Z^{\\bar{m_j}}(S^b)^{\\bar{r_{\\Delta}}}\\pmod{n} \\\\\n",
    "&= \\bar{T_{\\Delta}}\n",
    "\n",
    "\\end{align*}\n",
    "$$"
   ]
  },
  {
   "cell_type": "markdown",
   "metadata": {},
   "source": []
  }
 ],
 "metadata": {
  "kernelspec": {
   "display_name": "Python 3",
   "language": "python",
   "name": "python3"
  },
  "language_info": {
   "codemirror_mode": {
    "name": "ipython",
    "version": 3
   },
   "file_extension": ".py",
   "mimetype": "text/x-python",
   "name": "python",
   "nbconvert_exporter": "python",
   "pygments_lexer": "ipython3",
   "version": "3.9.6"
  },
  "orig_nbformat": 4,
  "vscode": {
   "interpreter": {
    "hash": "c65a76b623ff58757d879ffba0c64f863adb3d623b4a7ebf7852010e5ebe6c38"
   }
  }
 },
 "nbformat": 4,
 "nbformat_minor": 2
}
