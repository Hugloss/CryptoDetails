{
  "cells": [
    {
      "cell_type": "markdown",
      "metadata": {
        "id": "lFHByalCpWz6"
      },
      "source": [
        "# RSA accumulator proof using Bézout coefficients\n"
      ]
    },
    {
      "cell_type": "code",
      "execution_count": 47,
      "metadata": {
        "colab": {
          "base_uri": "https://localhost:8080/"
        },
        "id": "KkgiwQZ3tYbV",
        "outputId": "d7e6fb0f-02db-4ad8-bed0-50408041f3b3"
      },
      "outputs": [
        {
          "name": "stdout",
          "output_type": "stream",
          "text": [
            "model name\t: Intel(R) Core(TM) i7-8565U CPU @ 1.80GHz\n",
            "model name\t: Intel(R) Core(TM) i7-8565U CPU @ 1.80GHz\n",
            "model name\t: Intel(R) Core(TM) i7-8565U CPU @ 1.80GHz\n",
            "model name\t: Intel(R) Core(TM) i7-8565U CPU @ 1.80GHz\n",
            "model name\t: Intel(R) Core(TM) i7-8565U CPU @ 1.80GHz\n",
            "model name\t: Intel(R) Core(TM) i7-8565U CPU @ 1.80GHz\n",
            "model name\t: Intel(R) Core(TM) i7-8565U CPU @ 1.80GHz\n",
            "model name\t: Intel(R) Core(TM) i7-8565U CPU @ 1.80GHz\n"
          ]
        }
      ],
      "source": [
        "!cat /proc/cpuinfo | grep 'model name'"
      ]
    },
    {
      "cell_type": "code",
      "execution_count": 48,
      "metadata": {
        "id": "Z6rTA12CLTVw"
      },
      "outputs": [],
      "source": [
        "%%capture\n",
        "!pip install pycryptodome"
      ]
    },
    {
      "cell_type": "code",
      "execution_count": 49,
      "metadata": {
        "id": "uQPGT1rZLM26"
      },
      "outputs": [],
      "source": [
        "from Crypto.Util import number\n",
        "import numpy as np\n",
        "import math"
      ]
    },
    {
      "cell_type": "code",
      "execution_count": 50,
      "metadata": {},
      "outputs": [],
      "source": [
        "def bezout(x, u):\n",
        "    if u == 0:\n",
        "        return (x, 1, 0)\n",
        "    else:\n",
        "        g, x1, y1 = bezout(u, x % u)\n",
        "        return (g, y1, x1 - (x // u) * y1)"
      ]
    },
    {
      "cell_type": "markdown",
      "metadata": {},
      "source": [
        "## Math:\n",
        "Remember from math chapter the proof:\n",
        "\n",
        "$g^{ax+bu}  \\pmod N \\equiv g \\pmod N$\n",
        "\n",
        "were:\n",
        "\n",
        "$ N=p*q $\n",
        "\n",
        "$ {\\phi(N)}=(p−1)(q−1) $\n",
        "\n",
        "$A=g^u \\pmod N $\n",
        "\n",
        "$u = \\prod_0^{k-1} x_i$"
      ]
    },
    {
      "cell_type": "markdown",
      "metadata": {
        "id": "7Y0F5dtklSGQ"
      },
      "source": [
        "## # RSA accumulator"
      ]
    },
    {
      "cell_type": "code",
      "execution_count": 51,
      "metadata": {
        "id": "n7LBp7q10of0"
      },
      "outputs": [],
      "source": [
        "p, q = number.getPrime(32), number.getPrime(32) # note that we do not need secure\n",
        "n = p*q\n",
        "g = 3\n",
        "\n",
        "# The final accumulator value\n",
        "u = number.getRandomNBitInteger(65) # dummy value for revoked attestations\n",
        "\n",
        "# The attestation to do exclusion proof with\n",
        "x = number.getPrime(30) # the attestation unique id"
      ]
    },
    {
      "cell_type": "markdown",
      "metadata": {
        "id": "R3VUXB-ckfzQ"
      },
      "source": [
        "## Proof\n",
        "\n",
        "$g^{ax+ub} = g^1 \\pmod N$"
      ]
    },
    {
      "cell_type": "code",
      "execution_count": 52,
      "metadata": {},
      "outputs": [
        {
          "name": "stdout",
          "output_type": "stream",
          "text": [
            "The Bezout proof is valid: True\n"
          ]
        }
      ],
      "source": [
        "# First we check the GCD(x,u)\n",
        "# We then get the bezout coefficients\n",
        "\n",
        "gcd, a, b = bezout(x, u)\n",
        "\n",
        "assert gcd == 1\n",
        "\n",
        "# We are now ready to compute the non membership proof\n",
        "proof = pow(g, a*x + b*u, n)\n",
        "\n",
        "# The proof must be equal to the generator\n",
        "print(f'The Bezout proof is valid: {proof == g}')"
      ]
    },
    {
      "cell_type": "markdown",
      "metadata": {},
      "source": [
        "## Proof\n",
        "\n",
        "$u' = u \\pmod {\\phi(N)}$\n",
        "\n",
        "$g^{ax+ub} = g^{ax + bu'} = g^1 \\pmod N$"
      ]
    },
    {
      "cell_type": "code",
      "execution_count": 53,
      "metadata": {},
      "outputs": [
        {
          "name": "stdout",
          "output_type": "stream",
          "text": [
            "The Bezout proof is valid: True\n"
          ]
        }
      ],
      "source": [
        "phi = (p-1)*(q-1)\n",
        "u_prim = u % phi\n",
        "\n",
        "# We are now ready to compute the non membership proof\n",
        "proof = pow(g, a*x + b*u_prim, n)\n",
        "\n",
        "print(f'The Bezout proof is valid: {proof == g}')"
      ]
    },
    {
      "cell_type": "markdown",
      "metadata": {
        "id": "04Y9vpEMV_xl"
      },
      "source": [
        "## Large proof"
      ]
    },
    {
      "cell_type": "code",
      "execution_count": 54,
      "metadata": {
        "id": "6OE64baTnC6s"
      },
      "outputs": [],
      "source": [
        "# accumulator\n",
        "u = 1\n",
        "number_primes = 2000\n",
        "\n",
        "primes = []\n",
        "for i in range(number_primes):\n",
        "  tmp = number.getPrime(30)\n",
        "  primes.append(tmp)\n",
        "  u = u * tmp"
      ]
    },
    {
      "cell_type": "code",
      "execution_count": 55,
      "metadata": {},
      "outputs": [
        {
          "name": "stdout",
          "output_type": "stream",
          "text": [
            "The Bezout proof is valid: True\n",
            "The Bezout proof is valid: True\n",
            "The issuer publishes 2446094601988303339 and includes 7422031670695948280 in the attestation\n"
          ]
        }
      ],
      "source": [
        "gcd, a, b = bezout(x, u)\n",
        "\n",
        "assert gcd == 1\n",
        "\n",
        "proof = pow(g, a*x + b*u, n)\n",
        "print('The Bezout proof is valid:', proof == g)\n",
        "\n",
        "# Checking that totient optimization works too\n",
        "proof = pow(g, (a % phi)*x+b*(u % phi), n)\n",
        "print('The Bezout proof is valid:', proof == g)\n",
        "\n",
        "print(f'The issuer publishes {u % phi} and includes {a % phi} in the attestation')"
      ]
    },
    {
      "cell_type": "markdown",
      "metadata": {},
      "source": [
        "## Exclusion proof"
      ]
    },
    {
      "cell_type": "code",
      "execution_count": 56,
      "metadata": {
        "colab": {
          "base_uri": "https://localhost:8080/"
        },
        "id": "BVDn2T51YcVi",
        "outputId": "7d52595f-3173-40a2-c080-8b383ab722fd"
      },
      "outputs": [
        {
          "name": "stdout",
          "output_type": "stream",
          "text": [
            "The Bezout proof is valid: False\n",
            "The Bezout proof is valid: False\n"
          ]
        }
      ],
      "source": [
        "x = primes[0] # this value should return False\n",
        "gcd, a, b = bezout(x, u)\n",
        "\n",
        "proof = pow(g, a*x + b*u, n)\n",
        "print('The Bezout proof is valid:', proof == g)\n",
        "\n",
        "# Checking that totient optimization works too\n",
        "proof = pow(g, (a % phi)*x+b*(u % phi), n)\n",
        "print('The Bezout proof is valid:', proof == g)"
      ]
    },
    {
      "cell_type": "code",
      "execution_count": 57,
      "metadata": {
        "colab": {
          "base_uri": "https://localhost:8080/"
        },
        "id": "pnWqPV1LKIb1",
        "outputId": "6ad356b6-bc43-4985-891b-39cf0b4c672c"
      },
      "outputs": [
        {
          "name": "stdout",
          "output_type": "stream",
          "text": [
            "The Bezout proof is valid: True\n",
            "The Bezout proof is valid: True\n"
          ]
        }
      ],
      "source": [
        "x = number.getPrime(30) # this value should return True\n",
        "gcd, a, b = bezout(x, u)\n",
        "\n",
        "proof = pow(g, a*x + b*u, n)\n",
        "print('The Bezout proof is valid:', proof == g)\n",
        "\n",
        "# Checking that totient optimization works too\n",
        "proof = pow(g, (a % phi)*x+b*(u % phi), n)\n",
        "print('The Bezout proof is valid:', proof == g)"
      ]
    },
    {
      "cell_type": "code",
      "execution_count": 58,
      "metadata": {
        "colab": {
          "base_uri": "https://localhost:8080/"
        },
        "id": "_3sJt3FvcHih",
        "outputId": "9788be92-382f-468e-c74d-dfca3f8fd12d"
      },
      "outputs": [
        {
          "data": {
            "text/plain": [
              "('0x758923e6e95c7a1a', '0x21f246149e8369eb')"
            ]
          },
          "execution_count": 58,
          "metadata": {},
          "output_type": "execute_result"
        }
      ],
      "source": [
        "hex(a % phi), hex(u % phi)"
      ]
    },
    {
      "cell_type": "markdown",
      "metadata": {},
      "source": [
        "## How to calculate the new accumulator value after update\n",
        "Accumulator is calculted as:\n",
        "\n",
        "$A=g^u \\pmod N = g^{\\prod_0^{k-1} x_i} \\pmod N$\n",
        "\n",
        "### Add\n",
        "$A' = A^{x_i} \\pmod N$\n",
        "\n",
        "### Delete\n",
        "\n",
        "If $ {\\phi(N)} $ is known it's simplier to calculate:\n",
        "\n",
        "$A' = A^{x_i^{-1} \\pmod {\\phi(N)}}$"
      ]
    },
    {
      "cell_type": "code",
      "execution_count": 64,
      "metadata": {},
      "outputs": [
        {
          "name": "stdout",
          "output_type": "stream",
          "text": [
            "The Bezout proof is valid: False\n",
            "The Bezout proof is valid: False\n"
          ]
        }
      ],
      "source": [
        "x = primes[0] # this value should return False\n",
        "gcd, a, b = bezout(x, u)\n",
        "\n",
        "proof = pow(g, a*x + b*u, n)\n",
        "print('The Bezout proof is valid:', proof == g)\n",
        "\n",
        "# Checking that totient optimization works too\n",
        "proof = pow(g, (a % phi)*x+b*(u % phi), n)\n",
        "print('The Bezout proof is valid:', proof == g)"
      ]
    },
    {
      "cell_type": "code",
      "execution_count": 65,
      "metadata": {},
      "outputs": [
        {
          "name": "stdout",
          "output_type": "stream",
          "text": [
            "The Bezout proof is valid: True\n",
            "The Bezout proof is valid: True\n"
          ]
        }
      ],
      "source": [
        "# delete c from accumulator\n",
        "# the value should return True\n",
        "A = g\n",
        "x_inv = pow(x, -1, phi)\n",
        "A_prim = pow(A, x_inv, n)\n",
        "\n",
        "gcd, a, b = bezout(x, u)\n",
        "\n",
        "proof = pow(A_prim, a*x + b*u, n)\n",
        "print('The Bezout proof is valid:', proof == g)\n",
        "\n",
        "# Checking that totient optimization works too\n",
        "proof = pow(A_prim, (a % phi)*x+b*(u % phi), n)\n",
        "print('The Bezout proof is valid:', proof == g)"
      ]
    },
    {
      "cell_type": "code",
      "execution_count": 66,
      "metadata": {},
      "outputs": [
        {
          "name": "stdout",
          "output_type": "stream",
          "text": [
            "The Bezout proof is valid: False\n",
            "The Bezout proof is valid: False\n"
          ]
        }
      ],
      "source": [
        "x = primes[1] # this value should return False\n",
        "gcd, a, b = bezout(x, u)\n",
        "\n",
        "proof = pow(A_prim, a*x + b*u, n)\n",
        "print('The Bezout proof is valid:', proof == g)\n",
        "\n",
        "# Checking that totient optimization works too\n",
        "proof = pow(A_prim, (a % phi)*x+b*(u % phi), n)\n",
        "print('The Bezout proof is valid:', proof == g)"
      ]
    },
    {
      "cell_type": "code",
      "execution_count": null,
      "metadata": {},
      "outputs": [],
      "source": []
    }
  ],
  "metadata": {
    "colab": {
      "provenance": []
    },
    "kernelspec": {
      "display_name": "Python 3",
      "name": "python3"
    },
    "language_info": {
      "codemirror_mode": {
        "name": "ipython",
        "version": 3
      },
      "file_extension": ".py",
      "mimetype": "text/x-python",
      "name": "python",
      "nbconvert_exporter": "python",
      "pygments_lexer": "ipython3",
      "version": "3.10.6"
    }
  },
  "nbformat": 4,
  "nbformat_minor": 0
}
